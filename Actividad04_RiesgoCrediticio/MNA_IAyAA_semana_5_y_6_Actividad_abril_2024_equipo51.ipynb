{
 "cells": [
  {
   "cell_type": "markdown",
   "metadata": {
    "id": "dBbWMn9ebmi8"
   },
   "source": [
    "# Maestría en Inteligencia Artificial Aplicada\n",
    "\n",
    "## Curso: Inteligencia Artificial y Aprendizaje Automático\n",
    "\n",
    "### Tecnológico de Monterrey\n",
    "\n",
    "### Prof Luis Eduardo Falcón Morales\n",
    "\n",
    "## Adtividad de las Semanas 5 y 6\n",
    "### **Problema de asignación de créditos: South German Dataset.**\n"
   ]
  },
  {
   "cell_type": "markdown",
   "metadata": {
    "id": "YiwEw8XsZG2W"
   },
   "source": [
    "#### **Nombres y matrículas:**\n",
    "\n",
    "+ Eduardo Selim Martínez Mayorga - A01795167\n",
    "+ Víctor Alfonso Rosales Soto - A01114509"
   ]
  },
  {
   "cell_type": "markdown",
   "metadata": {
    "id": "AUxxkjE6shkH"
   },
   "source": [
    "# **Parte I: Partición, análisis y pre-procesamiento de los datos.**"
   ]
  },
  {
   "cell_type": "markdown",
   "metadata": {
    "id": "a08Di3GjkL1Y"
   },
   "source": [
    "## **Ejercicio 1**"
   ]
  },
  {
   "cell_type": "code",
   "execution_count": 1,
   "metadata": {
    "id": "6VGEpE4SblfD"
   },
   "outputs": [],
   "source": [
    "# Aquí deberás incluir todas las librerías que requieras durante esta actividad:\n",
    "\n",
    "import pandas as pd\n",
    "import numpy as np\n",
    "import matplotlib.pyplot as plt\n",
    "import seaborn as sns\n",
    "\n",
    "from pandas.api.types import CategoricalDtype\n",
    "\n",
    "from sklearn import preprocessing\n",
    "from sklearn.model_selection import train_test_split\n",
    "from sklearn.preprocessing import LabelEncoder\n",
    "from sklearn.preprocessing import StandardScaler\n",
    "from sklearn.preprocessing import MinMaxScaler\n",
    "from sklearn.preprocessing import OneHotEncoder\n",
    "from sklearn.preprocessing import OrdinalEncoder\n",
    "from sklearn.preprocessing import PolynomialFeatures\n",
    "from sklearn.preprocessing import FunctionTransformer\n",
    "from sklearn.compose import ColumnTransformer\n",
    "from sklearn.compose import make_column_transformer\n",
    "from sklearn.pipeline import make_pipeline\n",
    "from sklearn.pipeline import Pipeline, FeatureUnion\n",
    "\n",
    "from sklearn.decomposition import PCA\n",
    "from sklearn.linear_model import LinearRegression\n",
    "from sklearn.linear_model import LogisticRegression\n",
    "from sklearn.neighbors import KNeighborsClassifier\n",
    "from sklearn.tree import DecisionTreeClassifier\n",
    "from sklearn.ensemble import RandomForestClassifier\n",
    "from xgboost import XGBClassifier\n",
    "from sklearn.neural_network import MLPClassifier\n",
    "from sklearn.svm import SVC\n",
    "from sklearn.model_selection import RepeatedStratifiedKFold, cross_validate\n",
    "\n",
    "import imblearn\n",
    "from imblearn.over_sampling import RandomOverSampler\n",
    "from imblearn.under_sampling import RandomUnderSampler\n",
    "from imblearn.over_sampling import SMOTE\n",
    "from imblearn.pipeline import Pipeline\n",
    "\n",
    "from sklearn import metrics\n",
    "\n",
    "from pandas.plotting import scatter_matrix\n",
    "from sklearn.metrics import confusion_matrix, classification_report\n",
    "from sklearn.metrics import plot_confusion_matrix\n",
    "from sklearn.metrics import recall_score\n",
    "from sklearn.metrics import precision_score\n",
    "from sklearn.metrics import accuracy_score\n",
    "\n",
    "\n",
    "from sklearn.neighbors import KNeighborsClassifier\n",
    "from imblearn.over_sampling import BorderlineSMOTE\n",
    "from sklearn.inspection import permutation_importance\n",
    "from sklearn.feature_selection import SelectFromModel\n"
   ]
  },
  {
   "cell_type": "code",
   "execution_count": 2,
   "metadata": {
    "id": "K3gUzoM3iRkt"
   },
   "outputs": [],
   "source": [
    "# Si se desean comentar algunos de los Warnings.\n",
    "import warnings\n",
    "warnings.filterwarnings('ignore')"
   ]
  },
  {
   "cell_type": "markdown",
   "metadata": {},
   "source": [
    "Descarga los datos, los cuales nos llevan a un arreglo de 1000 registros y 21 variables. Cambia los títulos de las columnas al nombre en inglés (originalmente están en alemán). La información la puedes encontrar en cualquiera de las ligas\n",
    "\n",
    "+ https://www.kaggle.com/competitions/south-german-credit-prediction/overview\n",
    "+ https://ieeexplore.ieee.org/stamp/stamp.jsp?arnumber=9239944"
   ]
  },
  {
   "cell_type": "code",
   "execution_count": 3,
   "metadata": {
    "id": "ppyf8TTgb9zq"
   },
   "outputs": [
    {
     "data": {
      "text/plain": [
       "Index(['laufkont', 'laufzeit', 'moral', 'verw', 'hoehe', 'sparkont', 'beszeit',\n",
       "       'rate', 'famges', 'buerge', 'wohnzeit', 'verm', 'alter', 'weitkred',\n",
       "       'wohn', 'bishkred', 'beruf', 'pers', 'telef', 'gastarb', 'kredit'],\n",
       "      dtype='object')"
      ]
     },
     "execution_count": 3,
     "metadata": {},
     "output_type": "execute_result"
    }
   ],
   "source": [
    "# Carga y renombra los nombres de las columnas del alemán al inglés y desplegamos\n",
    "# de nuevo el DataFrame para ver el resultado obtenido:\n",
    "\n",
    "# ************* Inlcuye aquí tu código:*****************************\n",
    "None   # NOTA: Tanto aquí como en lo sucesivo, \"None\" puede indicar una o varias líneas de código.\n",
    "\n",
    "# Se lee el archivo que se obtuvo de la página de UC Irvine\n",
    "df = pd.read_csv('SouthGermanCredit.asc', delim_whitespace=True)\n",
    "\n",
    "# Veamos los nombres de las columnas del dataframe original\n",
    "df.columns"
   ]
  },
  {
   "cell_type": "code",
   "execution_count": 4,
   "metadata": {},
   "outputs": [
    {
     "data": {
      "text/html": [
       "<div>\n",
       "<style scoped>\n",
       "    .dataframe tbody tr th:only-of-type {\n",
       "        vertical-align: middle;\n",
       "    }\n",
       "\n",
       "    .dataframe tbody tr th {\n",
       "        vertical-align: top;\n",
       "    }\n",
       "\n",
       "    .dataframe thead th {\n",
       "        text-align: right;\n",
       "    }\n",
       "</style>\n",
       "<table border=\"1\" class=\"dataframe\">\n",
       "  <thead>\n",
       "    <tr style=\"text-align: right;\">\n",
       "      <th></th>\n",
       "      <th>0</th>\n",
       "      <th>1</th>\n",
       "      <th>2</th>\n",
       "      <th>3</th>\n",
       "      <th>4</th>\n",
       "    </tr>\n",
       "  </thead>\n",
       "  <tbody>\n",
       "    <tr>\n",
       "      <th>status</th>\n",
       "      <td>1</td>\n",
       "      <td>1</td>\n",
       "      <td>2</td>\n",
       "      <td>1</td>\n",
       "      <td>1</td>\n",
       "    </tr>\n",
       "    <tr>\n",
       "      <th>duration</th>\n",
       "      <td>18</td>\n",
       "      <td>9</td>\n",
       "      <td>12</td>\n",
       "      <td>12</td>\n",
       "      <td>12</td>\n",
       "    </tr>\n",
       "    <tr>\n",
       "      <th>credit_history</th>\n",
       "      <td>4</td>\n",
       "      <td>4</td>\n",
       "      <td>2</td>\n",
       "      <td>4</td>\n",
       "      <td>4</td>\n",
       "    </tr>\n",
       "    <tr>\n",
       "      <th>purpose</th>\n",
       "      <td>2</td>\n",
       "      <td>0</td>\n",
       "      <td>9</td>\n",
       "      <td>0</td>\n",
       "      <td>0</td>\n",
       "    </tr>\n",
       "    <tr>\n",
       "      <th>amount</th>\n",
       "      <td>1049</td>\n",
       "      <td>2799</td>\n",
       "      <td>841</td>\n",
       "      <td>2122</td>\n",
       "      <td>2171</td>\n",
       "    </tr>\n",
       "    <tr>\n",
       "      <th>savings</th>\n",
       "      <td>1</td>\n",
       "      <td>1</td>\n",
       "      <td>2</td>\n",
       "      <td>1</td>\n",
       "      <td>1</td>\n",
       "    </tr>\n",
       "    <tr>\n",
       "      <th>employment_duration</th>\n",
       "      <td>2</td>\n",
       "      <td>3</td>\n",
       "      <td>4</td>\n",
       "      <td>3</td>\n",
       "      <td>3</td>\n",
       "    </tr>\n",
       "    <tr>\n",
       "      <th>installment_rate</th>\n",
       "      <td>4</td>\n",
       "      <td>2</td>\n",
       "      <td>2</td>\n",
       "      <td>3</td>\n",
       "      <td>4</td>\n",
       "    </tr>\n",
       "    <tr>\n",
       "      <th>personal_status_sex</th>\n",
       "      <td>2</td>\n",
       "      <td>3</td>\n",
       "      <td>2</td>\n",
       "      <td>3</td>\n",
       "      <td>3</td>\n",
       "    </tr>\n",
       "    <tr>\n",
       "      <th>other_debtors</th>\n",
       "      <td>1</td>\n",
       "      <td>1</td>\n",
       "      <td>1</td>\n",
       "      <td>1</td>\n",
       "      <td>1</td>\n",
       "    </tr>\n",
       "    <tr>\n",
       "      <th>present_residence</th>\n",
       "      <td>4</td>\n",
       "      <td>2</td>\n",
       "      <td>4</td>\n",
       "      <td>2</td>\n",
       "      <td>4</td>\n",
       "    </tr>\n",
       "    <tr>\n",
       "      <th>property</th>\n",
       "      <td>2</td>\n",
       "      <td>1</td>\n",
       "      <td>1</td>\n",
       "      <td>1</td>\n",
       "      <td>2</td>\n",
       "    </tr>\n",
       "    <tr>\n",
       "      <th>age</th>\n",
       "      <td>21</td>\n",
       "      <td>36</td>\n",
       "      <td>23</td>\n",
       "      <td>39</td>\n",
       "      <td>38</td>\n",
       "    </tr>\n",
       "    <tr>\n",
       "      <th>other_installment_plans</th>\n",
       "      <td>3</td>\n",
       "      <td>3</td>\n",
       "      <td>3</td>\n",
       "      <td>3</td>\n",
       "      <td>1</td>\n",
       "    </tr>\n",
       "    <tr>\n",
       "      <th>housing</th>\n",
       "      <td>1</td>\n",
       "      <td>1</td>\n",
       "      <td>1</td>\n",
       "      <td>1</td>\n",
       "      <td>2</td>\n",
       "    </tr>\n",
       "    <tr>\n",
       "      <th>number_credits</th>\n",
       "      <td>1</td>\n",
       "      <td>2</td>\n",
       "      <td>1</td>\n",
       "      <td>2</td>\n",
       "      <td>2</td>\n",
       "    </tr>\n",
       "    <tr>\n",
       "      <th>job</th>\n",
       "      <td>3</td>\n",
       "      <td>3</td>\n",
       "      <td>2</td>\n",
       "      <td>2</td>\n",
       "      <td>2</td>\n",
       "    </tr>\n",
       "    <tr>\n",
       "      <th>people_liable</th>\n",
       "      <td>2</td>\n",
       "      <td>1</td>\n",
       "      <td>2</td>\n",
       "      <td>1</td>\n",
       "      <td>2</td>\n",
       "    </tr>\n",
       "    <tr>\n",
       "      <th>telephone</th>\n",
       "      <td>1</td>\n",
       "      <td>1</td>\n",
       "      <td>1</td>\n",
       "      <td>1</td>\n",
       "      <td>1</td>\n",
       "    </tr>\n",
       "    <tr>\n",
       "      <th>foreign_worker</th>\n",
       "      <td>2</td>\n",
       "      <td>2</td>\n",
       "      <td>2</td>\n",
       "      <td>1</td>\n",
       "      <td>1</td>\n",
       "    </tr>\n",
       "    <tr>\n",
       "      <th>credit_risk</th>\n",
       "      <td>1</td>\n",
       "      <td>1</td>\n",
       "      <td>1</td>\n",
       "      <td>1</td>\n",
       "      <td>1</td>\n",
       "    </tr>\n",
       "  </tbody>\n",
       "</table>\n",
       "</div>"
      ],
      "text/plain": [
       "                            0     1    2     3     4\n",
       "status                      1     1    2     1     1\n",
       "duration                   18     9   12    12    12\n",
       "credit_history              4     4    2     4     4\n",
       "purpose                     2     0    9     0     0\n",
       "amount                   1049  2799  841  2122  2171\n",
       "savings                     1     1    2     1     1\n",
       "employment_duration         2     3    4     3     3\n",
       "installment_rate            4     2    2     3     4\n",
       "personal_status_sex         2     3    2     3     3\n",
       "other_debtors               1     1    1     1     1\n",
       "present_residence           4     2    4     2     4\n",
       "property                    2     1    1     1     2\n",
       "age                        21    36   23    39    38\n",
       "other_installment_plans     3     3    3     3     1\n",
       "housing                     1     1    1     1     2\n",
       "number_credits              1     2    1     2     2\n",
       "job                         3     3    2     2     2\n",
       "people_liable               2     1    2     1     2\n",
       "telephone                   1     1    1     1     1\n",
       "foreign_worker              2     2    2     1     1\n",
       "credit_risk                 1     1    1     1     1"
      ]
     },
     "execution_count": 4,
     "metadata": {},
     "output_type": "execute_result"
    }
   ],
   "source": [
    "# Se define un diccionario que relaciona los nombres en aleman e inglés\n",
    "dicc_nombres = {'laufkont': 'status',\n",
    "                'laufzeit': 'duration',\n",
    "                'moral': 'credit_history',\n",
    "                'verw': 'purpose',\n",
    "                'hoehe': 'amount',\n",
    "                'sparkont': 'savings',\n",
    "                'beszeit': 'employment_duration',\n",
    "                'rate': 'installment_rate',\n",
    "                'famges': 'personal_status_sex',\n",
    "                'buerge': 'other_debtors',\n",
    "                'wohnzeit': 'present_residence',\n",
    "                'verm': 'property',\n",
    "                'alter': 'age',\n",
    "                'weitkred': 'other_installment_plans',\n",
    "                'wohn': 'housing',\n",
    "                'bishkred': 'number_credits',\n",
    "                'beruf': 'job',\n",
    "                'pers': 'people_liable',\n",
    "                'telef': 'telephone',\n",
    "                'gastarb': 'foreign_worker',\n",
    "                'kredit': 'credit_risk'\n",
    "            }\n",
    " \n",
    "# Se renombrea las columnas en el DataFrame usando el diccionario\n",
    "df.rename(columns = dicc_nombres, inplace=True)\n",
    "\n",
    "# *********** Aquí termina la sección de agregar código *************\n",
    "\n",
    "df.head().T"
   ]
  },
  {
   "cell_type": "markdown",
   "metadata": {
    "id": "LckYCS8SlnFo"
   },
   "source": [
    "## **Ejercicio 2**"
   ]
  },
  {
   "cell_type": "markdown",
   "metadata": {},
   "source": [
    "Contrario a lo que sucede en analítica de datos, la clase mayoritaria de los buenos clientes están etiquetados con el valor de 1 y los malos clientes con el valor de 0. Como este no es el proceder dentro del área de ciencia de datos, aplica alguna transformación para invertir dichos valores, de manera que en lo sucesivo la clase negativa y mayoritaria de los buenos clientes estén etiquetados con el valor de 0 y los malos clientes o clase positiva y minoritaria, estén etiquetados con el valor de 1."
   ]
  },
  {
   "cell_type": "code",
   "execution_count": 5,
   "metadata": {
    "id": "Tlg8jYbnlqNA"
   },
   "outputs": [
    {
     "name": "stdout",
     "output_type": "stream",
     "text": [
      "1    700\n",
      "0    300\n",
      "Name: credit_risk, dtype: int64\n"
     ]
    }
   ],
   "source": [
    "# Los datos originales tienen en la variable de salida \"credit_risk\" a la clase negativa (buen cliente) con el valor de 1\n",
    "# y a la clase de interés positiva (mal cliente) con el valor de 0. Realiza a continuación una transformación para que la\n",
    "# clase negativa (buen cliente) quede ahora con el valor de 0 y la clase positiva (mal cliente) quede con el valor de 1.\n",
    "\n",
    "# Veamos los datos originales\n",
    "print(df['credit_risk'].value_counts())"
   ]
  },
  {
   "cell_type": "markdown",
   "metadata": {},
   "source": [
    "Ahora se hará el cambio de etiquetas simplemente aplicando una función que convierta al '0' en '1' y al resto en '0':"
   ]
  },
  {
   "cell_type": "code",
   "execution_count": 6,
   "metadata": {},
   "outputs": [
    {
     "name": "stdout",
     "output_type": "stream",
     "text": [
      "0    700\n",
      "1    300\n",
      "Name: credit_risk, dtype: int64\n"
     ]
    }
   ],
   "source": [
    "# ************* Inlcuye aquí tu código:*****************************\n",
    "\n",
    "# Simplemente se aplica una fución lambda\n",
    "df['credit_risk'] = df['credit_risk'].apply(lambda x: 1 if x == 0 else 0)\n",
    "\n",
    "\n",
    "# *********** Aquí termina la sección de agregar código *************\n",
    "\n",
    "print(df['credit_risk'].value_counts())"
   ]
  },
  {
   "cell_type": "markdown",
   "metadata": {},
   "source": [
    "Se puede observar que las etiquetas de clase se intercambiaron :)"
   ]
  },
  {
   "cell_type": "markdown",
   "metadata": {
    "id": "qQx2lbzTkEsQ"
   },
   "source": [
    "## **Ejercicio 3**"
   ]
  },
  {
   "cell_type": "markdown",
   "metadata": {},
   "source": [
    "Realiza una partición de los datos en los conjuntos de entrenamiento, validación y prueba, del 70%, 15% y 15%, respectivamente. Con base al porcentaje de los niveles de la variable de salida ¿podemos decir que tenemos un problema de datos desbalanceado? ¿Por qué?"
   ]
  },
  {
   "cell_type": "code",
   "execution_count": 7,
   "metadata": {
    "id": "TP5-zdWVczhy"
   },
   "outputs": [
    {
     "name": "stdout",
     "output_type": "stream",
     "text": [
      "Dimensiones:\n",
      "Entrenamiento: (700, 20) (700,)\n",
      "Validación: (150, 20) (150,)\n",
      "Prueba: (150, 20) (150,)\n",
      "\n",
      "Porcentaje clases Positiva:70.00%, y Negativa:30.00%\n"
     ]
    }
   ],
   "source": [
    "# Realiza una partición de 70-15-15 en entrenamiento, validación y prueba.\n",
    "# Los nombres de los conjuntos deberán ser como se indican en los print de abajo:\n",
    "\n",
    "# ************* Inlcuye aquí tu código:*****************************\n",
    "\n",
    "# Se consruye el dataset de las POSIBLES variables predictoras\n",
    "X = df.drop('credit_risk', axis = 1)\n",
    "\n",
    "# Se consruye el dataset de la variable de salida\n",
    "y = df['credit_risk']\n",
    "\n",
    "# Particionamos 70% Train y 30% una temporal para volverla a dividir, para los datos de entrada y de salida, respectivamente, garantizando\n",
    "# que dicha partición conserve la estratificación de las clases de la variable respuesta\n",
    "Xtrain, Xtemp, ytrain, ytemp = train_test_split(X, y,\n",
    "                                                train_size = 0.7,\n",
    "                                                random_state = 1,\n",
    "                                                stratify = y)\n",
    "\n",
    "#Particionamos el 30% en 50% validación y 50% en test.\n",
    "Xval, Xtest, yval, ytest = train_test_split(Xtemp, ytemp,\n",
    "                                            train_size = 0.5,\n",
    "                                            random_state = 1,\n",
    "                                            stratify = ytemp)\n",
    "\n",
    "\n",
    "# *********** Aquí termina la sección de agregar código *************\n",
    "\n",
    "\n",
    "# Mostremos las dimensiones de la partición generada:\n",
    "print(\"Dimensiones:\")\n",
    "print(\"Entrenamiento:\", Xtrain.shape, ytrain.shape)\n",
    "print(\"Validación:\", Xval.shape, yval.shape)\n",
    "print(\"Prueba:\", Xtest.shape, ytest.shape)\n",
    "\n",
    "# Y el porcentaje de cada clase de la variable de salida:\n",
    "tmp = ytrain.sum()/ytrain.shape[0]\n",
    "print(\"\\nPorcentaje clases Positiva:%.2f%%, y Negativa:%.2f%%\" % (100*(1-tmp),tmp*100))\n"
   ]
  },
  {
   "cell_type": "markdown",
   "metadata": {
    "id": "ptwAm_mOjVWH"
   },
   "source": [
    "### **Con base al porcentaje de los niveles de la variable de salida ¿podemos decir que tenemos un problema de datos desbalanceado? ¿Por qué?**"
   ]
  },
  {
   "cell_type": "markdown",
   "metadata": {},
   "source": [
    "Observemos la proporción de '1' en el dataset original:"
   ]
  },
  {
   "cell_type": "code",
   "execution_count": 8,
   "metadata": {},
   "outputs": [
    {
     "data": {
      "text/plain": [
       "0    0.7\n",
       "1    0.3\n",
       "Name: credit_risk, dtype: float64"
      ]
     },
     "execution_count": 8,
     "metadata": {},
     "output_type": "execute_result"
    }
   ],
   "source": [
    "df['credit_risk'].value_counts()/len(df['credit_risk'])"
   ]
  },
  {
   "cell_type": "markdown",
   "metadata": {},
   "source": [
    "Verificamos la proporción de '1' en el dataset de entrenamiento:"
   ]
  },
  {
   "cell_type": "code",
   "execution_count": 9,
   "metadata": {},
   "outputs": [
    {
     "data": {
      "text/plain": [
       "0    0.7\n",
       "1    0.3\n",
       "Name: credit_risk, dtype: float64"
      ]
     },
     "execution_count": 9,
     "metadata": {},
     "output_type": "execute_result"
    }
   ],
   "source": [
    "ytrain.value_counts()/len(ytrain)"
   ]
  },
  {
   "cell_type": "markdown",
   "metadata": {},
   "source": [
    "Verificamos la proporción de '1' en el dataset de validación:"
   ]
  },
  {
   "cell_type": "code",
   "execution_count": 10,
   "metadata": {},
   "outputs": [
    {
     "data": {
      "text/plain": [
       "0    0.7\n",
       "1    0.3\n",
       "Name: credit_risk, dtype: float64"
      ]
     },
     "execution_count": 10,
     "metadata": {},
     "output_type": "execute_result"
    }
   ],
   "source": [
    "yval.value_counts()/len(yval)"
   ]
  },
  {
   "cell_type": "markdown",
   "metadata": {},
   "source": [
    "Verificamos la proporción de '1' en el dataset de prueba:"
   ]
  },
  {
   "cell_type": "code",
   "execution_count": 11,
   "metadata": {},
   "outputs": [
    {
     "data": {
      "text/plain": [
       "0    0.7\n",
       "1    0.3\n",
       "Name: credit_risk, dtype: float64"
      ]
     },
     "execution_count": 11,
     "metadata": {},
     "output_type": "execute_result"
    }
   ],
   "source": [
    "ytest.value_counts()/len(ytest)"
   ]
  },
  {
   "cell_type": "markdown",
   "metadata": {},
   "source": [
    "### ++++++++ Inicia la sección de agregar texto: +++++++++++\n",
    "\n",
    "Considerando la proporción de las respuestas, 70% tiene etiqueta 0, y 30% etiqueta 1; y usando como referencia que para que una clase se considere desbalanceada debe al menos tener la distribución 80/20, entonces **SÍ** se considera que este conjunto de datos tienen datos desbalanceados.\n",
    "\n",
    "### ++++++++ Termina la sección de agregar texto: +++++++++++"
   ]
  },
  {
   "cell_type": "markdown",
   "metadata": {
    "id": "ocmGcSC2j_2x"
   },
   "source": [
    "## **Ejercicio 4**"
   ]
  },
  {
   "cell_type": "markdown",
   "metadata": {},
   "source": [
    "El tipo de variable en que se puede clasificar un factor depende en ocasiones del tratamiento que le da el analista. En nuestro caso, siguiendo la información dada en las referencias de la base de datos South-German-Credit, las clasificamos de acuerdo a como se indica a continuación. A partir de las referencias dadas y de la información que puedas obtener de los datos, indica el significado de cada una de las 21 variables. En particular, para todas las variables categóricas deberás indicar el número de niveles que tiene cada una.\n",
    "\n",
    "Primero veamos cómo están codificadas las variables del dataset:"
   ]
  },
  {
   "cell_type": "code",
   "execution_count": 12,
   "metadata": {},
   "outputs": [
    {
     "name": "stdout",
     "output_type": "stream",
     "text": [
      "<class 'pandas.core.frame.DataFrame'>\n",
      "RangeIndex: 1000 entries, 0 to 999\n",
      "Data columns (total 21 columns):\n",
      " #   Column                   Non-Null Count  Dtype\n",
      "---  ------                   --------------  -----\n",
      " 0   status                   1000 non-null   int64\n",
      " 1   duration                 1000 non-null   int64\n",
      " 2   credit_history           1000 non-null   int64\n",
      " 3   purpose                  1000 non-null   int64\n",
      " 4   amount                   1000 non-null   int64\n",
      " 5   savings                  1000 non-null   int64\n",
      " 6   employment_duration      1000 non-null   int64\n",
      " 7   installment_rate         1000 non-null   int64\n",
      " 8   personal_status_sex      1000 non-null   int64\n",
      " 9   other_debtors            1000 non-null   int64\n",
      " 10  present_residence        1000 non-null   int64\n",
      " 11  property                 1000 non-null   int64\n",
      " 12  age                      1000 non-null   int64\n",
      " 13  other_installment_plans  1000 non-null   int64\n",
      " 14  housing                  1000 non-null   int64\n",
      " 15  number_credits           1000 non-null   int64\n",
      " 16  job                      1000 non-null   int64\n",
      " 17  people_liable            1000 non-null   int64\n",
      " 18  telephone                1000 non-null   int64\n",
      " 19  foreign_worker           1000 non-null   int64\n",
      " 20  credit_risk              1000 non-null   int64\n",
      "dtypes: int64(21)\n",
      "memory usage: 164.2 KB\n"
     ]
    }
   ],
   "source": [
    "df.info()"
   ]
  },
  {
   "cell_type": "markdown",
   "metadata": {},
   "source": [
    "Se puede observar que todas están codificadas como números enteros. Dado que están codificados como valores numéricos, veamos cómo se ven sus histogramas:"
   ]
  },
  {
   "cell_type": "code",
   "execution_count": 13,
   "metadata": {},
   "outputs": [
    {
     "data": {
      "image/png": "[encoded data removed]",
      "text/plain": [
       "<Figure size 1080x1080 with 25 Axes>"
      ]
     },
     "metadata": {
      "needs_background": "light"
     },
     "output_type": "display_data"
    }
   ],
   "source": [
    "df.hist(figsize= (15,15), bins= 50, density = True, alpha = 0.7, edgecolor = 'black');"
   ]
  },
  {
   "cell_type": "markdown",
   "metadata": {},
   "source": [
    "Se puede observar que sólo las variables `duration`, `amount` y `age`, toman un número considerable de valores. El resto de las variables sólo toma unos cuantos valores, haciendo sospechar que se puede tratar de variables cualitativas, no cuantitativas"
   ]
  },
  {
   "cell_type": "markdown",
   "metadata": {},
   "source": [
    "### **Describe a continuación la información de cada variable: su descripción, el tipo de variable y para el caso de las categóricas, el total de niveles.**\n",
    "\n",
    "### ++++++++ Inicia la sección de agregar texto: +++++++++++\n",
    "\n",
    "### **3 Variables Numéricas reales o flotantes:**\n",
    "*   **duration:** Se describen algunas estadísticas descriptivas en el siguiente chunk de código.\n",
    "*   **amount:** Se describen algunas estadísticas descriptivas en el siguiente chunk de código.\n",
    "*   **age:** Se describen algunas estadísticas descriptivas en el siguiente chunk de código."
   ]
  },
  {
   "cell_type": "code",
   "execution_count": 14,
   "metadata": {},
   "outputs": [
    {
     "data": {
      "text/html": [
       "<div>\n",
       "<style scoped>\n",
       "    .dataframe tbody tr th:only-of-type {\n",
       "        vertical-align: middle;\n",
       "    }\n",
       "\n",
       "    .dataframe tbody tr th {\n",
       "        vertical-align: top;\n",
       "    }\n",
       "\n",
       "    .dataframe thead th {\n",
       "        text-align: right;\n",
       "    }\n",
       "</style>\n",
       "<table border=\"1\" class=\"dataframe\">\n",
       "  <thead>\n",
       "    <tr style=\"text-align: right;\">\n",
       "      <th></th>\n",
       "      <th>count</th>\n",
       "      <th>mean</th>\n",
       "      <th>std</th>\n",
       "      <th>min</th>\n",
       "      <th>25%</th>\n",
       "      <th>50%</th>\n",
       "      <th>75%</th>\n",
       "      <th>max</th>\n",
       "    </tr>\n",
       "  </thead>\n",
       "  <tbody>\n",
       "    <tr>\n",
       "      <th>duration</th>\n",
       "      <td>1000.0</td>\n",
       "      <td>20.903</td>\n",
       "      <td>12.058814</td>\n",
       "      <td>4.0</td>\n",
       "      <td>12.0</td>\n",
       "      <td>18.0</td>\n",
       "      <td>24.00</td>\n",
       "      <td>72.0</td>\n",
       "    </tr>\n",
       "    <tr>\n",
       "      <th>amount</th>\n",
       "      <td>1000.0</td>\n",
       "      <td>3271.248</td>\n",
       "      <td>2822.751760</td>\n",
       "      <td>250.0</td>\n",
       "      <td>1365.5</td>\n",
       "      <td>2319.5</td>\n",
       "      <td>3972.25</td>\n",
       "      <td>18424.0</td>\n",
       "    </tr>\n",
       "    <tr>\n",
       "      <th>age</th>\n",
       "      <td>1000.0</td>\n",
       "      <td>35.542</td>\n",
       "      <td>11.352670</td>\n",
       "      <td>19.0</td>\n",
       "      <td>27.0</td>\n",
       "      <td>33.0</td>\n",
       "      <td>42.00</td>\n",
       "      <td>75.0</td>\n",
       "    </tr>\n",
       "  </tbody>\n",
       "</table>\n",
       "</div>"
      ],
      "text/plain": [
       "           count      mean          std    min     25%     50%      75%  \\\n",
       "duration  1000.0    20.903    12.058814    4.0    12.0    18.0    24.00   \n",
       "amount    1000.0  3271.248  2822.751760  250.0  1365.5  2319.5  3972.25   \n",
       "age       1000.0    35.542    11.352670   19.0    27.0    33.0    42.00   \n",
       "\n",
       "              max  \n",
       "duration     72.0  \n",
       "amount    18424.0  \n",
       "age          75.0  "
      ]
     },
     "execution_count": 14,
     "metadata": {},
     "output_type": "execute_result"
    }
   ],
   "source": [
    "variables_numericas = ['duration','amount','age']\n",
    "\n",
    "df[variables_numericas].describe().T"
   ]
  },
  {
   "cell_type": "markdown",
   "metadata": {},
   "source": [
    "### **6 Variables de entrada Categóricas Nominales:**\n",
    "\n",
    "El total de niveles se obtuvo con los códigos que aparecen debajo de este chunk de texto:\n",
    "\n",
    "*   **credit_history (total de niveles):** 5\n",
    "*   **purpose (total de niveles):** 10\n",
    "*   **personal_status_sex (total de niveles):** 4\n",
    "*   **other_debtors (total de niveles):** 3\n",
    "*   **other_installment_plans (total de niveles):** 3\n",
    "*   **housing (total de niveles):** 3"
   ]
  },
  {
   "cell_type": "code",
   "execution_count": 15,
   "metadata": {},
   "outputs": [
    {
     "data": {
      "text/plain": [
       "credit_history              5\n",
       "purpose                    10\n",
       "personal_status_sex         4\n",
       "other_debtors               3\n",
       "other_installment_plans     3\n",
       "housing                     3\n",
       "dtype: int64"
      ]
     },
     "execution_count": 15,
     "metadata": {},
     "output_type": "execute_result"
    }
   ],
   "source": [
    "variables_nominales = ['credit_history','purpose','personal_status_sex','other_debtors',\n",
    "                       'other_installment_plans','housing']\n",
    "\n",
    "df[variables_nominales].nunique()"
   ]
  },
  {
   "cell_type": "code",
   "execution_count": 16,
   "metadata": {},
   "outputs": [
    {
     "data": {
      "image/png": "[encoded data removed]",
      "text/plain": [
       "<Figure size 720x720 with 6 Axes>"
      ]
     },
     "metadata": {
      "needs_background": "light"
     },
     "output_type": "display_data"
    }
   ],
   "source": [
    "# Hacemos una gráfica para bocetar la frecuencia de cada clase\n",
    "\n",
    "fig, axes = plt.subplots(2,3, figsize = (10,10))\n",
    "axes = axes.ravel()\n",
    "for col, ax in zip(df[variables_nominales], axes):\n",
    "  sns.countplot(x = df[col], ax = ax)\n",
    "  ax.set(title = f'{col}', xlabel = None)"
   ]
  },
  {
   "cell_type": "markdown",
   "metadata": {},
   "source": [
    "### **4 Variables Categóricas Binarias (3 de entrada y 1 de salida):**\n",
    "\n",
    "*   **people_liable:**\n",
    "*   **telephone:**\n",
    "*   **foreign_worker:**\n",
    "*   **credit_risk:** (Variable de salida)"
   ]
  },
  {
   "cell_type": "code",
   "execution_count": 17,
   "metadata": {},
   "outputs": [
    {
     "data": {
      "text/plain": [
       "people_liable     2\n",
       "telephone         2\n",
       "foreign_worker    2\n",
       "credit_risk       2\n",
       "dtype: int64"
      ]
     },
     "execution_count": 17,
     "metadata": {},
     "output_type": "execute_result"
    }
   ],
   "source": [
    "variables_binarias = ['people_liable', 'telephone', 'foreign_worker', 'credit_risk']\n",
    "\n",
    "df[variables_binarias].nunique()"
   ]
  },
  {
   "cell_type": "code",
   "execution_count": 18,
   "metadata": {},
   "outputs": [
    {
     "data": {
      "image/png": "[encoded data removed]",
      "text/plain": [
       "<Figure size 720x720 with 4 Axes>"
      ]
     },
     "metadata": {
      "needs_background": "light"
     },
     "output_type": "display_data"
    }
   ],
   "source": [
    "# Hacemos una gráfica para bocetar la frecuencia de cada clase\n",
    "\n",
    "fig, axes = plt.subplots(2,2, figsize = (10,10))\n",
    "axes = axes.ravel()\n",
    "for col, ax in zip(df[variables_binarias], axes):\n",
    "  sns.countplot(x = df[col], ax = ax)\n",
    "  ax.set(title = f'{col}', xlabel = None)"
   ]
  },
  {
   "cell_type": "markdown",
   "metadata": {},
   "source": [
    "### **5 Variables Categóricas Ordinales (Cuantitativas Discretas + Strings):**\n",
    "\n",
    "#### NOTA: Estas variables están formadas por niveles que contienen intervalos numéricos y de texto.\n",
    "\n",
    "El total de niveles se obtuvo con los códigos que aparecen debajo de este chunk de texto:\n",
    "\n",
    "*   **status (total de niveles):** 4\n",
    "*   **savings (total de niveles):** 5\n",
    "*   **employment_duration (total de niveles):** 5\n",
    "*   **property (total de niveles):** 4\n",
    "*   **job (total de niveles):** 4"
   ]
  },
  {
   "cell_type": "code",
   "execution_count": 19,
   "metadata": {},
   "outputs": [
    {
     "data": {
      "text/plain": [
       "status                 4\n",
       "savings                5\n",
       "employment_duration    5\n",
       "property               4\n",
       "job                    4\n",
       "dtype: int64"
      ]
     },
     "execution_count": 19,
     "metadata": {},
     "output_type": "execute_result"
    }
   ],
   "source": [
    "variables_ordinales = ['status', 'savings', 'employment_duration', 'property', 'job']\n",
    "\n",
    "df[variables_ordinales].nunique()"
   ]
  },
  {
   "cell_type": "code",
   "execution_count": 20,
   "metadata": {},
   "outputs": [
    {
     "data": {
      "image/png": "[encoded data removed]",
      "text/plain": [
       "<Figure size 720x720 with 6 Axes>"
      ]
     },
     "metadata": {
      "needs_background": "light"
     },
     "output_type": "display_data"
    }
   ],
   "source": [
    "# Hacemos una gráfica para bocetar la frecuencia de cada clase\n",
    "\n",
    "fig, axes = plt.subplots(3,2, figsize = (10,10))\n",
    "axes = axes.ravel()\n",
    "for col, ax in zip(df[variables_ordinales], axes):\n",
    "  sns.countplot(x = df[col], ax = ax)\n",
    "  ax.set(title = f'{col}', xlabel = None)"
   ]
  },
  {
   "cell_type": "markdown",
   "metadata": {
    "id": "EgO8Jh2bXrL0"
   },
   "source": [
    "### **3 Variables Categóricas Ordinales:**\n",
    "### NOTA: Estas categóricas ordinales están formadas solo por intervalos numéricos.\n",
    "\n",
    "El total de niveles se obtuvo con los códigos que aparecen debajo de este chunk de texto:\n",
    "\n",
    "*   **installment_rate (total de niveles):** 4\n",
    "*   **present_residence (total de niveles):** 4\n",
    "*   **number_credits (total de niveles):** 4"
   ]
  },
  {
   "cell_type": "code",
   "execution_count": 21,
   "metadata": {},
   "outputs": [
    {
     "data": {
      "text/plain": [
       "installment_rate     4\n",
       "present_residence    4\n",
       "number_credits       4\n",
       "dtype: int64"
      ]
     },
     "execution_count": 21,
     "metadata": {},
     "output_type": "execute_result"
    }
   ],
   "source": [
    "variables_ordinales2 = ['installment_rate', 'present_residence', 'number_credits']\n",
    "\n",
    "df[variables_ordinales2].nunique()"
   ]
  },
  {
   "cell_type": "code",
   "execution_count": 22,
   "metadata": {},
   "outputs": [
    {
     "data": {
      "image/png": "[encoded data removed]",
      "text/plain": [
       "<Figure size 1152x576 with 3 Axes>"
      ]
     },
     "metadata": {
      "needs_background": "light"
     },
     "output_type": "display_data"
    }
   ],
   "source": [
    "# Hacemos una gráfica para bocetar la frecuencia de cada clase\n",
    "\n",
    "fig, axes = plt.subplots(1,3, figsize = (16,8))\n",
    "axes = axes.ravel()\n",
    "for col, ax in zip(df[variables_ordinales2], axes):\n",
    "  sns.countplot(x = df[col], ax = ax)\n",
    "  ax.set(title = f'{col}', xlabel = None)"
   ]
  },
  {
   "cell_type": "markdown",
   "metadata": {
    "id": "zb5bE4WJj8Rw"
   },
   "source": [
    "## **Ejercicio 5**"
   ]
  },
  {
   "cell_type": "markdown",
   "metadata": {
    "id": "urAFNUyMjodn"
   },
   "source": [
    "### Análisis descriptivo de las variables usando el conjunto de entrenamiento.\n",
    "\n",
    "### Incluye a continuación todo el código que consideres necesario para analizar las variables y decidir en dado caso qué transformaciones les estarías aplicando."
   ]
  },
  {
   "cell_type": "markdown",
   "metadata": {},
   "source": [
    "Analicemos la forma de la distribución de las variables numéricas para ver si muestran alguna asimetría"
   ]
  },
  {
   "cell_type": "code",
   "execution_count": 23,
   "metadata": {
    "id": "FZNjwKewd9fK"
   },
   "outputs": [
    {
     "data": {
      "image/png": "[encoded data removed]",
      "text/plain": [
       "<Figure size 1440x360 with 3 Axes>"
      ]
     },
     "metadata": {
      "needs_background": "light"
     },
     "output_type": "display_data"
    }
   ],
   "source": [
    "cols_de_interes = variables_numericas\n",
    "\n",
    "fig, axes = plt.subplots(1,3, figsize=(20,5))\n",
    "plt.subplots_adjust(wspace=0.3)\n",
    "axes = axes.ravel()\n",
    "for col, ax in zip(df[cols_de_interes], axes):\n",
    "  sns.histplot(x=df[col], ax=ax, bins=50, kde=True,\n",
    "               color=\"lightblue\")\n",
    "  ax.set(title=f'{col}', xlabel=None)\n",
    "  ax.lines[0].set_color('orange')\n",
    "  mean = round(df[col].mean(),2)\n",
    "  ax.axvline(mean, color='red', linestyle='dashed', label=\"Media\")\n",
    "  median = round(df[col].median(),2)\n",
    "  ax.axvline(median, color='green', linestyle='dashed', label=\"Mediana\")\n",
    "  ax.annotate('Media: {} \\nMediana: {}'.format(mean, median),\n",
    "              xy=(0.50, 0.60), xycoords='axes fraction',\n",
    "              fontsize=7, ha='left')\n",
    "  asim = round(df[col].skew(),2)\n",
    "  ax.annotate('Asimetria: {}'.format(asim), xy=(0.40, 0.80), \n",
    "              xycoords='axes fraction', fontsize=10, ha='left')"
   ]
  },
  {
   "cell_type": "markdown",
   "metadata": {},
   "source": [
    "Veamos cómo se modifica la distribución de las variables ante una transformación logarítmica:"
   ]
  },
  {
   "cell_type": "code",
   "execution_count": 24,
   "metadata": {},
   "outputs": [
    {
     "data": {
      "image/png": "[encoded data removed]",
      "text/plain": [
       "<Figure size 1440x360 with 3 Axes>"
      ]
     },
     "metadata": {
      "needs_background": "light"
     },
     "output_type": "display_data"
    }
   ],
   "source": [
    "df_num_sqrt = df[variables_numericas].applymap(np.log)\n",
    "\n",
    "cols_de_interes = variables_numericas\n",
    "\n",
    "fig, axes = plt.subplots(1,3, figsize=(20,5))\n",
    "plt.subplots_adjust(wspace=0.3)\n",
    "axes = axes.ravel()\n",
    "for col, ax in zip(df_num_sqrt[cols_de_interes], axes):\n",
    "  sns.histplot(x=df_num_sqrt[col], ax=ax, bins=50, kde=True,\n",
    "               color=\"lightblue\")\n",
    "  ax.set(title=f'{col}', xlabel=None)\n",
    "  ax.lines[0].set_color('orange')\n",
    "  mean = round(df_num_sqrt[col].mean(),2)\n",
    "  ax.axvline(mean, color='red', linestyle='dashed', label=\"Media\")\n",
    "  median = round(df_num_sqrt[col].median(),2)\n",
    "  ax.axvline(median, color='green', linestyle='dashed', label=\"Mediana\")\n",
    "  ax.annotate('Media: {} \\nMediana: {}'.format(mean, median),\n",
    "              xy=(0.50, 0.60), xycoords='axes fraction',\n",
    "              fontsize=7, ha='left')\n",
    "  asim = round(df_num_sqrt[col].skew(),2)\n",
    "  ax.annotate('Asimetria: {}'.format(asim), xy=(0.40, 0.80), \n",
    "              xycoords='axes fraction', fontsize=10, ha='left')"
   ]
  },
  {
   "cell_type": "markdown",
   "metadata": {},
   "source": [
    "Veamos cómo se modifica la distribución de las variables ante una transformación de raíz cuadrada:"
   ]
  },
  {
   "cell_type": "code",
   "execution_count": 25,
   "metadata": {},
   "outputs": [
    {
     "data": {
      "image/png": "[encoded data removed]",
      "text/plain": [
       "<Figure size 1440x360 with 3 Axes>"
      ]
     },
     "metadata": {
      "needs_background": "light"
     },
     "output_type": "display_data"
    }
   ],
   "source": [
    "df_num_sqrt = df[variables_numericas].applymap(np.sqrt)\n",
    "\n",
    "cols_de_interes = variables_numericas\n",
    "\n",
    "fig, axes = plt.subplots(1,3, figsize=(20,5))\n",
    "plt.subplots_adjust(wspace=0.3)\n",
    "axes = axes.ravel()\n",
    "for col, ax in zip(df_num_sqrt[cols_de_interes], axes):\n",
    "  sns.histplot(x=df_num_sqrt[col], ax=ax, bins=50, kde=True,\n",
    "               color=\"lightblue\")\n",
    "  ax.set(title=f'{col}', xlabel=None)\n",
    "  ax.lines[0].set_color('orange')\n",
    "  mean = round(df_num_sqrt[col].mean(),2)\n",
    "  ax.axvline(mean, color='red', linestyle='dashed', label=\"Media\")\n",
    "  median = round(df_num_sqrt[col].median(),2)\n",
    "  ax.axvline(median, color='green', linestyle='dashed', label=\"Mediana\")\n",
    "  ax.annotate('Media: {} \\nMediana: {}'.format(mean, median),\n",
    "              xy=(0.50, 0.60), xycoords='axes fraction',\n",
    "              fontsize=7, ha='left')\n",
    "  asim = round(df_num_sqrt[col].skew(),2)\n",
    "  ax.annotate('Asimetria: {}'.format(asim), xy=(0.40, 0.80), \n",
    "              xycoords='axes fraction', fontsize=10, ha='left')"
   ]
  },
  {
   "cell_type": "markdown",
   "metadata": {},
   "source": [
    "Obtengamos la matriz de correlación de las variables numéricas:"
   ]
  },
  {
   "cell_type": "code",
   "execution_count": 26,
   "metadata": {},
   "outputs": [
    {
     "data": {
      "image/png": "[encoded data removed]",
      "text/plain": [
       "<Figure size 432x288 with 2 Axes>"
      ]
     },
     "metadata": {
      "needs_background": "light"
     },
     "output_type": "display_data"
    }
   ],
   "source": [
    "sns.heatmap(df[variables_numericas].corr(), annot=True);"
   ]
  },
  {
   "cell_type": "markdown",
   "metadata": {
    "id": "_-W1Y9GxiW4Q"
   },
   "source": [
    "\n",
    "### **Describe y explica a continuación las transformaciones que has decidido aplicar a cada columna:**\n",
    "\n",
    "### ++++++++ Inicia la sección de agregar texto: +++++++++++\n",
    "\n",
    "+ A las variables numéricas se les aplicará una transformación logarítimica\n",
    "\n",
    "+ A las variables cualitativas nominales no se les aplicrá transformación. Excepto la de one-hot-encoding para entrenar.\n",
    "\n",
    "+ A las variable cualitaticas ordinales se les codificará como catégoricas con niveles y se les aplicará one-hot-encoding para entrenar. \n",
    "\n",
    "\n",
    "### ++++++++ Termina la sección de agregar texto. +++++++++++\n"
   ]
  },
  {
   "cell_type": "code",
   "execution_count": 27,
   "metadata": {},
   "outputs": [],
   "source": [
    "variables_numericas = ['duration', 'amount', 'age']\n",
    "\n",
    "variables_categoricas = ['credit_history','purpose', 'personal_status_sex', 'other_debtors', 'property',\n",
    "                        'other_installment_plans', 'housing', 'telephone', 'foreign_worker']\n",
    "\n",
    "df[variables_categoricas] = df[variables_categoricas].astype(str)\n",
    "\n",
    "variables_ordinales = ['status', 'savings', 'employment_duration', 'installment_rate', 'present_residence',\n",
    "                      'number_credits', 'job', 'people_liable']\n",
    "\n",
    "df[variables_ordinales] = df[variables_ordinales].astype(\"category\")"
   ]
  },
  {
   "cell_type": "code",
   "execution_count": 28,
   "metadata": {},
   "outputs": [],
   "source": [
    "df['status'] = df['status'].astype(CategoricalDtype(categories=[1,2,3,4], ordered=True))\n",
    "df['savings'] = df['savings'].astype(CategoricalDtype(categories=[1,2,3,4,5], ordered=True))\n",
    "df['employment_duration'] = df['employment_duration'].astype(CategoricalDtype(categories=[1,2,3,4,5], ordered=True))\n",
    "df['installment_rate'] = df['installment_rate'].astype(CategoricalDtype(categories=[4,3,2,1], ordered=True))\n",
    "df['present_residence'] = df['present_residence'].astype(CategoricalDtype(categories=[1,2,3,4], ordered=True))\n",
    "df['number_credits'] = df['number_credits'].astype(CategoricalDtype(categories=[1,2,3,4], ordered=True))\n",
    "df['job'] = df['job'].astype(CategoricalDtype(categories=[1,2,3,4], ordered=True))\n",
    "df['people_liable'] = df['people_liable'].astype(CategoricalDtype(categories=[2,1], ordered=True))"
   ]
  },
  {
   "cell_type": "code",
   "execution_count": 29,
   "metadata": {},
   "outputs": [
    {
     "name": "stdout",
     "output_type": "stream",
     "text": [
      "<class 'pandas.core.frame.DataFrame'>\n",
      "RangeIndex: 1000 entries, 0 to 999\n",
      "Data columns (total 21 columns):\n",
      " #   Column                   Non-Null Count  Dtype   \n",
      "---  ------                   --------------  -----   \n",
      " 0   status                   1000 non-null   category\n",
      " 1   duration                 1000 non-null   int64   \n",
      " 2   credit_history           1000 non-null   object  \n",
      " 3   purpose                  1000 non-null   object  \n",
      " 4   amount                   1000 non-null   int64   \n",
      " 5   savings                  1000 non-null   category\n",
      " 6   employment_duration      1000 non-null   category\n",
      " 7   installment_rate         1000 non-null   category\n",
      " 8   personal_status_sex      1000 non-null   object  \n",
      " 9   other_debtors            1000 non-null   object  \n",
      " 10  present_residence        1000 non-null   category\n",
      " 11  property                 1000 non-null   object  \n",
      " 12  age                      1000 non-null   int64   \n",
      " 13  other_installment_plans  1000 non-null   object  \n",
      " 14  housing                  1000 non-null   object  \n",
      " 15  number_credits           1000 non-null   category\n",
      " 16  job                      1000 non-null   category\n",
      " 17  people_liable            1000 non-null   category\n",
      " 18  telephone                1000 non-null   object  \n",
      " 19  foreign_worker           1000 non-null   object  \n",
      " 20  credit_risk              1000 non-null   int64   \n",
      "dtypes: category(8), int64(4), object(9)\n",
      "memory usage: 111.0+ KB\n"
     ]
    }
   ],
   "source": [
    "df.info()"
   ]
  },
  {
   "cell_type": "code",
   "execution_count": 30,
   "metadata": {},
   "outputs": [
    {
     "data": {
      "text/html": [
       "<div>\n",
       "<style scoped>\n",
       "    .dataframe tbody tr th:only-of-type {\n",
       "        vertical-align: middle;\n",
       "    }\n",
       "\n",
       "    .dataframe tbody tr th {\n",
       "        vertical-align: top;\n",
       "    }\n",
       "\n",
       "    .dataframe thead th {\n",
       "        text-align: right;\n",
       "    }\n",
       "</style>\n",
       "<table border=\"1\" class=\"dataframe\">\n",
       "  <thead>\n",
       "    <tr style=\"text-align: right;\">\n",
       "      <th></th>\n",
       "      <th>count</th>\n",
       "      <th>mean</th>\n",
       "      <th>std</th>\n",
       "      <th>min</th>\n",
       "      <th>25%</th>\n",
       "      <th>50%</th>\n",
       "      <th>75%</th>\n",
       "      <th>max</th>\n",
       "    </tr>\n",
       "  </thead>\n",
       "  <tbody>\n",
       "    <tr>\n",
       "      <th>duration</th>\n",
       "      <td>1000.0</td>\n",
       "      <td>20.903</td>\n",
       "      <td>12.058814</td>\n",
       "      <td>4.0</td>\n",
       "      <td>12.0</td>\n",
       "      <td>18.0</td>\n",
       "      <td>24.00</td>\n",
       "      <td>72.0</td>\n",
       "    </tr>\n",
       "    <tr>\n",
       "      <th>amount</th>\n",
       "      <td>1000.0</td>\n",
       "      <td>3271.248</td>\n",
       "      <td>2822.751760</td>\n",
       "      <td>250.0</td>\n",
       "      <td>1365.5</td>\n",
       "      <td>2319.5</td>\n",
       "      <td>3972.25</td>\n",
       "      <td>18424.0</td>\n",
       "    </tr>\n",
       "    <tr>\n",
       "      <th>age</th>\n",
       "      <td>1000.0</td>\n",
       "      <td>35.542</td>\n",
       "      <td>11.352670</td>\n",
       "      <td>19.0</td>\n",
       "      <td>27.0</td>\n",
       "      <td>33.0</td>\n",
       "      <td>42.00</td>\n",
       "      <td>75.0</td>\n",
       "    </tr>\n",
       "    <tr>\n",
       "      <th>credit_risk</th>\n",
       "      <td>1000.0</td>\n",
       "      <td>0.300</td>\n",
       "      <td>0.458487</td>\n",
       "      <td>0.0</td>\n",
       "      <td>0.0</td>\n",
       "      <td>0.0</td>\n",
       "      <td>1.00</td>\n",
       "      <td>1.0</td>\n",
       "    </tr>\n",
       "  </tbody>\n",
       "</table>\n",
       "</div>"
      ],
      "text/plain": [
       "              count      mean          std    min     25%     50%      75%  \\\n",
       "duration     1000.0    20.903    12.058814    4.0    12.0    18.0    24.00   \n",
       "amount       1000.0  3271.248  2822.751760  250.0  1365.5  2319.5  3972.25   \n",
       "age          1000.0    35.542    11.352670   19.0    27.0    33.0    42.00   \n",
       "credit_risk  1000.0     0.300     0.458487    0.0     0.0     0.0     1.00   \n",
       "\n",
       "                 max  \n",
       "duration        72.0  \n",
       "amount       18424.0  \n",
       "age             75.0  \n",
       "credit_risk      1.0  "
      ]
     },
     "execution_count": 30,
     "metadata": {},
     "output_type": "execute_result"
    }
   ],
   "source": [
    "df.describe().T"
   ]
  },
  {
   "cell_type": "code",
   "execution_count": 31,
   "metadata": {},
   "outputs": [
    {
     "data": {
      "text/html": [
       "<div>\n",
       "<style scoped>\n",
       "    .dataframe tbody tr th:only-of-type {\n",
       "        vertical-align: middle;\n",
       "    }\n",
       "\n",
       "    .dataframe tbody tr th {\n",
       "        vertical-align: top;\n",
       "    }\n",
       "\n",
       "    .dataframe thead th {\n",
       "        text-align: right;\n",
       "    }\n",
       "</style>\n",
       "<table border=\"1\" class=\"dataframe\">\n",
       "  <thead>\n",
       "    <tr style=\"text-align: right;\">\n",
       "      <th></th>\n",
       "      <th>count</th>\n",
       "      <th>unique</th>\n",
       "      <th>top</th>\n",
       "      <th>freq</th>\n",
       "    </tr>\n",
       "  </thead>\n",
       "  <tbody>\n",
       "    <tr>\n",
       "      <th>credit_history</th>\n",
       "      <td>1000</td>\n",
       "      <td>5</td>\n",
       "      <td>2</td>\n",
       "      <td>530</td>\n",
       "    </tr>\n",
       "    <tr>\n",
       "      <th>purpose</th>\n",
       "      <td>1000</td>\n",
       "      <td>10</td>\n",
       "      <td>3</td>\n",
       "      <td>280</td>\n",
       "    </tr>\n",
       "    <tr>\n",
       "      <th>personal_status_sex</th>\n",
       "      <td>1000</td>\n",
       "      <td>4</td>\n",
       "      <td>3</td>\n",
       "      <td>548</td>\n",
       "    </tr>\n",
       "    <tr>\n",
       "      <th>other_debtors</th>\n",
       "      <td>1000</td>\n",
       "      <td>3</td>\n",
       "      <td>1</td>\n",
       "      <td>907</td>\n",
       "    </tr>\n",
       "    <tr>\n",
       "      <th>property</th>\n",
       "      <td>1000</td>\n",
       "      <td>4</td>\n",
       "      <td>3</td>\n",
       "      <td>332</td>\n",
       "    </tr>\n",
       "    <tr>\n",
       "      <th>other_installment_plans</th>\n",
       "      <td>1000</td>\n",
       "      <td>3</td>\n",
       "      <td>3</td>\n",
       "      <td>814</td>\n",
       "    </tr>\n",
       "    <tr>\n",
       "      <th>housing</th>\n",
       "      <td>1000</td>\n",
       "      <td>3</td>\n",
       "      <td>2</td>\n",
       "      <td>714</td>\n",
       "    </tr>\n",
       "    <tr>\n",
       "      <th>telephone</th>\n",
       "      <td>1000</td>\n",
       "      <td>2</td>\n",
       "      <td>1</td>\n",
       "      <td>596</td>\n",
       "    </tr>\n",
       "    <tr>\n",
       "      <th>foreign_worker</th>\n",
       "      <td>1000</td>\n",
       "      <td>2</td>\n",
       "      <td>2</td>\n",
       "      <td>963</td>\n",
       "    </tr>\n",
       "  </tbody>\n",
       "</table>\n",
       "</div>"
      ],
      "text/plain": [
       "                        count unique top freq\n",
       "credit_history           1000      5   2  530\n",
       "purpose                  1000     10   3  280\n",
       "personal_status_sex      1000      4   3  548\n",
       "other_debtors            1000      3   1  907\n",
       "property                 1000      4   3  332\n",
       "other_installment_plans  1000      3   3  814\n",
       "housing                  1000      3   2  714\n",
       "telephone                1000      2   1  596\n",
       "foreign_worker           1000      2   2  963"
      ]
     },
     "execution_count": 31,
     "metadata": {},
     "output_type": "execute_result"
    }
   ],
   "source": [
    "df.describe(include='object').T"
   ]
  },
  {
   "cell_type": "code",
   "execution_count": 32,
   "metadata": {},
   "outputs": [
    {
     "data": {
      "text/html": [
       "<div>\n",
       "<style scoped>\n",
       "    .dataframe tbody tr th:only-of-type {\n",
       "        vertical-align: middle;\n",
       "    }\n",
       "\n",
       "    .dataframe tbody tr th {\n",
       "        vertical-align: top;\n",
       "    }\n",
       "\n",
       "    .dataframe thead th {\n",
       "        text-align: right;\n",
       "    }\n",
       "</style>\n",
       "<table border=\"1\" class=\"dataframe\">\n",
       "  <thead>\n",
       "    <tr style=\"text-align: right;\">\n",
       "      <th></th>\n",
       "      <th>count</th>\n",
       "      <th>unique</th>\n",
       "      <th>top</th>\n",
       "      <th>freq</th>\n",
       "    </tr>\n",
       "  </thead>\n",
       "  <tbody>\n",
       "    <tr>\n",
       "      <th>status</th>\n",
       "      <td>1000</td>\n",
       "      <td>4</td>\n",
       "      <td>4</td>\n",
       "      <td>394</td>\n",
       "    </tr>\n",
       "    <tr>\n",
       "      <th>savings</th>\n",
       "      <td>1000</td>\n",
       "      <td>5</td>\n",
       "      <td>1</td>\n",
       "      <td>603</td>\n",
       "    </tr>\n",
       "    <tr>\n",
       "      <th>employment_duration</th>\n",
       "      <td>1000</td>\n",
       "      <td>5</td>\n",
       "      <td>3</td>\n",
       "      <td>339</td>\n",
       "    </tr>\n",
       "    <tr>\n",
       "      <th>installment_rate</th>\n",
       "      <td>1000</td>\n",
       "      <td>4</td>\n",
       "      <td>4</td>\n",
       "      <td>476</td>\n",
       "    </tr>\n",
       "    <tr>\n",
       "      <th>present_residence</th>\n",
       "      <td>1000</td>\n",
       "      <td>4</td>\n",
       "      <td>4</td>\n",
       "      <td>413</td>\n",
       "    </tr>\n",
       "    <tr>\n",
       "      <th>number_credits</th>\n",
       "      <td>1000</td>\n",
       "      <td>4</td>\n",
       "      <td>1</td>\n",
       "      <td>633</td>\n",
       "    </tr>\n",
       "    <tr>\n",
       "      <th>job</th>\n",
       "      <td>1000</td>\n",
       "      <td>4</td>\n",
       "      <td>3</td>\n",
       "      <td>630</td>\n",
       "    </tr>\n",
       "    <tr>\n",
       "      <th>people_liable</th>\n",
       "      <td>1000</td>\n",
       "      <td>2</td>\n",
       "      <td>2</td>\n",
       "      <td>845</td>\n",
       "    </tr>\n",
       "  </tbody>\n",
       "</table>\n",
       "</div>"
      ],
      "text/plain": [
       "                     count  unique  top  freq\n",
       "status                1000       4    4   394\n",
       "savings               1000       5    1   603\n",
       "employment_duration   1000       5    3   339\n",
       "installment_rate      1000       4    4   476\n",
       "present_residence     1000       4    4   413\n",
       "number_credits        1000       4    1   633\n",
       "job                   1000       4    3   630\n",
       "people_liable         1000       2    2   845"
      ]
     },
     "execution_count": 32,
     "metadata": {},
     "output_type": "execute_result"
    }
   ],
   "source": [
    "df.describe(include='category').T"
   ]
  },
  {
   "cell_type": "markdown",
   "metadata": {
    "id": "B9i2CrLJs-1m"
   },
   "source": [
    "# **Parte II: Modelos de aprendizaje automático con los conjuntos originales de la partición realizada.**"
   ]
  },
  {
   "cell_type": "markdown",
   "metadata": {
    "id": "UJokj9Diyeu0"
   },
   "source": [
    "## **Ejercicio 6**"
   ]
  },
  {
   "cell_type": "markdown",
   "metadata": {},
   "source": [
    "Utiliza las clases `Pipeline()` y `ColumnTransformer()` de Sklearn para definir y conjuntar las siguientes transformaciones:\n",
    "\n",
    "a. A las variables numéricas aplica las transformaciones que hayas decidido en el ejercicio 5.\n",
    "\n",
    "b. A las variables nominales y binarias aplicar la transformación One-Hot-Encoding con k-1 niveles.\n",
    "\n",
    "c. El resto de las variables dejarlas por el momento sin transformar."
   ]
  },
  {
   "cell_type": "code",
   "execution_count": 33,
   "metadata": {},
   "outputs": [],
   "source": [
    "variables_numericas = ['duration', 'amount', 'age']\n",
    "\n",
    "variables_binarias = ['people_liable', 'telephone', 'foreign_worker', 'credit_risk']\n",
    "\n",
    "variables_nominales = ['credit_history','purpose','personal_status_sex','other_debtors',\n",
    "                       'other_installment_plans','housing']\n",
    "\n",
    "# Se consruye el dataset de las POSIBLES variables predictoras\n",
    "X = df.drop('credit_risk', axis = 1)\n",
    "\n",
    "# Se consruye el dataset de la variable de salida\n",
    "y = df['credit_risk']\n",
    "\n",
    "# Particionamos 70% Train y 30% una temporal para volverla a dividir, para los datos de entrada y de salida, respectivamente, garantizando\n",
    "# que dicha partición conserve la estratificación de las clases de la variable respuesta\n",
    "Xtrain, Xtemp, ytrain, ytemp = train_test_split(X, y,\n",
    "                                                train_size = 0.7,\n",
    "                                                random_state = 1,\n",
    "                                                stratify = y)\n",
    "\n",
    "#Particionamos el 30% en 50% validación y 50% en test.\n",
    "Xval, Xtest, yval, ytest = train_test_split(Xtemp, ytemp,\n",
    "                                            train_size = 0.5,\n",
    "                                            random_state = 1,\n",
    "                                            stratify = ytemp)"
   ]
  },
  {
   "cell_type": "code",
   "execution_count": 34,
   "metadata": {
    "id": "NvNYiIp9weCm"
   },
   "outputs": [
    {
     "data": {
      "text/html": [
       "<style>#sk-container-id-1 {color: black;background-color: white;}#sk-container-id-1 pre{padding: 0;}#sk-container-id-1 div.sk-toggleable {background-color: white;}#sk-container-id-1 label.sk-toggleable__label {cursor: pointer;display: block;width: 100%;margin-bottom: 0;padding: 0.3em;box-sizing: border-box;text-align: center;}#sk-container-id-1 label.sk-toggleable__label-arrow:before {content: \"▸\";float: left;margin-right: 0.25em;color: #696969;}#sk-container-id-1 label.sk-toggleable__label-arrow:hover:before {color: black;}#sk-container-id-1 div.sk-estimator:hover label.sk-toggleable__label-arrow:before {color: black;}#sk-container-id-1 div.sk-toggleable__content {max-height: 0;max-width: 0;overflow: hidden;text-align: left;background-color: #f0f8ff;}#sk-container-id-1 div.sk-toggleable__content pre {margin: 0.2em;color: black;border-radius: 0.25em;background-color: #f0f8ff;}#sk-container-id-1 input.sk-toggleable__control:checked~div.sk-toggleable__content {max-height: 200px;max-width: 100%;overflow: auto;}#sk-container-id-1 input.sk-toggleable__control:checked~label.sk-toggleable__label-arrow:before {content: \"▾\";}#sk-container-id-1 div.sk-estimator input.sk-toggleable__control:checked~label.sk-toggleable__label {background-color: #d4ebff;}#sk-container-id-1 div.sk-label input.sk-toggleable__control:checked~label.sk-toggleable__label {background-color: #d4ebff;}#sk-container-id-1 input.sk-hidden--visually {border: 0;clip: rect(1px 1px 1px 1px);clip: rect(1px, 1px, 1px, 1px);height: 1px;margin: -1px;overflow: hidden;padding: 0;position: absolute;width: 1px;}#sk-container-id-1 div.sk-estimator {font-family: monospace;background-color: #f0f8ff;border: 1px dotted black;border-radius: 0.25em;box-sizing: border-box;margin-bottom: 0.5em;}#sk-container-id-1 div.sk-estimator:hover {background-color: #d4ebff;}#sk-container-id-1 div.sk-parallel-item::after {content: \"\";width: 100%;border-bottom: 1px solid gray;flex-grow: 1;}#sk-container-id-1 div.sk-label:hover label.sk-toggleable__label {background-color: #d4ebff;}#sk-container-id-1 div.sk-serial::before {content: \"\";position: absolute;border-left: 1px solid gray;box-sizing: border-box;top: 0;bottom: 0;left: 50%;z-index: 0;}#sk-container-id-1 div.sk-serial {display: flex;flex-direction: column;align-items: center;background-color: white;padding-right: 0.2em;padding-left: 0.2em;position: relative;}#sk-container-id-1 div.sk-item {position: relative;z-index: 1;}#sk-container-id-1 div.sk-parallel {display: flex;align-items: stretch;justify-content: center;background-color: white;position: relative;}#sk-container-id-1 div.sk-item::before, #sk-container-id-1 div.sk-parallel-item::before {content: \"\";position: absolute;border-left: 1px solid gray;box-sizing: border-box;top: 0;bottom: 0;left: 50%;z-index: -1;}#sk-container-id-1 div.sk-parallel-item {display: flex;flex-direction: column;z-index: 1;position: relative;background-color: white;}#sk-container-id-1 div.sk-parallel-item:first-child::after {align-self: flex-end;width: 50%;}#sk-container-id-1 div.sk-parallel-item:last-child::after {align-self: flex-start;width: 50%;}#sk-container-id-1 div.sk-parallel-item:only-child::after {width: 0;}#sk-container-id-1 div.sk-dashed-wrapped {border: 1px dashed gray;margin: 0 0.4em 0.5em 0.4em;box-sizing: border-box;padding-bottom: 0.4em;background-color: white;}#sk-container-id-1 div.sk-label label {font-family: monospace;font-weight: bold;display: inline-block;line-height: 1.2em;}#sk-container-id-1 div.sk-label-container {text-align: center;}#sk-container-id-1 div.sk-container {/* jupyter's `normalize.less` sets `[hidden] { display: none; }` but bootstrap.min.css set `[hidden] { display: none !important; }` so we also need the `!important` here to be able to override the default hidden behavior on the sphinx rendered scikit-learn.org. See: https://github.com/scikit-learn/scikit-learn/issues/21755 */display: inline-block !important;position: relative;}#sk-container-id-1 div.sk-text-repr-fallback {display: none;}</style><div id=\"sk-container-id-1\" class=\"sk-top-container\"><div class=\"sk-text-repr-fallback\"><pre>ColumnTransformer(remainder=&#x27;passthrough&#x27;,\n",
       "                  transformers=[(&#x27;numer&#x27;,\n",
       "                                 FunctionTransformer(func=&lt;ufunc &#x27;log&#x27;&gt;),\n",
       "                                 [&#x27;duration&#x27;, &#x27;amount&#x27;, &#x27;age&#x27;]),\n",
       "                                (&#x27;nomin&#x27;,\n",
       "                                 Pipeline(steps=[(&#x27;encoderOHE&#x27;,\n",
       "                                                  OneHotEncoder(drop=&#x27;first&#x27;,\n",
       "                                                                handle_unknown=&#x27;ignore&#x27;,\n",
       "                                                                sparse=False))]),\n",
       "                                 [&#x27;people_liable&#x27;, &#x27;telephone&#x27;,\n",
       "                                  &#x27;foreign_worker&#x27;, &#x27;credit_history&#x27;, &#x27;purpose&#x27;,\n",
       "                                  &#x27;personal_status_sex&#x27;, &#x27;other_debtors&#x27;,\n",
       "                                  &#x27;other_installment_plans&#x27;, &#x27;housing&#x27;])])</pre><b>In a Jupyter environment, please rerun this cell to show the HTML representation or trust the notebook. <br />On GitHub, the HTML representation is unable to render, please try loading this page with nbviewer.org.</b></div><div class=\"sk-container\" hidden><div class=\"sk-item sk-dashed-wrapped\"><div class=\"sk-label-container\"><div class=\"sk-label sk-toggleable\"><input class=\"sk-toggleable__control sk-hidden--visually\" id=\"sk-estimator-id-1\" type=\"checkbox\" ><label for=\"sk-estimator-id-1\" class=\"sk-toggleable__label sk-toggleable__label-arrow\">ColumnTransformer</label><div class=\"sk-toggleable__content\"><pre>ColumnTransformer(remainder=&#x27;passthrough&#x27;,\n",
       "                  transformers=[(&#x27;numer&#x27;,\n",
       "                                 FunctionTransformer(func=&lt;ufunc &#x27;log&#x27;&gt;),\n",
       "                                 [&#x27;duration&#x27;, &#x27;amount&#x27;, &#x27;age&#x27;]),\n",
       "                                (&#x27;nomin&#x27;,\n",
       "                                 Pipeline(steps=[(&#x27;encoderOHE&#x27;,\n",
       "                                                  OneHotEncoder(drop=&#x27;first&#x27;,\n",
       "                                                                handle_unknown=&#x27;ignore&#x27;,\n",
       "                                                                sparse=False))]),\n",
       "                                 [&#x27;people_liable&#x27;, &#x27;telephone&#x27;,\n",
       "                                  &#x27;foreign_worker&#x27;, &#x27;credit_history&#x27;, &#x27;purpose&#x27;,\n",
       "                                  &#x27;personal_status_sex&#x27;, &#x27;other_debtors&#x27;,\n",
       "                                  &#x27;other_installment_plans&#x27;, &#x27;housing&#x27;])])</pre></div></div></div><div class=\"sk-parallel\"><div class=\"sk-parallel-item\"><div class=\"sk-item\"><div class=\"sk-label-container\"><div class=\"sk-label sk-toggleable\"><input class=\"sk-toggleable__control sk-hidden--visually\" id=\"sk-estimator-id-2\" type=\"checkbox\" ><label for=\"sk-estimator-id-2\" class=\"sk-toggleable__label sk-toggleable__label-arrow\">numer</label><div class=\"sk-toggleable__content\"><pre>[&#x27;duration&#x27;, &#x27;amount&#x27;, &#x27;age&#x27;]</pre></div></div></div><div class=\"sk-serial\"><div class=\"sk-item\"><div class=\"sk-estimator sk-toggleable\"><input class=\"sk-toggleable__control sk-hidden--visually\" id=\"sk-estimator-id-3\" type=\"checkbox\" ><label for=\"sk-estimator-id-3\" class=\"sk-toggleable__label sk-toggleable__label-arrow\">FunctionTransformer</label><div class=\"sk-toggleable__content\"><pre>FunctionTransformer(func=&lt;ufunc &#x27;log&#x27;&gt;)</pre></div></div></div></div></div></div><div class=\"sk-parallel-item\"><div class=\"sk-item\"><div class=\"sk-label-container\"><div class=\"sk-label sk-toggleable\"><input class=\"sk-toggleable__control sk-hidden--visually\" id=\"sk-estimator-id-4\" type=\"checkbox\" ><label for=\"sk-estimator-id-4\" class=\"sk-toggleable__label sk-toggleable__label-arrow\">nomin</label><div class=\"sk-toggleable__content\"><pre>[&#x27;people_liable&#x27;, &#x27;telephone&#x27;, &#x27;foreign_worker&#x27;, &#x27;credit_history&#x27;, &#x27;purpose&#x27;, &#x27;personal_status_sex&#x27;, &#x27;other_debtors&#x27;, &#x27;other_installment_plans&#x27;, &#x27;housing&#x27;]</pre></div></div></div><div class=\"sk-serial\"><div class=\"sk-item\"><div class=\"sk-serial\"><div class=\"sk-item\"><div class=\"sk-estimator sk-toggleable\"><input class=\"sk-toggleable__control sk-hidden--visually\" id=\"sk-estimator-id-5\" type=\"checkbox\" ><label for=\"sk-estimator-id-5\" class=\"sk-toggleable__label sk-toggleable__label-arrow\">OneHotEncoder</label><div class=\"sk-toggleable__content\"><pre>OneHotEncoder(drop=&#x27;first&#x27;, handle_unknown=&#x27;ignore&#x27;, sparse=False)</pre></div></div></div></div></div></div></div></div><div class=\"sk-parallel-item\"><div class=\"sk-item\"><div class=\"sk-label-container\"><div class=\"sk-label sk-toggleable\"><input class=\"sk-toggleable__control sk-hidden--visually\" id=\"sk-estimator-id-6\" type=\"checkbox\" ><label for=\"sk-estimator-id-6\" class=\"sk-toggleable__label sk-toggleable__label-arrow\">remainder</label><div class=\"sk-toggleable__content\"><pre></pre></div></div></div><div class=\"sk-serial\"><div class=\"sk-item\"><div class=\"sk-estimator sk-toggleable\"><input class=\"sk-toggleable__control sk-hidden--visually\" id=\"sk-estimator-id-7\" type=\"checkbox\" ><label for=\"sk-estimator-id-7\" class=\"sk-toggleable__label sk-toggleable__label-arrow\">passthrough</label><div class=\"sk-toggleable__content\"><pre>passthrough</pre></div></div></div></div></div></div></div></div></div></div>"
      ],
      "text/plain": [
       "ColumnTransformer(remainder='passthrough',\n",
       "                  transformers=[('numer',\n",
       "                                 FunctionTransformer(func=<ufunc 'log'>),\n",
       "                                 ['duration', 'amount', 'age']),\n",
       "                                ('nomin',\n",
       "                                 Pipeline(steps=[('encoderOHE',\n",
       "                                                  OneHotEncoder(drop='first',\n",
       "                                                                handle_unknown='ignore',\n",
       "                                                                sparse=False))]),\n",
       "                                 ['people_liable', 'telephone',\n",
       "                                  'foreign_worker', 'credit_history', 'purpose',\n",
       "                                  'personal_status_sex', 'other_debtors',\n",
       "                                  'other_installment_plans', 'housing'])])"
      ]
     },
     "execution_count": 34,
     "metadata": {},
     "output_type": "execute_result"
    }
   ],
   "source": [
    "# Transformaciones que se aplicarán a las variables numéricas usando la clase Pipeline de sklearn:\n",
    "\n",
    "# ************* Inlcuye aquí tu código:*****************************\n",
    "\n",
    "# Variables numéricas:\n",
    "num_pipe = FunctionTransformer(np.log)\n",
    "num_pipe_nombres = variables_numericas\n",
    "\n",
    "\n",
    "# Variables categóricas-Nominales:\n",
    "\n",
    "cat_pipe = catOHE_pipeline = Pipeline(\n",
    "    steps=[\n",
    "        (\"encoderOHE\", OneHotEncoder(drop='first', sparse=False,\n",
    "                                     handle_unknown=\"ignore\"))\n",
    "    ]\n",
    ")\n",
    "\n",
    "# Todas las variables nominales y binarias excepto 'credit_risk'\n",
    "cols_nomins = variables_binarias + variables_nominales\n",
    "cols_expl_nomins = [x for x in cols_nomins if x not in set(['credit_risk'])]\n",
    "\n",
    "cat_pipe_nombres = cols_expl_nomins\n",
    "\n",
    "\n",
    "# Conjuntemos las transformaciones de todo tipo de variable y\n",
    "# dejamos sin procesar aquellas que hayas decidido no transformar:\n",
    "\n",
    "columnasTransformer = ColumnTransformer(\n",
    "    transformers=[\n",
    "        (\"numer\", num_pipe, num_pipe_nombres),\n",
    "        (\"nomin\", cat_pipe, cat_pipe_nombres)     \n",
    "    ], remainder = 'passthrough'\n",
    ")\n",
    "\n",
    "# *********** Aquí termina la sección de agregar código *************\n",
    "\n",
    "columnasTransformer"
   ]
  },
  {
   "cell_type": "markdown",
   "metadata": {
    "id": "hZxyRbHL0gNF"
   },
   "source": [
    "## **Ejercicio 7**"
   ]
  },
  {
   "cell_type": "markdown",
   "metadata": {},
   "source": [
    "Como vamos a utilizar validación cruzada, concatena los conjuntos de entrenamiento y validación en un nuevo conjunto llamado trainval, que tendrá el mismo número de columnas, pero con el total de renglones la suma de ambos."
   ]
  },
  {
   "cell_type": "code",
   "execution_count": 35,
   "metadata": {
    "id": "d3lqBiH5wd1e"
   },
   "outputs": [
    {
     "data": {
      "text/plain": [
       "(850, 20)"
      ]
     },
     "execution_count": 35,
     "metadata": {},
     "output_type": "execute_result"
    }
   ],
   "source": [
    "# Como se va a utilizar Validación-Cruzada, concatena los conjuntos de entrenamiento y validación\n",
    "# en uno nuevo conjunto aumentado que llamaremos trainval para utilizar como entrenamiento:\n",
    "\n",
    "# ************* Inlcuye aquí tu código:**************************\n",
    "\n",
    "Xtrainval = pd.concat([Xtrain,Xval], axis = 0, ignore_index = True)\n",
    "ytrainval = pd.concat([ytrain,yval], axis = 0, ignore_index = True)\n",
    "\n",
    "Xtrainval.shape\n",
    "\n",
    "# *********** Aquí termina la sección de agregar código *************"
   ]
  },
  {
   "cell_type": "code",
   "execution_count": 36,
   "metadata": {},
   "outputs": [
    {
     "name": "stdout",
     "output_type": "stream",
     "text": [
      "Dimensión de las variables de entrada ANTES de las transformaciones: (850, 20)\n",
      "Dimensión de las variables de entrada DESPUÉS de las transformaciones: (850, 36)\n"
     ]
    }
   ],
   "source": [
    "# Veamos cuántas varaibles nuevas se introducen con las transformaciones One-Hot-Encoding:\n",
    "Xtmp = Xtrainval.copy()\n",
    "tmp = columnasTransformer.fit_transform(Xtmp)\n",
    "print(\"Dimensión de las variables de entrada ANTES de las transformaciones:\", Xtmp.shape)\n",
    "print(\"Dimensión de las variables de entrada DESPUÉS de las transformaciones:\", tmp.shape)"
   ]
  },
  {
   "cell_type": "markdown",
   "metadata": {
    "id": "DyzIjcVAF6Y7"
   },
   "source": [
    "## **Ejercicio 8**"
   ]
  },
  {
   "cell_type": "markdown",
   "metadata": {},
   "source": [
    "En este ejercicio deberás encontrar los mejores hiperparámetros de cada modelo. Recuerda que debes buscar que no esté sobreentrenado (overfitting) o subentrenado (undefitting) cada uno de los modelos. En este ejercicio diremos que un modelo está sobreentrenado, si con respecto a la métrica de la exactitud (accuracy), la diferencia entre el conjunto de entrenamiento y el de validación es mayor al 3%."
   ]
  },
  {
   "cell_type": "code",
   "execution_count": 37,
   "metadata": {},
   "outputs": [],
   "source": [
    "# Definimos a continuación la función que llamamos \"mis_modelos\" que incluye\n",
    "# todos los modelos que deseamos comparar en el ejercicio.\n",
    "\n",
    "#Para saber si está sobre entrenado, el acuracy del train tiene que ser mayor que el de test.\n",
    "\n",
    "\n",
    "def mis_modelos():\n",
    "  modelos, nombres = list(), list()\n",
    "\n",
    "\n",
    "  # ************* Inlcuye aquí tu código:**************************\n",
    "  #\n",
    "  # Deberás incluir en cada modelo los argumentos que consideres\n",
    "  # adecuados para que cada uno converja y no esté sobreentrenado\n",
    "  # con respecto a la métrica de la exatitud (accuracy).\n",
    "\n",
    "\n",
    "  # Regresión Logística - Logistic Regression-LR:\n",
    "  # https://scikit-learn.org/stable/modules/generated/sklearn.linear_model.LogisticRegression.html\n",
    "\n",
    "  modelos.append(LogisticRegression(max_iter=100,    # 10, 100, 1000\n",
    "                                    C = 1.0,     # 0.000001, 0.005, 0.01,  1000\n",
    "                                    #random_state=1\n",
    "                                    ))\n",
    "\n",
    "  nombres.append('LR')\n",
    "\n",
    "\n",
    "\n",
    "\n",
    "  # k-Vecinos más Cercanos : k-Nearest-Neighbors-kNN:\n",
    "  # https://scikit-learn.org/stable/modules/generated/sklearn.neighbors.KNeighborsClassifier.html\n",
    "\n",
    "  modelos.append(KNeighborsClassifier(n_neighbors = 5 ))\n",
    "  nombres.append('kNN')\n",
    "\n",
    "\n",
    "\n",
    "\n",
    "  # Árbol de decisiones-DecisionTree-DT:\n",
    "  # https://scikit-learn.org/stable/modules/generated/sklearn.tree.DecisionTreeClassifier.html\n",
    "\n",
    "  modelos.append(DecisionTreeClassifier(max_depth = 2 , criterion ='gini', min_samples_split = 3))\n",
    "  nombres.append('DTree')\n",
    "\n",
    "\n",
    "\n",
    "\n",
    "  # Bosque Aleatorio-RandomForest-RF:\n",
    "  # https://scikit-learn.org/stable/modules/generated/sklearn.ensemble.RandomForestClassifier.html\n",
    "\n",
    "  #modelos.append(RandomForestClassifier(n_estimators = 10, criterion = 'gini', max_depth = 2, min_samples_split = 6, min_samples_leaf = 4, max_features = 'auto', max_leaf_nodes = 16, bootstrap =True, oob_score = True, verbose = 0, n_jobs = 1,\n",
    "  #                                      max_samples = None, random_state = 19))\n",
    "  #nombres.append('RF')\n",
    "\n",
    "\n",
    "  modelos.append(RandomForestClassifier(max_depth = 2, criterion = 'gini', min_samples_split = 3))\n",
    "\n",
    "  nombres.append('RF')\n",
    "\n",
    "\n",
    "  #mimodelo2 = RandomForestClassifier(n_estimators=10,  # número de árboles en el Forest y después promedia por votación.\n",
    "  #                                 criterion='gini',   # métrica para determinar las ramas. También puede ser: 'entropy', para la GananciaDeInformación (IG).\n",
    "  #                                 max_depth=2, # Depth=k : máximo 2^k líneas/ramas.\n",
    "  #                                 min_samples_split = 6,  # mínimo de puntos muestrales requeridos en un nodo para hacer la ramificación. Puede ser fracción de 0 a 1.\n",
    "  #                                 min_samples_leaf = 4,  # mínimo de puntos muestrales que deben quedar en cada nueva ramificación (hojas). Puede ser fracción de 0 a 1.\n",
    "  #                                 max_features= 'auto',   # número de características (features) que se consideran en cada ramificación: auto=sqrt(n_features).\n",
    "  #                                 max_leaf_nodes=16,  # solo nos quedamos con las mejores k hojas.\n",
    "  #                                 bootstrap=True,  # Cada Árbol se muestrea seleccionando la cantidad de datos del conjunto de entrenamiento, pero con reemplazo. False:los datos usados en cada árbol simpre es el mismo, el Train-set.\n",
    "  #                                 oob_score=True,  # en caso de utilizar Out-of-bag samples.\n",
    "  #                                 verbose=0,     # tipo de despliega de información durante el entrenamiento.\n",
    "  #                                 n_jobs=-1,    # total de hilos a usar en las rutinas paralelizables: \"-1\" :usar todos los posibles.\n",
    "  #                                 max_samples=None,   # Cuando se usa Boostrap, es el total de datos de Xtrain a usar en cada árbol. \"None\" usará Xtrain[0].\n",
    "  #                                 random_state=19)\n",
    "\n",
    "\n",
    "\n",
    "\n",
    "\n",
    "  # XGBoosting:\n",
    "  # https://xgboost.readthedocs.io/en/latest/python/python_api.html#xgboost.XGBClassifier\n",
    "  # https://xgboost.readthedocs.io/en/stable/parameter.html\n",
    "\n",
    "  modelos.append(XGBClassifier(booster = 'gbtree', n_estimators = 100, max_depth = 6, learning_rate = 0.3, objetive = 'binary:logistic', subsample = 1.0, n_jobs = -1))\n",
    "  nombres.append('XGBoost')\n",
    "\n",
    "\n",
    "\n",
    "\n",
    "  # Red neuronal de Perceptrón Multicapa-MLP:\n",
    "  # https://scikit-learn.org/stable/modules/generated/sklearn.neural_network.MLPClassifier.html\n",
    "\n",
    "  modelos.append(MLPClassifier(hidden_layer_sizes=(30,),     # 100,  6, 24, 30, (15,15), (50,50)\n",
    "                               activation='logistic',\n",
    "                               max_iter=1000,                  # 200,\n",
    "                               alpha=0.0001,               # término de regularización L2.\n",
    "                               #learning_rate='constant',       # tasa de aprendizaje o tamaño de paso del método Gradiente Descendente.\n",
    "                               #learning_rate_init=0.001,\n",
    "                               #random_state=1\n",
    "                               ))\n",
    "  nombres.append('MLP')\n",
    "\n",
    "\n",
    "\n",
    "\n",
    "  # Máquina de Vectores de Soporte-SVM:\n",
    "  # https://scikit-learn.org/stable/modules/generated/sklearn.svm.SVC.html\n",
    "\n",
    "  modelos.append(SVC(kernel = 'rbf', C = 10, gamma = 'scale' ))\n",
    "  nombres.append('SVM')\n",
    "\n",
    "\n",
    "  # *********** Aquí termina la sección de agregar código *******************\n",
    "\n",
    "\n",
    "\n",
    "  return modelos, nombres"
   ]
  },
  {
   "cell_type": "markdown",
   "metadata": {},
   "source": [
    "Entrenamos cada uno de los modelos y desplegamos la métricas de Train y Val.\n",
    "\n",
    "NOTA: Observa que el método de Validación-Cruzada llama  a los resultados de \"validation\" como \"test\":"
   ]
  },
  {
   "cell_type": "code",
   "execution_count": 38,
   "metadata": {},
   "outputs": [],
   "source": [
    "modelos, nombres = mis_modelos()"
   ]
  },
  {
   "cell_type": "markdown",
   "metadata": {},
   "source": [
    "Veamos cuáles son los modelos que se considerarán:"
   ]
  },
  {
   "cell_type": "code",
   "execution_count": 39,
   "metadata": {},
   "outputs": [
    {
     "data": {
      "text/plain": [
       "[LogisticRegression(),\n",
       " KNeighborsClassifier(),\n",
       " DecisionTreeClassifier(max_depth=2, min_samples_split=3),\n",
       " RandomForestClassifier(max_depth=2, min_samples_split=3),\n",
       " XGBClassifier(base_score=None, booster='gbtree', callbacks=None,\n",
       "               colsample_bylevel=None, colsample_bynode=None,\n",
       "               colsample_bytree=None, early_stopping_rounds=None,\n",
       "               enable_categorical=False, eval_metric=None, gamma=None,\n",
       "               gpu_id=None, grow_policy=None, importance_type=None,\n",
       "               interaction_constraints=None, learning_rate=0.3, max_bin=None,\n",
       "               max_cat_to_onehot=None, max_delta_step=None, max_depth=6,\n",
       "               max_leaves=None, min_child_weight=None, missing=nan,\n",
       "               monotone_constraints=None, n_estimators=100, n_jobs=-1,\n",
       "               num_parallel_tree=None, objetive='binary:logistic',\n",
       "               predictor=None, random_state=None, reg_alpha=None, ...),\n",
       " MLPClassifier(activation='logistic', hidden_layer_sizes=(30,), max_iter=1000),\n",
       " SVC(C=10)]"
      ]
     },
     "execution_count": 39,
     "metadata": {},
     "output_type": "execute_result"
    }
   ],
   "source": [
    "modelos"
   ]
  },
  {
   "cell_type": "markdown",
   "metadata": {},
   "source": [
    "Dichos modelos tienen los siguientes nombres/IDs"
   ]
  },
  {
   "cell_type": "code",
   "execution_count": 40,
   "metadata": {},
   "outputs": [
    {
     "data": {
      "text/plain": [
       "['LR', 'kNN', 'DTree', 'RF', 'XGBoost', 'MLP', 'SVM']"
      ]
     },
     "execution_count": 40,
     "metadata": {},
     "output_type": "execute_result"
    }
   ],
   "source": [
    "nombres"
   ]
  },
  {
   "cell_type": "markdown",
   "metadata": {},
   "source": [
    "Ahora se ajustarán dichos modelos con los datos de entrenamientos y se evaluarán a partir de sus predicciones tanto en los datos de entrenamiento como en los de prueba"
   ]
  },
  {
   "cell_type": "code",
   "execution_count": 41,
   "metadata": {},
   "outputs": [
    {
     "name": "stdout",
     "output_type": "stream",
     "text": [
      ">> LR\n",
      "\t score_time 0.017 (0.003)\n",
      "\t test_accuracy 0.752 (0.021)\n",
      "\t train_accuracy 0.777 (0.010)\n",
      "\t test_recall 0.469 (0.056)\n",
      "\t train_recall 0.501 (0.025)\n",
      "\t test_f1 0.531 (0.042)\n",
      "\t train_f1 0.574 (0.022)\n",
      "\t test_precision 0.617 (0.052)\n",
      "\t train_precision 0.673 (0.020)\n",
      ">> kNN\n",
      "\t score_time 0.037 (0.007)\n",
      "\t test_accuracy 0.720 (0.028)\n",
      "\t train_accuracy 0.814 (0.008)\n",
      "\t test_recall 0.424 (0.068)\n",
      "\t train_recall 0.578 (0.018)\n",
      "\t test_f1 0.474 (0.054)\n",
      "\t train_f1 0.651 (0.016)\n",
      "\t test_precision 0.546 (0.065)\n",
      "\t train_precision 0.745 (0.021)\n",
      ">> DTree\n",
      "\t score_time 0.016 (0.003)\n",
      "\t test_accuracy 0.689 (0.015)\n",
      "\t train_accuracy 0.712 (0.014)\n",
      "\t test_recall 0.124 (0.187)\n",
      "\t train_recall 0.160 (0.215)\n",
      "\t test_f1 0.136 (0.182)\n",
      "\t train_f1 0.184 (0.219)\n",
      "\t test_precision 0.184 (0.206)\n",
      "\t train_precision 0.295 (0.324)\n",
      ">> RF\n",
      "\t score_time 0.031 (0.005)\n",
      "\t test_accuracy 0.701 (0.002)\n",
      "\t train_accuracy 0.701 (0.001)\n",
      "\t test_recall 0.004 (0.008)\n",
      "\t train_recall 0.002 (0.002)\n",
      "\t test_f1 0.008 (0.015)\n",
      "\t train_f1 0.005 (0.005)\n",
      "\t test_precision 0.167 (0.350)\n",
      "\t train_precision 0.467 (0.499)\n",
      "[16:59:55] WARNING: /Users/runner/work/xgboost/xgboost/python-package/build/temp.macosx-10.9-x86_64-cpython-37/xgboost/src/learner.cc:627: \n",
      "Parameters: { \"objetive\" } might not be used.\n",
      "\n",
      "  This could be a false alarm, with some parameters getting used by language bindings but\n",
      "  then being mistakenly passed down to XGBoost core, or some parameter actually being used\n",
      "  but getting flagged wrongly here. Please open an issue if you find any such cases.\n",
      "\n",
      "\n",
      "[16:59:55] WARNING: /Users/runner/work/xgboost/xgboost/python-package/build/temp.macosx-10.9-x86_64-cpython-37/xgboost/src/learner.cc:627: \n",
      "Parameters: { \"objetive\" } might not be used.\n",
      "\n",
      "  This could be a false alarm, with some parameters getting used by language bindings but\n",
      "  then being mistakenly passed down to XGBoost core, or some parameter actually being used\n",
      "  but getting flagged wrongly here. Please open an issue if you find any such cases.\n",
      "\n",
      "\n",
      "[16:59:56] WARNING: /Users/runner/work/xgboost/xgboost/python-package/build/temp.macosx-10.9-x86_64-cpython-37/xgboost/src/learner.cc:627: \n",
      "Parameters: { \"objetive\" } might not be used.\n",
      "\n",
      "  This could be a false alarm, with some parameters getting used by language bindings but\n",
      "  then being mistakenly passed down to XGBoost core, or some parameter actually being used\n",
      "  but getting flagged wrongly here. Please open an issue if you find any such cases.\n",
      "\n",
      "\n",
      "[16:59:56] WARNING: /Users/runner/work/xgboost/xgboost/python-package/build/temp.macosx-10.9-x86_64-cpython-37/xgboost/src/learner.cc:627: \n",
      "Parameters: { \"objetive\" } might not be used.\n",
      "\n",
      "  This could be a false alarm, with some parameters getting used by language bindings but\n",
      "  then being mistakenly passed down to XGBoost core, or some parameter actually being used\n",
      "  but getting flagged wrongly here. Please open an issue if you find any such cases.\n",
      "\n",
      "\n",
      "[16:59:56] WARNING: /Users/runner/work/xgboost/xgboost/python-package/build/temp.macosx-10.9-x86_64-cpython-37/xgboost/src/learner.cc:627: \n",
      "Parameters: { \"objetive\" } might not be used.\n",
      "\n",
      "  This could be a false alarm, with some parameters getting used by language bindings but\n",
      "  then being mistakenly passed down to XGBoost core, or some parameter actually being used\n",
      "  but getting flagged wrongly here. Please open an issue if you find any such cases.\n",
      "\n",
      "\n",
      "[16:59:57] WARNING: /Users/runner/work/xgboost/xgboost/python-package/build/temp.macosx-10.9-x86_64-cpython-37/xgboost/src/learner.cc:627: \n",
      "Parameters: { \"objetive\" } might not be used.\n",
      "\n",
      "  This could be a false alarm, with some parameters getting used by language bindings but\n",
      "  then being mistakenly passed down to XGBoost core, or some parameter actually being used\n",
      "  but getting flagged wrongly here. Please open an issue if you find any such cases.\n",
      "\n",
      "\n",
      "[16:59:57] WARNING: /Users/runner/work/xgboost/xgboost/python-package/build/temp.macosx-10.9-x86_64-cpython-37/xgboost/src/learner.cc:627: \n",
      "Parameters: { \"objetive\" } might not be used.\n",
      "\n",
      "  This could be a false alarm, with some parameters getting used by language bindings but\n",
      "  then being mistakenly passed down to XGBoost core, or some parameter actually being used\n",
      "  but getting flagged wrongly here. Please open an issue if you find any such cases.\n",
      "\n",
      "\n",
      "[16:59:57] WARNING: /Users/runner/work/xgboost/xgboost/python-package/build/temp.macosx-10.9-x86_64-cpython-37/xgboost/src/learner.cc:627: \n",
      "Parameters: { \"objetive\" } might not be used.\n",
      "\n",
      "  This could be a false alarm, with some parameters getting used by language bindings but\n",
      "  then being mistakenly passed down to XGBoost core, or some parameter actually being used\n",
      "  but getting flagged wrongly here. Please open an issue if you find any such cases.\n",
      "\n",
      "\n",
      "[16:59:57] WARNING: /Users/runner/work/xgboost/xgboost/python-package/build/temp.macosx-10.9-x86_64-cpython-37/xgboost/src/learner.cc:627: \n",
      "Parameters: { \"objetive\" } might not be used.\n",
      "\n",
      "  This could be a false alarm, with some parameters getting used by language bindings but\n",
      "  then being mistakenly passed down to XGBoost core, or some parameter actually being used\n",
      "  but getting flagged wrongly here. Please open an issue if you find any such cases.\n",
      "\n",
      "\n",
      "[16:59:58] WARNING: /Users/runner/work/xgboost/xgboost/python-package/build/temp.macosx-10.9-x86_64-cpython-37/xgboost/src/learner.cc:627: \n",
      "Parameters: { \"objetive\" } might not be used.\n",
      "\n",
      "  This could be a false alarm, with some parameters getting used by language bindings but\n",
      "  then being mistakenly passed down to XGBoost core, or some parameter actually being used\n",
      "  but getting flagged wrongly here. Please open an issue if you find any such cases.\n",
      "\n",
      "\n",
      "[16:59:58] WARNING: /Users/runner/work/xgboost/xgboost/python-package/build/temp.macosx-10.9-x86_64-cpython-37/xgboost/src/learner.cc:627: \n",
      "Parameters: { \"objetive\" } might not be used.\n",
      "\n",
      "  This could be a false alarm, with some parameters getting used by language bindings but\n",
      "  then being mistakenly passed down to XGBoost core, or some parameter actually being used\n",
      "  but getting flagged wrongly here. Please open an issue if you find any such cases.\n",
      "\n",
      "\n",
      "[16:59:58] WARNING: /Users/runner/work/xgboost/xgboost/python-package/build/temp.macosx-10.9-x86_64-cpython-37/xgboost/src/learner.cc:627: \n",
      "Parameters: { \"objetive\" } might not be used.\n",
      "\n",
      "  This could be a false alarm, with some parameters getting used by language bindings but\n",
      "  then being mistakenly passed down to XGBoost core, or some parameter actually being used\n",
      "  but getting flagged wrongly here. Please open an issue if you find any such cases.\n",
      "\n",
      "\n",
      "[16:59:59] WARNING: /Users/runner/work/xgboost/xgboost/python-package/build/temp.macosx-10.9-x86_64-cpython-37/xgboost/src/learner.cc:627: \n",
      "Parameters: { \"objetive\" } might not be used.\n",
      "\n",
      "  This could be a false alarm, with some parameters getting used by language bindings but\n",
      "  then being mistakenly passed down to XGBoost core, or some parameter actually being used\n",
      "  but getting flagged wrongly here. Please open an issue if you find any such cases.\n",
      "\n",
      "\n",
      "[16:59:59] WARNING: /Users/runner/work/xgboost/xgboost/python-package/build/temp.macosx-10.9-x86_64-cpython-37/xgboost/src/learner.cc:627: \n",
      "Parameters: { \"objetive\" } might not be used.\n",
      "\n",
      "  This could be a false alarm, with some parameters getting used by language bindings but\n",
      "  then being mistakenly passed down to XGBoost core, or some parameter actually being used\n",
      "  but getting flagged wrongly here. Please open an issue if you find any such cases.\n",
      "\n",
      "\n",
      "[16:59:59] WARNING: /Users/runner/work/xgboost/xgboost/python-package/build/temp.macosx-10.9-x86_64-cpython-37/xgboost/src/learner.cc:627: \n",
      "Parameters: { \"objetive\" } might not be used.\n",
      "\n",
      "  This could be a false alarm, with some parameters getting used by language bindings but\n",
      "  then being mistakenly passed down to XGBoost core, or some parameter actually being used\n",
      "  but getting flagged wrongly here. Please open an issue if you find any such cases.\n",
      "\n",
      "\n",
      ">> XGBoost\n",
      "\t score_time 0.028 (0.006)\n",
      "\t test_accuracy 0.728 (0.037)\n",
      "\t train_accuracy 1.000 (0.000)\n",
      "\t test_recall 0.455 (0.056)\n",
      "\t train_recall 1.000 (0.000)\n",
      "\t test_f1 0.501 (0.048)\n",
      "\t train_f1 1.000 (0.000)\n",
      "\t test_precision 0.568 (0.078)\n",
      "\t train_precision 1.000 (0.000)\n",
      ">> MLP\n",
      "\t score_time 0.015 (0.002)\n",
      "\t test_accuracy 0.738 (0.024)\n",
      "\t train_accuracy 0.800 (0.022)\n",
      "\t test_recall 0.467 (0.060)\n",
      "\t train_recall 0.555 (0.047)\n",
      "\t test_f1 0.516 (0.049)\n",
      "\t train_f1 0.625 (0.044)\n",
      "\t test_precision 0.580 (0.050)\n",
      "\t train_precision 0.716 (0.046)\n",
      ">> SVM\n",
      "\t score_time 0.032 (0.005)\n",
      "\t test_accuracy 0.744 (0.020)\n",
      "\t train_accuracy 0.802 (0.006)\n",
      "\t test_recall 0.425 (0.068)\n",
      "\t train_recall 0.516 (0.041)\n",
      "\t test_f1 0.497 (0.051)\n",
      "\t train_f1 0.609 (0.025)\n",
      "\t test_precision 0.608 (0.047)\n",
      "\t train_precision 0.748 (0.019)\n"
     ]
    }
   ],
   "source": [
    "# Se crea una lista para guardar los resultados\n",
    "resultados = list()\n",
    "\n",
    "for i in range(len(modelos)):\n",
    "\n",
    "  # Definimos nuestro pipeline con las transformaciones y los modelos:\n",
    "  pipeline = Pipeline(steps=[('ct',columnasTransformer),('m',modelos[i])])\n",
    "\n",
    "  # Aplicaremos validación-cruzada:\n",
    "  micv = RepeatedStratifiedKFold(n_splits=5,\n",
    "                                 n_repeats=3,\n",
    "                                 random_state=5     # agreguemos una semilla para estabilizar resultados.\n",
    "                                 )\n",
    "  dict_nombre = {'nombre': nombres[i]}\n",
    "\n",
    " # Definimos las métricas que desamos recuperar:\n",
    "  mismetricas = {'accuracy','precision','recall','f1'}\n",
    "\n",
    "  # Llevamos a cabo el entrenamiento:\n",
    "  scores = cross_validate(pipeline,\n",
    "                          Xtrainval,\n",
    "                          ytrainval,\n",
    "                          scoring=mismetricas,\n",
    "                          cv=micv,\n",
    "                          return_train_score=True,\n",
    "                          )\n",
    "  scores = {**dict_nombre, **scores}\n",
    "\n",
    "  # Guardemos el resultado de cada modelo para análisis posteriores.\n",
    "  resultados.append(scores)\n",
    "\n",
    "  # Desplegamos los valores de las métricas para verificar si no hay\n",
    "  # subentrenamiento o sobreentrenamiento:\n",
    "  print('>> %s' % nombres[i])\n",
    "  for j,k in enumerate(list(scores.keys())):\n",
    "    if j>1:\n",
    "      print('\\t %s %.3f (%.3f)' % (k, np.mean(scores[k]),np.std(scores[k])))"
   ]
  },
  {
   "cell_type": "markdown",
   "metadata": {},
   "source": [
    "Pondremos en orden los resultados obtenidos en las iteraciones de cada fold (del k-fold cross-validation)"
   ]
  },
  {
   "cell_type": "code",
   "execution_count": 42,
   "metadata": {},
   "outputs": [],
   "source": [
    "df_resultados = pd.DataFrame()\n",
    "df_metrica_precision = pd.DataFrame()\n",
    "df_metrica_recall = pd.DataFrame()\n",
    "df_metrica_f = pd.DataFrame()\n",
    "\n",
    "for i in range(len(modelos)):\n",
    "    tabla_result = pd.DataFrame.from_dict(resultados[i]).mean()\n",
    "    tabla_result = tabla_result.to_frame(name = resultados[i]['nombre'])\n",
    "    df_resultados = pd.concat([df_resultados, tabla_result], axis = 1)\n",
    "    ####---####\n",
    "    tabla_met_prec = pd.DataFrame.from_dict(resultados[i])['test_precision']\n",
    "    tabla_met_prec = tabla_met_prec.to_frame(name = resultados[i]['nombre'])\n",
    "    df_metrica_precision = pd.concat([df_metrica_precision, tabla_met_prec], axis = 1)\n",
    "    ####---####\n",
    "    tabla_met_rec = pd.DataFrame.from_dict(resultados[i])['test_recall']\n",
    "    tabla_met_rec = tabla_met_rec.to_frame(name = resultados[i]['nombre'])\n",
    "    df_metrica_recall = pd.concat([df_metrica_recall, tabla_met_rec], axis = 1)\n",
    "    ####---####\n",
    "    tabla_met_f = pd.DataFrame.from_dict(resultados[i])['test_f1']\n",
    "    tabla_met_f = tabla_met_f.to_frame(name = resultados[i]['nombre'])\n",
    "    df_metrica_f = pd.concat([df_metrica_f, tabla_met_f], axis = 1)"
   ]
  },
  {
   "cell_type": "markdown",
   "metadata": {},
   "source": [
    "Veamos las métricas de cada uno de estos modelos:"
   ]
  },
  {
   "cell_type": "code",
   "execution_count": 43,
   "metadata": {},
   "outputs": [
    {
     "data": {
      "text/html": [
       "<div>\n",
       "<style scoped>\n",
       "    .dataframe tbody tr th:only-of-type {\n",
       "        vertical-align: middle;\n",
       "    }\n",
       "\n",
       "    .dataframe tbody tr th {\n",
       "        vertical-align: top;\n",
       "    }\n",
       "\n",
       "    .dataframe thead th {\n",
       "        text-align: right;\n",
       "    }\n",
       "</style>\n",
       "<table border=\"1\" class=\"dataframe\">\n",
       "  <thead>\n",
       "    <tr style=\"text-align: right;\">\n",
       "      <th></th>\n",
       "      <th>fit_time</th>\n",
       "      <th>score_time</th>\n",
       "      <th>test_accuracy</th>\n",
       "      <th>train_accuracy</th>\n",
       "      <th>test_recall</th>\n",
       "      <th>train_recall</th>\n",
       "      <th>test_f1</th>\n",
       "      <th>train_f1</th>\n",
       "      <th>test_precision</th>\n",
       "      <th>train_precision</th>\n",
       "    </tr>\n",
       "  </thead>\n",
       "  <tbody>\n",
       "    <tr>\n",
       "      <th>LR</th>\n",
       "      <td>0.061944</td>\n",
       "      <td>0.016557</td>\n",
       "      <td>0.752157</td>\n",
       "      <td>0.777353</td>\n",
       "      <td>0.469281</td>\n",
       "      <td>0.500654</td>\n",
       "      <td>0.530836</td>\n",
       "      <td>0.574092</td>\n",
       "      <td>0.617032</td>\n",
       "      <td>0.673260</td>\n",
       "    </tr>\n",
       "    <tr>\n",
       "      <th>kNN</th>\n",
       "      <td>0.029845</td>\n",
       "      <td>0.037089</td>\n",
       "      <td>0.719608</td>\n",
       "      <td>0.813824</td>\n",
       "      <td>0.423529</td>\n",
       "      <td>0.577778</td>\n",
       "      <td>0.473836</td>\n",
       "      <td>0.650546</td>\n",
       "      <td>0.546237</td>\n",
       "      <td>0.744793</td>\n",
       "    </tr>\n",
       "    <tr>\n",
       "      <th>DTree</th>\n",
       "      <td>0.024014</td>\n",
       "      <td>0.015931</td>\n",
       "      <td>0.689020</td>\n",
       "      <td>0.711667</td>\n",
       "      <td>0.124183</td>\n",
       "      <td>0.160131</td>\n",
       "      <td>0.135704</td>\n",
       "      <td>0.184183</td>\n",
       "      <td>0.184115</td>\n",
       "      <td>0.295423</td>\n",
       "    </tr>\n",
       "    <tr>\n",
       "      <th>RF</th>\n",
       "      <td>0.207235</td>\n",
       "      <td>0.030879</td>\n",
       "      <td>0.700784</td>\n",
       "      <td>0.700686</td>\n",
       "      <td>0.003922</td>\n",
       "      <td>0.002288</td>\n",
       "      <td>0.007644</td>\n",
       "      <td>0.004553</td>\n",
       "      <td>0.166667</td>\n",
       "      <td>0.466667</td>\n",
       "    </tr>\n",
       "    <tr>\n",
       "      <th>XGBoost</th>\n",
       "      <td>0.237897</td>\n",
       "      <td>0.028197</td>\n",
       "      <td>0.727843</td>\n",
       "      <td>1.000000</td>\n",
       "      <td>0.454902</td>\n",
       "      <td>1.000000</td>\n",
       "      <td>0.501089</td>\n",
       "      <td>1.000000</td>\n",
       "      <td>0.567527</td>\n",
       "      <td>1.000000</td>\n",
       "    </tr>\n",
       "    <tr>\n",
       "      <th>MLP</th>\n",
       "      <td>1.884623</td>\n",
       "      <td>0.015111</td>\n",
       "      <td>0.738431</td>\n",
       "      <td>0.800392</td>\n",
       "      <td>0.466667</td>\n",
       "      <td>0.554902</td>\n",
       "      <td>0.516002</td>\n",
       "      <td>0.624725</td>\n",
       "      <td>0.580384</td>\n",
       "      <td>0.715784</td>\n",
       "    </tr>\n",
       "    <tr>\n",
       "      <th>SVM</th>\n",
       "      <td>0.041700</td>\n",
       "      <td>0.031827</td>\n",
       "      <td>0.744314</td>\n",
       "      <td>0.802255</td>\n",
       "      <td>0.424837</td>\n",
       "      <td>0.516013</td>\n",
       "      <td>0.496761</td>\n",
       "      <td>0.609332</td>\n",
       "      <td>0.607948</td>\n",
       "      <td>0.747940</td>\n",
       "    </tr>\n",
       "  </tbody>\n",
       "</table>\n",
       "</div>"
      ],
      "text/plain": [
       "         fit_time  score_time  test_accuracy  train_accuracy  test_recall  \\\n",
       "LR       0.061944    0.016557       0.752157        0.777353     0.469281   \n",
       "kNN      0.029845    0.037089       0.719608        0.813824     0.423529   \n",
       "DTree    0.024014    0.015931       0.689020        0.711667     0.124183   \n",
       "RF       0.207235    0.030879       0.700784        0.700686     0.003922   \n",
       "XGBoost  0.237897    0.028197       0.727843        1.000000     0.454902   \n",
       "MLP      1.884623    0.015111       0.738431        0.800392     0.466667   \n",
       "SVM      0.041700    0.031827       0.744314        0.802255     0.424837   \n",
       "\n",
       "         train_recall   test_f1  train_f1  test_precision  train_precision  \n",
       "LR           0.500654  0.530836  0.574092        0.617032         0.673260  \n",
       "kNN          0.577778  0.473836  0.650546        0.546237         0.744793  \n",
       "DTree        0.160131  0.135704  0.184183        0.184115         0.295423  \n",
       "RF           0.002288  0.007644  0.004553        0.166667         0.466667  \n",
       "XGBoost      1.000000  0.501089  1.000000        0.567527         1.000000  \n",
       "MLP          0.554902  0.516002  0.624725        0.580384         0.715784  \n",
       "SVM          0.516013  0.496761  0.609332        0.607948         0.747940  "
      ]
     },
     "execution_count": 43,
     "metadata": {},
     "output_type": "execute_result"
    }
   ],
   "source": [
    "df_resultados.T"
   ]
  },
  {
   "cell_type": "markdown",
   "metadata": {
    "id": "CGRvZ5QmBU5P"
   },
   "source": [
    "## **Ejercicio 9**"
   ]
  },
  {
   "cell_type": "markdown",
   "metadata": {
    "id": "5MeXfRLyIOLa"
   },
   "source": [
    "### **De acuerdo a la información de la matriz de costo dada en la documentación del problema, contesta las siguientes preguntas:**\n",
    "\n",
    "### ++++++++ Inicia la sección de agregar texto: +++++++++++\n",
    "\n",
    "#### a.   ¿Qué error se considera más costoso por parte del banco? ¿FP o FN? Justifica tu respuesta.\n",
    "\n",
    "En este tipo de modelos predictivos de dos clases, tenemos 3 objetivos\n",
    "\n",
    "1. Maximizar el número de verdaderos positivos y verdaderos negativos.\n",
    "2. Minimizar el número de falsos positivos. Como en este caso `pos_label=1`, se tiene que hacer lo más pequeño posible el número de observaciones que tienen etiqueta observada 0 y el modelo predijo que era 1. Es decir, se tiene que minimizar el número de observaciones que el modelo predijo que eran 1 pero en realidad no lo eran.\n",
    "3. Minimizar el número de falsos negativos. Como en este caso `pos_label=1`, se tiene que hacer lo más pequeño posible el número de observaciones que tienen etiqueta observada 1 y el modelo predijo que era 0. Es decir, se tiene que minimizar el número de observaciones que el modelo predijo que eran 0 pero en realidad no lo eran.\n",
    "\n",
    "**¿Cuál consideras que es la métrica más importante?**\n",
    "\n",
    "Para una aplicación de calificación crediticia, que el modelo prediga que son 1 pero en realidad no lo son, significa que a una persona se le dijo que tiene mala calidad crediticia cuando en realidad tiene buena calidad crediticia y por tanto no recibirá un crédito.\n",
    "\n",
    "Para una aplicación de calificación crediticia, que el modelo prediga que son 0 pero en realidad no lo son, significa que a una persona se le dijo que tiene buena calidad crediticia cuando en realidad tiene mala calidad crediticia y por tanto recibirá un crédito aún cuando no puede pagarlo. Esto es un error sumamente grave, pues se daría un crédito a alguien que no podra repagar.\n",
    "\n",
    "Entonces se tienen que hacer más esfuezos para que el modelo minimice el *false positive ratio*, *fall-out* ó *false alarm ratio*. Éste se define como\n",
    "\n",
    "$$\\frac{FP}{FP + TN},$$\n",
    "\n",
    "donde $FP$ es el número de falsos positivos y $TN$ es el número de verdaderos negativos.\n",
    "\n",
    "O también la **precisión** que se calcula como el número de verdadero positivos entre la suma de los verdaderos positivos y los falsos positivos, i.e\n",
    "\n",
    "$$\\frac{TP}{FP + TN}$$\n",
    "\n",
    "\n",
    "#### b.   ¿Cuál o cuáles serían entonces las métricas a considerar como más importantes? Justifica tu respuesta.\n",
    "\n",
    "En ese sentido se considerará una combinación de ambas métricas: el F1 Score. La esencia de éste es que tiene la habilidad de capturar el trade-off entre dos componentes críticas de un modelo, la precisión (que mide cuántas observaciones predecidas como positivas son efectivamente positivas) y el recall (que mide cuántas positivos reales identifica el modelo). Éste se define como\n",
    "$$\\frac{2\\cdot TP}{2\\cdot TP + FP + FN}$$\n",
    "\n",
    "\n",
    "### ++++++++ Termina la sección de agregar texto. +++++++++++\n"
   ]
  },
  {
   "cell_type": "markdown",
   "metadata": {
    "id": "4JkGo57zMXqn"
   },
   "source": [
    "## **Ejercicio 10**"
   ]
  },
  {
   "cell_type": "code",
   "execution_count": 44,
   "metadata": {
    "id": "DsV2wzymwdyV"
   },
   "outputs": [],
   "source": [
    "# Obtener un diagrama de caja y bigotes (boxplot) múltiple de todos los modelos,\n",
    "# utilizando los resultados obtenidos con la métrica que consideraste más importante\n",
    "# en el ejercicio anterior:\n",
    "\n",
    "\n",
    "# ************* Inlcuye aquí tu código:**************************\n",
    "\n",
    "df_melted_precision = pd.melt(df_metrica_precision)\n",
    "df_melted_recall = pd.melt(df_metrica_recall)\n",
    "df_melted_f = pd.melt(df_metrica_f)\n"
   ]
  },
  {
   "cell_type": "markdown",
   "metadata": {},
   "source": [
    "Veamos cómo se comparan los valores de la **Precisión** de los modelos en consideración:"
   ]
  },
  {
   "cell_type": "code",
   "execution_count": 45,
   "metadata": {},
   "outputs": [
    {
     "data": {
      "image/png": "[encoded data removed]",
      "text/plain": [
       "<Figure size 432x288 with 1 Axes>"
      ]
     },
     "metadata": {
      "needs_background": "light"
     },
     "output_type": "display_data"
    }
   ],
   "source": [
    "sns.boxplot(y='variable', x='value', data=df_melted_precision,\n",
    "            palette=\"Set2\").set(xlabel='', ylabel='', title = \"Precisión\");"
   ]
  },
  {
   "cell_type": "markdown",
   "metadata": {},
   "source": [
    "Veamos cómo se comparan los valores del **Recall** de los modelos en consideración:"
   ]
  },
  {
   "cell_type": "code",
   "execution_count": 46,
   "metadata": {},
   "outputs": [
    {
     "data": {
      "image/png": "[encoded data removed]",
      "text/plain": [
       "<Figure size 432x288 with 1 Axes>"
      ]
     },
     "metadata": {
      "needs_background": "light"
     },
     "output_type": "display_data"
    }
   ],
   "source": [
    "sns.boxplot(y='variable', x='value', data=df_melted_recall,\n",
    "            palette=\"Set2\").set(xlabel='', ylabel='', title = \"Recall\");"
   ]
  },
  {
   "cell_type": "markdown",
   "metadata": {},
   "source": [
    "Veamos cómo se comparan los valores del **F1** de los modelos en consideración:"
   ]
  },
  {
   "cell_type": "code",
   "execution_count": 47,
   "metadata": {},
   "outputs": [
    {
     "data": {
      "image/png": "[encoded data removed]",
      "text/plain": [
       "<Figure size 432x288 with 1 Axes>"
      ]
     },
     "metadata": {
      "needs_background": "light"
     },
     "output_type": "display_data"
    }
   ],
   "source": [
    "sns.boxplot(y='variable', x='value', data=df_melted_f,\n",
    "            palette=\"Set2\").set(xlabel='', ylabel='', title = \"F1\");\n",
    "\n",
    "# *********** Aquí termina la sección de agregar código *************"
   ]
  },
  {
   "cell_type": "markdown",
   "metadata": {
    "id": "mrHxhpEkmvbf"
   },
   "source": [
    "### **Incluye tus conclusiones al respecto, en particular indica cuáles consideras son los mejores modelos obtenidos.**\n",
    "\n",
    "### ++++++++ Inicia la sección de agregar texto: +++++++++++\n",
    "\n",
    "Se puede observar que los modelos basados en XGBoost y MLP tienen mejores valores (más altos) en las tres métricas en consideración. Irónicamente, el modelos de Regresión Logística tiene un comportamiento ligeramente menor que XGBoost y MLP (que confirma la afirmación \"más complejo no significa mejor\") y los supera en el F1 score. \n",
    "\n",
    "### ++++++++ Termina la sección de agregar texto: +++++++++++\n",
    "\n"
   ]
  },
  {
   "cell_type": "markdown",
   "metadata": {
    "id": "TPOqRS7pNCNH"
   },
   "source": [
    "# **Parte III: Modelos con técnicas para clases no balanceadas.**"
   ]
  },
  {
   "cell_type": "markdown",
   "metadata": {
    "id": "HowUdsf7MqIJ"
   },
   "source": [
    "## **Ejercicio 11**"
   ]
  },
  {
   "cell_type": "markdown",
   "metadata": {},
   "source": [
    "De manera análoga a lo realizado en el ejercicio 8, agrega ahora una técnica de sobremuestreo y/o submuestreo para clases no balanceadas que consideres adecuada para entrenar y desplegar nuevamente todas las métricas y modelos que se utilizaron en la Parte II.\n",
    "\n",
    "**NOTA:** Sólo debes incluir la mejor que encuentres. Al menos debes probar los modelos SMOTE y SMOTEENN, pero puedes consultar la página de Sklearn y seleccionar alguna otra técnica que consideres adecuada: https://imbalanced-learn.org/stable/references/over_sampling.html . Igualmente te puedes apoyar en los resultados presentados en la investigación del artículo de la IEEE que se incluye en las referencias dadas al inicio de este documento para considerar algunas de las técnicas de submuestreo o sobremuestreo que dichos autores encontraron como las que les dieron los mejores resultados."
   ]
  },
  {
   "cell_type": "markdown",
   "metadata": {},
   "source": [
    "Primero se definiran los métodos de sobre-muetreo y sub-muestreo:"
   ]
  },
  {
   "cell_type": "code",
   "execution_count": 48,
   "metadata": {},
   "outputs": [],
   "source": [
    "over = SMOTE()\n",
    "under = RandomUnderSampler()"
   ]
  },
  {
   "cell_type": "markdown",
   "metadata": {},
   "source": [
    "Veamos como se ve el pipeline con los pasos de sobre-muestre y submuestreo para cualquiera de los modelos en consideración "
   ]
  },
  {
   "cell_type": "code",
   "execution_count": 49,
   "metadata": {},
   "outputs": [
    {
     "data": {
      "text/html": [
       "<style>#sk-container-id-2 {color: black;background-color: white;}#sk-container-id-2 pre{padding: 0;}#sk-container-id-2 div.sk-toggleable {background-color: white;}#sk-container-id-2 label.sk-toggleable__label {cursor: pointer;display: block;width: 100%;margin-bottom: 0;padding: 0.3em;box-sizing: border-box;text-align: center;}#sk-container-id-2 label.sk-toggleable__label-arrow:before {content: \"▸\";float: left;margin-right: 0.25em;color: #696969;}#sk-container-id-2 label.sk-toggleable__label-arrow:hover:before {color: black;}#sk-container-id-2 div.sk-estimator:hover label.sk-toggleable__label-arrow:before {color: black;}#sk-container-id-2 div.sk-toggleable__content {max-height: 0;max-width: 0;overflow: hidden;text-align: left;background-color: #f0f8ff;}#sk-container-id-2 div.sk-toggleable__content pre {margin: 0.2em;color: black;border-radius: 0.25em;background-color: #f0f8ff;}#sk-container-id-2 input.sk-toggleable__control:checked~div.sk-toggleable__content {max-height: 200px;max-width: 100%;overflow: auto;}#sk-container-id-2 input.sk-toggleable__control:checked~label.sk-toggleable__label-arrow:before {content: \"▾\";}#sk-container-id-2 div.sk-estimator input.sk-toggleable__control:checked~label.sk-toggleable__label {background-color: #d4ebff;}#sk-container-id-2 div.sk-label input.sk-toggleable__control:checked~label.sk-toggleable__label {background-color: #d4ebff;}#sk-container-id-2 input.sk-hidden--visually {border: 0;clip: rect(1px 1px 1px 1px);clip: rect(1px, 1px, 1px, 1px);height: 1px;margin: -1px;overflow: hidden;padding: 0;position: absolute;width: 1px;}#sk-container-id-2 div.sk-estimator {font-family: monospace;background-color: #f0f8ff;border: 1px dotted black;border-radius: 0.25em;box-sizing: border-box;margin-bottom: 0.5em;}#sk-container-id-2 div.sk-estimator:hover {background-color: #d4ebff;}#sk-container-id-2 div.sk-parallel-item::after {content: \"\";width: 100%;border-bottom: 1px solid gray;flex-grow: 1;}#sk-container-id-2 div.sk-label:hover label.sk-toggleable__label {background-color: #d4ebff;}#sk-container-id-2 div.sk-serial::before {content: \"\";position: absolute;border-left: 1px solid gray;box-sizing: border-box;top: 0;bottom: 0;left: 50%;z-index: 0;}#sk-container-id-2 div.sk-serial {display: flex;flex-direction: column;align-items: center;background-color: white;padding-right: 0.2em;padding-left: 0.2em;position: relative;}#sk-container-id-2 div.sk-item {position: relative;z-index: 1;}#sk-container-id-2 div.sk-parallel {display: flex;align-items: stretch;justify-content: center;background-color: white;position: relative;}#sk-container-id-2 div.sk-item::before, #sk-container-id-2 div.sk-parallel-item::before {content: \"\";position: absolute;border-left: 1px solid gray;box-sizing: border-box;top: 0;bottom: 0;left: 50%;z-index: -1;}#sk-container-id-2 div.sk-parallel-item {display: flex;flex-direction: column;z-index: 1;position: relative;background-color: white;}#sk-container-id-2 div.sk-parallel-item:first-child::after {align-self: flex-end;width: 50%;}#sk-container-id-2 div.sk-parallel-item:last-child::after {align-self: flex-start;width: 50%;}#sk-container-id-2 div.sk-parallel-item:only-child::after {width: 0;}#sk-container-id-2 div.sk-dashed-wrapped {border: 1px dashed gray;margin: 0 0.4em 0.5em 0.4em;box-sizing: border-box;padding-bottom: 0.4em;background-color: white;}#sk-container-id-2 div.sk-label label {font-family: monospace;font-weight: bold;display: inline-block;line-height: 1.2em;}#sk-container-id-2 div.sk-label-container {text-align: center;}#sk-container-id-2 div.sk-container {/* jupyter's `normalize.less` sets `[hidden] { display: none; }` but bootstrap.min.css set `[hidden] { display: none !important; }` so we also need the `!important` here to be able to override the default hidden behavior on the sphinx rendered scikit-learn.org. See: https://github.com/scikit-learn/scikit-learn/issues/21755 */display: inline-block !important;position: relative;}#sk-container-id-2 div.sk-text-repr-fallback {display: none;}</style><div id=\"sk-container-id-2\" class=\"sk-top-container\"><div class=\"sk-text-repr-fallback\"><pre>Pipeline(steps=[(&#x27;over&#x27;, SMOTE()), (&#x27;under&#x27;, RandomUnderSampler()),\n",
       "                (&#x27;ct&#x27;,\n",
       "                 ColumnTransformer(remainder=&#x27;passthrough&#x27;,\n",
       "                                   transformers=[(&#x27;numer&#x27;,\n",
       "                                                  FunctionTransformer(func=&lt;ufunc &#x27;log&#x27;&gt;),\n",
       "                                                  [&#x27;duration&#x27;, &#x27;amount&#x27;,\n",
       "                                                   &#x27;age&#x27;]),\n",
       "                                                 (&#x27;nomin&#x27;,\n",
       "                                                  Pipeline(steps=[(&#x27;encoderOHE&#x27;,\n",
       "                                                                   OneHotEncoder(drop=&#x27;first&#x27;,\n",
       "                                                                                 handle_unknown=&#x27;ignore&#x27;,\n",
       "                                                                                 sparse=False))]),\n",
       "                                                  [&#x27;people_liable&#x27;, &#x27;telephone&#x27;,\n",
       "                                                   &#x27;foreign_worker&#x27;,\n",
       "                                                   &#x27;credit_history&#x27;, &#x27;purpose&#x27;,\n",
       "                                                   &#x27;personal_status_sex&#x27;,\n",
       "                                                   &#x27;other_debtors&#x27;,\n",
       "                                                   &#x27;other_installment_plans&#x27;,\n",
       "                                                   &#x27;housing&#x27;])])),\n",
       "                (&#x27;m&#x27;,\n",
       "                 DecisionTreeClassifier(max_depth=2, min_samples_split=3))])</pre><b>In a Jupyter environment, please rerun this cell to show the HTML representation or trust the notebook. <br />On GitHub, the HTML representation is unable to render, please try loading this page with nbviewer.org.</b></div><div class=\"sk-container\" hidden><div class=\"sk-item sk-dashed-wrapped\"><div class=\"sk-label-container\"><div class=\"sk-label sk-toggleable\"><input class=\"sk-toggleable__control sk-hidden--visually\" id=\"sk-estimator-id-8\" type=\"checkbox\" ><label for=\"sk-estimator-id-8\" class=\"sk-toggleable__label sk-toggleable__label-arrow\">Pipeline</label><div class=\"sk-toggleable__content\"><pre>Pipeline(steps=[(&#x27;over&#x27;, SMOTE()), (&#x27;under&#x27;, RandomUnderSampler()),\n",
       "                (&#x27;ct&#x27;,\n",
       "                 ColumnTransformer(remainder=&#x27;passthrough&#x27;,\n",
       "                                   transformers=[(&#x27;numer&#x27;,\n",
       "                                                  FunctionTransformer(func=&lt;ufunc &#x27;log&#x27;&gt;),\n",
       "                                                  [&#x27;duration&#x27;, &#x27;amount&#x27;,\n",
       "                                                   &#x27;age&#x27;]),\n",
       "                                                 (&#x27;nomin&#x27;,\n",
       "                                                  Pipeline(steps=[(&#x27;encoderOHE&#x27;,\n",
       "                                                                   OneHotEncoder(drop=&#x27;first&#x27;,\n",
       "                                                                                 handle_unknown=&#x27;ignore&#x27;,\n",
       "                                                                                 sparse=False))]),\n",
       "                                                  [&#x27;people_liable&#x27;, &#x27;telephone&#x27;,\n",
       "                                                   &#x27;foreign_worker&#x27;,\n",
       "                                                   &#x27;credit_history&#x27;, &#x27;purpose&#x27;,\n",
       "                                                   &#x27;personal_status_sex&#x27;,\n",
       "                                                   &#x27;other_debtors&#x27;,\n",
       "                                                   &#x27;other_installment_plans&#x27;,\n",
       "                                                   &#x27;housing&#x27;])])),\n",
       "                (&#x27;m&#x27;,\n",
       "                 DecisionTreeClassifier(max_depth=2, min_samples_split=3))])</pre></div></div></div><div class=\"sk-serial\"><div class=\"sk-item\"><div class=\"sk-estimator sk-toggleable\"><input class=\"sk-toggleable__control sk-hidden--visually\" id=\"sk-estimator-id-9\" type=\"checkbox\" ><label for=\"sk-estimator-id-9\" class=\"sk-toggleable__label sk-toggleable__label-arrow\">SMOTE</label><div class=\"sk-toggleable__content\"><pre>SMOTE()</pre></div></div></div><div class=\"sk-item\"><div class=\"sk-estimator sk-toggleable\"><input class=\"sk-toggleable__control sk-hidden--visually\" id=\"sk-estimator-id-10\" type=\"checkbox\" ><label for=\"sk-estimator-id-10\" class=\"sk-toggleable__label sk-toggleable__label-arrow\">RandomUnderSampler</label><div class=\"sk-toggleable__content\"><pre>RandomUnderSampler()</pre></div></div></div><div class=\"sk-item sk-dashed-wrapped\"><div class=\"sk-label-container\"><div class=\"sk-label sk-toggleable\"><input class=\"sk-toggleable__control sk-hidden--visually\" id=\"sk-estimator-id-11\" type=\"checkbox\" ><label for=\"sk-estimator-id-11\" class=\"sk-toggleable__label sk-toggleable__label-arrow\">ct: ColumnTransformer</label><div class=\"sk-toggleable__content\"><pre>ColumnTransformer(remainder=&#x27;passthrough&#x27;,\n",
       "                  transformers=[(&#x27;numer&#x27;,\n",
       "                                 FunctionTransformer(func=&lt;ufunc &#x27;log&#x27;&gt;),\n",
       "                                 [&#x27;duration&#x27;, &#x27;amount&#x27;, &#x27;age&#x27;]),\n",
       "                                (&#x27;nomin&#x27;,\n",
       "                                 Pipeline(steps=[(&#x27;encoderOHE&#x27;,\n",
       "                                                  OneHotEncoder(drop=&#x27;first&#x27;,\n",
       "                                                                handle_unknown=&#x27;ignore&#x27;,\n",
       "                                                                sparse=False))]),\n",
       "                                 [&#x27;people_liable&#x27;, &#x27;telephone&#x27;,\n",
       "                                  &#x27;foreign_worker&#x27;, &#x27;credit_history&#x27;, &#x27;purpose&#x27;,\n",
       "                                  &#x27;personal_status_sex&#x27;, &#x27;other_debtors&#x27;,\n",
       "                                  &#x27;other_installment_plans&#x27;, &#x27;housing&#x27;])])</pre></div></div></div><div class=\"sk-parallel\"><div class=\"sk-parallel-item\"><div class=\"sk-item\"><div class=\"sk-label-container\"><div class=\"sk-label sk-toggleable\"><input class=\"sk-toggleable__control sk-hidden--visually\" id=\"sk-estimator-id-12\" type=\"checkbox\" ><label for=\"sk-estimator-id-12\" class=\"sk-toggleable__label sk-toggleable__label-arrow\">numer</label><div class=\"sk-toggleable__content\"><pre>[&#x27;duration&#x27;, &#x27;amount&#x27;, &#x27;age&#x27;]</pre></div></div></div><div class=\"sk-serial\"><div class=\"sk-item\"><div class=\"sk-estimator sk-toggleable\"><input class=\"sk-toggleable__control sk-hidden--visually\" id=\"sk-estimator-id-13\" type=\"checkbox\" ><label for=\"sk-estimator-id-13\" class=\"sk-toggleable__label sk-toggleable__label-arrow\">FunctionTransformer</label><div class=\"sk-toggleable__content\"><pre>FunctionTransformer(func=&lt;ufunc &#x27;log&#x27;&gt;)</pre></div></div></div></div></div></div><div class=\"sk-parallel-item\"><div class=\"sk-item\"><div class=\"sk-label-container\"><div class=\"sk-label sk-toggleable\"><input class=\"sk-toggleable__control sk-hidden--visually\" id=\"sk-estimator-id-14\" type=\"checkbox\" ><label for=\"sk-estimator-id-14\" class=\"sk-toggleable__label sk-toggleable__label-arrow\">nomin</label><div class=\"sk-toggleable__content\"><pre>[&#x27;people_liable&#x27;, &#x27;telephone&#x27;, &#x27;foreign_worker&#x27;, &#x27;credit_history&#x27;, &#x27;purpose&#x27;, &#x27;personal_status_sex&#x27;, &#x27;other_debtors&#x27;, &#x27;other_installment_plans&#x27;, &#x27;housing&#x27;]</pre></div></div></div><div class=\"sk-serial\"><div class=\"sk-item\"><div class=\"sk-serial\"><div class=\"sk-item\"><div class=\"sk-estimator sk-toggleable\"><input class=\"sk-toggleable__control sk-hidden--visually\" id=\"sk-estimator-id-15\" type=\"checkbox\" ><label for=\"sk-estimator-id-15\" class=\"sk-toggleable__label sk-toggleable__label-arrow\">OneHotEncoder</label><div class=\"sk-toggleable__content\"><pre>OneHotEncoder(drop=&#x27;first&#x27;, handle_unknown=&#x27;ignore&#x27;, sparse=False)</pre></div></div></div></div></div></div></div></div><div class=\"sk-parallel-item\"><div class=\"sk-item\"><div class=\"sk-label-container\"><div class=\"sk-label sk-toggleable\"><input class=\"sk-toggleable__control sk-hidden--visually\" id=\"sk-estimator-id-16\" type=\"checkbox\" ><label for=\"sk-estimator-id-16\" class=\"sk-toggleable__label sk-toggleable__label-arrow\">remainder</label><div class=\"sk-toggleable__content\"><pre>[&#x27;status&#x27;, &#x27;savings&#x27;, &#x27;employment_duration&#x27;, &#x27;installment_rate&#x27;, &#x27;present_residence&#x27;, &#x27;property&#x27;, &#x27;number_credits&#x27;, &#x27;job&#x27;]</pre></div></div></div><div class=\"sk-serial\"><div class=\"sk-item\"><div class=\"sk-estimator sk-toggleable\"><input class=\"sk-toggleable__control sk-hidden--visually\" id=\"sk-estimator-id-17\" type=\"checkbox\" ><label for=\"sk-estimator-id-17\" class=\"sk-toggleable__label sk-toggleable__label-arrow\">passthrough</label><div class=\"sk-toggleable__content\"><pre>passthrough</pre></div></div></div></div></div></div></div></div><div class=\"sk-item\"><div class=\"sk-estimator sk-toggleable\"><input class=\"sk-toggleable__control sk-hidden--visually\" id=\"sk-estimator-id-18\" type=\"checkbox\" ><label for=\"sk-estimator-id-18\" class=\"sk-toggleable__label sk-toggleable__label-arrow\">DecisionTreeClassifier</label><div class=\"sk-toggleable__content\"><pre>DecisionTreeClassifier(max_depth=2, min_samples_split=3)</pre></div></div></div></div></div></div></div>"
      ],
      "text/plain": [
       "Pipeline(steps=[('over', SMOTE()), ('under', RandomUnderSampler()),\n",
       "                ('ct',\n",
       "                 ColumnTransformer(remainder='passthrough',\n",
       "                                   transformers=[('numer',\n",
       "                                                  FunctionTransformer(func=<ufunc 'log'>),\n",
       "                                                  ['duration', 'amount',\n",
       "                                                   'age']),\n",
       "                                                 ('nomin',\n",
       "                                                  Pipeline(steps=[('encoderOHE',\n",
       "                                                                   OneHotEncoder(drop='first',\n",
       "                                                                                 handle_unknown='ignore',\n",
       "                                                                                 sparse=False))]),\n",
       "                                                  ['people_liable', 'telephone',\n",
       "                                                   'foreign_worker',\n",
       "                                                   'credit_history', 'purpose',\n",
       "                                                   'personal_status_sex',\n",
       "                                                   'other_debtors',\n",
       "                                                   'other_installment_plans',\n",
       "                                                   'housing'])])),\n",
       "                ('m',\n",
       "                 DecisionTreeClassifier(max_depth=2, min_samples_split=3))])"
      ]
     },
     "execution_count": 49,
     "metadata": {},
     "output_type": "execute_result"
    }
   ],
   "source": [
    "i = 2\n",
    "pipeline = Pipeline(steps=[('over', over), ('under', under),('ct',columnasTransformer),('m',modelos[i])])\n",
    "pipeline"
   ]
  },
  {
   "cell_type": "markdown",
   "metadata": {},
   "source": [
    "Al parecer, todo funciona bien. Ahora sí se hará la ejecución del ajuste de todos los modelos en consideración pero ya con el sobremuestreo y submuestreo en el pipeline"
   ]
  },
  {
   "cell_type": "code",
   "execution_count": 50,
   "metadata": {
    "id": "ZbfPqUkSwFxo"
   },
   "outputs": [
    {
     "name": "stdout",
     "output_type": "stream",
     "text": [
      ">> LR\n",
      "\t score_time 0.017 (0.002)\n",
      "\t test_accuracy 0.703 (0.042)\n",
      "\t train_accuracy 0.731 (0.008)\n",
      "\t test_recall 0.699 (0.065)\n",
      "\t train_recall 0.755 (0.017)\n",
      "\t test_f1 0.586 (0.051)\n",
      "\t train_f1 0.627 (0.009)\n",
      "\t test_precision 0.506 (0.050)\n",
      "\t train_precision 0.537 (0.010)\n",
      ">> kNN\n",
      "\t score_time 0.035 (0.004)\n",
      "\t test_accuracy 0.662 (0.036)\n",
      "\t train_accuracy 0.728 (0.013)\n",
      "\t test_recall 0.661 (0.060)\n",
      "\t train_recall 0.772 (0.019)\n",
      "\t test_f1 0.541 (0.035)\n",
      "\t train_f1 0.630 (0.014)\n",
      "\t test_precision 0.459 (0.039)\n",
      "\t train_precision 0.533 (0.016)\n",
      ">> DTree\n",
      "\t score_time 0.016 (0.004)\n",
      "\t test_accuracy 0.631 (0.035)\n",
      "\t train_accuracy 0.654 (0.029)\n",
      "\t test_recall 0.745 (0.067)\n",
      "\t train_recall 0.776 (0.053)\n",
      "\t test_f1 0.548 (0.032)\n",
      "\t train_f1 0.574 (0.015)\n",
      "\t test_precision 0.435 (0.031)\n",
      "\t train_precision 0.457 (0.023)\n",
      ">> RF\n",
      "\t score_time 0.030 (0.003)\n",
      "\t test_accuracy 0.673 (0.039)\n",
      "\t train_accuracy 0.696 (0.018)\n",
      "\t test_recall 0.750 (0.065)\n",
      "\t train_recall 0.789 (0.019)\n",
      "\t test_f1 0.580 (0.041)\n",
      "\t train_f1 0.609 (0.016)\n",
      "\t test_precision 0.474 (0.040)\n",
      "\t train_precision 0.496 (0.018)\n",
      "[17:00:42] WARNING: /Users/runner/work/xgboost/xgboost/python-package/build/temp.macosx-10.9-x86_64-cpython-37/xgboost/src/learner.cc:627: \n",
      "Parameters: { \"objetive\" } might not be used.\n",
      "\n",
      "  This could be a false alarm, with some parameters getting used by language bindings but\n",
      "  then being mistakenly passed down to XGBoost core, or some parameter actually being used\n",
      "  but getting flagged wrongly here. Please open an issue if you find any such cases.\n",
      "\n",
      "\n",
      "[17:00:42] WARNING: /Users/runner/work/xgboost/xgboost/python-package/build/temp.macosx-10.9-x86_64-cpython-37/xgboost/src/learner.cc:627: \n",
      "Parameters: { \"objetive\" } might not be used.\n",
      "\n",
      "  This could be a false alarm, with some parameters getting used by language bindings but\n",
      "  then being mistakenly passed down to XGBoost core, or some parameter actually being used\n",
      "  but getting flagged wrongly here. Please open an issue if you find any such cases.\n",
      "\n",
      "\n",
      "[17:00:43] WARNING: /Users/runner/work/xgboost/xgboost/python-package/build/temp.macosx-10.9-x86_64-cpython-37/xgboost/src/learner.cc:627: \n",
      "Parameters: { \"objetive\" } might not be used.\n",
      "\n",
      "  This could be a false alarm, with some parameters getting used by language bindings but\n",
      "  then being mistakenly passed down to XGBoost core, or some parameter actually being used\n",
      "  but getting flagged wrongly here. Please open an issue if you find any such cases.\n",
      "\n",
      "\n",
      "[17:00:43] WARNING: /Users/runner/work/xgboost/xgboost/python-package/build/temp.macosx-10.9-x86_64-cpython-37/xgboost/src/learner.cc:627: \n",
      "Parameters: { \"objetive\" } might not be used.\n",
      "\n",
      "  This could be a false alarm, with some parameters getting used by language bindings but\n",
      "  then being mistakenly passed down to XGBoost core, or some parameter actually being used\n",
      "  but getting flagged wrongly here. Please open an issue if you find any such cases.\n",
      "\n",
      "\n",
      "[17:00:43] WARNING: /Users/runner/work/xgboost/xgboost/python-package/build/temp.macosx-10.9-x86_64-cpython-37/xgboost/src/learner.cc:627: \n",
      "Parameters: { \"objetive\" } might not be used.\n",
      "\n",
      "  This could be a false alarm, with some parameters getting used by language bindings but\n",
      "  then being mistakenly passed down to XGBoost core, or some parameter actually being used\n",
      "  but getting flagged wrongly here. Please open an issue if you find any such cases.\n",
      "\n",
      "\n",
      "[17:00:43] WARNING: /Users/runner/work/xgboost/xgboost/python-package/build/temp.macosx-10.9-x86_64-cpython-37/xgboost/src/learner.cc:627: \n",
      "Parameters: { \"objetive\" } might not be used.\n",
      "\n",
      "  This could be a false alarm, with some parameters getting used by language bindings but\n",
      "  then being mistakenly passed down to XGBoost core, or some parameter actually being used\n",
      "  but getting flagged wrongly here. Please open an issue if you find any such cases.\n",
      "\n",
      "\n",
      "[17:00:44] WARNING: /Users/runner/work/xgboost/xgboost/python-package/build/temp.macosx-10.9-x86_64-cpython-37/xgboost/src/learner.cc:627: \n",
      "Parameters: { \"objetive\" } might not be used.\n",
      "\n",
      "  This could be a false alarm, with some parameters getting used by language bindings but\n",
      "  then being mistakenly passed down to XGBoost core, or some parameter actually being used\n",
      "  but getting flagged wrongly here. Please open an issue if you find any such cases.\n",
      "\n",
      "\n",
      "[17:00:44] WARNING: /Users/runner/work/xgboost/xgboost/python-package/build/temp.macosx-10.9-x86_64-cpython-37/xgboost/src/learner.cc:627: \n",
      "Parameters: { \"objetive\" } might not be used.\n",
      "\n",
      "  This could be a false alarm, with some parameters getting used by language bindings but\n",
      "  then being mistakenly passed down to XGBoost core, or some parameter actually being used\n",
      "  but getting flagged wrongly here. Please open an issue if you find any such cases.\n",
      "\n",
      "\n",
      "[17:00:44] WARNING: /Users/runner/work/xgboost/xgboost/python-package/build/temp.macosx-10.9-x86_64-cpython-37/xgboost/src/learner.cc:627: \n",
      "Parameters: { \"objetive\" } might not be used.\n",
      "\n",
      "  This could be a false alarm, with some parameters getting used by language bindings but\n",
      "  then being mistakenly passed down to XGBoost core, or some parameter actually being used\n",
      "  but getting flagged wrongly here. Please open an issue if you find any such cases.\n",
      "\n",
      "\n",
      "[17:00:44] WARNING: /Users/runner/work/xgboost/xgboost/python-package/build/temp.macosx-10.9-x86_64-cpython-37/xgboost/src/learner.cc:627: \n",
      "Parameters: { \"objetive\" } might not be used.\n",
      "\n",
      "  This could be a false alarm, with some parameters getting used by language bindings but\n",
      "  then being mistakenly passed down to XGBoost core, or some parameter actually being used\n",
      "  but getting flagged wrongly here. Please open an issue if you find any such cases.\n",
      "\n",
      "\n",
      "[17:00:45] WARNING: /Users/runner/work/xgboost/xgboost/python-package/build/temp.macosx-10.9-x86_64-cpython-37/xgboost/src/learner.cc:627: \n",
      "Parameters: { \"objetive\" } might not be used.\n",
      "\n",
      "  This could be a false alarm, with some parameters getting used by language bindings but\n",
      "  then being mistakenly passed down to XGBoost core, or some parameter actually being used\n",
      "  but getting flagged wrongly here. Please open an issue if you find any such cases.\n",
      "\n",
      "\n",
      "[17:00:45] WARNING: /Users/runner/work/xgboost/xgboost/python-package/build/temp.macosx-10.9-x86_64-cpython-37/xgboost/src/learner.cc:627: \n",
      "Parameters: { \"objetive\" } might not be used.\n",
      "\n",
      "  This could be a false alarm, with some parameters getting used by language bindings but\n",
      "  then being mistakenly passed down to XGBoost core, or some parameter actually being used\n",
      "  but getting flagged wrongly here. Please open an issue if you find any such cases.\n",
      "\n",
      "\n",
      "[17:00:45] WARNING: /Users/runner/work/xgboost/xgboost/python-package/build/temp.macosx-10.9-x86_64-cpython-37/xgboost/src/learner.cc:627: \n",
      "Parameters: { \"objetive\" } might not be used.\n",
      "\n",
      "  This could be a false alarm, with some parameters getting used by language bindings but\n",
      "  then being mistakenly passed down to XGBoost core, or some parameter actually being used\n",
      "  but getting flagged wrongly here. Please open an issue if you find any such cases.\n",
      "\n",
      "\n",
      "[17:00:46] WARNING: /Users/runner/work/xgboost/xgboost/python-package/build/temp.macosx-10.9-x86_64-cpython-37/xgboost/src/learner.cc:627: \n",
      "Parameters: { \"objetive\" } might not be used.\n",
      "\n",
      "  This could be a false alarm, with some parameters getting used by language bindings but\n",
      "  then being mistakenly passed down to XGBoost core, or some parameter actually being used\n",
      "  but getting flagged wrongly here. Please open an issue if you find any such cases.\n",
      "\n",
      "\n",
      "[17:00:46] WARNING: /Users/runner/work/xgboost/xgboost/python-package/build/temp.macosx-10.9-x86_64-cpython-37/xgboost/src/learner.cc:627: \n",
      "Parameters: { \"objetive\" } might not be used.\n",
      "\n",
      "  This could be a false alarm, with some parameters getting used by language bindings but\n",
      "  then being mistakenly passed down to XGBoost core, or some parameter actually being used\n",
      "  but getting flagged wrongly here. Please open an issue if you find any such cases.\n",
      "\n",
      "\n",
      ">> XGBoost\n",
      "\t score_time 0.024 (0.002)\n",
      "\t test_accuracy 0.666 (0.034)\n",
      "\t train_accuracy 0.869 (0.012)\n",
      "\t test_recall 0.677 (0.063)\n",
      "\t train_recall 1.000 (0.000)\n",
      "\t test_f1 0.549 (0.043)\n",
      "\t train_f1 0.821 (0.013)\n",
      "\t test_precision 0.463 (0.038)\n",
      "\t train_precision 0.697 (0.019)\n",
      ">> MLP\n",
      "\t score_time 0.025 (0.017)\n",
      "\t test_accuracy 0.692 (0.041)\n",
      "\t train_accuracy 0.715 (0.021)\n",
      "\t test_recall 0.714 (0.084)\n",
      "\t train_recall 0.760 (0.043)\n",
      "\t test_f1 0.581 (0.039)\n",
      "\t train_f1 0.616 (0.013)\n",
      "\t test_precision 0.496 (0.047)\n",
      "\t train_precision 0.519 (0.025)\n",
      ">> SVM\n",
      "\t score_time 0.029 (0.006)\n",
      "\t test_accuracy 0.678 (0.031)\n",
      "\t train_accuracy 0.745 (0.012)\n",
      "\t test_recall 0.699 (0.052)\n",
      "\t train_recall 0.809 (0.025)\n",
      "\t test_f1 0.566 (0.031)\n",
      "\t train_f1 0.656 (0.013)\n",
      "\t test_precision 0.478 (0.034)\n",
      "\t train_precision 0.552 (0.016)\n"
     ]
    }
   ],
   "source": [
    "# Selecciona una técnica de sobremuestreo y/o submuestreo\n",
    "# para clases no balanceadas que consideres adecuada.\n",
    "\n",
    "\n",
    "# ************* Inlcuye aquí tu código:**************************\n",
    "\n",
    "# Se crea una lista para guardar los resultados\n",
    "resultados = list()\n",
    "\n",
    "for i in range(len(modelos)):\n",
    "\n",
    "  # Definimos nuestro pipeline con las transformaciones y los modelos:\n",
    "  pipeline = Pipeline(steps=[('under', under),('ct',columnasTransformer),('m',modelos[i])])\n",
    "\n",
    "  # Aplicaremos validación-cruzada:\n",
    "  micv = RepeatedStratifiedKFold(n_splits=5,\n",
    "                                 n_repeats=3,\n",
    "                                 random_state=5     # agreguemos una semilla para estabilizar resultados.\n",
    "                                 )\n",
    "  dict_nombre = {'nombre': nombres[i]}\n",
    "\n",
    " # Definimos las métricas que desamos recuperar:\n",
    "  mismetricas = {'accuracy','precision','recall','f1'}\n",
    "\n",
    "  # Llevamos a cabo el entrenamiento:\n",
    "  scores = cross_validate(pipeline,\n",
    "                          Xtrainval,\n",
    "                          ytrainval,\n",
    "                          scoring=mismetricas,\n",
    "                          cv=micv,\n",
    "                          return_train_score=True,\n",
    "                          )\n",
    "  scores = {**dict_nombre, **scores}\n",
    "\n",
    "  # Guardemos el resultado de cada modelo para análisis posteriores.\n",
    "  resultados.append(scores)\n",
    "\n",
    "  # Desplegamos los valores de las métricas para verificar si no hay\n",
    "  # subentrenamiento o sobreentrenamiento:\n",
    "  print('>> %s' % nombres[i])\n",
    "  for j,k in enumerate(list(scores.keys())):\n",
    "    if j>1:\n",
    "      print('\\t %s %.3f (%.3f)' % (k, np.mean(scores[k]),np.std(scores[k])))\n",
    "\n",
    "\n",
    "# *********** Aquí termina la sección de agregar código *************\n"
   ]
  },
  {
   "cell_type": "markdown",
   "metadata": {
    "id": "vNisnGnk6Q7g"
   },
   "source": [
    "## **Ejercicio 12**"
   ]
  },
  {
   "cell_type": "markdown",
   "metadata": {},
   "source": [
    "Obtener nuevamente el diagrama de caja y bigotes múltiple, pero utilizando ahora la métrica que consideraste en el ejercicio 9 es la mejor para medir el desempeño de los modelos."
   ]
  },
  {
   "cell_type": "code",
   "execution_count": 51,
   "metadata": {},
   "outputs": [],
   "source": [
    "df_resultados = pd.DataFrame()\n",
    "df_metrica_precision = pd.DataFrame()\n",
    "df_metrica_recall = pd.DataFrame()\n",
    "df_metrica_f = pd.DataFrame()\n",
    "\n",
    "for i in range(len(modelos)):\n",
    "    tabla_result = pd.DataFrame.from_dict(resultados[i]).mean()\n",
    "    tabla_result = tabla_result.to_frame(name = resultados[i]['nombre'])\n",
    "    df_resultados = pd.concat([df_resultados, tabla_result], axis = 1)\n",
    "    ####---####\n",
    "    tabla_met_prec = pd.DataFrame.from_dict(resultados[i])['test_precision']\n",
    "    tabla_met_prec = tabla_met_prec.to_frame(name = resultados[i]['nombre'])\n",
    "    df_metrica_precision = pd.concat([df_metrica_precision, tabla_met_prec], axis = 1)\n",
    "    ####---####\n",
    "    tabla_met_rec = pd.DataFrame.from_dict(resultados[i])['test_recall']\n",
    "    tabla_met_rec = tabla_met_rec.to_frame(name = resultados[i]['nombre'])\n",
    "    df_metrica_recall = pd.concat([df_metrica_recall, tabla_met_rec], axis = 1)\n",
    "    ####---####\n",
    "    tabla_met_f = pd.DataFrame.from_dict(resultados[i])['test_f1']\n",
    "    tabla_met_f = tabla_met_f.to_frame(name = resultados[i]['nombre'])\n",
    "    df_metrica_f = pd.concat([df_metrica_f, tabla_met_f], axis = 1)"
   ]
  },
  {
   "cell_type": "markdown",
   "metadata": {},
   "source": [
    "Veamos las métricas de cada uno de estos modelos ya con un rebalanceo de ambas categorías:"
   ]
  },
  {
   "cell_type": "code",
   "execution_count": 52,
   "metadata": {},
   "outputs": [
    {
     "data": {
      "text/html": [
       "<div>\n",
       "<style scoped>\n",
       "    .dataframe tbody tr th:only-of-type {\n",
       "        vertical-align: middle;\n",
       "    }\n",
       "\n",
       "    .dataframe tbody tr th {\n",
       "        vertical-align: top;\n",
       "    }\n",
       "\n",
       "    .dataframe thead th {\n",
       "        text-align: right;\n",
       "    }\n",
       "</style>\n",
       "<table border=\"1\" class=\"dataframe\">\n",
       "  <thead>\n",
       "    <tr style=\"text-align: right;\">\n",
       "      <th></th>\n",
       "      <th>fit_time</th>\n",
       "      <th>score_time</th>\n",
       "      <th>test_accuracy</th>\n",
       "      <th>train_accuracy</th>\n",
       "      <th>test_recall</th>\n",
       "      <th>train_recall</th>\n",
       "      <th>test_f1</th>\n",
       "      <th>train_f1</th>\n",
       "      <th>test_precision</th>\n",
       "      <th>train_precision</th>\n",
       "    </tr>\n",
       "  </thead>\n",
       "  <tbody>\n",
       "    <tr>\n",
       "      <th>LR</th>\n",
       "      <td>0.078935</td>\n",
       "      <td>0.016933</td>\n",
       "      <td>0.703137</td>\n",
       "      <td>0.730882</td>\n",
       "      <td>0.699346</td>\n",
       "      <td>0.755229</td>\n",
       "      <td>0.586146</td>\n",
       "      <td>0.627392</td>\n",
       "      <td>0.506236</td>\n",
       "      <td>0.536747</td>\n",
       "    </tr>\n",
       "    <tr>\n",
       "      <th>kNN</th>\n",
       "      <td>0.049297</td>\n",
       "      <td>0.034859</td>\n",
       "      <td>0.662353</td>\n",
       "      <td>0.728039</td>\n",
       "      <td>0.661438</td>\n",
       "      <td>0.772222</td>\n",
       "      <td>0.540531</td>\n",
       "      <td>0.630236</td>\n",
       "      <td>0.459410</td>\n",
       "      <td>0.532644</td>\n",
       "    </tr>\n",
       "    <tr>\n",
       "      <th>DTree</th>\n",
       "      <td>0.036116</td>\n",
       "      <td>0.015555</td>\n",
       "      <td>0.630980</td>\n",
       "      <td>0.653529</td>\n",
       "      <td>0.745098</td>\n",
       "      <td>0.776471</td>\n",
       "      <td>0.547768</td>\n",
       "      <td>0.573694</td>\n",
       "      <td>0.434831</td>\n",
       "      <td>0.456846</td>\n",
       "    </tr>\n",
       "    <tr>\n",
       "      <th>RF</th>\n",
       "      <td>0.216766</td>\n",
       "      <td>0.030289</td>\n",
       "      <td>0.672941</td>\n",
       "      <td>0.696078</td>\n",
       "      <td>0.750327</td>\n",
       "      <td>0.788889</td>\n",
       "      <td>0.579530</td>\n",
       "      <td>0.609188</td>\n",
       "      <td>0.473887</td>\n",
       "      <td>0.496465</td>\n",
       "    </tr>\n",
       "    <tr>\n",
       "      <th>XGBoost</th>\n",
       "      <td>0.207989</td>\n",
       "      <td>0.023788</td>\n",
       "      <td>0.666275</td>\n",
       "      <td>0.869020</td>\n",
       "      <td>0.677124</td>\n",
       "      <td>1.000000</td>\n",
       "      <td>0.548852</td>\n",
       "      <td>0.821033</td>\n",
       "      <td>0.462581</td>\n",
       "      <td>0.696616</td>\n",
       "    </tr>\n",
       "    <tr>\n",
       "      <th>MLP</th>\n",
       "      <td>1.102233</td>\n",
       "      <td>0.025081</td>\n",
       "      <td>0.691765</td>\n",
       "      <td>0.715098</td>\n",
       "      <td>0.713725</td>\n",
       "      <td>0.760131</td>\n",
       "      <td>0.581352</td>\n",
       "      <td>0.615697</td>\n",
       "      <td>0.496098</td>\n",
       "      <td>0.519306</td>\n",
       "    </tr>\n",
       "    <tr>\n",
       "      <th>SVM</th>\n",
       "      <td>0.056440</td>\n",
       "      <td>0.029023</td>\n",
       "      <td>0.678431</td>\n",
       "      <td>0.745098</td>\n",
       "      <td>0.699346</td>\n",
       "      <td>0.808824</td>\n",
       "      <td>0.566342</td>\n",
       "      <td>0.655661</td>\n",
       "      <td>0.477854</td>\n",
       "      <td>0.551714</td>\n",
       "    </tr>\n",
       "  </tbody>\n",
       "</table>\n",
       "</div>"
      ],
      "text/plain": [
       "         fit_time  score_time  test_accuracy  train_accuracy  test_recall  \\\n",
       "LR       0.078935    0.016933       0.703137        0.730882     0.699346   \n",
       "kNN      0.049297    0.034859       0.662353        0.728039     0.661438   \n",
       "DTree    0.036116    0.015555       0.630980        0.653529     0.745098   \n",
       "RF       0.216766    0.030289       0.672941        0.696078     0.750327   \n",
       "XGBoost  0.207989    0.023788       0.666275        0.869020     0.677124   \n",
       "MLP      1.102233    0.025081       0.691765        0.715098     0.713725   \n",
       "SVM      0.056440    0.029023       0.678431        0.745098     0.699346   \n",
       "\n",
       "         train_recall   test_f1  train_f1  test_precision  train_precision  \n",
       "LR           0.755229  0.586146  0.627392        0.506236         0.536747  \n",
       "kNN          0.772222  0.540531  0.630236        0.459410         0.532644  \n",
       "DTree        0.776471  0.547768  0.573694        0.434831         0.456846  \n",
       "RF           0.788889  0.579530  0.609188        0.473887         0.496465  \n",
       "XGBoost      1.000000  0.548852  0.821033        0.462581         0.696616  \n",
       "MLP          0.760131  0.581352  0.615697        0.496098         0.519306  \n",
       "SVM          0.808824  0.566342  0.655661        0.477854         0.551714  "
      ]
     },
     "execution_count": 52,
     "metadata": {},
     "output_type": "execute_result"
    }
   ],
   "source": [
    "df_resultados.T"
   ]
  },
  {
   "cell_type": "code",
   "execution_count": 53,
   "metadata": {
    "id": "W9ZXNgJcxKdl"
   },
   "outputs": [],
   "source": [
    "# Obtener un diagrama de caja y bigotes (boxplot) múltiple de todos los modelos,\n",
    "# que incluye submuestreo y/o sobremuestreo:\n",
    "\n",
    "\n",
    "# ************* Inlcuye aquí tu código:**************************\n",
    "\n",
    "df_melted_precision = pd.melt(df_metrica_precision)\n",
    "df_melted_recall = pd.melt(df_metrica_recall)\n",
    "df_melted_f = pd.melt(df_metrica_f)"
   ]
  },
  {
   "cell_type": "markdown",
   "metadata": {},
   "source": [
    "Veamos cómo se comparan los valores del **Precisión** de los modelos en consideración, ya con rebalanceo:"
   ]
  },
  {
   "cell_type": "code",
   "execution_count": 54,
   "metadata": {},
   "outputs": [
    {
     "data": {
      "image/png": "[encoded data removed]",
      "text/plain": [
       "<Figure size 432x288 with 1 Axes>"
      ]
     },
     "metadata": {
      "needs_background": "light"
     },
     "output_type": "display_data"
    }
   ],
   "source": [
    "sns.boxplot(y='variable', x='value', data=df_melted_precision,\n",
    "            palette=\"Set2\").set(xlabel='', ylabel='', title = \"Precisión\");"
   ]
  },
  {
   "cell_type": "markdown",
   "metadata": {},
   "source": [
    "Veamos cómo se comparan los valores del **Recall** de los modelos en consideración, ya con rebalanceo:"
   ]
  },
  {
   "cell_type": "code",
   "execution_count": 55,
   "metadata": {},
   "outputs": [
    {
     "data": {
      "image/png": "[encoded data removed]",
      "text/plain": [
       "<Figure size 432x288 with 1 Axes>"
      ]
     },
     "metadata": {
      "needs_background": "light"
     },
     "output_type": "display_data"
    }
   ],
   "source": [
    "sns.boxplot(y='variable', x='value', data=df_melted_recall,\n",
    "            palette=\"Set2\").set(xlabel='', ylabel='', title = \"Recall\");"
   ]
  },
  {
   "cell_type": "markdown",
   "metadata": {},
   "source": [
    "Veamos cómo se comparan los valores del **F1** de los modelos en consideración, ya con rebalanceo:"
   ]
  },
  {
   "cell_type": "code",
   "execution_count": 56,
   "metadata": {},
   "outputs": [
    {
     "data": {
      "image/png": "[encoded data removed]",
      "text/plain": [
       "<Figure size 432x288 with 1 Axes>"
      ]
     },
     "metadata": {
      "needs_background": "light"
     },
     "output_type": "display_data"
    }
   ],
   "source": [
    "sns.boxplot(y='variable', x='value', data=df_melted_f,\n",
    "            palette=\"Set2\").set(xlabel='', ylabel='', title = \"F1\");\n",
    "\n",
    "# *********** Aquí termina la sección de agregar código *************"
   ]
  },
  {
   "cell_type": "markdown",
   "metadata": {
    "id": "hDV5EpEIRsy4"
   },
   "source": [
    "# **Parte IV: Mejor modelo**"
   ]
  },
  {
   "cell_type": "markdown",
   "metadata": {
    "id": "PORgZ7b_WTq-"
   },
   "source": [
    "## **Ejercicio 13**"
   ]
  },
  {
   "cell_type": "markdown",
   "metadata": {
    "id": "FBSVeSgfWSgn"
   },
   "source": [
    "### **Selecciona y justifica cuál consideras es el mejor modelo que has obtenido hasta ahora.**\n",
    "\n",
    "### ++++++++ Inicia la sección de agregar texto: +++++++++++\n",
    "\n",
    "Vemos que la técnica basa en MLP muestra las 3 métricas desempeño consistentemente mejor. Y es importante notar que la técnica de Regresión Logística superó a cualquiera de las técnicas basadas en árboles en presencia de este rebalanceo.\n",
    "\n",
    "### ++++++++ Termina la sección de agregar texto. +++++++++++\n"
   ]
  },
  {
   "cell_type": "markdown",
   "metadata": {
    "id": "slDkvQ37Wtst"
   },
   "source": [
    "## **Ejercicio 14**"
   ]
  },
  {
   "cell_type": "markdown",
   "metadata": {},
   "source": [
    "Con base a la información obtenida hasta ahora, selecciona y justifica cuál consideras es tu mejor modelo y con cuál métrica."
   ]
  },
  {
   "cell_type": "markdown",
   "metadata": {},
   "source": [
    "Recordemos las técnicas en consideración:"
   ]
  },
  {
   "cell_type": "code",
   "execution_count": 57,
   "metadata": {},
   "outputs": [
    {
     "data": {
      "text/plain": [
       "['LR', 'kNN', 'DTree', 'RF', 'XGBoost', 'MLP', 'SVM']"
      ]
     },
     "execution_count": 57,
     "metadata": {},
     "output_type": "execute_result"
    }
   ],
   "source": [
    "nombres"
   ]
  },
  {
   "cell_type": "markdown",
   "metadata": {},
   "source": [
    "Como se considerará el MLP, se fijará éste"
   ]
  },
  {
   "cell_type": "code",
   "execution_count": 58,
   "metadata": {},
   "outputs": [
    {
     "data": {
      "text/plain": [
       "'MLP'"
      ]
     },
     "execution_count": 58,
     "metadata": {},
     "output_type": "execute_result"
    }
   ],
   "source": [
    "i = 5\n",
    "nombres[i]"
   ]
  },
  {
   "cell_type": "code",
   "execution_count": 59,
   "metadata": {
    "id": "ZRZUVESUXQhY"
   },
   "outputs": [],
   "source": [
    "# Incluye aquí tu mejor modelo. Verifica que tu modelo no esté sobreentrenado\n",
    "# e indica cuáles son los mejores valores obtenidos de los hiperparámetros.\n",
    "\n",
    "\n",
    "# Con el mejor modelo y los mejores hiperparámetros encontrados en el ejercicio anterior,\n",
    "# utiliza ahora (por primera vez en la actividad) el conjunto de prueba (test set) para:\n",
    "\n",
    "# a.\tMejor modelo con los mejores hiperparámetros y el conjunto de prueba.\n",
    "\n",
    "# ************* Inlcuye aquí tu código:**************************\n",
    "\n",
    "\n",
    "model = modelos[i]\n",
    "\n",
    "pipeline_best = Pipeline(steps=[('under', under),('ct',columnasTransformer),('m',model)])\n",
    "\n",
    "# Se ajusta el modelo seleccionado\n",
    "pipeline_best.fit(Xtrain, ytrain)\n",
    "\n",
    "y_pred_val = pipeline_best.predict(Xval)\n",
    "\n",
    "\n",
    "# *********** Aquí termina la sección de agregar código *************\n"
   ]
  },
  {
   "cell_type": "code",
   "execution_count": 60,
   "metadata": {
    "id": "lBd-VuoAXZZX"
   },
   "outputs": [
    {
     "data": {
      "text/plain": [
       "array([[71, 34],\n",
       "       [19, 26]])"
      ]
     },
     "execution_count": 60,
     "metadata": {},
     "output_type": "execute_result"
    }
   ],
   "source": [
    "# b.\tObtener la matriz de confusión y el classification_report().\n",
    "\n",
    "# ************* Inlcuye aquí tu código:**************************\n",
    "\n",
    "cm = confusion_matrix(yval, y_pred_val)\n",
    "cm"
   ]
  },
  {
   "cell_type": "markdown",
   "metadata": {},
   "source": [
    "Hagamos una representación visual de ésta:"
   ]
  },
  {
   "cell_type": "code",
   "execution_count": 61,
   "metadata": {},
   "outputs": [
    {
     "data": {
      "image/png": "[encoded data removed]",
      "text/plain": [
       "<Figure size 432x288 with 2 Axes>"
      ]
     },
     "metadata": {
      "needs_background": "dark"
     },
     "output_type": "display_data"
    }
   ],
   "source": [
    "color = 'white'\n",
    "matrix = plot_confusion_matrix(pipeline_best, Xval, yval, cmap=plt.cm.Blues)\n",
    "matrix.ax_.set_title('Matriz de Confusión', color=color)\n",
    "plt.xlabel('Predicción', color=color)\n",
    "plt.ylabel('Observada', color=color)\n",
    "plt.gcf().axes[0].tick_params(colors=color)\n",
    "plt.gcf().axes[1].tick_params(colors=color)\n",
    "plt.show()"
   ]
  },
  {
   "cell_type": "code",
   "execution_count": 62,
   "metadata": {},
   "outputs": [
    {
     "name": "stdout",
     "output_type": "stream",
     "text": [
      "              precision    recall  f1-score   support\n",
      "\n",
      "           0       0.79      0.68      0.73       105\n",
      "           1       0.43      0.58      0.50        45\n",
      "\n",
      "    accuracy                           0.65       150\n",
      "   macro avg       0.61      0.63      0.61       150\n",
      "weighted avg       0.68      0.65      0.66       150\n",
      "\n"
     ]
    }
   ],
   "source": [
    "# Se imprime el Classification Report\n",
    "print(classification_report(yval, y_pred_val))\n",
    "\n",
    "# *********** Aquí termina la sección de agregar código *************"
   ]
  },
  {
   "cell_type": "code",
   "execution_count": 63,
   "metadata": {
    "id": "Ngslji43XsO_"
   },
   "outputs": [
    {
     "name": "stdout",
     "output_type": "stream",
     "text": [
      "Feature: 0, Score: 0.06257\n",
      "Feature: 1, Score: 0.00714\n",
      "Feature: 2, Score: 0.00571\n",
      "Feature: 3, Score: 0.00343\n",
      "Feature: 4, Score: -0.00686\n",
      "Feature: 5, Score: 0.00829\n",
      "Feature: 6, Score: -0.00114\n",
      "Feature: 7, Score: -0.00371\n",
      "Feature: 8, Score: 0.00286\n",
      "Feature: 9, Score: -0.00314\n",
      "Feature: 10, Score: -0.00114\n",
      "Feature: 11, Score: -0.00171\n",
      "Feature: 12, Score: -0.00086\n",
      "Feature: 13, Score: -0.00543\n",
      "Feature: 14, Score: -0.00029\n",
      "Feature: 15, Score: -0.00314\n",
      "Feature: 16, Score: -0.00086\n",
      "Feature: 17, Score: -0.00200\n",
      "Feature: 18, Score: 0.00571\n",
      "Feature: 19, Score: -0.00086\n"
     ]
    },
    {
     "data": {
      "text/plain": [
       "<BarContainer object of 20 artists>"
      ]
     },
     "execution_count": 63,
     "metadata": {},
     "output_type": "execute_result"
    },
    {
     "data": {
      "image/png": "[encoded data removed]",
      "text/plain": [
       "<Figure size 432x288 with 1 Axes>"
      ]
     },
     "metadata": {
      "needs_background": "light"
     },
     "output_type": "display_data"
    }
   ],
   "source": [
    "# c.\tRealiza un análisis de importancia de variables (feature importance) de este\n",
    "#     mejor modelo e incluye tus conclusiones al respecto.\n",
    "\n",
    "from matplotlib import pyplot\n",
    "\n",
    "# ************* Inlcuye aquí tu código:**************************\n",
    "\n",
    "results = permutation_importance(pipeline_best, Xtrain, ytrain, scoring='accuracy')\n",
    "# Se obtiene el feature importance\n",
    "importance = results.importances_mean\n",
    "# Se imprime el feature importance\n",
    "for i,v in enumerate(importance):\n",
    " print('Feature: %0d, Score: %.5f' % (i,v))\n",
    "# Se grafica el feature importance\n",
    "pyplot.bar([x for x in range(len(importance))], importance)\n",
    "\n",
    "# *********** Aquí termina la sección de agregar código *************"
   ]
  },
  {
   "cell_type": "code",
   "execution_count": 64,
   "metadata": {},
   "outputs": [
    {
     "data": {
      "text/html": [
       "<div>\n",
       "<style scoped>\n",
       "    .dataframe tbody tr th:only-of-type {\n",
       "        vertical-align: middle;\n",
       "    }\n",
       "\n",
       "    .dataframe tbody tr th {\n",
       "        vertical-align: top;\n",
       "    }\n",
       "\n",
       "    .dataframe thead th {\n",
       "        text-align: right;\n",
       "    }\n",
       "</style>\n",
       "<table border=\"1\" class=\"dataframe\">\n",
       "  <thead>\n",
       "    <tr style=\"text-align: right;\">\n",
       "      <th></th>\n",
       "      <th>status</th>\n",
       "      <th>duration</th>\n",
       "      <th>credit_history</th>\n",
       "      <th>purpose</th>\n",
       "      <th>amount</th>\n",
       "      <th>savings</th>\n",
       "      <th>employment_duration</th>\n",
       "      <th>installment_rate</th>\n",
       "      <th>personal_status_sex</th>\n",
       "      <th>other_debtors</th>\n",
       "      <th>present_residence</th>\n",
       "      <th>property</th>\n",
       "      <th>age</th>\n",
       "      <th>other_installment_plans</th>\n",
       "      <th>housing</th>\n",
       "      <th>number_credits</th>\n",
       "      <th>job</th>\n",
       "      <th>people_liable</th>\n",
       "      <th>telephone</th>\n",
       "      <th>foreign_worker</th>\n",
       "    </tr>\n",
       "  </thead>\n",
       "  <tbody>\n",
       "    <tr>\n",
       "      <th>686</th>\n",
       "      <td>2</td>\n",
       "      <td>10</td>\n",
       "      <td>2</td>\n",
       "      <td>2</td>\n",
       "      <td>1521</td>\n",
       "      <td>1</td>\n",
       "      <td>3</td>\n",
       "      <td>4</td>\n",
       "      <td>1</td>\n",
       "      <td>1</td>\n",
       "      <td>2</td>\n",
       "      <td>3</td>\n",
       "      <td>31</td>\n",
       "      <td>3</td>\n",
       "      <td>2</td>\n",
       "      <td>1</td>\n",
       "      <td>2</td>\n",
       "      <td>2</td>\n",
       "      <td>1</td>\n",
       "      <td>2</td>\n",
       "    </tr>\n",
       "    <tr>\n",
       "      <th>105</th>\n",
       "      <td>4</td>\n",
       "      <td>24</td>\n",
       "      <td>2</td>\n",
       "      <td>0</td>\n",
       "      <td>1393</td>\n",
       "      <td>1</td>\n",
       "      <td>3</td>\n",
       "      <td>2</td>\n",
       "      <td>3</td>\n",
       "      <td>3</td>\n",
       "      <td>2</td>\n",
       "      <td>1</td>\n",
       "      <td>31</td>\n",
       "      <td>3</td>\n",
       "      <td>2</td>\n",
       "      <td>1</td>\n",
       "      <td>3</td>\n",
       "      <td>2</td>\n",
       "      <td>2</td>\n",
       "      <td>2</td>\n",
       "    </tr>\n",
       "    <tr>\n",
       "      <th>598</th>\n",
       "      <td>1</td>\n",
       "      <td>30</td>\n",
       "      <td>2</td>\n",
       "      <td>3</td>\n",
       "      <td>2522</td>\n",
       "      <td>1</td>\n",
       "      <td>5</td>\n",
       "      <td>1</td>\n",
       "      <td>3</td>\n",
       "      <td>3</td>\n",
       "      <td>3</td>\n",
       "      <td>2</td>\n",
       "      <td>39</td>\n",
       "      <td>3</td>\n",
       "      <td>2</td>\n",
       "      <td>1</td>\n",
       "      <td>3</td>\n",
       "      <td>1</td>\n",
       "      <td>1</td>\n",
       "      <td>2</td>\n",
       "    </tr>\n",
       "    <tr>\n",
       "      <th>803</th>\n",
       "      <td>2</td>\n",
       "      <td>18</td>\n",
       "      <td>2</td>\n",
       "      <td>0</td>\n",
       "      <td>1042</td>\n",
       "      <td>5</td>\n",
       "      <td>3</td>\n",
       "      <td>4</td>\n",
       "      <td>2</td>\n",
       "      <td>1</td>\n",
       "      <td>2</td>\n",
       "      <td>2</td>\n",
       "      <td>33</td>\n",
       "      <td>3</td>\n",
       "      <td>2</td>\n",
       "      <td>1</td>\n",
       "      <td>3</td>\n",
       "      <td>2</td>\n",
       "      <td>1</td>\n",
       "      <td>2</td>\n",
       "    </tr>\n",
       "    <tr>\n",
       "      <th>779</th>\n",
       "      <td>4</td>\n",
       "      <td>15</td>\n",
       "      <td>2</td>\n",
       "      <td>6</td>\n",
       "      <td>4623</td>\n",
       "      <td>2</td>\n",
       "      <td>3</td>\n",
       "      <td>3</td>\n",
       "      <td>3</td>\n",
       "      <td>1</td>\n",
       "      <td>2</td>\n",
       "      <td>2</td>\n",
       "      <td>40</td>\n",
       "      <td>3</td>\n",
       "      <td>2</td>\n",
       "      <td>1</td>\n",
       "      <td>4</td>\n",
       "      <td>2</td>\n",
       "      <td>2</td>\n",
       "      <td>2</td>\n",
       "    </tr>\n",
       "  </tbody>\n",
       "</table>\n",
       "</div>"
      ],
      "text/plain": [
       "    status  duration credit_history purpose  amount savings  \\\n",
       "686      2        10              2       2    1521       1   \n",
       "105      4        24              2       0    1393       1   \n",
       "598      1        30              2       3    2522       1   \n",
       "803      2        18              2       0    1042       5   \n",
       "779      4        15              2       6    4623       2   \n",
       "\n",
       "    employment_duration installment_rate personal_status_sex other_debtors  \\\n",
       "686                   3                4                   1             1   \n",
       "105                   3                2                   3             3   \n",
       "598                   5                1                   3             3   \n",
       "803                   3                4                   2             1   \n",
       "779                   3                3                   3             1   \n",
       "\n",
       "    present_residence property  age other_installment_plans housing  \\\n",
       "686                 2        3   31                       3       2   \n",
       "105                 2        1   31                       3       2   \n",
       "598                 3        2   39                       3       2   \n",
       "803                 2        2   33                       3       2   \n",
       "779                 2        2   40                       3       2   \n",
       "\n",
       "    number_credits job people_liable telephone foreign_worker  \n",
       "686              1   2             2         1              2  \n",
       "105              1   3             2         2              2  \n",
       "598              1   3             1         1              2  \n",
       "803              1   3             2         1              2  \n",
       "779              1   4             2         2              2  "
      ]
     },
     "execution_count": 64,
     "metadata": {},
     "output_type": "execute_result"
    }
   ],
   "source": [
    "Xtrain.head()"
   ]
  },
  {
   "cell_type": "markdown",
   "metadata": {
    "id": "hzJcWAWz8aG_"
   },
   "source": [
    "\n",
    "### ++++++++ Inicia la sección de agregar texto: +++++++++++\n",
    "\n",
    "Según el feature importante, las 3 variables con más poder explicativo (en presencia de todas las variables) son: status, duration y credit history. Es decir, el ingreso/saldo bancario, el plazo del préstamo y el historial crediticio\n",
    "\n",
    "### ++++++++ Termina la sección de agregar texto. +++++++++++"
   ]
  },
  {
   "cell_type": "markdown",
   "metadata": {
    "id": "AeTAcfFKX3Sm"
   },
   "source": [
    "## **Ejercicio 15**"
   ]
  },
  {
   "cell_type": "markdown",
   "metadata": {
    "id": "n04HnK-ZX4vl"
   },
   "source": [
    "### **Escribe tus conclusiones finales de la actividad.**"
   ]
  },
  {
   "cell_type": "markdown",
   "metadata": {
    "id": "R7s7iDgKYEn9"
   },
   "source": [
    "### ++++++++ Inicia la sección de agregar texto: +++++++++++\n",
    "\n",
    "Cuando un banco recibe una solicitud de préstamo, en función del perfil del solicitante, el banco debe tomar una decisión sobre si sigue adelante con la aprobación del préstamo o no. Dos tipos de riesgos están asociados con la decisión del banco:\n",
    "\n",
    "+ Si el solicitante tiene un buen riesgo crediticio, es decir, es probable que pague el préstamo, entonces no aprobar el préstamo a la persona resulta en una pérdida para el banco por generación de intereses.\n",
    "\n",
    "+ Si el solicitante tiene un mal riesgo crediticio, es probable que no pague el préstamo, entonces aprobar el préstamo a esa persona resulta en una pérdida financiera para el banco por incumplimiento.\n",
    "\n",
    "Se puede suponer que el segundo riesgo es mayor, ya que el banco (o cualquier otra institución que preste el dinero a una parte no confiable) tenía una mayor probabilidad de no recuperar el monto prestado.\n",
    "\n",
    "La evaluación de modelos de machine learning para el otorgamiento de créditos es vital para mantener la precisión, equidad y confiabilidad de las decisiones crediticias. Garantiza el cumplimiento de las regulaciones, mejora la confianza del cliente, optimiza el desempeño financiero y permite la mejora continua y la adaptabilidad del sistema de calificación crediticia. Al evaluar sistemáticamente estos modelos, las instituciones crediticias pueden tomar decisiones crediticias más informadas, equitativas y eficientes.\n",
    "\n",
    "En términos de negocio, se intenta minimizar el riesgo y maximizar las ganancias del banco. Para minimizar las pérdidas desde la perspectiva del banco, éste necesita una regla de decisión sobre a quién aprobar el préstamo y a quién no. Los administradores de préstamos consideran los perfiles demográficos y socioeconómicos de un solicitante antes de tomar una decisión con respecto a su solicitud de préstamo. La evaluación de métricas como la precisión (valor predictivo positivo) y la recuperación (sensibilidad) garantiza que el modelo distinga eficazmente entre riesgos crediticios buenos y malos.\n",
    "\n",
    "En este dataset en particular, notamos que se satisface la máxima de \"más complejo no significa necesariamente mejor\" al ver que un modelo clásico de regresión logística tiene un buen performance.\n",
    "\n",
    "\n",
    "### ++++++++ Termina la sección de agregar texto. +++++++++++\n"
   ]
  },
  {
   "cell_type": "markdown",
   "metadata": {
    "id": "v-tW_CdUYMdl"
   },
   "source": [
    ">> ### **Fin de la Actividad de las Semanas 5 y 6.**"
   ]
  }
 ],
 "metadata": {
  "colab": {
   "collapsed_sections": [
    "AUxxkjE6shkH",
    "B9i2CrLJs-1m",
    "TPOqRS7pNCNH",
    "hDV5EpEIRsy4"
   ],
   "provenance": []
  },
  "kernelspec": {
   "display_name": "Python 3",
   "language": "python",
   "name": "python3"
  },
  "language_info": {
   "codemirror_mode": {
    "name": "ipython",
    "version": 3
   },
   "file_extension": ".py",
   "mimetype": "text/x-python",
   "name": "python",
   "nbconvert_exporter": "python",
   "pygments_lexer": "ipython3",
   "version": "3.9.1"
  }
 },
 "nbformat": 4,
 "nbformat_minor": 1
}
