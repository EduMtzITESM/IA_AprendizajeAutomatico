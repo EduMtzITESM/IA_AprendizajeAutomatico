{
 "cells": [
  {
   "cell_type": "markdown",
   "metadata": {
    "id": "dBbWMn9ebmi8"
   },
   "source": [
    "# Maestría en Inteligencia Artificial Aplicada\n",
    "\n",
    "## Curso: Inteligencia Artificial y Aprendizaje Automático\n",
    "\n",
    "### Tecnológico de Monterrey\n",
    "\n",
    "### Prof Luis Eduardo Falcón Morales\n",
    "\n",
    "## Adtividad de las Semanas 5 y 6\n",
    "### **Problema de asignación de créditos: South German Dataset.**\n"
   ]
  },
  {
   "cell_type": "markdown",
   "metadata": {
    "id": "YiwEw8XsZG2W"
   },
   "source": [
    "#### **Nombres y matrículas:**\n",
    "\n",
    "+ Eduardo Selim Martínez Mayorga - A01795167\n",
    "+ Víctor Alfonso Rosales Soto - A01114509"
   ]
  },
  {
   "cell_type": "markdown",
   "metadata": {
    "id": "AUxxkjE6shkH"
   },
   "source": [
    "# **Parte I: Partición, análisis y pre-procesamiento de los datos.**"
   ]
  },
  {
   "cell_type": "markdown",
   "metadata": {
    "id": "a08Di3GjkL1Y"
   },
   "source": [
    "## **Ejercicio 1**"
   ]
  },
  {
   "cell_type": "code",
   "execution_count": 51,
   "metadata": {
    "id": "6VGEpE4SblfD"
   },
   "outputs": [],
   "source": [
    "# Aquí deberás incluir todas las librerías que requieras durante esta actividad:\n",
    "\n",
    "import pandas as pd\n",
    "import numpy as np\n",
    "import matplotlib.pyplot as plt\n",
    "import seaborn as sns\n",
    "\n",
    "from pandas.api.types import CategoricalDtype\n",
    "\n",
    "from sklearn import preprocessing\n",
    "from sklearn.model_selection import train_test_split\n",
    "from sklearn.preprocessing import LabelEncoder\n",
    "from sklearn.preprocessing import StandardScaler\n",
    "from sklearn.preprocessing import MinMaxScaler\n",
    "from sklearn.preprocessing import OneHotEncoder\n",
    "from sklearn.preprocessing import OrdinalEncoder\n",
    "from sklearn.preprocessing import PolynomialFeatures\n",
    "from sklearn.preprocessing import FunctionTransformer\n",
    "from sklearn.compose import ColumnTransformer\n",
    "from sklearn.compose import make_column_transformer\n",
    "from sklearn.pipeline import make_pipeline\n",
    "from sklearn.pipeline import Pipeline, FeatureUnion\n",
    "\n",
    "\n",
    "\n",
    "from sklearn.decomposition import PCA\n",
    "from sklearn.linear_model import LinearRegression\n",
    "from sklearn.linear_model import LogisticRegression\n",
    "from sklearn.neighbors import KNeighborsClassifier\n",
    "from sklearn.tree import DecisionTreeClassifier\n",
    "from sklearn.ensemble import RandomForestClassifier\n",
    "from xgboost import XGBClassifier\n",
    "from sklearn.neural_network import MLPClassifier\n",
    "from sklearn.svm import SVC\n",
    "from sklearn.model_selection import RepeatedStratifiedKFold, cross_validate\n",
    "\n",
    "from sklearn import metrics\n",
    "\n",
    "from pandas.plotting import scatter_matrix\n",
    "from sklearn.metrics import confusion_matrix, classification_report\n",
    "from sklearn.metrics import recall_score\n",
    "from sklearn.metrics import precision_score\n",
    "from sklearn.metrics import accuracy_score\n",
    "\n",
    "\n",
    "from sklearn.neighbors import KNeighborsClassifier\n",
    "from imblearn.over_sampling import BorderlineSMOTE\n",
    "from sklearn.inspection import permutation_importance\n",
    "from sklearn.feature_selection import SelectFromModel\n"
   ]
  },
  {
   "cell_type": "code",
   "execution_count": 52,
   "metadata": {
    "id": "K3gUzoM3iRkt"
   },
   "outputs": [],
   "source": [
    "# Si se desean comentar algunos de los Warnings.\n",
    "#import warnings\n",
    "#warnings.filterwarnings('ignore')"
   ]
  },
  {
   "cell_type": "markdown",
   "metadata": {},
   "source": [
    "Descarga los datos, los cuales nos llevan a un arreglo de 1000 registros y 21 variables. Cambia los títulos de las columnas al nombre en inglés (originalmente están en alemán). La información la puedes encontrar en cualquiera de las ligas\n",
    "\n",
    "+ https://www.kaggle.com/competitions/south-german-credit-prediction/overview\n",
    "+ https://ieeexplore.ieee.org/stamp/stamp.jsp?arnumber=9239944"
   ]
  },
  {
   "cell_type": "code",
   "execution_count": 53,
   "metadata": {
    "id": "ppyf8TTgb9zq"
   },
   "outputs": [
    {
     "data": {
      "text/plain": [
       "Index(['laufkont', 'laufzeit', 'moral', 'verw', 'hoehe', 'sparkont', 'beszeit',\n",
       "       'rate', 'famges', 'buerge', 'wohnzeit', 'verm', 'alter', 'weitkred',\n",
       "       'wohn', 'bishkred', 'beruf', 'pers', 'telef', 'gastarb', 'kredit'],\n",
       "      dtype='object')"
      ]
     },
     "execution_count": 53,
     "metadata": {},
     "output_type": "execute_result"
    }
   ],
   "source": [
    "# Carga y renombra los nombres de las columnas del alemán al inglés y desplegamos\n",
    "# de nuevo el DataFrame para ver el resultado obtenido:\n",
    "\n",
    "# ************* Inlcuye aquí tu código:*****************************\n",
    "None   # NOTA: Tanto aquí como en lo sucesivo, \"None\" puede indicar una o varias líneas de código.\n",
    "\n",
    "# Se lee el archivo que se obtuvo de la página de UC Irvine\n",
    "df = pd.read_csv('SouthGermanCredit.asc', delim_whitespace=True)\n",
    "\n",
    "# Veamos los nombres de las columnas del dataframe original\n",
    "df.columns"
   ]
  },
  {
   "cell_type": "code",
   "execution_count": 54,
   "metadata": {},
   "outputs": [
    {
     "data": {
      "text/html": [
       "<div>\n",
       "<style scoped>\n",
       "    .dataframe tbody tr th:only-of-type {\n",
       "        vertical-align: middle;\n",
       "    }\n",
       "\n",
       "    .dataframe tbody tr th {\n",
       "        vertical-align: top;\n",
       "    }\n",
       "\n",
       "    .dataframe thead th {\n",
       "        text-align: right;\n",
       "    }\n",
       "</style>\n",
       "<table border=\"1\" class=\"dataframe\">\n",
       "  <thead>\n",
       "    <tr style=\"text-align: right;\">\n",
       "      <th></th>\n",
       "      <th>0</th>\n",
       "      <th>1</th>\n",
       "      <th>2</th>\n",
       "      <th>3</th>\n",
       "      <th>4</th>\n",
       "    </tr>\n",
       "  </thead>\n",
       "  <tbody>\n",
       "    <tr>\n",
       "      <th>status</th>\n",
       "      <td>1</td>\n",
       "      <td>1</td>\n",
       "      <td>2</td>\n",
       "      <td>1</td>\n",
       "      <td>1</td>\n",
       "    </tr>\n",
       "    <tr>\n",
       "      <th>duration</th>\n",
       "      <td>18</td>\n",
       "      <td>9</td>\n",
       "      <td>12</td>\n",
       "      <td>12</td>\n",
       "      <td>12</td>\n",
       "    </tr>\n",
       "    <tr>\n",
       "      <th>credit_history</th>\n",
       "      <td>4</td>\n",
       "      <td>4</td>\n",
       "      <td>2</td>\n",
       "      <td>4</td>\n",
       "      <td>4</td>\n",
       "    </tr>\n",
       "    <tr>\n",
       "      <th>purpose</th>\n",
       "      <td>2</td>\n",
       "      <td>0</td>\n",
       "      <td>9</td>\n",
       "      <td>0</td>\n",
       "      <td>0</td>\n",
       "    </tr>\n",
       "    <tr>\n",
       "      <th>amount</th>\n",
       "      <td>1049</td>\n",
       "      <td>2799</td>\n",
       "      <td>841</td>\n",
       "      <td>2122</td>\n",
       "      <td>2171</td>\n",
       "    </tr>\n",
       "    <tr>\n",
       "      <th>savings</th>\n",
       "      <td>1</td>\n",
       "      <td>1</td>\n",
       "      <td>2</td>\n",
       "      <td>1</td>\n",
       "      <td>1</td>\n",
       "    </tr>\n",
       "    <tr>\n",
       "      <th>employment_duration</th>\n",
       "      <td>2</td>\n",
       "      <td>3</td>\n",
       "      <td>4</td>\n",
       "      <td>3</td>\n",
       "      <td>3</td>\n",
       "    </tr>\n",
       "    <tr>\n",
       "      <th>installment_rate</th>\n",
       "      <td>4</td>\n",
       "      <td>2</td>\n",
       "      <td>2</td>\n",
       "      <td>3</td>\n",
       "      <td>4</td>\n",
       "    </tr>\n",
       "    <tr>\n",
       "      <th>personal_status_sex</th>\n",
       "      <td>2</td>\n",
       "      <td>3</td>\n",
       "      <td>2</td>\n",
       "      <td>3</td>\n",
       "      <td>3</td>\n",
       "    </tr>\n",
       "    <tr>\n",
       "      <th>other_debtors</th>\n",
       "      <td>1</td>\n",
       "      <td>1</td>\n",
       "      <td>1</td>\n",
       "      <td>1</td>\n",
       "      <td>1</td>\n",
       "    </tr>\n",
       "    <tr>\n",
       "      <th>present_residence</th>\n",
       "      <td>4</td>\n",
       "      <td>2</td>\n",
       "      <td>4</td>\n",
       "      <td>2</td>\n",
       "      <td>4</td>\n",
       "    </tr>\n",
       "    <tr>\n",
       "      <th>property</th>\n",
       "      <td>2</td>\n",
       "      <td>1</td>\n",
       "      <td>1</td>\n",
       "      <td>1</td>\n",
       "      <td>2</td>\n",
       "    </tr>\n",
       "    <tr>\n",
       "      <th>age</th>\n",
       "      <td>21</td>\n",
       "      <td>36</td>\n",
       "      <td>23</td>\n",
       "      <td>39</td>\n",
       "      <td>38</td>\n",
       "    </tr>\n",
       "    <tr>\n",
       "      <th>other_installment_plans</th>\n",
       "      <td>3</td>\n",
       "      <td>3</td>\n",
       "      <td>3</td>\n",
       "      <td>3</td>\n",
       "      <td>1</td>\n",
       "    </tr>\n",
       "    <tr>\n",
       "      <th>housing</th>\n",
       "      <td>1</td>\n",
       "      <td>1</td>\n",
       "      <td>1</td>\n",
       "      <td>1</td>\n",
       "      <td>2</td>\n",
       "    </tr>\n",
       "    <tr>\n",
       "      <th>number_credits</th>\n",
       "      <td>1</td>\n",
       "      <td>2</td>\n",
       "      <td>1</td>\n",
       "      <td>2</td>\n",
       "      <td>2</td>\n",
       "    </tr>\n",
       "    <tr>\n",
       "      <th>job</th>\n",
       "      <td>3</td>\n",
       "      <td>3</td>\n",
       "      <td>2</td>\n",
       "      <td>2</td>\n",
       "      <td>2</td>\n",
       "    </tr>\n",
       "    <tr>\n",
       "      <th>people_liable</th>\n",
       "      <td>2</td>\n",
       "      <td>1</td>\n",
       "      <td>2</td>\n",
       "      <td>1</td>\n",
       "      <td>2</td>\n",
       "    </tr>\n",
       "    <tr>\n",
       "      <th>telephone</th>\n",
       "      <td>1</td>\n",
       "      <td>1</td>\n",
       "      <td>1</td>\n",
       "      <td>1</td>\n",
       "      <td>1</td>\n",
       "    </tr>\n",
       "    <tr>\n",
       "      <th>foreign_worker</th>\n",
       "      <td>2</td>\n",
       "      <td>2</td>\n",
       "      <td>2</td>\n",
       "      <td>1</td>\n",
       "      <td>1</td>\n",
       "    </tr>\n",
       "    <tr>\n",
       "      <th>credit_risk</th>\n",
       "      <td>1</td>\n",
       "      <td>1</td>\n",
       "      <td>1</td>\n",
       "      <td>1</td>\n",
       "      <td>1</td>\n",
       "    </tr>\n",
       "  </tbody>\n",
       "</table>\n",
       "</div>"
      ],
      "text/plain": [
       "                            0     1    2     3     4\n",
       "status                      1     1    2     1     1\n",
       "duration                   18     9   12    12    12\n",
       "credit_history              4     4    2     4     4\n",
       "purpose                     2     0    9     0     0\n",
       "amount                   1049  2799  841  2122  2171\n",
       "savings                     1     1    2     1     1\n",
       "employment_duration         2     3    4     3     3\n",
       "installment_rate            4     2    2     3     4\n",
       "personal_status_sex         2     3    2     3     3\n",
       "other_debtors               1     1    1     1     1\n",
       "present_residence           4     2    4     2     4\n",
       "property                    2     1    1     1     2\n",
       "age                        21    36   23    39    38\n",
       "other_installment_plans     3     3    3     3     1\n",
       "housing                     1     1    1     1     2\n",
       "number_credits              1     2    1     2     2\n",
       "job                         3     3    2     2     2\n",
       "people_liable               2     1    2     1     2\n",
       "telephone                   1     1    1     1     1\n",
       "foreign_worker              2     2    2     1     1\n",
       "credit_risk                 1     1    1     1     1"
      ]
     },
     "execution_count": 54,
     "metadata": {},
     "output_type": "execute_result"
    }
   ],
   "source": [
    "# Se define un diccionario que relaciona los nombres en aleman e inglés\n",
    "dicc_nombres = {'laufkont': 'status',\n",
    "                'laufzeit': 'duration',\n",
    "                'moral': 'credit_history',\n",
    "                'verw': 'purpose',\n",
    "                'hoehe': 'amount',\n",
    "                'sparkont': 'savings',\n",
    "                'beszeit': 'employment_duration',\n",
    "                'rate': 'installment_rate',\n",
    "                'famges': 'personal_status_sex',\n",
    "                'buerge': 'other_debtors',\n",
    "                'wohnzeit': 'present_residence',\n",
    "                'verm': 'property',\n",
    "                'alter': 'age',\n",
    "                'weitkred': 'other_installment_plans',\n",
    "                'wohn': 'housing',\n",
    "                'bishkred': 'number_credits',\n",
    "                'beruf': 'job',\n",
    "                'pers': 'people_liable',\n",
    "                'telef': 'telephone',\n",
    "                'gastarb': 'foreign_worker',\n",
    "                'kredit': 'credit_risk'\n",
    "            }\n",
    " \n",
    "# Se renombrea las columnas en el DataFrame usando el diccionario\n",
    "df.rename(columns = dicc_nombres, inplace=True)\n",
    "\n",
    "# *********** Aquí termina la sección de agregar código *************\n",
    "\n",
    "df.head().T"
   ]
  },
  {
   "cell_type": "markdown",
   "metadata": {
    "id": "LckYCS8SlnFo"
   },
   "source": [
    "## **Ejercicio 2**"
   ]
  },
  {
   "cell_type": "markdown",
   "metadata": {},
   "source": [
    "Contrario a lo que sucede en analítica de datos, la clase mayoritaria de los buenos clientes están etiquetados con el valor de 1 y los malos clientes con el valor de 0. Como este no es el proceder dentro del área de ciencia de datos, aplica alguna transformación para invertir dichos valores, de manera que en lo sucesivo la clase negativa y mayoritaria de los buenos clientes estén etiquetados con el valor de 0 y los malos clientes o clase positiva y minoritaria, estén etiquetados con el valor de 1."
   ]
  },
  {
   "cell_type": "code",
   "execution_count": 55,
   "metadata": {
    "id": "Tlg8jYbnlqNA"
   },
   "outputs": [
    {
     "name": "stdout",
     "output_type": "stream",
     "text": [
      "1    700\n",
      "0    300\n",
      "Name: credit_risk, dtype: int64\n"
     ]
    }
   ],
   "source": [
    "# Los datos originales tienen en la variable de salida \"credit_risk\" a la clase negativa (buen cliente) con el valor de 1\n",
    "# y a la clase de interés positiva (mal cliente) con el valor de 0. Realiza a continuación una transformación para que la\n",
    "# clase negativa (buen cliente) quede ahora con el valor de 0 y la clase positiva (mal cliente) quede con el valor de 1.\n",
    "\n",
    "# Veamos los datos originales\n",
    "print(df['credit_risk'].value_counts())"
   ]
  },
  {
   "cell_type": "markdown",
   "metadata": {},
   "source": [
    "Ahora se hará el cambio de etiquetas simplemente aplicando una función que convierta al '0' en '1' y al resto en '0':"
   ]
  },
  {
   "cell_type": "code",
   "execution_count": 56,
   "metadata": {},
   "outputs": [
    {
     "name": "stdout",
     "output_type": "stream",
     "text": [
      "0    700\n",
      "1    300\n",
      "Name: credit_risk, dtype: int64\n"
     ]
    }
   ],
   "source": [
    "# ************* Inlcuye aquí tu código:*****************************\n",
    "\n",
    "# Simplemente se aplica una fución lambda\n",
    "df['credit_risk'] = df['credit_risk'].apply(lambda x: 1 if x == 0 else 0)\n",
    "\n",
    "\n",
    "# *********** Aquí termina la sección de agregar código *************\n",
    "\n",
    "print(df['credit_risk'].value_counts())"
   ]
  },
  {
   "cell_type": "markdown",
   "metadata": {},
   "source": [
    "Se puede observar que las etiquetas de clase se intercambiaron :)"
   ]
  },
  {
   "cell_type": "markdown",
   "metadata": {
    "id": "qQx2lbzTkEsQ"
   },
   "source": [
    "## **Ejercicio 3**"
   ]
  },
  {
   "cell_type": "markdown",
   "metadata": {},
   "source": [
    "Realiza una partición de los datos en los conjuntos de entrenamiento, validación y prueba, del 70%, 15% y 15%, respectivamente. Con base al porcentaje de los niveles de la variable de salida ¿podemos decir que tenemos un problema de datos desbalanceado? ¿Por qué?"
   ]
  },
  {
   "cell_type": "code",
   "execution_count": 57,
   "metadata": {
    "id": "TP5-zdWVczhy"
   },
   "outputs": [
    {
     "name": "stdout",
     "output_type": "stream",
     "text": [
      "Dimensiones:\n",
      "Entrenamiento: (700, 20) (700,)\n",
      "Validación: (150, 20) (150,)\n",
      "Prueba: (150, 20) (150,)\n",
      "\n",
      "Porcentaje clases Positiva:70.00%, y Negativa:30.00%\n"
     ]
    }
   ],
   "source": [
    "# Realiza una partición de 70-15-15 en entrenamiento, validación y prueba.\n",
    "# Los nombres de los conjuntos deberán ser como se indican en los print de abajo:\n",
    "\n",
    "# ************* Inlcuye aquí tu código:*****************************\n",
    "\n",
    "# Se consruye el dataset de las POSIBLES variables predictoras\n",
    "X = df.drop('credit_risk', axis = 1)\n",
    "\n",
    "# Se consruye el dataset de la variable de salida\n",
    "y = df['credit_risk']\n",
    "\n",
    "# Particionamos 70% Train y 30% una temporal para volverla a dividir, para los datos de entrada y de salida, respectivamente, garantizando\n",
    "# que dicha partición conserve la estratificación de las clases de la variable respuesta\n",
    "Xtrain, Xtemp, ytrain, ytemp = train_test_split(X, y,\n",
    "                                                train_size = 0.7,\n",
    "                                                random_state = 1,\n",
    "                                                stratify = y)\n",
    "\n",
    "#Particionamos el 30% en 50% validación y 50% en test.\n",
    "Xval, Xtest, yval, ytest = train_test_split(Xtemp, ytemp,\n",
    "                                            train_size = 0.5,\n",
    "                                            random_state = 1,\n",
    "                                            stratify = ytemp)\n",
    "\n",
    "\n",
    "# *********** Aquí termina la sección de agregar código *************\n",
    "\n",
    "\n",
    "# Mostremos las dimensiones de la partición generada:\n",
    "print(\"Dimensiones:\")\n",
    "print(\"Entrenamiento:\", Xtrain.shape, ytrain.shape)\n",
    "print(\"Validación:\", Xval.shape, yval.shape)\n",
    "print(\"Prueba:\", Xtest.shape, ytest.shape)\n",
    "\n",
    "# Y el porcentaje de cada clase de la variable de salida:\n",
    "tmp = ytrain.sum()/ytrain.shape[0]\n",
    "print(\"\\nPorcentaje clases Positiva:%.2f%%, y Negativa:%.2f%%\" % (100*(1-tmp),tmp*100))\n"
   ]
  },
  {
   "cell_type": "markdown",
   "metadata": {
    "id": "ptwAm_mOjVWH"
   },
   "source": [
    "### **Con base al porcentaje de los niveles de la variable de salida ¿podemos decir que tenemos un problema de datos desbalanceado? ¿Por qué?**"
   ]
  },
  {
   "cell_type": "markdown",
   "metadata": {},
   "source": [
    "Observemos la proporción de '1' en el dataset original:"
   ]
  },
  {
   "cell_type": "code",
   "execution_count": 58,
   "metadata": {},
   "outputs": [
    {
     "data": {
      "text/plain": [
       "0    0.7\n",
       "1    0.3\n",
       "Name: credit_risk, dtype: float64"
      ]
     },
     "execution_count": 58,
     "metadata": {},
     "output_type": "execute_result"
    }
   ],
   "source": [
    "df['credit_risk'].value_counts()/len(df['credit_risk'])"
   ]
  },
  {
   "cell_type": "markdown",
   "metadata": {},
   "source": [
    "Verificamos la proporción de '1' en el dataset de entrenamiento:"
   ]
  },
  {
   "cell_type": "code",
   "execution_count": 59,
   "metadata": {},
   "outputs": [
    {
     "data": {
      "text/plain": [
       "0    0.7\n",
       "1    0.3\n",
       "Name: credit_risk, dtype: float64"
      ]
     },
     "execution_count": 59,
     "metadata": {},
     "output_type": "execute_result"
    }
   ],
   "source": [
    "ytrain.value_counts()/len(ytrain)"
   ]
  },
  {
   "cell_type": "markdown",
   "metadata": {},
   "source": [
    "Verificamos la proporción de '1' en el dataset de validación:"
   ]
  },
  {
   "cell_type": "code",
   "execution_count": 60,
   "metadata": {},
   "outputs": [
    {
     "data": {
      "text/plain": [
       "0    0.7\n",
       "1    0.3\n",
       "Name: credit_risk, dtype: float64"
      ]
     },
     "execution_count": 60,
     "metadata": {},
     "output_type": "execute_result"
    }
   ],
   "source": [
    "yval.value_counts()/len(yval)"
   ]
  },
  {
   "cell_type": "markdown",
   "metadata": {},
   "source": [
    "Verificamos la proporción de '1' en el dataset de prueba:"
   ]
  },
  {
   "cell_type": "code",
   "execution_count": 61,
   "metadata": {},
   "outputs": [
    {
     "data": {
      "text/plain": [
       "0    0.7\n",
       "1    0.3\n",
       "Name: credit_risk, dtype: float64"
      ]
     },
     "execution_count": 61,
     "metadata": {},
     "output_type": "execute_result"
    }
   ],
   "source": [
    "ytest.value_counts()/len(ytest)"
   ]
  },
  {
   "cell_type": "markdown",
   "metadata": {},
   "source": [
    "### ++++++++ Inicia la sección de agregar texto: +++++++++++\n",
    "\n",
    "Considerando la proporción de las respuestas, 70% tiene etiqueta 0, y 30% etiqueta 1; y usando como referencia que para que una clase se considere desbalanceada debe al menos tener la distribución 80/20, entonces **SÍ** se considera que este conjunto de datos tienen datos desbalanceados.\n",
    "\n",
    "### ++++++++ Termina la sección de agregar texto: +++++++++++"
   ]
  },
  {
   "cell_type": "markdown",
   "metadata": {
    "id": "ocmGcSC2j_2x"
   },
   "source": [
    "## **Ejercicio 4**"
   ]
  },
  {
   "cell_type": "markdown",
   "metadata": {},
   "source": [
    "El tipo de variable en que se puede clasificar un factor depende en ocasiones del tratamiento que le da el analista. En nuestro caso, siguiendo la información dada en las referencias de la base de datos South-German-Credit, las clasificamos de acuerdo a como se indica a continuación. A partir de las referencias dadas y de la información que puedas obtener de los datos, indica el significado de cada una de las 21 variables. En particular, para todas las variables categóricas deberás indicar el número de niveles que tiene cada una.\n",
    "\n",
    "Primero veamos cómo están codificadas las variables del dataset:"
   ]
  },
  {
   "cell_type": "code",
   "execution_count": 62,
   "metadata": {},
   "outputs": [
    {
     "name": "stdout",
     "output_type": "stream",
     "text": [
      "<class 'pandas.core.frame.DataFrame'>\n",
      "RangeIndex: 1000 entries, 0 to 999\n",
      "Data columns (total 21 columns):\n",
      " #   Column                   Non-Null Count  Dtype\n",
      "---  ------                   --------------  -----\n",
      " 0   status                   1000 non-null   int64\n",
      " 1   duration                 1000 non-null   int64\n",
      " 2   credit_history           1000 non-null   int64\n",
      " 3   purpose                  1000 non-null   int64\n",
      " 4   amount                   1000 non-null   int64\n",
      " 5   savings                  1000 non-null   int64\n",
      " 6   employment_duration      1000 non-null   int64\n",
      " 7   installment_rate         1000 non-null   int64\n",
      " 8   personal_status_sex      1000 non-null   int64\n",
      " 9   other_debtors            1000 non-null   int64\n",
      " 10  present_residence        1000 non-null   int64\n",
      " 11  property                 1000 non-null   int64\n",
      " 12  age                      1000 non-null   int64\n",
      " 13  other_installment_plans  1000 non-null   int64\n",
      " 14  housing                  1000 non-null   int64\n",
      " 15  number_credits           1000 non-null   int64\n",
      " 16  job                      1000 non-null   int64\n",
      " 17  people_liable            1000 non-null   int64\n",
      " 18  telephone                1000 non-null   int64\n",
      " 19  foreign_worker           1000 non-null   int64\n",
      " 20  credit_risk              1000 non-null   int64\n",
      "dtypes: int64(21)\n",
      "memory usage: 164.2 KB\n"
     ]
    }
   ],
   "source": [
    "df.info()"
   ]
  },
  {
   "cell_type": "markdown",
   "metadata": {},
   "source": [
    "Se puede observar que todas están codificadas como números enteros. Dado que están codificados como valores numéricos, veamos cómo se ven sus histogramas:"
   ]
  },
  {
   "cell_type": "code",
   "execution_count": 63,
   "metadata": {},
   "outputs": [
    {
     "data": {
      "image/png": "[encoded data removed]",
      "text/plain": [
       "<Figure size 1080x1080 with 25 Axes>"
      ]
     },
     "metadata": {
      "needs_background": "light"
     },
     "output_type": "display_data"
    }
   ],
   "source": [
    "df.hist(figsize= (15,15), bins= 50, density = True, alpha = 0.7, edgecolor = 'black');"
   ]
  },
  {
   "cell_type": "markdown",
   "metadata": {},
   "source": [
    "Se puede observar que sólo las variables `duration`, `amount` y `age`, toman un número considerable de valores. El resto de las variables sólo toma unos cuantos valores, haciendo sospechar que se puede tratar de variables cualitativas, no cuantitativas"
   ]
  },
  {
   "cell_type": "markdown",
   "metadata": {},
   "source": [
    "### **Describe a continuación la información de cada variable: su descripción, el tipo de variable y para el caso de las categóricas, el total de niveles.**\n",
    "\n",
    "### ++++++++ Inicia la sección de agregar texto: +++++++++++\n",
    "\n",
    "### **3 Variables Numéricas reales o flotantes:**\n",
    "*   **duration:** Se describen algunas estadísticas descriptivas en el siguiente chunk de código.\n",
    "*   **amount:** Se describen algunas estadísticas descriptivas en el siguiente chunk de código.\n",
    "*   **age:** Se describen algunas estadísticas descriptivas en el siguiente chunk de código."
   ]
  },
  {
   "cell_type": "code",
   "execution_count": 64,
   "metadata": {},
   "outputs": [
    {
     "data": {
      "text/html": [
       "<div>\n",
       "<style scoped>\n",
       "    .dataframe tbody tr th:only-of-type {\n",
       "        vertical-align: middle;\n",
       "    }\n",
       "\n",
       "    .dataframe tbody tr th {\n",
       "        vertical-align: top;\n",
       "    }\n",
       "\n",
       "    .dataframe thead th {\n",
       "        text-align: right;\n",
       "    }\n",
       "</style>\n",
       "<table border=\"1\" class=\"dataframe\">\n",
       "  <thead>\n",
       "    <tr style=\"text-align: right;\">\n",
       "      <th></th>\n",
       "      <th>count</th>\n",
       "      <th>mean</th>\n",
       "      <th>std</th>\n",
       "      <th>min</th>\n",
       "      <th>25%</th>\n",
       "      <th>50%</th>\n",
       "      <th>75%</th>\n",
       "      <th>max</th>\n",
       "    </tr>\n",
       "  </thead>\n",
       "  <tbody>\n",
       "    <tr>\n",
       "      <th>duration</th>\n",
       "      <td>1000.0</td>\n",
       "      <td>20.903</td>\n",
       "      <td>12.058814</td>\n",
       "      <td>4.0</td>\n",
       "      <td>12.0</td>\n",
       "      <td>18.0</td>\n",
       "      <td>24.00</td>\n",
       "      <td>72.0</td>\n",
       "    </tr>\n",
       "    <tr>\n",
       "      <th>amount</th>\n",
       "      <td>1000.0</td>\n",
       "      <td>3271.248</td>\n",
       "      <td>2822.751760</td>\n",
       "      <td>250.0</td>\n",
       "      <td>1365.5</td>\n",
       "      <td>2319.5</td>\n",
       "      <td>3972.25</td>\n",
       "      <td>18424.0</td>\n",
       "    </tr>\n",
       "    <tr>\n",
       "      <th>age</th>\n",
       "      <td>1000.0</td>\n",
       "      <td>35.542</td>\n",
       "      <td>11.352670</td>\n",
       "      <td>19.0</td>\n",
       "      <td>27.0</td>\n",
       "      <td>33.0</td>\n",
       "      <td>42.00</td>\n",
       "      <td>75.0</td>\n",
       "    </tr>\n",
       "  </tbody>\n",
       "</table>\n",
       "</div>"
      ],
      "text/plain": [
       "           count      mean          std    min     25%     50%      75%  \\\n",
       "duration  1000.0    20.903    12.058814    4.0    12.0    18.0    24.00   \n",
       "amount    1000.0  3271.248  2822.751760  250.0  1365.5  2319.5  3972.25   \n",
       "age       1000.0    35.542    11.352670   19.0    27.0    33.0    42.00   \n",
       "\n",
       "              max  \n",
       "duration     72.0  \n",
       "amount    18424.0  \n",
       "age          75.0  "
      ]
     },
     "execution_count": 64,
     "metadata": {},
     "output_type": "execute_result"
    }
   ],
   "source": [
    "variables_numericas = ['duration','amount','age']\n",
    "\n",
    "df[variables_numericas].describe().T"
   ]
  },
  {
   "cell_type": "markdown",
   "metadata": {},
   "source": [
    "### **6 Variables de entrada Categóricas Nominales:**\n",
    "\n",
    "El total de niveles se obtuvo con los códigos que aparecen debajo de este chunk de texto:\n",
    "\n",
    "*   **credit_history (total de niveles):** 5\n",
    "*   **purpose (total de niveles):** 10\n",
    "*   **personal_status_sex (total de niveles):** 4\n",
    "*   **other_debtors (total de niveles):** 3\n",
    "*   **other_installment_plans (total de niveles):** 3\n",
    "*   **housing (total de niveles):** 3"
   ]
  },
  {
   "cell_type": "code",
   "execution_count": 65,
   "metadata": {},
   "outputs": [
    {
     "data": {
      "text/plain": [
       "credit_history              5\n",
       "purpose                    10\n",
       "personal_status_sex         4\n",
       "other_debtors               3\n",
       "other_installment_plans     3\n",
       "housing                     3\n",
       "dtype: int64"
      ]
     },
     "execution_count": 65,
     "metadata": {},
     "output_type": "execute_result"
    }
   ],
   "source": [
    "variables_nominales = ['credit_history','purpose','personal_status_sex','other_debtors',\n",
    "                       'other_installment_plans','housing']\n",
    "\n",
    "df[variables_nominales].nunique()"
   ]
  },
  {
   "cell_type": "code",
   "execution_count": 66,
   "metadata": {},
   "outputs": [
    {
     "data": {
      "image/png": "[encoded data removed]",
      "text/plain": [
       "<Figure size 720x720 with 6 Axes>"
      ]
     },
     "metadata": {
      "needs_background": "light"
     },
     "output_type": "display_data"
    }
   ],
   "source": [
    "# Hacemos una gráfica para bocetar la frecuencia de cada clase\n",
    "\n",
    "fig, axes = plt.subplots(2,3, figsize = (10,10))\n",
    "axes = axes.ravel()\n",
    "for col, ax in zip(df[variables_nominales], axes):\n",
    "  sns.countplot(x = df[col], ax = ax)\n",
    "  ax.set(title = f'{col}', xlabel = None)"
   ]
  },
  {
   "cell_type": "markdown",
   "metadata": {},
   "source": [
    "### **4 Variables Categóricas Binarias (3 de entrada y 1 de salida):**\n",
    "\n",
    "*   **people_liable:**\n",
    "*   **telephone:**\n",
    "*   **foreign_worker:**\n",
    "*   **credit_risk:** (Variable de salida)"
   ]
  },
  {
   "cell_type": "code",
   "execution_count": 67,
   "metadata": {},
   "outputs": [
    {
     "data": {
      "text/plain": [
       "people_liable     2\n",
       "telephone         2\n",
       "foreign_worker    2\n",
       "credit_risk       2\n",
       "dtype: int64"
      ]
     },
     "execution_count": 67,
     "metadata": {},
     "output_type": "execute_result"
    }
   ],
   "source": [
    "variables_binarias = ['people_liable', 'telephone', 'foreign_worker', 'credit_risk']\n",
    "\n",
    "df[variables_binarias].nunique()"
   ]
  },
  {
   "cell_type": "code",
   "execution_count": 68,
   "metadata": {},
   "outputs": [
    {
     "data": {
      "image/png": "[encoded data removed]",
      "text/plain": [
       "<Figure size 720x720 with 4 Axes>"
      ]
     },
     "metadata": {
      "needs_background": "light"
     },
     "output_type": "display_data"
    }
   ],
   "source": [
    "# Hacemos una gráfica para bocetar la frecuencia de cada clase\n",
    "\n",
    "fig, axes = plt.subplots(2,2, figsize = (10,10))\n",
    "axes = axes.ravel()\n",
    "for col, ax in zip(df[variables_binarias], axes):\n",
    "  sns.countplot(x = df[col], ax = ax)\n",
    "  ax.set(title = f'{col}', xlabel = None)"
   ]
  },
  {
   "cell_type": "markdown",
   "metadata": {},
   "source": [
    "### **5 Variables Categóricas Ordinales (Cuantitativas Discretas + Strings):**\n",
    "\n",
    "#### NOTA: Estas variables están formadas por niveles que contienen intervalos numéricos y de texto.\n",
    "\n",
    "El total de niveles se obtuvo con los códigos que aparecen debajo de este chunk de texto:\n",
    "\n",
    "*   **status (total de niveles):** 4\n",
    "*   **savings (total de niveles):** 5\n",
    "*   **employment_duration (total de niveles):** 5\n",
    "*   **property (total de niveles):** 4\n",
    "*   **job (total de niveles):** 4"
   ]
  },
  {
   "cell_type": "code",
   "execution_count": 69,
   "metadata": {},
   "outputs": [
    {
     "data": {
      "text/plain": [
       "status                 4\n",
       "savings                5\n",
       "employment_duration    5\n",
       "property               4\n",
       "job                    4\n",
       "dtype: int64"
      ]
     },
     "execution_count": 69,
     "metadata": {},
     "output_type": "execute_result"
    }
   ],
   "source": [
    "variables_ordinales = ['status', 'savings', 'employment_duration', 'property', 'job']\n",
    "\n",
    "df[variables_ordinales].nunique()"
   ]
  },
  {
   "cell_type": "code",
   "execution_count": 70,
   "metadata": {},
   "outputs": [
    {
     "data": {
      "image/png": "[encoded data removed]",
      "text/plain": [
       "<Figure size 720x720 with 6 Axes>"
      ]
     },
     "metadata": {
      "needs_background": "light"
     },
     "output_type": "display_data"
    }
   ],
   "source": [
    "# Hacemos una gráfica para bocetar la frecuencia de cada clase\n",
    "\n",
    "fig, axes = plt.subplots(3,2, figsize = (10,10))\n",
    "axes = axes.ravel()\n",
    "for col, ax in zip(df[variables_ordinales], axes):\n",
    "  sns.countplot(x = df[col], ax = ax)\n",
    "  ax.set(title = f'{col}', xlabel = None)"
   ]
  },
  {
   "cell_type": "markdown",
   "metadata": {
    "id": "EgO8Jh2bXrL0"
   },
   "source": [
    "### **3 Variables Categóricas Ordinales:**\n",
    "### NOTA: Estas categóricas ordinales están formadas solo por intervalos numéricos.\n",
    "\n",
    "El total de niveles se obtuvo con los códigos que aparecen debajo de este chunk de texto:\n",
    "\n",
    "*   **installment_rate (total de niveles):** 4\n",
    "*   **present_residence (total de niveles):** 4\n",
    "*   **number_credits (total de niveles):** 4"
   ]
  },
  {
   "cell_type": "code",
   "execution_count": 71,
   "metadata": {},
   "outputs": [
    {
     "data": {
      "text/plain": [
       "installment_rate     4\n",
       "present_residence    4\n",
       "number_credits       4\n",
       "dtype: int64"
      ]
     },
     "execution_count": 71,
     "metadata": {},
     "output_type": "execute_result"
    }
   ],
   "source": [
    "variables_ordinales2 = ['installment_rate', 'present_residence', 'number_credits']\n",
    "\n",
    "df[variables_ordinales2].nunique()"
   ]
  },
  {
   "cell_type": "code",
   "execution_count": 72,
   "metadata": {},
   "outputs": [
    {
     "data": {
      "image/png": "[encoded data removed]",
      "text/plain": [
       "<Figure size 1152x576 with 3 Axes>"
      ]
     },
     "metadata": {
      "needs_background": "light"
     },
     "output_type": "display_data"
    }
   ],
   "source": [
    "# Hacemos una gráfica para bocetar la frecuencia de cada clase\n",
    "\n",
    "fig, axes = plt.subplots(1,3, figsize = (16,8))\n",
    "axes = axes.ravel()\n",
    "for col, ax in zip(df[variables_ordinales2], axes):\n",
    "  sns.countplot(x = df[col], ax = ax)\n",
    "  ax.set(title = f'{col}', xlabel = None)"
   ]
  },
  {
   "cell_type": "markdown",
   "metadata": {
    "id": "zb5bE4WJj8Rw"
   },
   "source": [
    "## **Ejercicio 5**"
   ]
  },
  {
   "cell_type": "markdown",
   "metadata": {
    "id": "urAFNUyMjodn"
   },
   "source": [
    "### Análisis descriptivo de las variables usando el conjunto de entrenamiento.\n",
    "\n",
    "### Incluye a continuación todo el código que consideres necesario para analizar las variables y decidir en dado caso qué transformaciones les estarías aplicando."
   ]
  },
  {
   "cell_type": "code",
   "execution_count": 73,
   "metadata": {
    "id": "FZNjwKewd9fK"
   },
   "outputs": [
    {
     "data": {
      "image/png": "[encoded data removed]",
      "text/plain": [
       "<Figure size 1440x360 with 3 Axes>"
      ]
     },
     "metadata": {
      "needs_background": "light"
     },
     "output_type": "display_data"
    }
   ],
   "source": [
    "cols_de_interes = variables_numericas\n",
    "\n",
    "fig, axes = plt.subplots(1,3, figsize=(20,5))\n",
    "plt.subplots_adjust(wspace=0.3)\n",
    "axes = axes.ravel()\n",
    "for col, ax in zip(df[cols_de_interes], axes):\n",
    "  sns.histplot(x=df[col], ax=ax, bins=50, kde=True,\n",
    "               color=\"lightblue\")\n",
    "  ax.set(title=f'{col}', xlabel=None)\n",
    "  ax.lines[0].set_color('orange')\n",
    "  mean = round(df[col].mean(),2)\n",
    "  ax.axvline(mean, color='red', linestyle='dashed', label=\"Media\")\n",
    "  median = round(df[col].median(),2)\n",
    "  ax.axvline(median, color='green', linestyle='dashed', label=\"Mediana\")\n",
    "  ax.annotate('Media: {} \\nMediana: {}'.format(mean, median),\n",
    "              xy=(0.50, 0.60), xycoords='axes fraction',\n",
    "              fontsize=7, ha='left')\n",
    "  asim = round(df[col].skew(),2)\n",
    "  ax.annotate('Asimetria: {}'.format(asim), xy=(0.40, 0.80), \n",
    "              xycoords='axes fraction', fontsize=10, ha='left')"
   ]
  },
  {
   "cell_type": "code",
   "execution_count": 74,
   "metadata": {},
   "outputs": [
    {
     "data": {
      "image/png": "[encoded data removed]",
      "text/plain": [
       "<Figure size 1440x360 with 3 Axes>"
      ]
     },
     "metadata": {
      "needs_background": "light"
     },
     "output_type": "display_data"
    }
   ],
   "source": [
    "df_num_sqrt = df[variables_numericas].applymap(np.log)\n",
    "\n",
    "cols_de_interes = variables_numericas\n",
    "\n",
    "fig, axes = plt.subplots(1,3, figsize=(20,5))\n",
    "plt.subplots_adjust(wspace=0.3)\n",
    "axes = axes.ravel()\n",
    "for col, ax in zip(df_num_sqrt[cols_de_interes], axes):\n",
    "  sns.histplot(x=df_num_sqrt[col], ax=ax, bins=50, kde=True,\n",
    "               color=\"lightblue\")\n",
    "  ax.set(title=f'{col}', xlabel=None)\n",
    "  ax.lines[0].set_color('orange')\n",
    "  mean = round(df_num_sqrt[col].mean(),2)\n",
    "  ax.axvline(mean, color='red', linestyle='dashed', label=\"Media\")\n",
    "  median = round(df_num_sqrt[col].median(),2)\n",
    "  ax.axvline(median, color='green', linestyle='dashed', label=\"Mediana\")\n",
    "  ax.annotate('Media: {} \\nMediana: {}'.format(mean, median),\n",
    "              xy=(0.50, 0.60), xycoords='axes fraction',\n",
    "              fontsize=7, ha='left')\n",
    "  asim = round(df_num_sqrt[col].skew(),2)\n",
    "  ax.annotate('Asimetria: {}'.format(asim), xy=(0.40, 0.80), \n",
    "              xycoords='axes fraction', fontsize=10, ha='left')"
   ]
  },
  {
   "cell_type": "code",
   "execution_count": 75,
   "metadata": {},
   "outputs": [
    {
     "data": {
      "image/png": "[encoded data removed]",
      "text/plain": [
       "<Figure size 1440x360 with 3 Axes>"
      ]
     },
     "metadata": {
      "needs_background": "light"
     },
     "output_type": "display_data"
    }
   ],
   "source": [
    "df_num_sqrt = df[variables_numericas].applymap(np.sqrt)\n",
    "\n",
    "cols_de_interes = variables_numericas\n",
    "\n",
    "fig, axes = plt.subplots(1,3, figsize=(20,5))\n",
    "plt.subplots_adjust(wspace=0.3)\n",
    "axes = axes.ravel()\n",
    "for col, ax in zip(df_num_sqrt[cols_de_interes], axes):\n",
    "  sns.histplot(x=df_num_sqrt[col], ax=ax, bins=50, kde=True,\n",
    "               color=\"lightblue\")\n",
    "  ax.set(title=f'{col}', xlabel=None)\n",
    "  ax.lines[0].set_color('orange')\n",
    "  mean = round(df_num_sqrt[col].mean(),2)\n",
    "  ax.axvline(mean, color='red', linestyle='dashed', label=\"Media\")\n",
    "  median = round(df_num_sqrt[col].median(),2)\n",
    "  ax.axvline(median, color='green', linestyle='dashed', label=\"Mediana\")\n",
    "  ax.annotate('Media: {} \\nMediana: {}'.format(mean, median),\n",
    "              xy=(0.50, 0.60), xycoords='axes fraction',\n",
    "              fontsize=7, ha='left')\n",
    "  asim = round(df_num_sqrt[col].skew(),2)\n",
    "  ax.annotate('Asimetria: {}'.format(asim), xy=(0.40, 0.80), \n",
    "              xycoords='axes fraction', fontsize=10, ha='left')"
   ]
  },
  {
   "cell_type": "code",
   "execution_count": 76,
   "metadata": {},
   "outputs": [
    {
     "data": {
      "image/png": "[encoded data removed]",
      "text/plain": [
       "<Figure size 432x288 with 2 Axes>"
      ]
     },
     "metadata": {
      "needs_background": "light"
     },
     "output_type": "display_data"
    }
   ],
   "source": [
    "sns.heatmap(df[variables_numericas].corr(), annot=True);"
   ]
  },
  {
   "cell_type": "markdown",
   "metadata": {
    "id": "_-W1Y9GxiW4Q"
   },
   "source": [
    "\n",
    "### **Describe y explica a continuación las transformaciones que has decidido aplicar a cada columna:**\n",
    "\n",
    "### ++++++++ Inicia la sección de agregar texto: +++++++++++\n",
    "\n",
    "None\n",
    "\n",
    "\n",
    "### ++++++++ Termina la sección de agregar texto. +++++++++++\n"
   ]
  },
  {
   "cell_type": "code",
   "execution_count": 77,
   "metadata": {},
   "outputs": [],
   "source": [
    "variables_numericas = ['duration', 'amount', 'age']\n",
    "\n",
    "variables_categoricas = ['credit_history','purpose', 'personal_status_sex', 'other_debtors', 'property',\n",
    "                        'other_installment_plans', 'housing', 'telephone', 'foreign_worker']\n",
    "\n",
    "df[variables_categoricas] = df[variables_categoricas].astype(str)\n",
    "\n",
    "variables_ordinales = ['status', 'savings', 'employment_duration', 'installment_rate', 'present_residence',\n",
    "                      'number_credits', 'job', 'people_liable']\n",
    "\n",
    "df[variables_ordinales] = df[variables_ordinales].astype(\"category\")"
   ]
  },
  {
   "cell_type": "code",
   "execution_count": 78,
   "metadata": {},
   "outputs": [],
   "source": [
    "df['status'] = df['status'].astype(CategoricalDtype(categories=[1,2,3,4], ordered=True))\n",
    "df['savings'] = df['savings'].astype(CategoricalDtype(categories=[1,2,3,4,5], ordered=True))\n",
    "df['employment_duration'] = df['employment_duration'].astype(CategoricalDtype(categories=[1,2,3,4,5], ordered=True))\n",
    "df['installment_rate'] = df['installment_rate'].astype(CategoricalDtype(categories=[4,3,2,1], ordered=True))\n",
    "df['present_residence'] = df['present_residence'].astype(CategoricalDtype(categories=[1,2,3,4], ordered=True))\n",
    "df['number_credits'] = df['number_credits'].astype(CategoricalDtype(categories=[1,2,3,4], ordered=True))\n",
    "df['job'] = df['job'].astype(CategoricalDtype(categories=[1,2,3,4], ordered=True))\n",
    "df['people_liable'] = df['people_liable'].astype(CategoricalDtype(categories=[2,1], ordered=True))"
   ]
  },
  {
   "cell_type": "code",
   "execution_count": 79,
   "metadata": {},
   "outputs": [
    {
     "name": "stdout",
     "output_type": "stream",
     "text": [
      "<class 'pandas.core.frame.DataFrame'>\n",
      "RangeIndex: 1000 entries, 0 to 999\n",
      "Data columns (total 21 columns):\n",
      " #   Column                   Non-Null Count  Dtype   \n",
      "---  ------                   --------------  -----   \n",
      " 0   status                   1000 non-null   category\n",
      " 1   duration                 1000 non-null   int64   \n",
      " 2   credit_history           1000 non-null   object  \n",
      " 3   purpose                  1000 non-null   object  \n",
      " 4   amount                   1000 non-null   int64   \n",
      " 5   savings                  1000 non-null   category\n",
      " 6   employment_duration      1000 non-null   category\n",
      " 7   installment_rate         1000 non-null   category\n",
      " 8   personal_status_sex      1000 non-null   object  \n",
      " 9   other_debtors            1000 non-null   object  \n",
      " 10  present_residence        1000 non-null   category\n",
      " 11  property                 1000 non-null   object  \n",
      " 12  age                      1000 non-null   int64   \n",
      " 13  other_installment_plans  1000 non-null   object  \n",
      " 14  housing                  1000 non-null   object  \n",
      " 15  number_credits           1000 non-null   category\n",
      " 16  job                      1000 non-null   category\n",
      " 17  people_liable            1000 non-null   category\n",
      " 18  telephone                1000 non-null   object  \n",
      " 19  foreign_worker           1000 non-null   object  \n",
      " 20  credit_risk              1000 non-null   int64   \n",
      "dtypes: category(8), int64(4), object(9)\n",
      "memory usage: 111.0+ KB\n"
     ]
    }
   ],
   "source": [
    "df.info()"
   ]
  },
  {
   "cell_type": "code",
   "execution_count": 80,
   "metadata": {},
   "outputs": [
    {
     "data": {
      "text/html": [
       "<div>\n",
       "<style scoped>\n",
       "    .dataframe tbody tr th:only-of-type {\n",
       "        vertical-align: middle;\n",
       "    }\n",
       "\n",
       "    .dataframe tbody tr th {\n",
       "        vertical-align: top;\n",
       "    }\n",
       "\n",
       "    .dataframe thead th {\n",
       "        text-align: right;\n",
       "    }\n",
       "</style>\n",
       "<table border=\"1\" class=\"dataframe\">\n",
       "  <thead>\n",
       "    <tr style=\"text-align: right;\">\n",
       "      <th></th>\n",
       "      <th>count</th>\n",
       "      <th>mean</th>\n",
       "      <th>std</th>\n",
       "      <th>min</th>\n",
       "      <th>25%</th>\n",
       "      <th>50%</th>\n",
       "      <th>75%</th>\n",
       "      <th>max</th>\n",
       "    </tr>\n",
       "  </thead>\n",
       "  <tbody>\n",
       "    <tr>\n",
       "      <th>duration</th>\n",
       "      <td>1000.0</td>\n",
       "      <td>20.903</td>\n",
       "      <td>12.058814</td>\n",
       "      <td>4.0</td>\n",
       "      <td>12.0</td>\n",
       "      <td>18.0</td>\n",
       "      <td>24.00</td>\n",
       "      <td>72.0</td>\n",
       "    </tr>\n",
       "    <tr>\n",
       "      <th>amount</th>\n",
       "      <td>1000.0</td>\n",
       "      <td>3271.248</td>\n",
       "      <td>2822.751760</td>\n",
       "      <td>250.0</td>\n",
       "      <td>1365.5</td>\n",
       "      <td>2319.5</td>\n",
       "      <td>3972.25</td>\n",
       "      <td>18424.0</td>\n",
       "    </tr>\n",
       "    <tr>\n",
       "      <th>age</th>\n",
       "      <td>1000.0</td>\n",
       "      <td>35.542</td>\n",
       "      <td>11.352670</td>\n",
       "      <td>19.0</td>\n",
       "      <td>27.0</td>\n",
       "      <td>33.0</td>\n",
       "      <td>42.00</td>\n",
       "      <td>75.0</td>\n",
       "    </tr>\n",
       "    <tr>\n",
       "      <th>credit_risk</th>\n",
       "      <td>1000.0</td>\n",
       "      <td>0.300</td>\n",
       "      <td>0.458487</td>\n",
       "      <td>0.0</td>\n",
       "      <td>0.0</td>\n",
       "      <td>0.0</td>\n",
       "      <td>1.00</td>\n",
       "      <td>1.0</td>\n",
       "    </tr>\n",
       "  </tbody>\n",
       "</table>\n",
       "</div>"
      ],
      "text/plain": [
       "              count      mean          std    min     25%     50%      75%  \\\n",
       "duration     1000.0    20.903    12.058814    4.0    12.0    18.0    24.00   \n",
       "amount       1000.0  3271.248  2822.751760  250.0  1365.5  2319.5  3972.25   \n",
       "age          1000.0    35.542    11.352670   19.0    27.0    33.0    42.00   \n",
       "credit_risk  1000.0     0.300     0.458487    0.0     0.0     0.0     1.00   \n",
       "\n",
       "                 max  \n",
       "duration        72.0  \n",
       "amount       18424.0  \n",
       "age             75.0  \n",
       "credit_risk      1.0  "
      ]
     },
     "execution_count": 80,
     "metadata": {},
     "output_type": "execute_result"
    }
   ],
   "source": [
    "df.describe().T"
   ]
  },
  {
   "cell_type": "code",
   "execution_count": 81,
   "metadata": {},
   "outputs": [
    {
     "data": {
      "text/html": [
       "<div>\n",
       "<style scoped>\n",
       "    .dataframe tbody tr th:only-of-type {\n",
       "        vertical-align: middle;\n",
       "    }\n",
       "\n",
       "    .dataframe tbody tr th {\n",
       "        vertical-align: top;\n",
       "    }\n",
       "\n",
       "    .dataframe thead th {\n",
       "        text-align: right;\n",
       "    }\n",
       "</style>\n",
       "<table border=\"1\" class=\"dataframe\">\n",
       "  <thead>\n",
       "    <tr style=\"text-align: right;\">\n",
       "      <th></th>\n",
       "      <th>count</th>\n",
       "      <th>unique</th>\n",
       "      <th>top</th>\n",
       "      <th>freq</th>\n",
       "    </tr>\n",
       "  </thead>\n",
       "  <tbody>\n",
       "    <tr>\n",
       "      <th>credit_history</th>\n",
       "      <td>1000</td>\n",
       "      <td>5</td>\n",
       "      <td>2</td>\n",
       "      <td>530</td>\n",
       "    </tr>\n",
       "    <tr>\n",
       "      <th>purpose</th>\n",
       "      <td>1000</td>\n",
       "      <td>10</td>\n",
       "      <td>3</td>\n",
       "      <td>280</td>\n",
       "    </tr>\n",
       "    <tr>\n",
       "      <th>personal_status_sex</th>\n",
       "      <td>1000</td>\n",
       "      <td>4</td>\n",
       "      <td>3</td>\n",
       "      <td>548</td>\n",
       "    </tr>\n",
       "    <tr>\n",
       "      <th>other_debtors</th>\n",
       "      <td>1000</td>\n",
       "      <td>3</td>\n",
       "      <td>1</td>\n",
       "      <td>907</td>\n",
       "    </tr>\n",
       "    <tr>\n",
       "      <th>property</th>\n",
       "      <td>1000</td>\n",
       "      <td>4</td>\n",
       "      <td>3</td>\n",
       "      <td>332</td>\n",
       "    </tr>\n",
       "    <tr>\n",
       "      <th>other_installment_plans</th>\n",
       "      <td>1000</td>\n",
       "      <td>3</td>\n",
       "      <td>3</td>\n",
       "      <td>814</td>\n",
       "    </tr>\n",
       "    <tr>\n",
       "      <th>housing</th>\n",
       "      <td>1000</td>\n",
       "      <td>3</td>\n",
       "      <td>2</td>\n",
       "      <td>714</td>\n",
       "    </tr>\n",
       "    <tr>\n",
       "      <th>telephone</th>\n",
       "      <td>1000</td>\n",
       "      <td>2</td>\n",
       "      <td>1</td>\n",
       "      <td>596</td>\n",
       "    </tr>\n",
       "    <tr>\n",
       "      <th>foreign_worker</th>\n",
       "      <td>1000</td>\n",
       "      <td>2</td>\n",
       "      <td>2</td>\n",
       "      <td>963</td>\n",
       "    </tr>\n",
       "  </tbody>\n",
       "</table>\n",
       "</div>"
      ],
      "text/plain": [
       "                        count unique top freq\n",
       "credit_history           1000      5   2  530\n",
       "purpose                  1000     10   3  280\n",
       "personal_status_sex      1000      4   3  548\n",
       "other_debtors            1000      3   1  907\n",
       "property                 1000      4   3  332\n",
       "other_installment_plans  1000      3   3  814\n",
       "housing                  1000      3   2  714\n",
       "telephone                1000      2   1  596\n",
       "foreign_worker           1000      2   2  963"
      ]
     },
     "execution_count": 81,
     "metadata": {},
     "output_type": "execute_result"
    }
   ],
   "source": [
    "df.describe(include='object').T"
   ]
  },
  {
   "cell_type": "code",
   "execution_count": 82,
   "metadata": {},
   "outputs": [
    {
     "data": {
      "text/html": [
       "<div>\n",
       "<style scoped>\n",
       "    .dataframe tbody tr th:only-of-type {\n",
       "        vertical-align: middle;\n",
       "    }\n",
       "\n",
       "    .dataframe tbody tr th {\n",
       "        vertical-align: top;\n",
       "    }\n",
       "\n",
       "    .dataframe thead th {\n",
       "        text-align: right;\n",
       "    }\n",
       "</style>\n",
       "<table border=\"1\" class=\"dataframe\">\n",
       "  <thead>\n",
       "    <tr style=\"text-align: right;\">\n",
       "      <th></th>\n",
       "      <th>count</th>\n",
       "      <th>unique</th>\n",
       "      <th>top</th>\n",
       "      <th>freq</th>\n",
       "    </tr>\n",
       "  </thead>\n",
       "  <tbody>\n",
       "    <tr>\n",
       "      <th>status</th>\n",
       "      <td>1000</td>\n",
       "      <td>4</td>\n",
       "      <td>4</td>\n",
       "      <td>394</td>\n",
       "    </tr>\n",
       "    <tr>\n",
       "      <th>savings</th>\n",
       "      <td>1000</td>\n",
       "      <td>5</td>\n",
       "      <td>1</td>\n",
       "      <td>603</td>\n",
       "    </tr>\n",
       "    <tr>\n",
       "      <th>employment_duration</th>\n",
       "      <td>1000</td>\n",
       "      <td>5</td>\n",
       "      <td>3</td>\n",
       "      <td>339</td>\n",
       "    </tr>\n",
       "    <tr>\n",
       "      <th>installment_rate</th>\n",
       "      <td>1000</td>\n",
       "      <td>4</td>\n",
       "      <td>4</td>\n",
       "      <td>476</td>\n",
       "    </tr>\n",
       "    <tr>\n",
       "      <th>present_residence</th>\n",
       "      <td>1000</td>\n",
       "      <td>4</td>\n",
       "      <td>4</td>\n",
       "      <td>413</td>\n",
       "    </tr>\n",
       "    <tr>\n",
       "      <th>number_credits</th>\n",
       "      <td>1000</td>\n",
       "      <td>4</td>\n",
       "      <td>1</td>\n",
       "      <td>633</td>\n",
       "    </tr>\n",
       "    <tr>\n",
       "      <th>job</th>\n",
       "      <td>1000</td>\n",
       "      <td>4</td>\n",
       "      <td>3</td>\n",
       "      <td>630</td>\n",
       "    </tr>\n",
       "    <tr>\n",
       "      <th>people_liable</th>\n",
       "      <td>1000</td>\n",
       "      <td>2</td>\n",
       "      <td>2</td>\n",
       "      <td>845</td>\n",
       "    </tr>\n",
       "  </tbody>\n",
       "</table>\n",
       "</div>"
      ],
      "text/plain": [
       "                     count  unique  top  freq\n",
       "status                1000       4    4   394\n",
       "savings               1000       5    1   603\n",
       "employment_duration   1000       5    3   339\n",
       "installment_rate      1000       4    4   476\n",
       "present_residence     1000       4    4   413\n",
       "number_credits        1000       4    1   633\n",
       "job                   1000       4    3   630\n",
       "people_liable         1000       2    2   845"
      ]
     },
     "execution_count": 82,
     "metadata": {},
     "output_type": "execute_result"
    }
   ],
   "source": [
    "df.describe(include='category').T"
   ]
  },
  {
   "cell_type": "markdown",
   "metadata": {
    "id": "B9i2CrLJs-1m"
   },
   "source": [
    "# **Parte II: Modelos de aprendizaje automático con los conjuntos originales de la partición realizada.**"
   ]
  },
  {
   "cell_type": "markdown",
   "metadata": {
    "id": "UJokj9Diyeu0"
   },
   "source": [
    "## **Ejercicio 6**"
   ]
  },
  {
   "cell_type": "markdown",
   "metadata": {},
   "source": [
    "Utiliza las clases `Pipeline()` y `ColumnTransformer()` de Sklearn para definir y conjuntar las siguientes transformaciones:\n",
    "\n",
    "a. A las variables numéricas aplica las transformaciones que hayas decidido en el ejercicio 5.\n",
    "\n",
    "b. A las variables nominales y binarias aplicar la transformación One-Hot-Encoding con k-1 niveles.\n",
    "\n",
    "c. El resto de las variables dejarlas por el momento sin transformar."
   ]
  },
  {
   "cell_type": "code",
   "execution_count": 83,
   "metadata": {},
   "outputs": [],
   "source": [
    "variables_numericas = ['duration', 'amount', 'age']\n",
    "\n",
    "variables_binarias = ['people_liable', 'telephone', 'foreign_worker', 'credit_risk']\n",
    "\n",
    "variables_nominales = ['credit_history','purpose','personal_status_sex','other_debtors',\n",
    "                       'other_installment_plans','housing']\n",
    "\n",
    "# Se consruye el dataset de las POSIBLES variables predictoras\n",
    "X = df.drop('credit_risk', axis = 1)\n",
    "\n",
    "# Se consruye el dataset de la variable de salida\n",
    "y = df['credit_risk']\n",
    "\n",
    "# Particionamos 70% Train y 30% una temporal para volverla a dividir, para los datos de entrada y de salida, respectivamente, garantizando\n",
    "# que dicha partición conserve la estratificación de las clases de la variable respuesta\n",
    "Xtrain, Xtemp, ytrain, ytemp = train_test_split(X, y,\n",
    "                                                train_size = 0.7,\n",
    "                                                random_state = 1,\n",
    "                                                stratify = y)\n",
    "\n",
    "#Particionamos el 30% en 50% validación y 50% en test.\n",
    "Xval, Xtest, yval, ytest = train_test_split(Xtemp, ytemp,\n",
    "                                            train_size = 0.5,\n",
    "                                            random_state = 1,\n",
    "                                            stratify = ytemp)"
   ]
  },
  {
   "cell_type": "code",
   "execution_count": 84,
   "metadata": {
    "id": "NvNYiIp9weCm"
   },
   "outputs": [
    {
     "data": {
      "text/html": [
       "<style>#sk-container-id-2 {color: black;background-color: white;}#sk-container-id-2 pre{padding: 0;}#sk-container-id-2 div.sk-toggleable {background-color: white;}#sk-container-id-2 label.sk-toggleable__label {cursor: pointer;display: block;width: 100%;margin-bottom: 0;padding: 0.3em;box-sizing: border-box;text-align: center;}#sk-container-id-2 label.sk-toggleable__label-arrow:before {content: \"▸\";float: left;margin-right: 0.25em;color: #696969;}#sk-container-id-2 label.sk-toggleable__label-arrow:hover:before {color: black;}#sk-container-id-2 div.sk-estimator:hover label.sk-toggleable__label-arrow:before {color: black;}#sk-container-id-2 div.sk-toggleable__content {max-height: 0;max-width: 0;overflow: hidden;text-align: left;background-color: #f0f8ff;}#sk-container-id-2 div.sk-toggleable__content pre {margin: 0.2em;color: black;border-radius: 0.25em;background-color: #f0f8ff;}#sk-container-id-2 input.sk-toggleable__control:checked~div.sk-toggleable__content {max-height: 200px;max-width: 100%;overflow: auto;}#sk-container-id-2 input.sk-toggleable__control:checked~label.sk-toggleable__label-arrow:before {content: \"▾\";}#sk-container-id-2 div.sk-estimator input.sk-toggleable__control:checked~label.sk-toggleable__label {background-color: #d4ebff;}#sk-container-id-2 div.sk-label input.sk-toggleable__control:checked~label.sk-toggleable__label {background-color: #d4ebff;}#sk-container-id-2 input.sk-hidden--visually {border: 0;clip: rect(1px 1px 1px 1px);clip: rect(1px, 1px, 1px, 1px);height: 1px;margin: -1px;overflow: hidden;padding: 0;position: absolute;width: 1px;}#sk-container-id-2 div.sk-estimator {font-family: monospace;background-color: #f0f8ff;border: 1px dotted black;border-radius: 0.25em;box-sizing: border-box;margin-bottom: 0.5em;}#sk-container-id-2 div.sk-estimator:hover {background-color: #d4ebff;}#sk-container-id-2 div.sk-parallel-item::after {content: \"\";width: 100%;border-bottom: 1px solid gray;flex-grow: 1;}#sk-container-id-2 div.sk-label:hover label.sk-toggleable__label {background-color: #d4ebff;}#sk-container-id-2 div.sk-serial::before {content: \"\";position: absolute;border-left: 1px solid gray;box-sizing: border-box;top: 0;bottom: 0;left: 50%;z-index: 0;}#sk-container-id-2 div.sk-serial {display: flex;flex-direction: column;align-items: center;background-color: white;padding-right: 0.2em;padding-left: 0.2em;position: relative;}#sk-container-id-2 div.sk-item {position: relative;z-index: 1;}#sk-container-id-2 div.sk-parallel {display: flex;align-items: stretch;justify-content: center;background-color: white;position: relative;}#sk-container-id-2 div.sk-item::before, #sk-container-id-2 div.sk-parallel-item::before {content: \"\";position: absolute;border-left: 1px solid gray;box-sizing: border-box;top: 0;bottom: 0;left: 50%;z-index: -1;}#sk-container-id-2 div.sk-parallel-item {display: flex;flex-direction: column;z-index: 1;position: relative;background-color: white;}#sk-container-id-2 div.sk-parallel-item:first-child::after {align-self: flex-end;width: 50%;}#sk-container-id-2 div.sk-parallel-item:last-child::after {align-self: flex-start;width: 50%;}#sk-container-id-2 div.sk-parallel-item:only-child::after {width: 0;}#sk-container-id-2 div.sk-dashed-wrapped {border: 1px dashed gray;margin: 0 0.4em 0.5em 0.4em;box-sizing: border-box;padding-bottom: 0.4em;background-color: white;}#sk-container-id-2 div.sk-label label {font-family: monospace;font-weight: bold;display: inline-block;line-height: 1.2em;}#sk-container-id-2 div.sk-label-container {text-align: center;}#sk-container-id-2 div.sk-container {/* jupyter's `normalize.less` sets `[hidden] { display: none; }` but bootstrap.min.css set `[hidden] { display: none !important; }` so we also need the `!important` here to be able to override the default hidden behavior on the sphinx rendered scikit-learn.org. See: https://github.com/scikit-learn/scikit-learn/issues/21755 */display: inline-block !important;position: relative;}#sk-container-id-2 div.sk-text-repr-fallback {display: none;}</style><div id=\"sk-container-id-2\" class=\"sk-top-container\"><div class=\"sk-text-repr-fallback\"><pre>ColumnTransformer(remainder=&#x27;passthrough&#x27;,\n",
       "                  transformers=[(&#x27;numer&#x27;,\n",
       "                                 FunctionTransformer(func=&lt;ufunc &#x27;log&#x27;&gt;),\n",
       "                                 [&#x27;duration&#x27;, &#x27;amount&#x27;, &#x27;age&#x27;]),\n",
       "                                (&#x27;nomin&#x27;,\n",
       "                                 Pipeline(steps=[(&#x27;encoderOHE&#x27;,\n",
       "                                                  OneHotEncoder(drop=&#x27;first&#x27;,\n",
       "                                                                handle_unknown=&#x27;ignore&#x27;,\n",
       "                                                                sparse=False))]),\n",
       "                                 [&#x27;people_liable&#x27;, &#x27;telephone&#x27;,\n",
       "                                  &#x27;foreign_worker&#x27;, &#x27;credit_history&#x27;, &#x27;purpose&#x27;,\n",
       "                                  &#x27;personal_status_sex&#x27;, &#x27;other_debtors&#x27;,\n",
       "                                  &#x27;other_installment_plans&#x27;, &#x27;housing&#x27;])])</pre><b>In a Jupyter environment, please rerun this cell to show the HTML representation or trust the notebook. <br />On GitHub, the HTML representation is unable to render, please try loading this page with nbviewer.org.</b></div><div class=\"sk-container\" hidden><div class=\"sk-item sk-dashed-wrapped\"><div class=\"sk-label-container\"><div class=\"sk-label sk-toggleable\"><input class=\"sk-toggleable__control sk-hidden--visually\" id=\"sk-estimator-id-8\" type=\"checkbox\" ><label for=\"sk-estimator-id-8\" class=\"sk-toggleable__label sk-toggleable__label-arrow\">ColumnTransformer</label><div class=\"sk-toggleable__content\"><pre>ColumnTransformer(remainder=&#x27;passthrough&#x27;,\n",
       "                  transformers=[(&#x27;numer&#x27;,\n",
       "                                 FunctionTransformer(func=&lt;ufunc &#x27;log&#x27;&gt;),\n",
       "                                 [&#x27;duration&#x27;, &#x27;amount&#x27;, &#x27;age&#x27;]),\n",
       "                                (&#x27;nomin&#x27;,\n",
       "                                 Pipeline(steps=[(&#x27;encoderOHE&#x27;,\n",
       "                                                  OneHotEncoder(drop=&#x27;first&#x27;,\n",
       "                                                                handle_unknown=&#x27;ignore&#x27;,\n",
       "                                                                sparse=False))]),\n",
       "                                 [&#x27;people_liable&#x27;, &#x27;telephone&#x27;,\n",
       "                                  &#x27;foreign_worker&#x27;, &#x27;credit_history&#x27;, &#x27;purpose&#x27;,\n",
       "                                  &#x27;personal_status_sex&#x27;, &#x27;other_debtors&#x27;,\n",
       "                                  &#x27;other_installment_plans&#x27;, &#x27;housing&#x27;])])</pre></div></div></div><div class=\"sk-parallel\"><div class=\"sk-parallel-item\"><div class=\"sk-item\"><div class=\"sk-label-container\"><div class=\"sk-label sk-toggleable\"><input class=\"sk-toggleable__control sk-hidden--visually\" id=\"sk-estimator-id-9\" type=\"checkbox\" ><label for=\"sk-estimator-id-9\" class=\"sk-toggleable__label sk-toggleable__label-arrow\">numer</label><div class=\"sk-toggleable__content\"><pre>[&#x27;duration&#x27;, &#x27;amount&#x27;, &#x27;age&#x27;]</pre></div></div></div><div class=\"sk-serial\"><div class=\"sk-item\"><div class=\"sk-estimator sk-toggleable\"><input class=\"sk-toggleable__control sk-hidden--visually\" id=\"sk-estimator-id-10\" type=\"checkbox\" ><label for=\"sk-estimator-id-10\" class=\"sk-toggleable__label sk-toggleable__label-arrow\">FunctionTransformer</label><div class=\"sk-toggleable__content\"><pre>FunctionTransformer(func=&lt;ufunc &#x27;log&#x27;&gt;)</pre></div></div></div></div></div></div><div class=\"sk-parallel-item\"><div class=\"sk-item\"><div class=\"sk-label-container\"><div class=\"sk-label sk-toggleable\"><input class=\"sk-toggleable__control sk-hidden--visually\" id=\"sk-estimator-id-11\" type=\"checkbox\" ><label for=\"sk-estimator-id-11\" class=\"sk-toggleable__label sk-toggleable__label-arrow\">nomin</label><div class=\"sk-toggleable__content\"><pre>[&#x27;people_liable&#x27;, &#x27;telephone&#x27;, &#x27;foreign_worker&#x27;, &#x27;credit_history&#x27;, &#x27;purpose&#x27;, &#x27;personal_status_sex&#x27;, &#x27;other_debtors&#x27;, &#x27;other_installment_plans&#x27;, &#x27;housing&#x27;]</pre></div></div></div><div class=\"sk-serial\"><div class=\"sk-item\"><div class=\"sk-serial\"><div class=\"sk-item\"><div class=\"sk-estimator sk-toggleable\"><input class=\"sk-toggleable__control sk-hidden--visually\" id=\"sk-estimator-id-12\" type=\"checkbox\" ><label for=\"sk-estimator-id-12\" class=\"sk-toggleable__label sk-toggleable__label-arrow\">OneHotEncoder</label><div class=\"sk-toggleable__content\"><pre>OneHotEncoder(drop=&#x27;first&#x27;, handle_unknown=&#x27;ignore&#x27;, sparse=False)</pre></div></div></div></div></div></div></div></div><div class=\"sk-parallel-item\"><div class=\"sk-item\"><div class=\"sk-label-container\"><div class=\"sk-label sk-toggleable\"><input class=\"sk-toggleable__control sk-hidden--visually\" id=\"sk-estimator-id-13\" type=\"checkbox\" ><label for=\"sk-estimator-id-13\" class=\"sk-toggleable__label sk-toggleable__label-arrow\">remainder</label><div class=\"sk-toggleable__content\"><pre></pre></div></div></div><div class=\"sk-serial\"><div class=\"sk-item\"><div class=\"sk-estimator sk-toggleable\"><input class=\"sk-toggleable__control sk-hidden--visually\" id=\"sk-estimator-id-14\" type=\"checkbox\" ><label for=\"sk-estimator-id-14\" class=\"sk-toggleable__label sk-toggleable__label-arrow\">passthrough</label><div class=\"sk-toggleable__content\"><pre>passthrough</pre></div></div></div></div></div></div></div></div></div></div>"
      ],
      "text/plain": [
       "ColumnTransformer(remainder='passthrough',\n",
       "                  transformers=[('numer',\n",
       "                                 FunctionTransformer(func=<ufunc 'log'>),\n",
       "                                 ['duration', 'amount', 'age']),\n",
       "                                ('nomin',\n",
       "                                 Pipeline(steps=[('encoderOHE',\n",
       "                                                  OneHotEncoder(drop='first',\n",
       "                                                                handle_unknown='ignore',\n",
       "                                                                sparse=False))]),\n",
       "                                 ['people_liable', 'telephone',\n",
       "                                  'foreign_worker', 'credit_history', 'purpose',\n",
       "                                  'personal_status_sex', 'other_debtors',\n",
       "                                  'other_installment_plans', 'housing'])])"
      ]
     },
     "execution_count": 84,
     "metadata": {},
     "output_type": "execute_result"
    }
   ],
   "source": [
    "# Transformaciones que se aplicarán a las variables numéricas usando la clase Pipeline de sklearn:\n",
    "\n",
    "# ************* Inlcuye aquí tu código:*****************************\n",
    "\n",
    "# Variables numéricas:\n",
    "num_pipe = FunctionTransformer(np.log)\n",
    "num_pipe_nombres = variables_numericas\n",
    "\n",
    "\n",
    "# Variables categóricas-Nominales:\n",
    "\n",
    "cat_pipe = catOHE_pipeline = Pipeline(\n",
    "    steps=[\n",
    "        (\"encoderOHE\", OneHotEncoder(drop='first', sparse=False,\n",
    "                                     handle_unknown=\"ignore\"))\n",
    "    ]\n",
    ")\n",
    "\n",
    "# Todas las variables nominales y binarias excepto 'credit_risk'\n",
    "cols_nomins = variables_binarias + variables_nominales\n",
    "cols_expl_nomins = [x for x in cols_nomins if x not in set(['credit_risk'])]\n",
    "\n",
    "cat_pipe_nombres = cols_expl_nomins\n",
    "\n",
    "\n",
    "# Conjuntemos las transformaciones de todo tipo de variable y\n",
    "# dejamos sin procesar aquellas que hayas decidido no transformar:\n",
    "\n",
    "columnasTransformer = ColumnTransformer(\n",
    "    transformers=[\n",
    "        (\"numer\", num_pipe, num_pipe_nombres),\n",
    "        (\"nomin\", cat_pipe, cat_pipe_nombres)     \n",
    "    ], remainder = 'passthrough'\n",
    ")\n",
    "\n",
    "# *********** Aquí termina la sección de agregar código *************\n",
    "\n",
    "columnasTransformer"
   ]
  },
  {
   "cell_type": "markdown",
   "metadata": {
    "id": "hZxyRbHL0gNF"
   },
   "source": [
    "## **Ejercicio 7**"
   ]
  },
  {
   "cell_type": "markdown",
   "metadata": {},
   "source": [
    "Como vamos a utilizar validación cruzada, concatena los conjuntos de entrenamiento y validación en un nuevo conjunto llamado trainval, que tendrá el mismo número de columnas, pero con el total de renglones la suma de ambos."
   ]
  },
  {
   "cell_type": "code",
   "execution_count": 85,
   "metadata": {
    "id": "d3lqBiH5wd1e"
   },
   "outputs": [
    {
     "data": {
      "text/plain": [
       "(850, 20)"
      ]
     },
     "execution_count": 85,
     "metadata": {},
     "output_type": "execute_result"
    }
   ],
   "source": [
    "# Como se va a utilizar Validación-Cruzada, concatena los conjuntos de entrenamiento y validación\n",
    "# en uno nuevo conjunto aumentado que llamaremos trainval para utilizar como entrenamiento:\n",
    "\n",
    "# ************* Inlcuye aquí tu código:**************************\n",
    "\n",
    "Xtrainval = pd.concat([Xtrain,Xval], axis = 0, ignore_index = True)\n",
    "ytrainval = pd.concat([ytrain,yval], axis = 0, ignore_index = True)\n",
    "\n",
    "Xtrainval.shape\n",
    "\n",
    "# *********** Aquí termina la sección de agregar código *************"
   ]
  },
  {
   "cell_type": "code",
   "execution_count": 86,
   "metadata": {},
   "outputs": [
    {
     "name": "stdout",
     "output_type": "stream",
     "text": [
      "Dimensión de las variables de entrada ANTES de las transformaciones: (850, 20)\n",
      "Dimensión de las variables de entrada DESPUÉS de las transformaciones: (850, 36)\n"
     ]
    }
   ],
   "source": [
    "# Veamos cuántas varaibles nuevas se introducen con las transformaciones One-Hot-Encoding:\n",
    "Xtmp = Xtrainval.copy()\n",
    "tmp = columnasTransformer.fit_transform(Xtmp)\n",
    "print(\"Dimensión de las variables de entrada ANTES de las transformaciones:\", Xtmp.shape)\n",
    "print(\"Dimensión de las variables de entrada DESPUÉS de las transformaciones:\", tmp.shape)"
   ]
  },
  {
   "cell_type": "markdown",
   "metadata": {
    "id": "DyzIjcVAF6Y7"
   },
   "source": [
    "## **Ejercicio 8**"
   ]
  },
  {
   "cell_type": "markdown",
   "metadata": {},
   "source": [
    "En este ejercicio deberás encontrar los mejores hiperparámetros de cada modelo. Recuerda que debes buscar que no esté sobreentrenado (overfitting) o subentrenado (undefitting) cada uno de los modelos. En este ejercicio diremos que un modelo está sobreentrenado, si con respecto a la métrica de la exactitud (accuracy), la diferencia entre el conjunto de entrenamiento y el de validación es mayor al 3%."
   ]
  },
  {
   "cell_type": "code",
   "execution_count": 87,
   "metadata": {},
   "outputs": [],
   "source": [
    "# Definimos a continuación la función que llamamos \"mis_modelos\" que incluye\n",
    "# todos los modelos que deseamos comparar en el ejercicio.\n",
    "\n",
    "#Para saber si está sobre entrenado, el acuracy del train tiene que ser mayor que el de test.\n",
    "\n",
    "\n",
    "def mis_modelos():\n",
    "  modelos, nombres = list(), list()\n",
    "\n",
    "\n",
    "  # ************* Inlcuye aquí tu código:**************************\n",
    "  #\n",
    "  # Deberás incluir en cada modelo los argumentos que consideres\n",
    "  # adecuados para que cada uno converja y no esté sobreentrenado\n",
    "  # con respecto a la métrica de la exatitud (accuracy).\n",
    "\n",
    "\n",
    "  # Regresión Logística - Logistic Regression-LR:\n",
    "  # https://scikit-learn.org/stable/modules/generated/sklearn.linear_model.LogisticRegression.html\n",
    "\n",
    "  modelos.append(LogisticRegression(max_iter=100,    # 10, 100, 1000\n",
    "                                    C = 1.0,     # 0.000001, 0.005, 0.01,  1000\n",
    "                                    #random_state=1\n",
    "                                    ))\n",
    "\n",
    "  nombres.append('LR')\n",
    "\n",
    "\n",
    "\n",
    "\n",
    "  # k-Vecinos más Cercanos : k-Nearest-Neighbors-kNN:\n",
    "  # https://scikit-learn.org/stable/modules/generated/sklearn.neighbors.KNeighborsClassifier.html\n",
    "\n",
    "  modelos.append(KNeighborsClassifier(n_neighbors = 5 ))\n",
    "  nombres.append('kNN')\n",
    "\n",
    "\n",
    "\n",
    "\n",
    "  # Árbol de decisiones-DecisionTree-DT:\n",
    "  # https://scikit-learn.org/stable/modules/generated/sklearn.tree.DecisionTreeClassifier.html\n",
    "\n",
    "  modelos.append(DecisionTreeClassifier(max_depth = 2 , criterion ='gini', min_samples_split = 3))\n",
    "  nombres.append('DTree')\n",
    "\n",
    "\n",
    "\n",
    "\n",
    "  # Bosque Aleatorio-RandomForest-RF:\n",
    "  # https://scikit-learn.org/stable/modules/generated/sklearn.ensemble.RandomForestClassifier.html\n",
    "\n",
    "  #modelos.append(RandomForestClassifier(n_estimators = 10, criterion = 'gini', max_depth = 2, min_samples_split = 6, min_samples_leaf = 4, max_features = 'auto', max_leaf_nodes = 16, bootstrap =True, oob_score = True, verbose = 0, n_jobs = 1,\n",
    "  #                                      max_samples = None, random_state = 19))\n",
    "  #nombres.append('RF')\n",
    "\n",
    "\n",
    "  modelos.append(RandomForestClassifier(max_depth = 2, criterion = 'gini', min_samples_split = 3))\n",
    "\n",
    "  nombres.append('RF')\n",
    "\n",
    "\n",
    "  #mimodelo2 = RandomForestClassifier(n_estimators=10,  # número de árboles en el Forest y después promedia por votación.\n",
    "  #                                 criterion='gini',   # métrica para determinar las ramas. También puede ser: 'entropy', para la GananciaDeInformación (IG).\n",
    "  #                                 max_depth=2, # Depth=k : máximo 2^k líneas/ramas.\n",
    "  #                                 min_samples_split = 6,  # mínimo de puntos muestrales requeridos en un nodo para hacer la ramificación. Puede ser fracción de 0 a 1.\n",
    "  #                                 min_samples_leaf = 4,  # mínimo de puntos muestrales que deben quedar en cada nueva ramificación (hojas). Puede ser fracción de 0 a 1.\n",
    "  #                                 max_features= 'auto',   # número de características (features) que se consideran en cada ramificación: auto=sqrt(n_features).\n",
    "  #                                 max_leaf_nodes=16,  # solo nos quedamos con las mejores k hojas.\n",
    "  #                                 bootstrap=True,  # Cada Árbol se muestrea seleccionando la cantidad de datos del conjunto de entrenamiento, pero con reemplazo. False:los datos usados en cada árbol simpre es el mismo, el Train-set.\n",
    "  #                                 oob_score=True,  # en caso de utilizar Out-of-bag samples.\n",
    "  #                                 verbose=0,     # tipo de despliega de información durante el entrenamiento.\n",
    "  #                                 n_jobs=-1,    # total de hilos a usar en las rutinas paralelizables: \"-1\" :usar todos los posibles.\n",
    "  #                                 max_samples=None,   # Cuando se usa Boostrap, es el total de datos de Xtrain a usar en cada árbol. \"None\" usará Xtrain[0].\n",
    "  #                                 random_state=19)\n",
    "\n",
    "\n",
    "\n",
    "\n",
    "\n",
    "  # XGBoosting:\n",
    "  # https://xgboost.readthedocs.io/en/latest/python/python_api.html#xgboost.XGBClassifier\n",
    "  # https://xgboost.readthedocs.io/en/stable/parameter.html\n",
    "\n",
    "  modelos.append(XGBClassifier(booster = 'gbtree', n_estimators = 100, max_depth = 6, learning_rate = 0.3, objetive = 'binary:logistic', subsample = 1.0, n_jobs = -1))\n",
    "  nombres.append('XGBoost')\n",
    "\n",
    "\n",
    "\n",
    "\n",
    "  # Red neuronal de Perceptrón Multicapa-MLP:\n",
    "  # https://scikit-learn.org/stable/modules/generated/sklearn.neural_network.MLPClassifier.html\n",
    "\n",
    "  modelos.append(MLPClassifier(hidden_layer_sizes=(30,),     # 100,  6, 24, 30, (15,15), (50,50)\n",
    "                               activation='logistic',\n",
    "                               max_iter=1000,                  # 200,\n",
    "                               alpha=0.0001,               # término de regularización L2.\n",
    "                               #learning_rate='constant',       # tasa de aprendizaje o tamaño de paso del método Gradiente Descendente.\n",
    "                               #learning_rate_init=0.001,\n",
    "                               #random_state=1\n",
    "                               ))\n",
    "  nombres.append('MLP')\n",
    "\n",
    "\n",
    "\n",
    "\n",
    "  # Máquina de Vectores de Soporte-SVM:\n",
    "  # https://scikit-learn.org/stable/modules/generated/sklearn.svm.SVC.html\n",
    "\n",
    "  modelos.append(SVC(kernel = 'rbf', C = 10, gamma = 'scale' ))\n",
    "  nombres.append('SVM')\n",
    "\n",
    "\n",
    "  # *********** Aquí termina la sección de agregar código *******************\n",
    "\n",
    "\n",
    "\n",
    "  return modelos, nombres"
   ]
  },
  {
   "cell_type": "markdown",
   "metadata": {},
   "source": [
    "Entrenamos cada uno de los modelos y desplegamos la métricas de Train y Val.\n",
    "\n",
    "NOTA: Observa que el método de Validación-Cruzada llama  a los resultados de \"validation\" como \"test\":"
   ]
  },
  {
   "cell_type": "code",
   "execution_count": 88,
   "metadata": {},
   "outputs": [],
   "source": [
    "modelos, nombres = mis_modelos()"
   ]
  },
  {
   "cell_type": "markdown",
   "metadata": {},
   "source": [
    "Veamos cuáles son los modelos que se considerarán:"
   ]
  },
  {
   "cell_type": "code",
   "execution_count": 89,
   "metadata": {},
   "outputs": [
    {
     "data": {
      "text/plain": [
       "[LogisticRegression(),\n",
       " KNeighborsClassifier(),\n",
       " DecisionTreeClassifier(max_depth=2, min_samples_split=3),\n",
       " RandomForestClassifier(max_depth=2, min_samples_split=3),\n",
       " XGBClassifier(base_score=None, booster='gbtree', callbacks=None,\n",
       "               colsample_bylevel=None, colsample_bynode=None,\n",
       "               colsample_bytree=None, early_stopping_rounds=None,\n",
       "               enable_categorical=False, eval_metric=None, gamma=None,\n",
       "               gpu_id=None, grow_policy=None, importance_type=None,\n",
       "               interaction_constraints=None, learning_rate=0.3, max_bin=None,\n",
       "               max_cat_to_onehot=None, max_delta_step=None, max_depth=6,\n",
       "               max_leaves=None, min_child_weight=None, missing=nan,\n",
       "               monotone_constraints=None, n_estimators=100, n_jobs=-1,\n",
       "               num_parallel_tree=None, objetive='binary:logistic',\n",
       "               predictor=None, random_state=None, reg_alpha=None, ...),\n",
       " MLPClassifier(activation='logistic', hidden_layer_sizes=(30,), max_iter=1000),\n",
       " SVC(C=10)]"
      ]
     },
     "execution_count": 89,
     "metadata": {},
     "output_type": "execute_result"
    }
   ],
   "source": [
    "modelos"
   ]
  },
  {
   "cell_type": "markdown",
   "metadata": {},
   "source": [
    "Dichos modelos tienen los siguientes nombres/IDs"
   ]
  },
  {
   "cell_type": "code",
   "execution_count": 90,
   "metadata": {},
   "outputs": [
    {
     "data": {
      "text/plain": [
       "['LR', 'kNN', 'DTree', 'RF', 'XGBoost', 'MLP', 'SVM']"
      ]
     },
     "execution_count": 90,
     "metadata": {},
     "output_type": "execute_result"
    }
   ],
   "source": [
    "nombres"
   ]
  },
  {
   "cell_type": "markdown",
   "metadata": {},
   "source": [
    "Ahora se ajustarán dichos modelos con los datos de entrenamientos y se evaluarán a partir de sus predicciones tanto en los datos de entrenamiento como en los de prueba"
   ]
  },
  {
   "cell_type": "code",
   "execution_count": 91,
   "metadata": {},
   "outputs": [
    {
     "name": "stderr",
     "output_type": "stream",
     "text": [
      "/Library/Frameworks/Python.framework/Versions/3.9/lib/python3.9/site-packages/sklearn/linear_model/_logistic.py:444: ConvergenceWarning: lbfgs failed to converge (status=1):\n",
      "STOP: TOTAL NO. of ITERATIONS REACHED LIMIT.\n",
      "\n",
      "Increase the number of iterations (max_iter) or scale the data as shown in:\n",
      "    https://scikit-learn.org/stable/modules/preprocessing.html\n",
      "Please also refer to the documentation for alternative solver options:\n",
      "    https://scikit-learn.org/stable/modules/linear_model.html#logistic-regression\n",
      "  n_iter_i = _check_optimize_result(\n",
      "/Library/Frameworks/Python.framework/Versions/3.9/lib/python3.9/site-packages/sklearn/linear_model/_logistic.py:444: ConvergenceWarning: lbfgs failed to converge (status=1):\n",
      "STOP: TOTAL NO. of ITERATIONS REACHED LIMIT.\n",
      "\n",
      "Increase the number of iterations (max_iter) or scale the data as shown in:\n",
      "    https://scikit-learn.org/stable/modules/preprocessing.html\n",
      "Please also refer to the documentation for alternative solver options:\n",
      "    https://scikit-learn.org/stable/modules/linear_model.html#logistic-regression\n",
      "  n_iter_i = _check_optimize_result(\n",
      "/Library/Frameworks/Python.framework/Versions/3.9/lib/python3.9/site-packages/sklearn/linear_model/_logistic.py:444: ConvergenceWarning: lbfgs failed to converge (status=1):\n",
      "STOP: TOTAL NO. of ITERATIONS REACHED LIMIT.\n",
      "\n",
      "Increase the number of iterations (max_iter) or scale the data as shown in:\n",
      "    https://scikit-learn.org/stable/modules/preprocessing.html\n",
      "Please also refer to the documentation for alternative solver options:\n",
      "    https://scikit-learn.org/stable/modules/linear_model.html#logistic-regression\n",
      "  n_iter_i = _check_optimize_result(\n",
      "/Library/Frameworks/Python.framework/Versions/3.9/lib/python3.9/site-packages/sklearn/linear_model/_logistic.py:444: ConvergenceWarning: lbfgs failed to converge (status=1):\n",
      "STOP: TOTAL NO. of ITERATIONS REACHED LIMIT.\n",
      "\n",
      "Increase the number of iterations (max_iter) or scale the data as shown in:\n",
      "    https://scikit-learn.org/stable/modules/preprocessing.html\n",
      "Please also refer to the documentation for alternative solver options:\n",
      "    https://scikit-learn.org/stable/modules/linear_model.html#logistic-regression\n",
      "  n_iter_i = _check_optimize_result(\n",
      "/Library/Frameworks/Python.framework/Versions/3.9/lib/python3.9/site-packages/sklearn/linear_model/_logistic.py:444: ConvergenceWarning: lbfgs failed to converge (status=1):\n",
      "STOP: TOTAL NO. of ITERATIONS REACHED LIMIT.\n",
      "\n",
      "Increase the number of iterations (max_iter) or scale the data as shown in:\n",
      "    https://scikit-learn.org/stable/modules/preprocessing.html\n",
      "Please also refer to the documentation for alternative solver options:\n",
      "    https://scikit-learn.org/stable/modules/linear_model.html#logistic-regression\n",
      "  n_iter_i = _check_optimize_result(\n",
      "/Library/Frameworks/Python.framework/Versions/3.9/lib/python3.9/site-packages/sklearn/linear_model/_logistic.py:444: ConvergenceWarning: lbfgs failed to converge (status=1):\n",
      "STOP: TOTAL NO. of ITERATIONS REACHED LIMIT.\n",
      "\n",
      "Increase the number of iterations (max_iter) or scale the data as shown in:\n",
      "    https://scikit-learn.org/stable/modules/preprocessing.html\n",
      "Please also refer to the documentation for alternative solver options:\n",
      "    https://scikit-learn.org/stable/modules/linear_model.html#logistic-regression\n",
      "  n_iter_i = _check_optimize_result(\n",
      "/Library/Frameworks/Python.framework/Versions/3.9/lib/python3.9/site-packages/sklearn/linear_model/_logistic.py:444: ConvergenceWarning: lbfgs failed to converge (status=1):\n",
      "STOP: TOTAL NO. of ITERATIONS REACHED LIMIT.\n",
      "\n",
      "Increase the number of iterations (max_iter) or scale the data as shown in:\n",
      "    https://scikit-learn.org/stable/modules/preprocessing.html\n",
      "Please also refer to the documentation for alternative solver options:\n",
      "    https://scikit-learn.org/stable/modules/linear_model.html#logistic-regression\n",
      "  n_iter_i = _check_optimize_result(\n",
      "/Library/Frameworks/Python.framework/Versions/3.9/lib/python3.9/site-packages/sklearn/linear_model/_logistic.py:444: ConvergenceWarning: lbfgs failed to converge (status=1):\n",
      "STOP: TOTAL NO. of ITERATIONS REACHED LIMIT.\n",
      "\n",
      "Increase the number of iterations (max_iter) or scale the data as shown in:\n",
      "    https://scikit-learn.org/stable/modules/preprocessing.html\n",
      "Please also refer to the documentation for alternative solver options:\n",
      "    https://scikit-learn.org/stable/modules/linear_model.html#logistic-regression\n",
      "  n_iter_i = _check_optimize_result(\n",
      "/Library/Frameworks/Python.framework/Versions/3.9/lib/python3.9/site-packages/sklearn/linear_model/_logistic.py:444: ConvergenceWarning: lbfgs failed to converge (status=1):\n",
      "STOP: TOTAL NO. of ITERATIONS REACHED LIMIT.\n",
      "\n",
      "Increase the number of iterations (max_iter) or scale the data as shown in:\n",
      "    https://scikit-learn.org/stable/modules/preprocessing.html\n",
      "Please also refer to the documentation for alternative solver options:\n",
      "    https://scikit-learn.org/stable/modules/linear_model.html#logistic-regression\n",
      "  n_iter_i = _check_optimize_result(\n",
      "/Library/Frameworks/Python.framework/Versions/3.9/lib/python3.9/site-packages/sklearn/linear_model/_logistic.py:444: ConvergenceWarning: lbfgs failed to converge (status=1):\n",
      "STOP: TOTAL NO. of ITERATIONS REACHED LIMIT.\n",
      "\n",
      "Increase the number of iterations (max_iter) or scale the data as shown in:\n",
      "    https://scikit-learn.org/stable/modules/preprocessing.html\n",
      "Please also refer to the documentation for alternative solver options:\n",
      "    https://scikit-learn.org/stable/modules/linear_model.html#logistic-regression\n",
      "  n_iter_i = _check_optimize_result(\n",
      "/Library/Frameworks/Python.framework/Versions/3.9/lib/python3.9/site-packages/sklearn/linear_model/_logistic.py:444: ConvergenceWarning: lbfgs failed to converge (status=1):\n",
      "STOP: TOTAL NO. of ITERATIONS REACHED LIMIT.\n",
      "\n",
      "Increase the number of iterations (max_iter) or scale the data as shown in:\n",
      "    https://scikit-learn.org/stable/modules/preprocessing.html\n",
      "Please also refer to the documentation for alternative solver options:\n",
      "    https://scikit-learn.org/stable/modules/linear_model.html#logistic-regression\n",
      "  n_iter_i = _check_optimize_result(\n",
      "/Library/Frameworks/Python.framework/Versions/3.9/lib/python3.9/site-packages/sklearn/linear_model/_logistic.py:444: ConvergenceWarning: lbfgs failed to converge (status=1):\n",
      "STOP: TOTAL NO. of ITERATIONS REACHED LIMIT.\n",
      "\n",
      "Increase the number of iterations (max_iter) or scale the data as shown in:\n",
      "    https://scikit-learn.org/stable/modules/preprocessing.html\n",
      "Please also refer to the documentation for alternative solver options:\n",
      "    https://scikit-learn.org/stable/modules/linear_model.html#logistic-regression\n",
      "  n_iter_i = _check_optimize_result(\n",
      "/Library/Frameworks/Python.framework/Versions/3.9/lib/python3.9/site-packages/sklearn/linear_model/_logistic.py:444: ConvergenceWarning: lbfgs failed to converge (status=1):\n",
      "STOP: TOTAL NO. of ITERATIONS REACHED LIMIT.\n",
      "\n",
      "Increase the number of iterations (max_iter) or scale the data as shown in:\n",
      "    https://scikit-learn.org/stable/modules/preprocessing.html\n",
      "Please also refer to the documentation for alternative solver options:\n",
      "    https://scikit-learn.org/stable/modules/linear_model.html#logistic-regression\n",
      "  n_iter_i = _check_optimize_result(\n",
      "/Library/Frameworks/Python.framework/Versions/3.9/lib/python3.9/site-packages/sklearn/linear_model/_logistic.py:444: ConvergenceWarning: lbfgs failed to converge (status=1):\n",
      "STOP: TOTAL NO. of ITERATIONS REACHED LIMIT.\n",
      "\n",
      "Increase the number of iterations (max_iter) or scale the data as shown in:\n",
      "    https://scikit-learn.org/stable/modules/preprocessing.html\n",
      "Please also refer to the documentation for alternative solver options:\n",
      "    https://scikit-learn.org/stable/modules/linear_model.html#logistic-regression\n",
      "  n_iter_i = _check_optimize_result(\n",
      "/Library/Frameworks/Python.framework/Versions/3.9/lib/python3.9/site-packages/sklearn/linear_model/_logistic.py:444: ConvergenceWarning: lbfgs failed to converge (status=1):\n",
      "STOP: TOTAL NO. of ITERATIONS REACHED LIMIT.\n",
      "\n",
      "Increase the number of iterations (max_iter) or scale the data as shown in:\n",
      "    https://scikit-learn.org/stable/modules/preprocessing.html\n",
      "Please also refer to the documentation for alternative solver options:\n",
      "    https://scikit-learn.org/stable/modules/linear_model.html#logistic-regression\n",
      "  n_iter_i = _check_optimize_result(\n"
     ]
    },
    {
     "name": "stdout",
     "output_type": "stream",
     "text": [
      ">> LR\n",
      "\t score_time 0.020 (0.005)\n",
      "\t test_accuracy 0.752 (0.021)\n",
      "\t train_accuracy 0.777 (0.010)\n",
      "\t test_f1 0.531 (0.042)\n",
      "\t train_f1 0.574 (0.022)\n",
      "\t test_precision 0.617 (0.052)\n",
      "\t train_precision 0.673 (0.020)\n",
      "\t test_recall 0.469 (0.056)\n",
      "\t train_recall 0.501 (0.025)\n",
      ">> kNN\n",
      "\t score_time 0.038 (0.009)\n",
      "\t test_accuracy 0.720 (0.028)\n",
      "\t train_accuracy 0.814 (0.008)\n",
      "\t test_f1 0.474 (0.054)\n",
      "\t train_f1 0.651 (0.016)\n",
      "\t test_precision 0.546 (0.065)\n",
      "\t train_precision 0.745 (0.021)\n",
      "\t test_recall 0.424 (0.068)\n",
      "\t train_recall 0.578 (0.018)\n"
     ]
    },
    {
     "name": "stderr",
     "output_type": "stream",
     "text": [
      "/Library/Frameworks/Python.framework/Versions/3.9/lib/python3.9/site-packages/sklearn/metrics/_classification.py:1334: UndefinedMetricWarning: Precision is ill-defined and being set to 0.0 due to no predicted samples. Use `zero_division` parameter to control this behavior.\n",
      "  _warn_prf(average, modifier, msg_start, len(result))\n",
      "/Library/Frameworks/Python.framework/Versions/3.9/lib/python3.9/site-packages/sklearn/metrics/_classification.py:1334: UndefinedMetricWarning: Precision is ill-defined and being set to 0.0 due to no predicted samples. Use `zero_division` parameter to control this behavior.\n",
      "  _warn_prf(average, modifier, msg_start, len(result))\n",
      "/Library/Frameworks/Python.framework/Versions/3.9/lib/python3.9/site-packages/sklearn/metrics/_classification.py:1334: UndefinedMetricWarning: Precision is ill-defined and being set to 0.0 due to no predicted samples. Use `zero_division` parameter to control this behavior.\n",
      "  _warn_prf(average, modifier, msg_start, len(result))\n",
      "/Library/Frameworks/Python.framework/Versions/3.9/lib/python3.9/site-packages/sklearn/metrics/_classification.py:1334: UndefinedMetricWarning: Precision is ill-defined and being set to 0.0 due to no predicted samples. Use `zero_division` parameter to control this behavior.\n",
      "  _warn_prf(average, modifier, msg_start, len(result))\n",
      "/Library/Frameworks/Python.framework/Versions/3.9/lib/python3.9/site-packages/sklearn/metrics/_classification.py:1334: UndefinedMetricWarning: Precision is ill-defined and being set to 0.0 due to no predicted samples. Use `zero_division` parameter to control this behavior.\n",
      "  _warn_prf(average, modifier, msg_start, len(result))\n",
      "/Library/Frameworks/Python.framework/Versions/3.9/lib/python3.9/site-packages/sklearn/metrics/_classification.py:1334: UndefinedMetricWarning: Precision is ill-defined and being set to 0.0 due to no predicted samples. Use `zero_division` parameter to control this behavior.\n",
      "  _warn_prf(average, modifier, msg_start, len(result))\n",
      "/Library/Frameworks/Python.framework/Versions/3.9/lib/python3.9/site-packages/sklearn/metrics/_classification.py:1334: UndefinedMetricWarning: Precision is ill-defined and being set to 0.0 due to no predicted samples. Use `zero_division` parameter to control this behavior.\n",
      "  _warn_prf(average, modifier, msg_start, len(result))\n",
      "/Library/Frameworks/Python.framework/Versions/3.9/lib/python3.9/site-packages/sklearn/metrics/_classification.py:1334: UndefinedMetricWarning: Precision is ill-defined and being set to 0.0 due to no predicted samples. Use `zero_division` parameter to control this behavior.\n",
      "  _warn_prf(average, modifier, msg_start, len(result))\n",
      "/Library/Frameworks/Python.framework/Versions/3.9/lib/python3.9/site-packages/sklearn/metrics/_classification.py:1334: UndefinedMetricWarning: Precision is ill-defined and being set to 0.0 due to no predicted samples. Use `zero_division` parameter to control this behavior.\n",
      "  _warn_prf(average, modifier, msg_start, len(result))\n",
      "/Library/Frameworks/Python.framework/Versions/3.9/lib/python3.9/site-packages/sklearn/metrics/_classification.py:1334: UndefinedMetricWarning: Precision is ill-defined and being set to 0.0 due to no predicted samples. Use `zero_division` parameter to control this behavior.\n",
      "  _warn_prf(average, modifier, msg_start, len(result))\n",
      "/Library/Frameworks/Python.framework/Versions/3.9/lib/python3.9/site-packages/sklearn/metrics/_classification.py:1334: UndefinedMetricWarning: Precision is ill-defined and being set to 0.0 due to no predicted samples. Use `zero_division` parameter to control this behavior.\n",
      "  _warn_prf(average, modifier, msg_start, len(result))\n",
      "/Library/Frameworks/Python.framework/Versions/3.9/lib/python3.9/site-packages/sklearn/metrics/_classification.py:1334: UndefinedMetricWarning: Precision is ill-defined and being set to 0.0 due to no predicted samples. Use `zero_division` parameter to control this behavior.\n",
      "  _warn_prf(average, modifier, msg_start, len(result))\n",
      "/Library/Frameworks/Python.framework/Versions/3.9/lib/python3.9/site-packages/sklearn/metrics/_classification.py:1334: UndefinedMetricWarning: Precision is ill-defined and being set to 0.0 due to no predicted samples. Use `zero_division` parameter to control this behavior.\n",
      "  _warn_prf(average, modifier, msg_start, len(result))\n",
      "/Library/Frameworks/Python.framework/Versions/3.9/lib/python3.9/site-packages/sklearn/metrics/_classification.py:1334: UndefinedMetricWarning: Precision is ill-defined and being set to 0.0 due to no predicted samples. Use `zero_division` parameter to control this behavior.\n",
      "  _warn_prf(average, modifier, msg_start, len(result))\n",
      "/Library/Frameworks/Python.framework/Versions/3.9/lib/python3.9/site-packages/sklearn/metrics/_classification.py:1334: UndefinedMetricWarning: Precision is ill-defined and being set to 0.0 due to no predicted samples. Use `zero_division` parameter to control this behavior.\n",
      "  _warn_prf(average, modifier, msg_start, len(result))\n",
      "/Library/Frameworks/Python.framework/Versions/3.9/lib/python3.9/site-packages/sklearn/metrics/_classification.py:1334: UndefinedMetricWarning: Precision is ill-defined and being set to 0.0 due to no predicted samples. Use `zero_division` parameter to control this behavior.\n",
      "  _warn_prf(average, modifier, msg_start, len(result))\n"
     ]
    },
    {
     "name": "stdout",
     "output_type": "stream",
     "text": [
      ">> DTree\n",
      "\t score_time 0.021 (0.005)\n",
      "\t test_accuracy 0.689 (0.015)\n",
      "\t train_accuracy 0.712 (0.014)\n",
      "\t test_f1 0.136 (0.182)\n",
      "\t train_f1 0.184 (0.219)\n",
      "\t test_precision 0.184 (0.206)\n",
      "\t train_precision 0.295 (0.324)\n",
      "\t test_recall 0.124 (0.187)\n",
      "\t train_recall 0.160 (0.215)\n"
     ]
    },
    {
     "name": "stderr",
     "output_type": "stream",
     "text": [
      "/Library/Frameworks/Python.framework/Versions/3.9/lib/python3.9/site-packages/sklearn/metrics/_classification.py:1334: UndefinedMetricWarning: Precision is ill-defined and being set to 0.0 due to no predicted samples. Use `zero_division` parameter to control this behavior.\n",
      "  _warn_prf(average, modifier, msg_start, len(result))\n",
      "/Library/Frameworks/Python.framework/Versions/3.9/lib/python3.9/site-packages/sklearn/metrics/_classification.py:1334: UndefinedMetricWarning: Precision is ill-defined and being set to 0.0 due to no predicted samples. Use `zero_division` parameter to control this behavior.\n",
      "  _warn_prf(average, modifier, msg_start, len(result))\n",
      "/Library/Frameworks/Python.framework/Versions/3.9/lib/python3.9/site-packages/sklearn/metrics/_classification.py:1334: UndefinedMetricWarning: Precision is ill-defined and being set to 0.0 due to no predicted samples. Use `zero_division` parameter to control this behavior.\n",
      "  _warn_prf(average, modifier, msg_start, len(result))\n",
      "/Library/Frameworks/Python.framework/Versions/3.9/lib/python3.9/site-packages/sklearn/metrics/_classification.py:1334: UndefinedMetricWarning: Precision is ill-defined and being set to 0.0 due to no predicted samples. Use `zero_division` parameter to control this behavior.\n",
      "  _warn_prf(average, modifier, msg_start, len(result))\n",
      "/Library/Frameworks/Python.framework/Versions/3.9/lib/python3.9/site-packages/sklearn/metrics/_classification.py:1334: UndefinedMetricWarning: Precision is ill-defined and being set to 0.0 due to no predicted samples. Use `zero_division` parameter to control this behavior.\n",
      "  _warn_prf(average, modifier, msg_start, len(result))\n",
      "/Library/Frameworks/Python.framework/Versions/3.9/lib/python3.9/site-packages/sklearn/metrics/_classification.py:1334: UndefinedMetricWarning: Precision is ill-defined and being set to 0.0 due to no predicted samples. Use `zero_division` parameter to control this behavior.\n",
      "  _warn_prf(average, modifier, msg_start, len(result))\n",
      "/Library/Frameworks/Python.framework/Versions/3.9/lib/python3.9/site-packages/sklearn/metrics/_classification.py:1334: UndefinedMetricWarning: Precision is ill-defined and being set to 0.0 due to no predicted samples. Use `zero_division` parameter to control this behavior.\n",
      "  _warn_prf(average, modifier, msg_start, len(result))\n",
      "/Library/Frameworks/Python.framework/Versions/3.9/lib/python3.9/site-packages/sklearn/metrics/_classification.py:1334: UndefinedMetricWarning: Precision is ill-defined and being set to 0.0 due to no predicted samples. Use `zero_division` parameter to control this behavior.\n",
      "  _warn_prf(average, modifier, msg_start, len(result))\n",
      "/Library/Frameworks/Python.framework/Versions/3.9/lib/python3.9/site-packages/sklearn/metrics/_classification.py:1334: UndefinedMetricWarning: Precision is ill-defined and being set to 0.0 due to no predicted samples. Use `zero_division` parameter to control this behavior.\n",
      "  _warn_prf(average, modifier, msg_start, len(result))\n",
      "/Library/Frameworks/Python.framework/Versions/3.9/lib/python3.9/site-packages/sklearn/metrics/_classification.py:1334: UndefinedMetricWarning: Precision is ill-defined and being set to 0.0 due to no predicted samples. Use `zero_division` parameter to control this behavior.\n",
      "  _warn_prf(average, modifier, msg_start, len(result))\n",
      "/Library/Frameworks/Python.framework/Versions/3.9/lib/python3.9/site-packages/sklearn/metrics/_classification.py:1334: UndefinedMetricWarning: Precision is ill-defined and being set to 0.0 due to no predicted samples. Use `zero_division` parameter to control this behavior.\n",
      "  _warn_prf(average, modifier, msg_start, len(result))\n",
      "/Library/Frameworks/Python.framework/Versions/3.9/lib/python3.9/site-packages/sklearn/metrics/_classification.py:1334: UndefinedMetricWarning: Precision is ill-defined and being set to 0.0 due to no predicted samples. Use `zero_division` parameter to control this behavior.\n",
      "  _warn_prf(average, modifier, msg_start, len(result))\n",
      "/Library/Frameworks/Python.framework/Versions/3.9/lib/python3.9/site-packages/sklearn/metrics/_classification.py:1334: UndefinedMetricWarning: Precision is ill-defined and being set to 0.0 due to no predicted samples. Use `zero_division` parameter to control this behavior.\n",
      "  _warn_prf(average, modifier, msg_start, len(result))\n",
      "/Library/Frameworks/Python.framework/Versions/3.9/lib/python3.9/site-packages/sklearn/metrics/_classification.py:1334: UndefinedMetricWarning: Precision is ill-defined and being set to 0.0 due to no predicted samples. Use `zero_division` parameter to control this behavior.\n",
      "  _warn_prf(average, modifier, msg_start, len(result))\n",
      "/Library/Frameworks/Python.framework/Versions/3.9/lib/python3.9/site-packages/sklearn/metrics/_classification.py:1334: UndefinedMetricWarning: Precision is ill-defined and being set to 0.0 due to no predicted samples. Use `zero_division` parameter to control this behavior.\n",
      "  _warn_prf(average, modifier, msg_start, len(result))\n",
      "/Library/Frameworks/Python.framework/Versions/3.9/lib/python3.9/site-packages/sklearn/metrics/_classification.py:1334: UndefinedMetricWarning: Precision is ill-defined and being set to 0.0 due to no predicted samples. Use `zero_division` parameter to control this behavior.\n",
      "  _warn_prf(average, modifier, msg_start, len(result))\n",
      "/Library/Frameworks/Python.framework/Versions/3.9/lib/python3.9/site-packages/sklearn/metrics/_classification.py:1334: UndefinedMetricWarning: Precision is ill-defined and being set to 0.0 due to no predicted samples. Use `zero_division` parameter to control this behavior.\n",
      "  _warn_prf(average, modifier, msg_start, len(result))\n",
      "/Library/Frameworks/Python.framework/Versions/3.9/lib/python3.9/site-packages/sklearn/metrics/_classification.py:1334: UndefinedMetricWarning: Precision is ill-defined and being set to 0.0 due to no predicted samples. Use `zero_division` parameter to control this behavior.\n",
      "  _warn_prf(average, modifier, msg_start, len(result))\n",
      "/Library/Frameworks/Python.framework/Versions/3.9/lib/python3.9/site-packages/sklearn/metrics/_classification.py:1334: UndefinedMetricWarning: Precision is ill-defined and being set to 0.0 due to no predicted samples. Use `zero_division` parameter to control this behavior.\n",
      "  _warn_prf(average, modifier, msg_start, len(result))\n",
      "/Library/Frameworks/Python.framework/Versions/3.9/lib/python3.9/site-packages/sklearn/metrics/_classification.py:1334: UndefinedMetricWarning: Precision is ill-defined and being set to 0.0 due to no predicted samples. Use `zero_division` parameter to control this behavior.\n",
      "  _warn_prf(average, modifier, msg_start, len(result))\n",
      "/Library/Frameworks/Python.framework/Versions/3.9/lib/python3.9/site-packages/sklearn/metrics/_classification.py:1334: UndefinedMetricWarning: Precision is ill-defined and being set to 0.0 due to no predicted samples. Use `zero_division` parameter to control this behavior.\n",
      "  _warn_prf(average, modifier, msg_start, len(result))\n",
      "/Library/Frameworks/Python.framework/Versions/3.9/lib/python3.9/site-packages/sklearn/metrics/_classification.py:1334: UndefinedMetricWarning: Precision is ill-defined and being set to 0.0 due to no predicted samples. Use `zero_division` parameter to control this behavior.\n",
      "  _warn_prf(average, modifier, msg_start, len(result))\n",
      "/Library/Frameworks/Python.framework/Versions/3.9/lib/python3.9/site-packages/sklearn/metrics/_classification.py:1334: UndefinedMetricWarning: Precision is ill-defined and being set to 0.0 due to no predicted samples. Use `zero_division` parameter to control this behavior.\n",
      "  _warn_prf(average, modifier, msg_start, len(result))\n"
     ]
    },
    {
     "name": "stdout",
     "output_type": "stream",
     "text": [
      ">> RF\n",
      "\t score_time 0.038 (0.006)\n",
      "\t test_accuracy 0.700 (0.002)\n",
      "\t train_accuracy 0.701 (0.001)\n",
      "\t test_f1 0.003 (0.010)\n",
      "\t train_f1 0.006 (0.010)\n",
      "\t test_precision 0.067 (0.249)\n",
      "\t train_precision 0.317 (0.452)\n",
      "\t test_recall 0.001 (0.005)\n",
      "\t train_recall 0.003 (0.005)\n",
      "[06:14:48] WARNING: /Users/runner/work/xgboost/xgboost/python-package/build/temp.macosx-10.9-x86_64-cpython-37/xgboost/src/learner.cc:627: \n",
      "Parameters: { \"objetive\" } might not be used.\n",
      "\n",
      "  This could be a false alarm, with some parameters getting used by language bindings but\n",
      "  then being mistakenly passed down to XGBoost core, or some parameter actually being used\n",
      "  but getting flagged wrongly here. Please open an issue if you find any such cases.\n",
      "\n",
      "\n",
      "[06:14:48] WARNING: /Users/runner/work/xgboost/xgboost/python-package/build/temp.macosx-10.9-x86_64-cpython-37/xgboost/src/learner.cc:627: \n",
      "Parameters: { \"objetive\" } might not be used.\n",
      "\n",
      "  This could be a false alarm, with some parameters getting used by language bindings but\n",
      "  then being mistakenly passed down to XGBoost core, or some parameter actually being used\n",
      "  but getting flagged wrongly here. Please open an issue if you find any such cases.\n",
      "\n",
      "\n",
      "[06:14:48] WARNING: /Users/runner/work/xgboost/xgboost/python-package/build/temp.macosx-10.9-x86_64-cpython-37/xgboost/src/learner.cc:627: \n",
      "Parameters: { \"objetive\" } might not be used.\n",
      "\n",
      "  This could be a false alarm, with some parameters getting used by language bindings but\n",
      "  then being mistakenly passed down to XGBoost core, or some parameter actually being used\n",
      "  but getting flagged wrongly here. Please open an issue if you find any such cases.\n",
      "\n",
      "\n",
      "[06:14:49] WARNING: /Users/runner/work/xgboost/xgboost/python-package/build/temp.macosx-10.9-x86_64-cpython-37/xgboost/src/learner.cc:627: \n",
      "Parameters: { \"objetive\" } might not be used.\n",
      "\n",
      "  This could be a false alarm, with some parameters getting used by language bindings but\n",
      "  then being mistakenly passed down to XGBoost core, or some parameter actually being used\n",
      "  but getting flagged wrongly here. Please open an issue if you find any such cases.\n",
      "\n",
      "\n",
      "[06:14:49] WARNING: /Users/runner/work/xgboost/xgboost/python-package/build/temp.macosx-10.9-x86_64-cpython-37/xgboost/src/learner.cc:627: \n",
      "Parameters: { \"objetive\" } might not be used.\n",
      "\n",
      "  This could be a false alarm, with some parameters getting used by language bindings but\n",
      "  then being mistakenly passed down to XGBoost core, or some parameter actually being used\n",
      "  but getting flagged wrongly here. Please open an issue if you find any such cases.\n",
      "\n",
      "\n",
      "[06:14:49] WARNING: /Users/runner/work/xgboost/xgboost/python-package/build/temp.macosx-10.9-x86_64-cpython-37/xgboost/src/learner.cc:627: \n",
      "Parameters: { \"objetive\" } might not be used.\n",
      "\n",
      "  This could be a false alarm, with some parameters getting used by language bindings but\n",
      "  then being mistakenly passed down to XGBoost core, or some parameter actually being used\n",
      "  but getting flagged wrongly here. Please open an issue if you find any such cases.\n",
      "\n",
      "\n",
      "[06:14:50] WARNING: /Users/runner/work/xgboost/xgboost/python-package/build/temp.macosx-10.9-x86_64-cpython-37/xgboost/src/learner.cc:627: \n",
      "Parameters: { \"objetive\" } might not be used.\n",
      "\n",
      "  This could be a false alarm, with some parameters getting used by language bindings but\n",
      "  then being mistakenly passed down to XGBoost core, or some parameter actually being used\n",
      "  but getting flagged wrongly here. Please open an issue if you find any such cases.\n",
      "\n",
      "\n",
      "[06:14:50] WARNING: /Users/runner/work/xgboost/xgboost/python-package/build/temp.macosx-10.9-x86_64-cpython-37/xgboost/src/learner.cc:627: \n",
      "Parameters: { \"objetive\" } might not be used.\n",
      "\n",
      "  This could be a false alarm, with some parameters getting used by language bindings but\n",
      "  then being mistakenly passed down to XGBoost core, or some parameter actually being used\n",
      "  but getting flagged wrongly here. Please open an issue if you find any such cases.\n",
      "\n",
      "\n",
      "[06:14:50] WARNING: /Users/runner/work/xgboost/xgboost/python-package/build/temp.macosx-10.9-x86_64-cpython-37/xgboost/src/learner.cc:627: \n",
      "Parameters: { \"objetive\" } might not be used.\n",
      "\n",
      "  This could be a false alarm, with some parameters getting used by language bindings but\n",
      "  then being mistakenly passed down to XGBoost core, or some parameter actually being used\n",
      "  but getting flagged wrongly here. Please open an issue if you find any such cases.\n",
      "\n",
      "\n",
      "[06:14:51] WARNING: /Users/runner/work/xgboost/xgboost/python-package/build/temp.macosx-10.9-x86_64-cpython-37/xgboost/src/learner.cc:627: \n",
      "Parameters: { \"objetive\" } might not be used.\n",
      "\n",
      "  This could be a false alarm, with some parameters getting used by language bindings but\n",
      "  then being mistakenly passed down to XGBoost core, or some parameter actually being used\n",
      "  but getting flagged wrongly here. Please open an issue if you find any such cases.\n",
      "\n",
      "\n",
      "[06:14:51] WARNING: /Users/runner/work/xgboost/xgboost/python-package/build/temp.macosx-10.9-x86_64-cpython-37/xgboost/src/learner.cc:627: \n",
      "Parameters: { \"objetive\" } might not be used.\n",
      "\n",
      "  This could be a false alarm, with some parameters getting used by language bindings but\n",
      "  then being mistakenly passed down to XGBoost core, or some parameter actually being used\n",
      "  but getting flagged wrongly here. Please open an issue if you find any such cases.\n",
      "\n",
      "\n",
      "[06:14:51] WARNING: /Users/runner/work/xgboost/xgboost/python-package/build/temp.macosx-10.9-x86_64-cpython-37/xgboost/src/learner.cc:627: \n",
      "Parameters: { \"objetive\" } might not be used.\n",
      "\n",
      "  This could be a false alarm, with some parameters getting used by language bindings but\n",
      "  then being mistakenly passed down to XGBoost core, or some parameter actually being used\n",
      "  but getting flagged wrongly here. Please open an issue if you find any such cases.\n",
      "\n",
      "\n",
      "[06:14:52] WARNING: /Users/runner/work/xgboost/xgboost/python-package/build/temp.macosx-10.9-x86_64-cpython-37/xgboost/src/learner.cc:627: \n",
      "Parameters: { \"objetive\" } might not be used.\n",
      "\n",
      "  This could be a false alarm, with some parameters getting used by language bindings but\n",
      "  then being mistakenly passed down to XGBoost core, or some parameter actually being used\n",
      "  but getting flagged wrongly here. Please open an issue if you find any such cases.\n",
      "\n",
      "\n",
      "[06:14:52] WARNING: /Users/runner/work/xgboost/xgboost/python-package/build/temp.macosx-10.9-x86_64-cpython-37/xgboost/src/learner.cc:627: \n",
      "Parameters: { \"objetive\" } might not be used.\n",
      "\n",
      "  This could be a false alarm, with some parameters getting used by language bindings but\n",
      "  then being mistakenly passed down to XGBoost core, or some parameter actually being used\n",
      "  but getting flagged wrongly here. Please open an issue if you find any such cases.\n",
      "\n",
      "\n",
      "[06:14:53] WARNING: /Users/runner/work/xgboost/xgboost/python-package/build/temp.macosx-10.9-x86_64-cpython-37/xgboost/src/learner.cc:627: \n",
      "Parameters: { \"objetive\" } might not be used.\n",
      "\n",
      "  This could be a false alarm, with some parameters getting used by language bindings but\n",
      "  then being mistakenly passed down to XGBoost core, or some parameter actually being used\n",
      "  but getting flagged wrongly here. Please open an issue if you find any such cases.\n",
      "\n",
      "\n",
      ">> XGBoost\n",
      "\t score_time 0.033 (0.007)\n",
      "\t test_accuracy 0.728 (0.037)\n",
      "\t train_accuracy 1.000 (0.000)\n",
      "\t test_f1 0.501 (0.048)\n",
      "\t train_f1 1.000 (0.000)\n",
      "\t test_precision 0.568 (0.078)\n",
      "\t train_precision 1.000 (0.000)\n",
      "\t test_recall 0.455 (0.056)\n",
      "\t train_recall 1.000 (0.000)\n"
     ]
    },
    {
     "name": "stderr",
     "output_type": "stream",
     "text": [
      "/Library/Frameworks/Python.framework/Versions/3.9/lib/python3.9/site-packages/sklearn/neural_network/_multilayer_perceptron.py:702: ConvergenceWarning: Stochastic Optimizer: Maximum iterations (1000) reached and the optimization hasn't converged yet.\n",
      "  warnings.warn(\n",
      "/Library/Frameworks/Python.framework/Versions/3.9/lib/python3.9/site-packages/sklearn/neural_network/_multilayer_perceptron.py:702: ConvergenceWarning: Stochastic Optimizer: Maximum iterations (1000) reached and the optimization hasn't converged yet.\n",
      "  warnings.warn(\n",
      "/Library/Frameworks/Python.framework/Versions/3.9/lib/python3.9/site-packages/sklearn/neural_network/_multilayer_perceptron.py:702: ConvergenceWarning: Stochastic Optimizer: Maximum iterations (1000) reached and the optimization hasn't converged yet.\n",
      "  warnings.warn(\n",
      "/Library/Frameworks/Python.framework/Versions/3.9/lib/python3.9/site-packages/sklearn/neural_network/_multilayer_perceptron.py:702: ConvergenceWarning: Stochastic Optimizer: Maximum iterations (1000) reached and the optimization hasn't converged yet.\n",
      "  warnings.warn(\n",
      "/Library/Frameworks/Python.framework/Versions/3.9/lib/python3.9/site-packages/sklearn/neural_network/_multilayer_perceptron.py:702: ConvergenceWarning: Stochastic Optimizer: Maximum iterations (1000) reached and the optimization hasn't converged yet.\n",
      "  warnings.warn(\n",
      "/Library/Frameworks/Python.framework/Versions/3.9/lib/python3.9/site-packages/sklearn/neural_network/_multilayer_perceptron.py:702: ConvergenceWarning: Stochastic Optimizer: Maximum iterations (1000) reached and the optimization hasn't converged yet.\n",
      "  warnings.warn(\n",
      "/Library/Frameworks/Python.framework/Versions/3.9/lib/python3.9/site-packages/sklearn/neural_network/_multilayer_perceptron.py:702: ConvergenceWarning: Stochastic Optimizer: Maximum iterations (1000) reached and the optimization hasn't converged yet.\n",
      "  warnings.warn(\n",
      "/Library/Frameworks/Python.framework/Versions/3.9/lib/python3.9/site-packages/sklearn/neural_network/_multilayer_perceptron.py:702: ConvergenceWarning: Stochastic Optimizer: Maximum iterations (1000) reached and the optimization hasn't converged yet.\n",
      "  warnings.warn(\n",
      "/Library/Frameworks/Python.framework/Versions/3.9/lib/python3.9/site-packages/sklearn/neural_network/_multilayer_perceptron.py:702: ConvergenceWarning: Stochastic Optimizer: Maximum iterations (1000) reached and the optimization hasn't converged yet.\n",
      "  warnings.warn(\n",
      "/Library/Frameworks/Python.framework/Versions/3.9/lib/python3.9/site-packages/sklearn/neural_network/_multilayer_perceptron.py:702: ConvergenceWarning: Stochastic Optimizer: Maximum iterations (1000) reached and the optimization hasn't converged yet.\n",
      "  warnings.warn(\n",
      "/Library/Frameworks/Python.framework/Versions/3.9/lib/python3.9/site-packages/sklearn/neural_network/_multilayer_perceptron.py:702: ConvergenceWarning: Stochastic Optimizer: Maximum iterations (1000) reached and the optimization hasn't converged yet.\n",
      "  warnings.warn(\n"
     ]
    },
    {
     "name": "stdout",
     "output_type": "stream",
     "text": [
      ">> MLP\n",
      "\t score_time 0.025 (0.014)\n",
      "\t test_accuracy 0.737 (0.027)\n",
      "\t train_accuracy 0.806 (0.018)\n",
      "\t test_f1 0.511 (0.054)\n",
      "\t train_f1 0.637 (0.035)\n",
      "\t test_precision 0.580 (0.060)\n",
      "\t train_precision 0.724 (0.039)\n",
      "\t test_recall 0.460 (0.065)\n",
      "\t train_recall 0.569 (0.038)\n",
      ">> SVM\n",
      "\t score_time 0.033 (0.007)\n",
      "\t test_accuracy 0.744 (0.020)\n",
      "\t train_accuracy 0.802 (0.006)\n",
      "\t test_f1 0.497 (0.051)\n",
      "\t train_f1 0.609 (0.025)\n",
      "\t test_precision 0.608 (0.047)\n",
      "\t train_precision 0.748 (0.019)\n",
      "\t test_recall 0.425 (0.068)\n",
      "\t train_recall 0.516 (0.041)\n"
     ]
    }
   ],
   "source": [
    "# Se crea una lista para guardar los resultados\n",
    "resultados = list()\n",
    "\n",
    "for i in range(len(modelos)):\n",
    "\n",
    "  # Definimos nuestro pipeline con las transformaciones y los modelos:\n",
    "  pipeline = Pipeline(steps=[('ct',columnasTransformer),('m',modelos[i])])\n",
    "\n",
    "  # Aplicaremos validación-cruzada:\n",
    "  micv = RepeatedStratifiedKFold(n_splits=5,\n",
    "                                 n_repeats=3,\n",
    "                                 random_state=5     # agreguemos una semilla para estabilizar resultados.\n",
    "                                 )\n",
    "  dict_nombre = {'nombre': nombres[i]}\n",
    "\n",
    " # Definimos las métricas que desamos recuperar:\n",
    "  mismetricas = {'accuracy','precision','recall','f1'}\n",
    "\n",
    "  # Llevamos a cabo el entrenamiento:\n",
    "  scores = cross_validate(pipeline,\n",
    "                          Xtrainval,\n",
    "                          ytrainval,\n",
    "                          scoring=mismetricas,\n",
    "                          cv=micv,\n",
    "                          return_train_score=True,\n",
    "                          )\n",
    "  scores = {**dict_nombre, **scores}\n",
    "\n",
    "  # Guardemos el resultado de cada modelo para análisis posteriores.\n",
    "  resultados.append(scores)\n",
    "\n",
    "  # Desplegamos los valores de las métricas para verificar si no hay\n",
    "  # subentrenamiento o sobreentrenamiento:\n",
    "  print('>> %s' % nombres[i])\n",
    "  for j,k in enumerate(list(scores.keys())):\n",
    "    if j>1:\n",
    "      print('\\t %s %.3f (%.3f)' % (k, np.mean(scores[k]),np.std(scores[k])))"
   ]
  },
  {
   "cell_type": "markdown",
   "metadata": {},
   "source": [
    "Pondremos en orden los resultados obtenidos en las iteraciones de cada fold (del k-fold cross-validation)"
   ]
  },
  {
   "cell_type": "code",
   "execution_count": 92,
   "metadata": {},
   "outputs": [],
   "source": [
    "df_resultados = pd.DataFrame()\n",
    "\n",
    "for i in range(len(modelos)):\n",
    "    tabla_result = pd.DataFrame.from_dict(resultados[i]).mean()\n",
    "    tabla_result = tabla_result.to_frame(name = resultados[i]['nombre'])\n",
    "    df_resultados = pd.concat([df_resultados, tabla_result], axis = 1)"
   ]
  },
  {
   "cell_type": "code",
   "execution_count": 93,
   "metadata": {},
   "outputs": [
    {
     "data": {
      "text/html": [
       "<div>\n",
       "<style scoped>\n",
       "    .dataframe tbody tr th:only-of-type {\n",
       "        vertical-align: middle;\n",
       "    }\n",
       "\n",
       "    .dataframe tbody tr th {\n",
       "        vertical-align: top;\n",
       "    }\n",
       "\n",
       "    .dataframe thead th {\n",
       "        text-align: right;\n",
       "    }\n",
       "</style>\n",
       "<table border=\"1\" class=\"dataframe\">\n",
       "  <thead>\n",
       "    <tr style=\"text-align: right;\">\n",
       "      <th></th>\n",
       "      <th>fit_time</th>\n",
       "      <th>score_time</th>\n",
       "      <th>test_accuracy</th>\n",
       "      <th>train_accuracy</th>\n",
       "      <th>test_f1</th>\n",
       "      <th>train_f1</th>\n",
       "      <th>test_precision</th>\n",
       "      <th>train_precision</th>\n",
       "      <th>test_recall</th>\n",
       "      <th>train_recall</th>\n",
       "    </tr>\n",
       "  </thead>\n",
       "  <tbody>\n",
       "    <tr>\n",
       "      <th>LR</th>\n",
       "      <td>0.079726</td>\n",
       "      <td>0.020421</td>\n",
       "      <td>0.752157</td>\n",
       "      <td>0.777353</td>\n",
       "      <td>0.530836</td>\n",
       "      <td>0.574092</td>\n",
       "      <td>0.617032</td>\n",
       "      <td>0.673260</td>\n",
       "      <td>0.469281</td>\n",
       "      <td>0.500654</td>\n",
       "    </tr>\n",
       "    <tr>\n",
       "      <th>kNN</th>\n",
       "      <td>0.031888</td>\n",
       "      <td>0.038426</td>\n",
       "      <td>0.719608</td>\n",
       "      <td>0.813824</td>\n",
       "      <td>0.473836</td>\n",
       "      <td>0.650546</td>\n",
       "      <td>0.546237</td>\n",
       "      <td>0.744793</td>\n",
       "      <td>0.423529</td>\n",
       "      <td>0.577778</td>\n",
       "    </tr>\n",
       "    <tr>\n",
       "      <th>DTree</th>\n",
       "      <td>0.026704</td>\n",
       "      <td>0.020726</td>\n",
       "      <td>0.689020</td>\n",
       "      <td>0.711667</td>\n",
       "      <td>0.135704</td>\n",
       "      <td>0.184183</td>\n",
       "      <td>0.184115</td>\n",
       "      <td>0.295423</td>\n",
       "      <td>0.124183</td>\n",
       "      <td>0.160131</td>\n",
       "    </tr>\n",
       "    <tr>\n",
       "      <th>RF</th>\n",
       "      <td>0.257359</td>\n",
       "      <td>0.037769</td>\n",
       "      <td>0.700000</td>\n",
       "      <td>0.700882</td>\n",
       "      <td>0.002564</td>\n",
       "      <td>0.006451</td>\n",
       "      <td>0.066667</td>\n",
       "      <td>0.316667</td>\n",
       "      <td>0.001307</td>\n",
       "      <td>0.003268</td>\n",
       "    </tr>\n",
       "    <tr>\n",
       "      <th>XGBoost</th>\n",
       "      <td>0.256478</td>\n",
       "      <td>0.033287</td>\n",
       "      <td>0.727843</td>\n",
       "      <td>1.000000</td>\n",
       "      <td>0.501089</td>\n",
       "      <td>1.000000</td>\n",
       "      <td>0.567527</td>\n",
       "      <td>1.000000</td>\n",
       "      <td>0.454902</td>\n",
       "      <td>1.000000</td>\n",
       "    </tr>\n",
       "    <tr>\n",
       "      <th>MLP</th>\n",
       "      <td>3.605668</td>\n",
       "      <td>0.024898</td>\n",
       "      <td>0.737255</td>\n",
       "      <td>0.805588</td>\n",
       "      <td>0.511256</td>\n",
       "      <td>0.636861</td>\n",
       "      <td>0.579978</td>\n",
       "      <td>0.724495</td>\n",
       "      <td>0.460131</td>\n",
       "      <td>0.568954</td>\n",
       "    </tr>\n",
       "    <tr>\n",
       "      <th>SVM</th>\n",
       "      <td>0.046065</td>\n",
       "      <td>0.033150</td>\n",
       "      <td>0.744314</td>\n",
       "      <td>0.802255</td>\n",
       "      <td>0.496761</td>\n",
       "      <td>0.609332</td>\n",
       "      <td>0.607948</td>\n",
       "      <td>0.747940</td>\n",
       "      <td>0.424837</td>\n",
       "      <td>0.516013</td>\n",
       "    </tr>\n",
       "  </tbody>\n",
       "</table>\n",
       "</div>"
      ],
      "text/plain": [
       "         fit_time  score_time  test_accuracy  train_accuracy   test_f1  \\\n",
       "LR       0.079726    0.020421       0.752157        0.777353  0.530836   \n",
       "kNN      0.031888    0.038426       0.719608        0.813824  0.473836   \n",
       "DTree    0.026704    0.020726       0.689020        0.711667  0.135704   \n",
       "RF       0.257359    0.037769       0.700000        0.700882  0.002564   \n",
       "XGBoost  0.256478    0.033287       0.727843        1.000000  0.501089   \n",
       "MLP      3.605668    0.024898       0.737255        0.805588  0.511256   \n",
       "SVM      0.046065    0.033150       0.744314        0.802255  0.496761   \n",
       "\n",
       "         train_f1  test_precision  train_precision  test_recall  train_recall  \n",
       "LR       0.574092        0.617032         0.673260     0.469281      0.500654  \n",
       "kNN      0.650546        0.546237         0.744793     0.423529      0.577778  \n",
       "DTree    0.184183        0.184115         0.295423     0.124183      0.160131  \n",
       "RF       0.006451        0.066667         0.316667     0.001307      0.003268  \n",
       "XGBoost  1.000000        0.567527         1.000000     0.454902      1.000000  \n",
       "MLP      0.636861        0.579978         0.724495     0.460131      0.568954  \n",
       "SVM      0.609332        0.607948         0.747940     0.424837      0.516013  "
      ]
     },
     "execution_count": 93,
     "metadata": {},
     "output_type": "execute_result"
    }
   ],
   "source": [
    "df_resultados.T"
   ]
  },
  {
   "cell_type": "code",
   "execution_count": 94,
   "metadata": {},
   "outputs": [],
   "source": [
    "df_metrica_recall = pd.DataFrame()\n",
    "\n",
    "for i in range(len(modelos)):\n",
    "    tabla_result = pd.DataFrame.from_dict(resultados[i])['test_recall']\n",
    "    tabla_result = tabla_result.to_frame(name = resultados[i]['nombre'])\n",
    "    df_metrica_recall = pd.concat([df_metrica_recall, tabla_result], axis = 1)"
   ]
  },
  {
   "cell_type": "code",
   "execution_count": 95,
   "metadata": {},
   "outputs": [
    {
     "data": {
      "text/html": [
       "<div>\n",
       "<style scoped>\n",
       "    .dataframe tbody tr th:only-of-type {\n",
       "        vertical-align: middle;\n",
       "    }\n",
       "\n",
       "    .dataframe tbody tr th {\n",
       "        vertical-align: top;\n",
       "    }\n",
       "\n",
       "    .dataframe thead th {\n",
       "        text-align: right;\n",
       "    }\n",
       "</style>\n",
       "<table border=\"1\" class=\"dataframe\">\n",
       "  <thead>\n",
       "    <tr style=\"text-align: right;\">\n",
       "      <th></th>\n",
       "      <th>LR</th>\n",
       "      <th>kNN</th>\n",
       "      <th>DTree</th>\n",
       "      <th>RF</th>\n",
       "      <th>XGBoost</th>\n",
       "      <th>MLP</th>\n",
       "      <th>SVM</th>\n",
       "    </tr>\n",
       "  </thead>\n",
       "  <tbody>\n",
       "    <tr>\n",
       "      <th>0</th>\n",
       "      <td>0.431373</td>\n",
       "      <td>0.392157</td>\n",
       "      <td>0.627451</td>\n",
       "      <td>0.000000</td>\n",
       "      <td>0.509804</td>\n",
       "      <td>0.431373</td>\n",
       "      <td>0.372549</td>\n",
       "    </tr>\n",
       "    <tr>\n",
       "      <th>1</th>\n",
       "      <td>0.509804</td>\n",
       "      <td>0.470588</td>\n",
       "      <td>0.000000</td>\n",
       "      <td>0.000000</td>\n",
       "      <td>0.392157</td>\n",
       "      <td>0.450980</td>\n",
       "      <td>0.431373</td>\n",
       "    </tr>\n",
       "    <tr>\n",
       "      <th>2</th>\n",
       "      <td>0.490196</td>\n",
       "      <td>0.372549</td>\n",
       "      <td>0.000000</td>\n",
       "      <td>0.000000</td>\n",
       "      <td>0.470588</td>\n",
       "      <td>0.490196</td>\n",
       "      <td>0.450980</td>\n",
       "    </tr>\n",
       "    <tr>\n",
       "      <th>3</th>\n",
       "      <td>0.450980</td>\n",
       "      <td>0.313725</td>\n",
       "      <td>0.058824</td>\n",
       "      <td>0.000000</td>\n",
       "      <td>0.450980</td>\n",
       "      <td>0.352941</td>\n",
       "      <td>0.392157</td>\n",
       "    </tr>\n",
       "    <tr>\n",
       "      <th>4</th>\n",
       "      <td>0.392157</td>\n",
       "      <td>0.529412</td>\n",
       "      <td>0.333333</td>\n",
       "      <td>0.000000</td>\n",
       "      <td>0.431373</td>\n",
       "      <td>0.470588</td>\n",
       "      <td>0.411765</td>\n",
       "    </tr>\n",
       "    <tr>\n",
       "      <th>5</th>\n",
       "      <td>0.450980</td>\n",
       "      <td>0.431373</td>\n",
       "      <td>0.000000</td>\n",
       "      <td>0.000000</td>\n",
       "      <td>0.450980</td>\n",
       "      <td>0.450980</td>\n",
       "      <td>0.431373</td>\n",
       "    </tr>\n",
       "    <tr>\n",
       "      <th>6</th>\n",
       "      <td>0.431373</td>\n",
       "      <td>0.352941</td>\n",
       "      <td>0.156863</td>\n",
       "      <td>0.000000</td>\n",
       "      <td>0.450980</td>\n",
       "      <td>0.431373</td>\n",
       "      <td>0.313725</td>\n",
       "    </tr>\n",
       "    <tr>\n",
       "      <th>7</th>\n",
       "      <td>0.470588</td>\n",
       "      <td>0.392157</td>\n",
       "      <td>0.333333</td>\n",
       "      <td>0.019608</td>\n",
       "      <td>0.529412</td>\n",
       "      <td>0.490196</td>\n",
       "      <td>0.450980</td>\n",
       "    </tr>\n",
       "    <tr>\n",
       "      <th>8</th>\n",
       "      <td>0.470588</td>\n",
       "      <td>0.450980</td>\n",
       "      <td>0.000000</td>\n",
       "      <td>0.000000</td>\n",
       "      <td>0.431373</td>\n",
       "      <td>0.470588</td>\n",
       "      <td>0.529412</td>\n",
       "    </tr>\n",
       "    <tr>\n",
       "      <th>9</th>\n",
       "      <td>0.509804</td>\n",
       "      <td>0.372549</td>\n",
       "      <td>0.000000</td>\n",
       "      <td>0.000000</td>\n",
       "      <td>0.392157</td>\n",
       "      <td>0.509804</td>\n",
       "      <td>0.431373</td>\n",
       "    </tr>\n",
       "    <tr>\n",
       "      <th>10</th>\n",
       "      <td>0.490196</td>\n",
       "      <td>0.392157</td>\n",
       "      <td>0.000000</td>\n",
       "      <td>0.000000</td>\n",
       "      <td>0.470588</td>\n",
       "      <td>0.431373</td>\n",
       "      <td>0.372549</td>\n",
       "    </tr>\n",
       "    <tr>\n",
       "      <th>11</th>\n",
       "      <td>0.627451</td>\n",
       "      <td>0.588235</td>\n",
       "      <td>0.000000</td>\n",
       "      <td>0.000000</td>\n",
       "      <td>0.588235</td>\n",
       "      <td>0.647059</td>\n",
       "      <td>0.588235</td>\n",
       "    </tr>\n",
       "    <tr>\n",
       "      <th>12</th>\n",
       "      <td>0.431373</td>\n",
       "      <td>0.470588</td>\n",
       "      <td>0.019608</td>\n",
       "      <td>0.000000</td>\n",
       "      <td>0.392157</td>\n",
       "      <td>0.392157</td>\n",
       "      <td>0.392157</td>\n",
       "    </tr>\n",
       "    <tr>\n",
       "      <th>13</th>\n",
       "      <td>0.392157</td>\n",
       "      <td>0.392157</td>\n",
       "      <td>0.000000</td>\n",
       "      <td>0.000000</td>\n",
       "      <td>0.372549</td>\n",
       "      <td>0.392157</td>\n",
       "      <td>0.333333</td>\n",
       "    </tr>\n",
       "    <tr>\n",
       "      <th>14</th>\n",
       "      <td>0.490196</td>\n",
       "      <td>0.431373</td>\n",
       "      <td>0.333333</td>\n",
       "      <td>0.000000</td>\n",
       "      <td>0.490196</td>\n",
       "      <td>0.490196</td>\n",
       "      <td>0.470588</td>\n",
       "    </tr>\n",
       "  </tbody>\n",
       "</table>\n",
       "</div>"
      ],
      "text/plain": [
       "          LR       kNN     DTree        RF   XGBoost       MLP       SVM\n",
       "0   0.431373  0.392157  0.627451  0.000000  0.509804  0.431373  0.372549\n",
       "1   0.509804  0.470588  0.000000  0.000000  0.392157  0.450980  0.431373\n",
       "2   0.490196  0.372549  0.000000  0.000000  0.470588  0.490196  0.450980\n",
       "3   0.450980  0.313725  0.058824  0.000000  0.450980  0.352941  0.392157\n",
       "4   0.392157  0.529412  0.333333  0.000000  0.431373  0.470588  0.411765\n",
       "5   0.450980  0.431373  0.000000  0.000000  0.450980  0.450980  0.431373\n",
       "6   0.431373  0.352941  0.156863  0.000000  0.450980  0.431373  0.313725\n",
       "7   0.470588  0.392157  0.333333  0.019608  0.529412  0.490196  0.450980\n",
       "8   0.470588  0.450980  0.000000  0.000000  0.431373  0.470588  0.529412\n",
       "9   0.509804  0.372549  0.000000  0.000000  0.392157  0.509804  0.431373\n",
       "10  0.490196  0.392157  0.000000  0.000000  0.470588  0.431373  0.372549\n",
       "11  0.627451  0.588235  0.000000  0.000000  0.588235  0.647059  0.588235\n",
       "12  0.431373  0.470588  0.019608  0.000000  0.392157  0.392157  0.392157\n",
       "13  0.392157  0.392157  0.000000  0.000000  0.372549  0.392157  0.333333\n",
       "14  0.490196  0.431373  0.333333  0.000000  0.490196  0.490196  0.470588"
      ]
     },
     "execution_count": 95,
     "metadata": {},
     "output_type": "execute_result"
    }
   ],
   "source": [
    "df_metrica_recall"
   ]
  },
  {
   "cell_type": "code",
   "execution_count": 96,
   "metadata": {},
   "outputs": [],
   "source": [
    "df_melted = pd.melt(df_metrica_recall)"
   ]
  },
  {
   "cell_type": "code",
   "execution_count": 97,
   "metadata": {},
   "outputs": [
    {
     "data": {
      "image/png": "[encoded data removed]",
      "text/plain": [
       "<Figure size 432x288 with 1 Axes>"
      ]
     },
     "metadata": {
      "needs_background": "light"
     },
     "output_type": "display_data"
    }
   ],
   "source": [
    "sns.boxplot(y='variable', x='value', data=df_melted, palette=\"Set2\").set(xlabel='', ylabel='');"
   ]
  },
  {
   "cell_type": "code",
   "execution_count": null,
   "metadata": {},
   "outputs": [],
   "source": []
  },
  {
   "cell_type": "markdown",
   "metadata": {
    "id": "CGRvZ5QmBU5P"
   },
   "source": [
    "## **Ejercicio 9**"
   ]
  },
  {
   "cell_type": "markdown",
   "metadata": {
    "id": "5MeXfRLyIOLa"
   },
   "source": [
    "### **De acuerdo a la información de la matriz de costo dada en la documentación del problema, contesta las siguientes preguntas:**\n",
    "\n",
    "### ++++++++ Inicia la sección de agregar texto: +++++++++++\n",
    "\n",
    "a.   ¿Qué error se considera más costoso por parte del banco? ¿FP o FN? Justifica tu respuesta.\n",
    "\n",
    "None\n",
    "\n",
    "b.   ¿Cuál o cuáles serían entonces las métricas a considerar como más importantes? Justifica tu respuesta.\n",
    "\n",
    "None\n",
    "\n",
    "\n",
    "\n",
    "### ++++++++ Termina la sección de agregar texto. +++++++++++\n"
   ]
  },
  {
   "cell_type": "markdown",
   "metadata": {
    "id": "4JkGo57zMXqn"
   },
   "source": [
    "## **Ejercicio 10**"
   ]
  },
  {
   "cell_type": "code",
   "execution_count": 98,
   "metadata": {
    "id": "DsV2wzymwdyV"
   },
   "outputs": [],
   "source": [
    "# Obtener un diagrama de caja y bigotes (boxplot) múltiple de todos los modelos,\n",
    "# utilizando los resultados obtenidos con la métrica que consideraste más importante\n",
    "# en el ejercicio anterior:\n",
    "\n",
    "\n",
    "# ************* Inlcuye aquí tu código:**************************\n",
    "\n",
    "None\n",
    "\n",
    "\n",
    "# *********** Aquí termina la sección de agregar código *************\n"
   ]
  },
  {
   "cell_type": "markdown",
   "metadata": {
    "id": "mrHxhpEkmvbf"
   },
   "source": [
    "### **Incluye tus conclusiones al respecto, en particular indica cuáles consideras son los mejores modelos obtenidos.**\n",
    "\n",
    "### ++++++++ Inicia la sección de agregar texto: +++++++++++\n",
    "\n",
    "None\n",
    "\n",
    "### ++++++++ Termina la sección de agregar texto: +++++++++++\n",
    "\n"
   ]
  },
  {
   "cell_type": "markdown",
   "metadata": {
    "id": "TPOqRS7pNCNH"
   },
   "source": [
    "# **Parte III: Modelos con técnicas para clases no balanceadas.**"
   ]
  },
  {
   "cell_type": "markdown",
   "metadata": {
    "id": "HowUdsf7MqIJ"
   },
   "source": [
    "## **Ejercicio 11**"
   ]
  },
  {
   "cell_type": "code",
   "execution_count": 99,
   "metadata": {},
   "outputs": [],
   "source": [
    "import imblearn\n",
    "from imblearn.over_sampling import RandomOverSampler\n",
    "from imblearn.under_sampling import RandomUnderSampler\n",
    "from imblearn.over_sampling import SMOTE\n",
    "from imblearn.pipeline import Pipeline\n",
    "\n",
    "over = SMOTE()\n",
    "under = RandomUnderSampler()"
   ]
  },
  {
   "cell_type": "markdown",
   "metadata": {},
   "source": [
    "Veamos como se ve el pipeline con los pasos de sobre-muestre y submuestreo:"
   ]
  },
  {
   "cell_type": "code",
   "execution_count": 100,
   "metadata": {},
   "outputs": [
    {
     "data": {
      "text/html": [
       "<style>#sk-container-id-3 {color: black;background-color: white;}#sk-container-id-3 pre{padding: 0;}#sk-container-id-3 div.sk-toggleable {background-color: white;}#sk-container-id-3 label.sk-toggleable__label {cursor: pointer;display: block;width: 100%;margin-bottom: 0;padding: 0.3em;box-sizing: border-box;text-align: center;}#sk-container-id-3 label.sk-toggleable__label-arrow:before {content: \"▸\";float: left;margin-right: 0.25em;color: #696969;}#sk-container-id-3 label.sk-toggleable__label-arrow:hover:before {color: black;}#sk-container-id-3 div.sk-estimator:hover label.sk-toggleable__label-arrow:before {color: black;}#sk-container-id-3 div.sk-toggleable__content {max-height: 0;max-width: 0;overflow: hidden;text-align: left;background-color: #f0f8ff;}#sk-container-id-3 div.sk-toggleable__content pre {margin: 0.2em;color: black;border-radius: 0.25em;background-color: #f0f8ff;}#sk-container-id-3 input.sk-toggleable__control:checked~div.sk-toggleable__content {max-height: 200px;max-width: 100%;overflow: auto;}#sk-container-id-3 input.sk-toggleable__control:checked~label.sk-toggleable__label-arrow:before {content: \"▾\";}#sk-container-id-3 div.sk-estimator input.sk-toggleable__control:checked~label.sk-toggleable__label {background-color: #d4ebff;}#sk-container-id-3 div.sk-label input.sk-toggleable__control:checked~label.sk-toggleable__label {background-color: #d4ebff;}#sk-container-id-3 input.sk-hidden--visually {border: 0;clip: rect(1px 1px 1px 1px);clip: rect(1px, 1px, 1px, 1px);height: 1px;margin: -1px;overflow: hidden;padding: 0;position: absolute;width: 1px;}#sk-container-id-3 div.sk-estimator {font-family: monospace;background-color: #f0f8ff;border: 1px dotted black;border-radius: 0.25em;box-sizing: border-box;margin-bottom: 0.5em;}#sk-container-id-3 div.sk-estimator:hover {background-color: #d4ebff;}#sk-container-id-3 div.sk-parallel-item::after {content: \"\";width: 100%;border-bottom: 1px solid gray;flex-grow: 1;}#sk-container-id-3 div.sk-label:hover label.sk-toggleable__label {background-color: #d4ebff;}#sk-container-id-3 div.sk-serial::before {content: \"\";position: absolute;border-left: 1px solid gray;box-sizing: border-box;top: 0;bottom: 0;left: 50%;z-index: 0;}#sk-container-id-3 div.sk-serial {display: flex;flex-direction: column;align-items: center;background-color: white;padding-right: 0.2em;padding-left: 0.2em;position: relative;}#sk-container-id-3 div.sk-item {position: relative;z-index: 1;}#sk-container-id-3 div.sk-parallel {display: flex;align-items: stretch;justify-content: center;background-color: white;position: relative;}#sk-container-id-3 div.sk-item::before, #sk-container-id-3 div.sk-parallel-item::before {content: \"\";position: absolute;border-left: 1px solid gray;box-sizing: border-box;top: 0;bottom: 0;left: 50%;z-index: -1;}#sk-container-id-3 div.sk-parallel-item {display: flex;flex-direction: column;z-index: 1;position: relative;background-color: white;}#sk-container-id-3 div.sk-parallel-item:first-child::after {align-self: flex-end;width: 50%;}#sk-container-id-3 div.sk-parallel-item:last-child::after {align-self: flex-start;width: 50%;}#sk-container-id-3 div.sk-parallel-item:only-child::after {width: 0;}#sk-container-id-3 div.sk-dashed-wrapped {border: 1px dashed gray;margin: 0 0.4em 0.5em 0.4em;box-sizing: border-box;padding-bottom: 0.4em;background-color: white;}#sk-container-id-3 div.sk-label label {font-family: monospace;font-weight: bold;display: inline-block;line-height: 1.2em;}#sk-container-id-3 div.sk-label-container {text-align: center;}#sk-container-id-3 div.sk-container {/* jupyter's `normalize.less` sets `[hidden] { display: none; }` but bootstrap.min.css set `[hidden] { display: none !important; }` so we also need the `!important` here to be able to override the default hidden behavior on the sphinx rendered scikit-learn.org. See: https://github.com/scikit-learn/scikit-learn/issues/21755 */display: inline-block !important;position: relative;}#sk-container-id-3 div.sk-text-repr-fallback {display: none;}</style><div id=\"sk-container-id-3\" class=\"sk-top-container\"><div class=\"sk-text-repr-fallback\"><pre>Pipeline(steps=[(&#x27;over&#x27;, SMOTE()), (&#x27;under&#x27;, RandomUnderSampler()),\n",
       "                (&#x27;ct&#x27;,\n",
       "                 ColumnTransformer(remainder=&#x27;passthrough&#x27;,\n",
       "                                   transformers=[(&#x27;numer&#x27;,\n",
       "                                                  FunctionTransformer(func=&lt;ufunc &#x27;log&#x27;&gt;),\n",
       "                                                  [&#x27;duration&#x27;, &#x27;amount&#x27;,\n",
       "                                                   &#x27;age&#x27;]),\n",
       "                                                 (&#x27;nomin&#x27;,\n",
       "                                                  Pipeline(steps=[(&#x27;encoderOHE&#x27;,\n",
       "                                                                   OneHotEncoder(drop=&#x27;first&#x27;,\n",
       "                                                                                 handle_unknown=&#x27;ignore&#x27;,\n",
       "                                                                                 sparse=False))]),\n",
       "                                                  [&#x27;people_liable&#x27;, &#x27;telephone&#x27;,\n",
       "                                                   &#x27;foreign_worker&#x27;,\n",
       "                                                   &#x27;credit_history&#x27;, &#x27;purpose&#x27;,\n",
       "                                                   &#x27;personal_status_sex&#x27;,\n",
       "                                                   &#x27;other_debtors&#x27;,\n",
       "                                                   &#x27;other_installment_plans&#x27;,\n",
       "                                                   &#x27;housing&#x27;])])),\n",
       "                (&#x27;m&#x27;,\n",
       "                 RandomForestClassifier(max_depth=2, min_samples_split=3))])</pre><b>In a Jupyter environment, please rerun this cell to show the HTML representation or trust the notebook. <br />On GitHub, the HTML representation is unable to render, please try loading this page with nbviewer.org.</b></div><div class=\"sk-container\" hidden><div class=\"sk-item sk-dashed-wrapped\"><div class=\"sk-label-container\"><div class=\"sk-label sk-toggleable\"><input class=\"sk-toggleable__control sk-hidden--visually\" id=\"sk-estimator-id-15\" type=\"checkbox\" ><label for=\"sk-estimator-id-15\" class=\"sk-toggleable__label sk-toggleable__label-arrow\">Pipeline</label><div class=\"sk-toggleable__content\"><pre>Pipeline(steps=[(&#x27;over&#x27;, SMOTE()), (&#x27;under&#x27;, RandomUnderSampler()),\n",
       "                (&#x27;ct&#x27;,\n",
       "                 ColumnTransformer(remainder=&#x27;passthrough&#x27;,\n",
       "                                   transformers=[(&#x27;numer&#x27;,\n",
       "                                                  FunctionTransformer(func=&lt;ufunc &#x27;log&#x27;&gt;),\n",
       "                                                  [&#x27;duration&#x27;, &#x27;amount&#x27;,\n",
       "                                                   &#x27;age&#x27;]),\n",
       "                                                 (&#x27;nomin&#x27;,\n",
       "                                                  Pipeline(steps=[(&#x27;encoderOHE&#x27;,\n",
       "                                                                   OneHotEncoder(drop=&#x27;first&#x27;,\n",
       "                                                                                 handle_unknown=&#x27;ignore&#x27;,\n",
       "                                                                                 sparse=False))]),\n",
       "                                                  [&#x27;people_liable&#x27;, &#x27;telephone&#x27;,\n",
       "                                                   &#x27;foreign_worker&#x27;,\n",
       "                                                   &#x27;credit_history&#x27;, &#x27;purpose&#x27;,\n",
       "                                                   &#x27;personal_status_sex&#x27;,\n",
       "                                                   &#x27;other_debtors&#x27;,\n",
       "                                                   &#x27;other_installment_plans&#x27;,\n",
       "                                                   &#x27;housing&#x27;])])),\n",
       "                (&#x27;m&#x27;,\n",
       "                 RandomForestClassifier(max_depth=2, min_samples_split=3))])</pre></div></div></div><div class=\"sk-serial\"><div class=\"sk-item\"><div class=\"sk-estimator sk-toggleable\"><input class=\"sk-toggleable__control sk-hidden--visually\" id=\"sk-estimator-id-16\" type=\"checkbox\" ><label for=\"sk-estimator-id-16\" class=\"sk-toggleable__label sk-toggleable__label-arrow\">SMOTE</label><div class=\"sk-toggleable__content\"><pre>SMOTE()</pre></div></div></div><div class=\"sk-item\"><div class=\"sk-estimator sk-toggleable\"><input class=\"sk-toggleable__control sk-hidden--visually\" id=\"sk-estimator-id-17\" type=\"checkbox\" ><label for=\"sk-estimator-id-17\" class=\"sk-toggleable__label sk-toggleable__label-arrow\">RandomUnderSampler</label><div class=\"sk-toggleable__content\"><pre>RandomUnderSampler()</pre></div></div></div><div class=\"sk-item sk-dashed-wrapped\"><div class=\"sk-label-container\"><div class=\"sk-label sk-toggleable\"><input class=\"sk-toggleable__control sk-hidden--visually\" id=\"sk-estimator-id-18\" type=\"checkbox\" ><label for=\"sk-estimator-id-18\" class=\"sk-toggleable__label sk-toggleable__label-arrow\">ct: ColumnTransformer</label><div class=\"sk-toggleable__content\"><pre>ColumnTransformer(remainder=&#x27;passthrough&#x27;,\n",
       "                  transformers=[(&#x27;numer&#x27;,\n",
       "                                 FunctionTransformer(func=&lt;ufunc &#x27;log&#x27;&gt;),\n",
       "                                 [&#x27;duration&#x27;, &#x27;amount&#x27;, &#x27;age&#x27;]),\n",
       "                                (&#x27;nomin&#x27;,\n",
       "                                 Pipeline(steps=[(&#x27;encoderOHE&#x27;,\n",
       "                                                  OneHotEncoder(drop=&#x27;first&#x27;,\n",
       "                                                                handle_unknown=&#x27;ignore&#x27;,\n",
       "                                                                sparse=False))]),\n",
       "                                 [&#x27;people_liable&#x27;, &#x27;telephone&#x27;,\n",
       "                                  &#x27;foreign_worker&#x27;, &#x27;credit_history&#x27;, &#x27;purpose&#x27;,\n",
       "                                  &#x27;personal_status_sex&#x27;, &#x27;other_debtors&#x27;,\n",
       "                                  &#x27;other_installment_plans&#x27;, &#x27;housing&#x27;])])</pre></div></div></div><div class=\"sk-parallel\"><div class=\"sk-parallel-item\"><div class=\"sk-item\"><div class=\"sk-label-container\"><div class=\"sk-label sk-toggleable\"><input class=\"sk-toggleable__control sk-hidden--visually\" id=\"sk-estimator-id-19\" type=\"checkbox\" ><label for=\"sk-estimator-id-19\" class=\"sk-toggleable__label sk-toggleable__label-arrow\">numer</label><div class=\"sk-toggleable__content\"><pre>[&#x27;duration&#x27;, &#x27;amount&#x27;, &#x27;age&#x27;]</pre></div></div></div><div class=\"sk-serial\"><div class=\"sk-item\"><div class=\"sk-estimator sk-toggleable\"><input class=\"sk-toggleable__control sk-hidden--visually\" id=\"sk-estimator-id-20\" type=\"checkbox\" ><label for=\"sk-estimator-id-20\" class=\"sk-toggleable__label sk-toggleable__label-arrow\">FunctionTransformer</label><div class=\"sk-toggleable__content\"><pre>FunctionTransformer(func=&lt;ufunc &#x27;log&#x27;&gt;)</pre></div></div></div></div></div></div><div class=\"sk-parallel-item\"><div class=\"sk-item\"><div class=\"sk-label-container\"><div class=\"sk-label sk-toggleable\"><input class=\"sk-toggleable__control sk-hidden--visually\" id=\"sk-estimator-id-21\" type=\"checkbox\" ><label for=\"sk-estimator-id-21\" class=\"sk-toggleable__label sk-toggleable__label-arrow\">nomin</label><div class=\"sk-toggleable__content\"><pre>[&#x27;people_liable&#x27;, &#x27;telephone&#x27;, &#x27;foreign_worker&#x27;, &#x27;credit_history&#x27;, &#x27;purpose&#x27;, &#x27;personal_status_sex&#x27;, &#x27;other_debtors&#x27;, &#x27;other_installment_plans&#x27;, &#x27;housing&#x27;]</pre></div></div></div><div class=\"sk-serial\"><div class=\"sk-item\"><div class=\"sk-serial\"><div class=\"sk-item\"><div class=\"sk-estimator sk-toggleable\"><input class=\"sk-toggleable__control sk-hidden--visually\" id=\"sk-estimator-id-22\" type=\"checkbox\" ><label for=\"sk-estimator-id-22\" class=\"sk-toggleable__label sk-toggleable__label-arrow\">OneHotEncoder</label><div class=\"sk-toggleable__content\"><pre>OneHotEncoder(drop=&#x27;first&#x27;, handle_unknown=&#x27;ignore&#x27;, sparse=False)</pre></div></div></div></div></div></div></div></div><div class=\"sk-parallel-item\"><div class=\"sk-item\"><div class=\"sk-label-container\"><div class=\"sk-label sk-toggleable\"><input class=\"sk-toggleable__control sk-hidden--visually\" id=\"sk-estimator-id-23\" type=\"checkbox\" ><label for=\"sk-estimator-id-23\" class=\"sk-toggleable__label sk-toggleable__label-arrow\">remainder</label><div class=\"sk-toggleable__content\"><pre>[&#x27;status&#x27;, &#x27;savings&#x27;, &#x27;employment_duration&#x27;, &#x27;installment_rate&#x27;, &#x27;present_residence&#x27;, &#x27;property&#x27;, &#x27;number_credits&#x27;, &#x27;job&#x27;]</pre></div></div></div><div class=\"sk-serial\"><div class=\"sk-item\"><div class=\"sk-estimator sk-toggleable\"><input class=\"sk-toggleable__control sk-hidden--visually\" id=\"sk-estimator-id-24\" type=\"checkbox\" ><label for=\"sk-estimator-id-24\" class=\"sk-toggleable__label sk-toggleable__label-arrow\">passthrough</label><div class=\"sk-toggleable__content\"><pre>passthrough</pre></div></div></div></div></div></div></div></div><div class=\"sk-item\"><div class=\"sk-estimator sk-toggleable\"><input class=\"sk-toggleable__control sk-hidden--visually\" id=\"sk-estimator-id-25\" type=\"checkbox\" ><label for=\"sk-estimator-id-25\" class=\"sk-toggleable__label sk-toggleable__label-arrow\">RandomForestClassifier</label><div class=\"sk-toggleable__content\"><pre>RandomForestClassifier(max_depth=2, min_samples_split=3)</pre></div></div></div></div></div></div></div>"
      ],
      "text/plain": [
       "Pipeline(steps=[('over', SMOTE()), ('under', RandomUnderSampler()),\n",
       "                ('ct',\n",
       "                 ColumnTransformer(remainder='passthrough',\n",
       "                                   transformers=[('numer',\n",
       "                                                  FunctionTransformer(func=<ufunc 'log'>),\n",
       "                                                  ['duration', 'amount',\n",
       "                                                   'age']),\n",
       "                                                 ('nomin',\n",
       "                                                  Pipeline(steps=[('encoderOHE',\n",
       "                                                                   OneHotEncoder(drop='first',\n",
       "                                                                                 handle_unknown='ignore',\n",
       "                                                                                 sparse=False))]),\n",
       "                                                  ['people_liable', 'telephone',\n",
       "                                                   'foreign_worker',\n",
       "                                                   'credit_history', 'purpose',\n",
       "                                                   'personal_status_sex',\n",
       "                                                   'other_debtors',\n",
       "                                                   'other_installment_plans',\n",
       "                                                   'housing'])])),\n",
       "                ('m',\n",
       "                 RandomForestClassifier(max_depth=2, min_samples_split=3))])"
      ]
     },
     "execution_count": 100,
     "metadata": {},
     "output_type": "execute_result"
    }
   ],
   "source": [
    "i = 3\n",
    "pipeline = Pipeline(steps=[('over', over), ('under', under),('ct',columnasTransformer),('m',modelos[i])])\n",
    "pipeline"
   ]
  },
  {
   "cell_type": "markdown",
   "metadata": {},
   "source": [
    "Al parecer, todo funciona bien. Ahora sí se hará la ejecución del ajuste de todos los modelos en consideración pero ya con el sobremuestreo y submuestreo en el pipeline"
   ]
  },
  {
   "cell_type": "code",
   "execution_count": 101,
   "metadata": {
    "id": "ZbfPqUkSwFxo"
   },
   "outputs": [
    {
     "name": "stderr",
     "output_type": "stream",
     "text": [
      "/Library/Frameworks/Python.framework/Versions/3.9/lib/python3.9/site-packages/sklearn/linear_model/_logistic.py:444: ConvergenceWarning: lbfgs failed to converge (status=1):\n",
      "STOP: TOTAL NO. of ITERATIONS REACHED LIMIT.\n",
      "\n",
      "Increase the number of iterations (max_iter) or scale the data as shown in:\n",
      "    https://scikit-learn.org/stable/modules/preprocessing.html\n",
      "Please also refer to the documentation for alternative solver options:\n",
      "    https://scikit-learn.org/stable/modules/linear_model.html#logistic-regression\n",
      "  n_iter_i = _check_optimize_result(\n",
      "/Library/Frameworks/Python.framework/Versions/3.9/lib/python3.9/site-packages/sklearn/linear_model/_logistic.py:444: ConvergenceWarning: lbfgs failed to converge (status=1):\n",
      "STOP: TOTAL NO. of ITERATIONS REACHED LIMIT.\n",
      "\n",
      "Increase the number of iterations (max_iter) or scale the data as shown in:\n",
      "    https://scikit-learn.org/stable/modules/preprocessing.html\n",
      "Please also refer to the documentation for alternative solver options:\n",
      "    https://scikit-learn.org/stable/modules/linear_model.html#logistic-regression\n",
      "  n_iter_i = _check_optimize_result(\n",
      "/Library/Frameworks/Python.framework/Versions/3.9/lib/python3.9/site-packages/sklearn/linear_model/_logistic.py:444: ConvergenceWarning: lbfgs failed to converge (status=1):\n",
      "STOP: TOTAL NO. of ITERATIONS REACHED LIMIT.\n",
      "\n",
      "Increase the number of iterations (max_iter) or scale the data as shown in:\n",
      "    https://scikit-learn.org/stable/modules/preprocessing.html\n",
      "Please also refer to the documentation for alternative solver options:\n",
      "    https://scikit-learn.org/stable/modules/linear_model.html#logistic-regression\n",
      "  n_iter_i = _check_optimize_result(\n",
      "/Library/Frameworks/Python.framework/Versions/3.9/lib/python3.9/site-packages/sklearn/linear_model/_logistic.py:444: ConvergenceWarning: lbfgs failed to converge (status=1):\n",
      "STOP: TOTAL NO. of ITERATIONS REACHED LIMIT.\n",
      "\n",
      "Increase the number of iterations (max_iter) or scale the data as shown in:\n",
      "    https://scikit-learn.org/stable/modules/preprocessing.html\n",
      "Please also refer to the documentation for alternative solver options:\n",
      "    https://scikit-learn.org/stable/modules/linear_model.html#logistic-regression\n",
      "  n_iter_i = _check_optimize_result(\n",
      "/Library/Frameworks/Python.framework/Versions/3.9/lib/python3.9/site-packages/sklearn/linear_model/_logistic.py:444: ConvergenceWarning: lbfgs failed to converge (status=1):\n",
      "STOP: TOTAL NO. of ITERATIONS REACHED LIMIT.\n",
      "\n",
      "Increase the number of iterations (max_iter) or scale the data as shown in:\n",
      "    https://scikit-learn.org/stable/modules/preprocessing.html\n",
      "Please also refer to the documentation for alternative solver options:\n",
      "    https://scikit-learn.org/stable/modules/linear_model.html#logistic-regression\n",
      "  n_iter_i = _check_optimize_result(\n",
      "/Library/Frameworks/Python.framework/Versions/3.9/lib/python3.9/site-packages/sklearn/linear_model/_logistic.py:444: ConvergenceWarning: lbfgs failed to converge (status=1):\n",
      "STOP: TOTAL NO. of ITERATIONS REACHED LIMIT.\n",
      "\n",
      "Increase the number of iterations (max_iter) or scale the data as shown in:\n",
      "    https://scikit-learn.org/stable/modules/preprocessing.html\n",
      "Please also refer to the documentation for alternative solver options:\n",
      "    https://scikit-learn.org/stable/modules/linear_model.html#logistic-regression\n",
      "  n_iter_i = _check_optimize_result(\n",
      "/Library/Frameworks/Python.framework/Versions/3.9/lib/python3.9/site-packages/sklearn/linear_model/_logistic.py:444: ConvergenceWarning: lbfgs failed to converge (status=1):\n",
      "STOP: TOTAL NO. of ITERATIONS REACHED LIMIT.\n",
      "\n",
      "Increase the number of iterations (max_iter) or scale the data as shown in:\n",
      "    https://scikit-learn.org/stable/modules/preprocessing.html\n",
      "Please also refer to the documentation for alternative solver options:\n",
      "    https://scikit-learn.org/stable/modules/linear_model.html#logistic-regression\n",
      "  n_iter_i = _check_optimize_result(\n",
      "/Library/Frameworks/Python.framework/Versions/3.9/lib/python3.9/site-packages/sklearn/linear_model/_logistic.py:444: ConvergenceWarning: lbfgs failed to converge (status=1):\n",
      "STOP: TOTAL NO. of ITERATIONS REACHED LIMIT.\n",
      "\n",
      "Increase the number of iterations (max_iter) or scale the data as shown in:\n",
      "    https://scikit-learn.org/stable/modules/preprocessing.html\n",
      "Please also refer to the documentation for alternative solver options:\n",
      "    https://scikit-learn.org/stable/modules/linear_model.html#logistic-regression\n",
      "  n_iter_i = _check_optimize_result(\n",
      "/Library/Frameworks/Python.framework/Versions/3.9/lib/python3.9/site-packages/sklearn/linear_model/_logistic.py:444: ConvergenceWarning: lbfgs failed to converge (status=1):\n",
      "STOP: TOTAL NO. of ITERATIONS REACHED LIMIT.\n",
      "\n",
      "Increase the number of iterations (max_iter) or scale the data as shown in:\n",
      "    https://scikit-learn.org/stable/modules/preprocessing.html\n",
      "Please also refer to the documentation for alternative solver options:\n",
      "    https://scikit-learn.org/stable/modules/linear_model.html#logistic-regression\n",
      "  n_iter_i = _check_optimize_result(\n",
      "/Library/Frameworks/Python.framework/Versions/3.9/lib/python3.9/site-packages/sklearn/linear_model/_logistic.py:444: ConvergenceWarning: lbfgs failed to converge (status=1):\n",
      "STOP: TOTAL NO. of ITERATIONS REACHED LIMIT.\n",
      "\n",
      "Increase the number of iterations (max_iter) or scale the data as shown in:\n",
      "    https://scikit-learn.org/stable/modules/preprocessing.html\n",
      "Please also refer to the documentation for alternative solver options:\n",
      "    https://scikit-learn.org/stable/modules/linear_model.html#logistic-regression\n",
      "  n_iter_i = _check_optimize_result(\n",
      "/Library/Frameworks/Python.framework/Versions/3.9/lib/python3.9/site-packages/sklearn/linear_model/_logistic.py:444: ConvergenceWarning: lbfgs failed to converge (status=1):\n",
      "STOP: TOTAL NO. of ITERATIONS REACHED LIMIT.\n",
      "\n",
      "Increase the number of iterations (max_iter) or scale the data as shown in:\n",
      "    https://scikit-learn.org/stable/modules/preprocessing.html\n",
      "Please also refer to the documentation for alternative solver options:\n",
      "    https://scikit-learn.org/stable/modules/linear_model.html#logistic-regression\n",
      "  n_iter_i = _check_optimize_result(\n",
      "/Library/Frameworks/Python.framework/Versions/3.9/lib/python3.9/site-packages/sklearn/linear_model/_logistic.py:444: ConvergenceWarning: lbfgs failed to converge (status=1):\n",
      "STOP: TOTAL NO. of ITERATIONS REACHED LIMIT.\n",
      "\n",
      "Increase the number of iterations (max_iter) or scale the data as shown in:\n",
      "    https://scikit-learn.org/stable/modules/preprocessing.html\n",
      "Please also refer to the documentation for alternative solver options:\n",
      "    https://scikit-learn.org/stable/modules/linear_model.html#logistic-regression\n",
      "  n_iter_i = _check_optimize_result(\n",
      "/Library/Frameworks/Python.framework/Versions/3.9/lib/python3.9/site-packages/sklearn/linear_model/_logistic.py:444: ConvergenceWarning: lbfgs failed to converge (status=1):\n",
      "STOP: TOTAL NO. of ITERATIONS REACHED LIMIT.\n",
      "\n",
      "Increase the number of iterations (max_iter) or scale the data as shown in:\n",
      "    https://scikit-learn.org/stable/modules/preprocessing.html\n",
      "Please also refer to the documentation for alternative solver options:\n",
      "    https://scikit-learn.org/stable/modules/linear_model.html#logistic-regression\n",
      "  n_iter_i = _check_optimize_result(\n",
      "/Library/Frameworks/Python.framework/Versions/3.9/lib/python3.9/site-packages/sklearn/linear_model/_logistic.py:444: ConvergenceWarning: lbfgs failed to converge (status=1):\n",
      "STOP: TOTAL NO. of ITERATIONS REACHED LIMIT.\n",
      "\n",
      "Increase the number of iterations (max_iter) or scale the data as shown in:\n",
      "    https://scikit-learn.org/stable/modules/preprocessing.html\n",
      "Please also refer to the documentation for alternative solver options:\n",
      "    https://scikit-learn.org/stable/modules/linear_model.html#logistic-regression\n",
      "  n_iter_i = _check_optimize_result(\n",
      "/Library/Frameworks/Python.framework/Versions/3.9/lib/python3.9/site-packages/sklearn/linear_model/_logistic.py:444: ConvergenceWarning: lbfgs failed to converge (status=1):\n",
      "STOP: TOTAL NO. of ITERATIONS REACHED LIMIT.\n",
      "\n",
      "Increase the number of iterations (max_iter) or scale the data as shown in:\n",
      "    https://scikit-learn.org/stable/modules/preprocessing.html\n",
      "Please also refer to the documentation for alternative solver options:\n",
      "    https://scikit-learn.org/stable/modules/linear_model.html#logistic-regression\n",
      "  n_iter_i = _check_optimize_result(\n"
     ]
    },
    {
     "name": "stdout",
     "output_type": "stream",
     "text": [
      ">> LR\n",
      "\t score_time 0.020 (0.004)\n",
      "\t test_accuracy 0.687 (0.036)\n",
      "\t train_accuracy 0.726 (0.012)\n",
      "\t test_f1 0.572 (0.042)\n",
      "\t train_f1 0.623 (0.014)\n",
      "\t test_precision 0.487 (0.039)\n",
      "\t train_precision 0.531 (0.014)\n",
      "\t test_recall 0.698 (0.065)\n",
      "\t train_recall 0.753 (0.020)\n",
      ">> kNN\n",
      "\t score_time 0.038 (0.003)\n",
      "\t test_accuracy 0.667 (0.036)\n",
      "\t train_accuracy 0.726 (0.015)\n",
      "\t test_f1 0.550 (0.034)\n",
      "\t train_f1 0.626 (0.015)\n",
      "\t test_precision 0.465 (0.038)\n",
      "\t train_precision 0.530 (0.018)\n",
      "\t test_recall 0.678 (0.051)\n",
      "\t train_recall 0.765 (0.020)\n",
      ">> DTree\n",
      "\t score_time 0.018 (0.003)\n",
      "\t test_accuracy 0.625 (0.044)\n",
      "\t train_accuracy 0.661 (0.027)\n",
      "\t test_f1 0.530 (0.052)\n",
      "\t train_f1 0.574 (0.009)\n",
      "\t test_precision 0.426 (0.041)\n",
      "\t train_precision 0.463 (0.023)\n",
      "\t test_recall 0.708 (0.103)\n",
      "\t train_recall 0.761 (0.055)\n",
      ">> RF\n",
      "\t score_time 0.034 (0.003)\n",
      "\t test_accuracy 0.668 (0.039)\n",
      "\t train_accuracy 0.698 (0.016)\n",
      "\t test_f1 0.571 (0.043)\n",
      "\t train_f1 0.611 (0.013)\n",
      "\t test_precision 0.468 (0.040)\n",
      "\t train_precision 0.499 (0.017)\n",
      "\t test_recall 0.735 (0.067)\n",
      "\t train_recall 0.790 (0.021)\n",
      "[06:16:42] WARNING: /Users/runner/work/xgboost/xgboost/python-package/build/temp.macosx-10.9-x86_64-cpython-37/xgboost/src/learner.cc:627: \n",
      "Parameters: { \"objetive\" } might not be used.\n",
      "\n",
      "  This could be a false alarm, with some parameters getting used by language bindings but\n",
      "  then being mistakenly passed down to XGBoost core, or some parameter actually being used\n",
      "  but getting flagged wrongly here. Please open an issue if you find any such cases.\n",
      "\n",
      "\n",
      "[06:16:43] WARNING: /Users/runner/work/xgboost/xgboost/python-package/build/temp.macosx-10.9-x86_64-cpython-37/xgboost/src/learner.cc:627: \n",
      "Parameters: { \"objetive\" } might not be used.\n",
      "\n",
      "  This could be a false alarm, with some parameters getting used by language bindings but\n",
      "  then being mistakenly passed down to XGBoost core, or some parameter actually being used\n",
      "  but getting flagged wrongly here. Please open an issue if you find any such cases.\n",
      "\n",
      "\n",
      "[06:16:43] WARNING: /Users/runner/work/xgboost/xgboost/python-package/build/temp.macosx-10.9-x86_64-cpython-37/xgboost/src/learner.cc:627: \n",
      "Parameters: { \"objetive\" } might not be used.\n",
      "\n",
      "  This could be a false alarm, with some parameters getting used by language bindings but\n",
      "  then being mistakenly passed down to XGBoost core, or some parameter actually being used\n",
      "  but getting flagged wrongly here. Please open an issue if you find any such cases.\n",
      "\n",
      "\n",
      "[06:16:43] WARNING: /Users/runner/work/xgboost/xgboost/python-package/build/temp.macosx-10.9-x86_64-cpython-37/xgboost/src/learner.cc:627: \n",
      "Parameters: { \"objetive\" } might not be used.\n",
      "\n",
      "  This could be a false alarm, with some parameters getting used by language bindings but\n",
      "  then being mistakenly passed down to XGBoost core, or some parameter actually being used\n",
      "  but getting flagged wrongly here. Please open an issue if you find any such cases.\n",
      "\n",
      "\n",
      "[06:16:43] WARNING: /Users/runner/work/xgboost/xgboost/python-package/build/temp.macosx-10.9-x86_64-cpython-37/xgboost/src/learner.cc:627: \n",
      "Parameters: { \"objetive\" } might not be used.\n",
      "\n",
      "  This could be a false alarm, with some parameters getting used by language bindings but\n",
      "  then being mistakenly passed down to XGBoost core, or some parameter actually being used\n",
      "  but getting flagged wrongly here. Please open an issue if you find any such cases.\n",
      "\n",
      "\n",
      "[06:16:44] WARNING: /Users/runner/work/xgboost/xgboost/python-package/build/temp.macosx-10.9-x86_64-cpython-37/xgboost/src/learner.cc:627: \n",
      "Parameters: { \"objetive\" } might not be used.\n",
      "\n",
      "  This could be a false alarm, with some parameters getting used by language bindings but\n",
      "  then being mistakenly passed down to XGBoost core, or some parameter actually being used\n",
      "  but getting flagged wrongly here. Please open an issue if you find any such cases.\n",
      "\n",
      "\n",
      "[06:16:44] WARNING: /Users/runner/work/xgboost/xgboost/python-package/build/temp.macosx-10.9-x86_64-cpython-37/xgboost/src/learner.cc:627: \n",
      "Parameters: { \"objetive\" } might not be used.\n",
      "\n",
      "  This could be a false alarm, with some parameters getting used by language bindings but\n",
      "  then being mistakenly passed down to XGBoost core, or some parameter actually being used\n",
      "  but getting flagged wrongly here. Please open an issue if you find any such cases.\n",
      "\n",
      "\n",
      "[06:16:44] WARNING: /Users/runner/work/xgboost/xgboost/python-package/build/temp.macosx-10.9-x86_64-cpython-37/xgboost/src/learner.cc:627: \n",
      "Parameters: { \"objetive\" } might not be used.\n",
      "\n",
      "  This could be a false alarm, with some parameters getting used by language bindings but\n",
      "  then being mistakenly passed down to XGBoost core, or some parameter actually being used\n",
      "  but getting flagged wrongly here. Please open an issue if you find any such cases.\n",
      "\n",
      "\n",
      "[06:16:45] WARNING: /Users/runner/work/xgboost/xgboost/python-package/build/temp.macosx-10.9-x86_64-cpython-37/xgboost/src/learner.cc:627: \n",
      "Parameters: { \"objetive\" } might not be used.\n",
      "\n",
      "  This could be a false alarm, with some parameters getting used by language bindings but\n",
      "  then being mistakenly passed down to XGBoost core, or some parameter actually being used\n",
      "  but getting flagged wrongly here. Please open an issue if you find any such cases.\n",
      "\n",
      "\n",
      "[06:16:45] WARNING: /Users/runner/work/xgboost/xgboost/python-package/build/temp.macosx-10.9-x86_64-cpython-37/xgboost/src/learner.cc:627: \n",
      "Parameters: { \"objetive\" } might not be used.\n",
      "\n",
      "  This could be a false alarm, with some parameters getting used by language bindings but\n",
      "  then being mistakenly passed down to XGBoost core, or some parameter actually being used\n",
      "  but getting flagged wrongly here. Please open an issue if you find any such cases.\n",
      "\n",
      "\n",
      "[06:16:45] WARNING: /Users/runner/work/xgboost/xgboost/python-package/build/temp.macosx-10.9-x86_64-cpython-37/xgboost/src/learner.cc:627: \n",
      "Parameters: { \"objetive\" } might not be used.\n",
      "\n",
      "  This could be a false alarm, with some parameters getting used by language bindings but\n",
      "  then being mistakenly passed down to XGBoost core, or some parameter actually being used\n",
      "  but getting flagged wrongly here. Please open an issue if you find any such cases.\n",
      "\n",
      "\n",
      "[06:16:45] WARNING: /Users/runner/work/xgboost/xgboost/python-package/build/temp.macosx-10.9-x86_64-cpython-37/xgboost/src/learner.cc:627: \n",
      "Parameters: { \"objetive\" } might not be used.\n",
      "\n",
      "  This could be a false alarm, with some parameters getting used by language bindings but\n",
      "  then being mistakenly passed down to XGBoost core, or some parameter actually being used\n",
      "  but getting flagged wrongly here. Please open an issue if you find any such cases.\n",
      "\n",
      "\n",
      "[06:16:46] WARNING: /Users/runner/work/xgboost/xgboost/python-package/build/temp.macosx-10.9-x86_64-cpython-37/xgboost/src/learner.cc:627: \n",
      "Parameters: { \"objetive\" } might not be used.\n",
      "\n",
      "  This could be a false alarm, with some parameters getting used by language bindings but\n",
      "  then being mistakenly passed down to XGBoost core, or some parameter actually being used\n",
      "  but getting flagged wrongly here. Please open an issue if you find any such cases.\n",
      "\n",
      "\n",
      "[06:16:46] WARNING: /Users/runner/work/xgboost/xgboost/python-package/build/temp.macosx-10.9-x86_64-cpython-37/xgboost/src/learner.cc:627: \n",
      "Parameters: { \"objetive\" } might not be used.\n",
      "\n",
      "  This could be a false alarm, with some parameters getting used by language bindings but\n",
      "  then being mistakenly passed down to XGBoost core, or some parameter actually being used\n",
      "  but getting flagged wrongly here. Please open an issue if you find any such cases.\n",
      "\n",
      "\n",
      "[06:16:46] WARNING: /Users/runner/work/xgboost/xgboost/python-package/build/temp.macosx-10.9-x86_64-cpython-37/xgboost/src/learner.cc:627: \n",
      "Parameters: { \"objetive\" } might not be used.\n",
      "\n",
      "  This could be a false alarm, with some parameters getting used by language bindings but\n",
      "  then being mistakenly passed down to XGBoost core, or some parameter actually being used\n",
      "  but getting flagged wrongly here. Please open an issue if you find any such cases.\n",
      "\n",
      "\n",
      ">> XGBoost\n",
      "\t score_time 0.026 (0.002)\n",
      "\t test_accuracy 0.669 (0.032)\n",
      "\t train_accuracy 0.873 (0.013)\n",
      "\t test_f1 0.550 (0.030)\n",
      "\t train_f1 0.825 (0.015)\n",
      "\t test_precision 0.466 (0.033)\n",
      "\t train_precision 0.703 (0.021)\n",
      "\t test_recall 0.673 (0.050)\n",
      "\t train_recall 1.000 (0.000)\n",
      ">> MLP\n",
      "\t score_time 0.018 (0.003)\n",
      "\t test_accuracy 0.703 (0.033)\n",
      "\t train_accuracy 0.724 (0.019)\n",
      "\t test_f1 0.586 (0.037)\n",
      "\t train_f1 0.619 (0.013)\n",
      "\t test_precision 0.507 (0.044)\n",
      "\t train_precision 0.530 (0.026)\n",
      "\t test_recall 0.702 (0.074)\n",
      "\t train_recall 0.748 (0.045)\n",
      ">> SVM\n",
      "\t score_time 0.028 (0.004)\n",
      "\t test_accuracy 0.687 (0.033)\n",
      "\t train_accuracy 0.743 (0.011)\n",
      "\t test_f1 0.575 (0.038)\n",
      "\t train_f1 0.651 (0.012)\n",
      "\t test_precision 0.486 (0.037)\n",
      "\t train_precision 0.549 (0.013)\n",
      "\t test_recall 0.706 (0.055)\n",
      "\t train_recall 0.800 (0.024)\n"
     ]
    }
   ],
   "source": [
    "# Selecciona una técnica de sobremuestreo y/o submuestreo\n",
    "# para clases no balanceadas que consideres adecuada.\n",
    "\n",
    "\n",
    "# ************* Inlcuye aquí tu código:**************************\n",
    "\n",
    "# Se crea una lista para guardar los resultados\n",
    "resultados = list()\n",
    "\n",
    "for i in range(len(modelos)):\n",
    "\n",
    "  # Definimos nuestro pipeline con las transformaciones y los modelos:\n",
    "  pipeline = Pipeline(steps=[('under', under),('ct',columnasTransformer),('m',modelos[i])])\n",
    "\n",
    "  # Aplicaremos validación-cruzada:\n",
    "  micv = RepeatedStratifiedKFold(n_splits=5,\n",
    "                                 n_repeats=3,\n",
    "                                 random_state=5     # agreguemos una semilla para estabilizar resultados.\n",
    "                                 )\n",
    "  dict_nombre = {'nombre': nombres[i]}\n",
    "\n",
    " # Definimos las métricas que desamos recuperar:\n",
    "  mismetricas = {'accuracy','precision','recall','f1'}\n",
    "\n",
    "  # Llevamos a cabo el entrenamiento:\n",
    "  scores = cross_validate(pipeline,\n",
    "                          Xtrainval,\n",
    "                          ytrainval,\n",
    "                          scoring=mismetricas,\n",
    "                          cv=micv,\n",
    "                          return_train_score=True,\n",
    "                          )\n",
    "  scores = {**dict_nombre, **scores}\n",
    "\n",
    "  # Guardemos el resultado de cada modelo para análisis posteriores.\n",
    "  resultados.append(scores)\n",
    "\n",
    "  # Desplegamos los valores de las métricas para verificar si no hay\n",
    "  # subentrenamiento o sobreentrenamiento:\n",
    "  print('>> %s' % nombres[i])\n",
    "  for j,k in enumerate(list(scores.keys())):\n",
    "    if j>1:\n",
    "      print('\\t %s %.3f (%.3f)' % (k, np.mean(scores[k]),np.std(scores[k])))\n",
    "\n",
    "\n",
    "# *********** Aquí termina la sección de agregar código *************\n"
   ]
  },
  {
   "cell_type": "markdown",
   "metadata": {
    "id": "vNisnGnk6Q7g"
   },
   "source": [
    "## **Ejercicio 12**"
   ]
  },
  {
   "cell_type": "code",
   "execution_count": 102,
   "metadata": {},
   "outputs": [],
   "source": [
    "df_resultados = pd.DataFrame()\n",
    "\n",
    "for i in range(len(modelos)):\n",
    "    tabla_result = pd.DataFrame.from_dict(resultados[i]).mean()\n",
    "    tabla_result = tabla_result.to_frame(name = resultados[i]['nombre'])\n",
    "    df_resultados = pd.concat([df_resultados, tabla_result], axis = 1)"
   ]
  },
  {
   "cell_type": "code",
   "execution_count": 103,
   "metadata": {},
   "outputs": [
    {
     "data": {
      "text/html": [
       "<div>\n",
       "<style scoped>\n",
       "    .dataframe tbody tr th:only-of-type {\n",
       "        vertical-align: middle;\n",
       "    }\n",
       "\n",
       "    .dataframe tbody tr th {\n",
       "        vertical-align: top;\n",
       "    }\n",
       "\n",
       "    .dataframe thead th {\n",
       "        text-align: right;\n",
       "    }\n",
       "</style>\n",
       "<table border=\"1\" class=\"dataframe\">\n",
       "  <thead>\n",
       "    <tr style=\"text-align: right;\">\n",
       "      <th></th>\n",
       "      <th>fit_time</th>\n",
       "      <th>score_time</th>\n",
       "      <th>test_accuracy</th>\n",
       "      <th>train_accuracy</th>\n",
       "      <th>test_f1</th>\n",
       "      <th>train_f1</th>\n",
       "      <th>test_precision</th>\n",
       "      <th>train_precision</th>\n",
       "      <th>test_recall</th>\n",
       "      <th>train_recall</th>\n",
       "    </tr>\n",
       "  </thead>\n",
       "  <tbody>\n",
       "    <tr>\n",
       "      <th>LR</th>\n",
       "      <td>0.112979</td>\n",
       "      <td>0.019985</td>\n",
       "      <td>0.687059</td>\n",
       "      <td>0.726176</td>\n",
       "      <td>0.572285</td>\n",
       "      <td>0.622747</td>\n",
       "      <td>0.486943</td>\n",
       "      <td>0.530996</td>\n",
       "      <td>0.698039</td>\n",
       "      <td>0.753268</td>\n",
       "    </tr>\n",
       "    <tr>\n",
       "      <th>kNN</th>\n",
       "      <td>0.057488</td>\n",
       "      <td>0.037701</td>\n",
       "      <td>0.666667</td>\n",
       "      <td>0.725784</td>\n",
       "      <td>0.550325</td>\n",
       "      <td>0.626263</td>\n",
       "      <td>0.464826</td>\n",
       "      <td>0.530309</td>\n",
       "      <td>0.678431</td>\n",
       "      <td>0.765359</td>\n",
       "    </tr>\n",
       "    <tr>\n",
       "      <th>DTree</th>\n",
       "      <td>0.042690</td>\n",
       "      <td>0.018238</td>\n",
       "      <td>0.625098</td>\n",
       "      <td>0.660980</td>\n",
       "      <td>0.529973</td>\n",
       "      <td>0.574138</td>\n",
       "      <td>0.426377</td>\n",
       "      <td>0.463325</td>\n",
       "      <td>0.708497</td>\n",
       "      <td>0.761438</td>\n",
       "    </tr>\n",
       "    <tr>\n",
       "      <th>RF</th>\n",
       "      <td>0.237308</td>\n",
       "      <td>0.033827</td>\n",
       "      <td>0.668235</td>\n",
       "      <td>0.698039</td>\n",
       "      <td>0.570702</td>\n",
       "      <td>0.610979</td>\n",
       "      <td>0.468190</td>\n",
       "      <td>0.498539</td>\n",
       "      <td>0.734641</td>\n",
       "      <td>0.789869</td>\n",
       "    </tr>\n",
       "    <tr>\n",
       "      <th>XGBoost</th>\n",
       "      <td>0.213884</td>\n",
       "      <td>0.026182</td>\n",
       "      <td>0.668627</td>\n",
       "      <td>0.872843</td>\n",
       "      <td>0.549555</td>\n",
       "      <td>0.825389</td>\n",
       "      <td>0.466198</td>\n",
       "      <td>0.702949</td>\n",
       "      <td>0.673203</td>\n",
       "      <td>1.000000</td>\n",
       "    </tr>\n",
       "    <tr>\n",
       "      <th>MLP</th>\n",
       "      <td>0.696020</td>\n",
       "      <td>0.017846</td>\n",
       "      <td>0.702745</td>\n",
       "      <td>0.723725</td>\n",
       "      <td>0.585938</td>\n",
       "      <td>0.618963</td>\n",
       "      <td>0.507193</td>\n",
       "      <td>0.530275</td>\n",
       "      <td>0.701961</td>\n",
       "      <td>0.747712</td>\n",
       "    </tr>\n",
       "    <tr>\n",
       "      <th>SVM</th>\n",
       "      <td>0.048144</td>\n",
       "      <td>0.028155</td>\n",
       "      <td>0.686667</td>\n",
       "      <td>0.742647</td>\n",
       "      <td>0.574967</td>\n",
       "      <td>0.651061</td>\n",
       "      <td>0.486283</td>\n",
       "      <td>0.549056</td>\n",
       "      <td>0.705882</td>\n",
       "      <td>0.800327</td>\n",
       "    </tr>\n",
       "  </tbody>\n",
       "</table>\n",
       "</div>"
      ],
      "text/plain": [
       "         fit_time  score_time  test_accuracy  train_accuracy   test_f1  \\\n",
       "LR       0.112979    0.019985       0.687059        0.726176  0.572285   \n",
       "kNN      0.057488    0.037701       0.666667        0.725784  0.550325   \n",
       "DTree    0.042690    0.018238       0.625098        0.660980  0.529973   \n",
       "RF       0.237308    0.033827       0.668235        0.698039  0.570702   \n",
       "XGBoost  0.213884    0.026182       0.668627        0.872843  0.549555   \n",
       "MLP      0.696020    0.017846       0.702745        0.723725  0.585938   \n",
       "SVM      0.048144    0.028155       0.686667        0.742647  0.574967   \n",
       "\n",
       "         train_f1  test_precision  train_precision  test_recall  train_recall  \n",
       "LR       0.622747        0.486943         0.530996     0.698039      0.753268  \n",
       "kNN      0.626263        0.464826         0.530309     0.678431      0.765359  \n",
       "DTree    0.574138        0.426377         0.463325     0.708497      0.761438  \n",
       "RF       0.610979        0.468190         0.498539     0.734641      0.789869  \n",
       "XGBoost  0.825389        0.466198         0.702949     0.673203      1.000000  \n",
       "MLP      0.618963        0.507193         0.530275     0.701961      0.747712  \n",
       "SVM      0.651061        0.486283         0.549056     0.705882      0.800327  "
      ]
     },
     "execution_count": 103,
     "metadata": {},
     "output_type": "execute_result"
    }
   ],
   "source": [
    "df_resultados.T"
   ]
  },
  {
   "cell_type": "code",
   "execution_count": 104,
   "metadata": {},
   "outputs": [],
   "source": [
    "df_metrica_accuracy = pd.DataFrame()\n",
    "\n",
    "for i in range(len(modelos)):\n",
    "    tabla_result = pd.DataFrame.from_dict(resultados[i])['test_accuracy']\n",
    "    tabla_result = tabla_result.to_frame(name = resultados[i]['nombre'])\n",
    "    df_metrica_accuracy = pd.concat([df_metrica_accuracy, tabla_result], axis = 1)"
   ]
  },
  {
   "cell_type": "code",
   "execution_count": 105,
   "metadata": {
    "id": "W9ZXNgJcxKdl"
   },
   "outputs": [
    {
     "data": {
      "image/png": "[encoded data removed]",
      "text/plain": [
       "<Figure size 432x288 with 1 Axes>"
      ]
     },
     "metadata": {
      "needs_background": "light"
     },
     "output_type": "display_data"
    }
   ],
   "source": [
    "# Obtener un diagrama de caja y bigotes (boxplot) múltiple de todos los modelos,\n",
    "# que incluye submuestreo y/o sobremuestreo:\n",
    "\n",
    "\n",
    "# ************* Inlcuye aquí tu código:**************************\n",
    "\n",
    "df_melted = pd.melt(df_metrica_accuracy)\n",
    "sns.boxplot(y='variable', x='value', data=df_melted, palette=\"Set2\").set(xlabel='', ylabel='');\n",
    "\n",
    "\n",
    "# *********** Aquí termina la sección de agregar código *************"
   ]
  },
  {
   "cell_type": "markdown",
   "metadata": {
    "id": "hDV5EpEIRsy4"
   },
   "source": [
    "# **Parte IV: Mejor modelo**"
   ]
  },
  {
   "cell_type": "markdown",
   "metadata": {
    "id": "PORgZ7b_WTq-"
   },
   "source": [
    "## **Ejercicio 13**"
   ]
  },
  {
   "cell_type": "markdown",
   "metadata": {
    "id": "FBSVeSgfWSgn"
   },
   "source": [
    "### **Selecciona y justifica cuál consideras es el mejor modelo que has obtenido hasta ahora.**\n",
    "\n",
    "### ++++++++ Inicia la sección de agregar texto: +++++++++++\n",
    "\n",
    "None\n",
    "\n",
    "### ++++++++ Termina la sección de agregar texto. +++++++++++\n"
   ]
  },
  {
   "cell_type": "markdown",
   "metadata": {
    "id": "slDkvQ37Wtst"
   },
   "source": [
    "## **Ejercicio 14**"
   ]
  },
  {
   "cell_type": "code",
   "execution_count": 106,
   "metadata": {
    "id": "ZRZUVESUXQhY"
   },
   "outputs": [],
   "source": [
    "# Incluye aquí tu mejor modelo. Verifica que tu modelo no esté sobreentrenado\n",
    "# e indica cuáles son los mejores valores obtenidos de los hiperparámetros.\n",
    "\n",
    "\n",
    "# Con el mejor modelo y los mejores hiperparámetros encontrados en el ejercicio anterior,\n",
    "# utiliza ahora (por primera vez en la actividad) el conjunto de prueba (test set) para:\n",
    "\n",
    "# a.\tMejor modelo con los mejores hiperparámetros y el conjunto de prueba.\n",
    "\n",
    "\n",
    "# ************* Inlcuye aquí tu código:**************************\n",
    "\n",
    "None\n",
    "\n",
    "# *********** Aquí termina la sección de agregar código *************\n"
   ]
  },
  {
   "cell_type": "code",
   "execution_count": 107,
   "metadata": {
    "id": "lBd-VuoAXZZX"
   },
   "outputs": [],
   "source": [
    "# b.\tObtener la matriz de confusión y el classification_report().\n",
    "\n",
    "# ************* Inlcuye aquí tu código:**************************\n",
    "\n",
    "None\n",
    "\n",
    "\n",
    "# *********** Aquí termina la sección de agregar código *************"
   ]
  },
  {
   "cell_type": "code",
   "execution_count": 108,
   "metadata": {
    "id": "Ngslji43XsO_"
   },
   "outputs": [],
   "source": [
    "# c.\tRealiza un análisis de importancia de variables (feature importance) de este\n",
    "#     mejor modelo e incluye tus conclusiones al respecto.\n",
    "\n",
    "# ************* Inlcuye aquí tu código:**************************\n",
    "\n",
    "None\n",
    "\n",
    "\n",
    "# *********** Aquí termina la sección de agregar código *************"
   ]
  },
  {
   "cell_type": "markdown",
   "metadata": {
    "id": "hzJcWAWz8aG_"
   },
   "source": [
    "\n",
    "### ++++++++ Inicia la sección de agregar texto: +++++++++++\n",
    "\n",
    "None\n",
    "\n",
    "### ++++++++ Termina la sección de agregar texto. +++++++++++"
   ]
  },
  {
   "cell_type": "markdown",
   "metadata": {
    "id": "AeTAcfFKX3Sm"
   },
   "source": [
    "## **Ejercicio 15**"
   ]
  },
  {
   "cell_type": "markdown",
   "metadata": {
    "id": "n04HnK-ZX4vl"
   },
   "source": [
    "### **Escribe tus conclusiones finales de la actividad.**"
   ]
  },
  {
   "cell_type": "markdown",
   "metadata": {
    "id": "R7s7iDgKYEn9"
   },
   "source": [
    "### ++++++++ Inicia la sección de agregar texto: +++++++++++\n",
    "\n",
    "None\n",
    "\n",
    "\n",
    "### ++++++++ Termina la sección de agregar texto. +++++++++++\n"
   ]
  },
  {
   "cell_type": "markdown",
   "metadata": {
    "id": "v-tW_CdUYMdl"
   },
   "source": [
    ">> ### **Fin de la Actividad de las Semanas 5 y 6.**"
   ]
  }
 ],
 "metadata": {
  "colab": {
   "collapsed_sections": [
    "AUxxkjE6shkH",
    "B9i2CrLJs-1m",
    "TPOqRS7pNCNH",
    "hDV5EpEIRsy4"
   ],
   "provenance": []
  },
  "kernelspec": {
   "display_name": "Python 3",
   "language": "python",
   "name": "python3"
  },
  "language_info": {
   "codemirror_mode": {
    "name": "ipython",
    "version": 3
   },
   "file_extension": ".py",
   "mimetype": "text/x-python",
   "name": "python",
   "nbconvert_exporter": "python",
   "pygments_lexer": "ipython3",
   "version": "3.9.1"
  }
 },
 "nbformat": 4,
 "nbformat_minor": 1
}
