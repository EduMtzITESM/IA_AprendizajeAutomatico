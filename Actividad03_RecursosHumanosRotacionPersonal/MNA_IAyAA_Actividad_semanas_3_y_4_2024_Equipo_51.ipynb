{
 "cells": [
  {
   "cell_type": "markdown",
   "id": "hWEMLj5wrcMV",
   "metadata": {
    "id": "hWEMLj5wrcMV"
   },
   "source": [
    "# **Maestría en Inteligencia Artificial Aplicada**\n",
    "\n",
    "## **Curso: Inteligencia Artificial y Aprendizaje Automático**\n",
    "\n",
    "**Tecnológico de Monterrey**\n",
    "\n",
    "Prof Luis Eduardo Falcón Morales\n",
    "\n",
    "Actividad de Semanas 3 y 4\n",
    "\n",
    "**Rotación de Personal - IBM**"
   ]
  },
  {
   "cell_type": "markdown",
   "id": "6PudVOn2rv9-",
   "metadata": {
    "id": "6PudVOn2rv9-"
   },
   "source": [
    "#### **Nombres y matrículas:**\n",
    "\n",
    "+ Eduardo Selim Martínez Mayorga - A01795167\n",
    "+ Víctor Alfonso Rosales Soto - A01114509"
   ]
  },
  {
   "cell_type": "markdown",
   "id": "zHrHylCFqr7R",
   "metadata": {
    "id": "zHrHylCFqr7R"
   },
   "source": [
    "#### **La siguiente actividad se basa en los datos del archivo \"WA_Fn-UseC_-HR-Employee-Attrition.csv\" que se encuentra en la siguiente liga de Kaggle, llamada \"IBM HR Analytics Employee Attrition & Performance\":**\n",
    "\n",
    "https://www.kaggle.com/datasets/pavansubhasht/ibm-hr-analytics-attrition-dataset\n"
   ]
  },
  {
   "cell_type": "code",
   "execution_count": 1,
   "id": "72533da4",
   "metadata": {
    "id": "72533da4"
   },
   "outputs": [],
   "source": [
    "# Incluye aquí todas las librerías que consideres necesarias:\n",
    "import pandas as pd\n",
    "import numpy as np\n",
    "import matplotlib.pyplot as plt\n",
    "import seaborn as sns\n",
    "\n",
    "from sklearn import preprocessing\n",
    "from sklearn.model_selection import train_test_split\n",
    "from sklearn.preprocessing import LabelEncoder\n",
    "from sklearn.preprocessing import StandardScaler\n",
    "from sklearn.preprocessing import MinMaxScaler\n",
    "from sklearn.preprocessing import OneHotEncoder\n",
    "from sklearn.preprocessing import OrdinalEncoder\n",
    "from sklearn.preprocessing import PolynomialFeatures\n",
    "from sklearn.preprocessing import FunctionTransformer\n",
    "from sklearn.compose import ColumnTransformer\n",
    "from sklearn.compose import make_column_transformer\n",
    "from sklearn.pipeline import make_pipeline\n",
    "from sklearn.pipeline import Pipeline, FeatureUnion\n",
    "\n",
    "\n",
    "\n",
    "from sklearn.decomposition import PCA\n",
    "from sklearn.linear_model import LinearRegression\n",
    "from sklearn.linear_model import LogisticRegression\n",
    "\n",
    "from sklearn import metrics\n",
    "\n",
    "from pandas.plotting import scatter_matrix\n",
    "from sklearn.metrics import confusion_matrix, classification_report\n",
    "from sklearn.metrics import recall_score\n",
    "from sklearn.metrics import precision_score\n",
    "from sklearn.metrics import accuracy_score\n",
    "\n",
    "\n",
    "from sklearn.neighbors import KNeighborsClassifier\n",
    "from imblearn.over_sampling import BorderlineSMOTE\n",
    "from sklearn.inspection import permutation_importance\n",
    "from sklearn.feature_selection import SelectFromModel"
   ]
  },
  {
   "cell_type": "markdown",
   "id": "ac09ecaf",
   "metadata": {
    "id": "ac09ecaf"
   },
   "source": [
    "# **Ejercicio 1:**"
   ]
  },
  {
   "cell_type": "markdown",
   "id": "T_-hoJgWpWbt",
   "metadata": {
    "id": "T_-hoJgWpWbt"
   },
   "source": [
    "#### **Incluye una breve introducción sobre lo que se entiende por el problema de rotación de personal en las organizaciones (employee attrition problem).**"
   ]
  },
  {
   "cell_type": "markdown",
   "id": "LfSb-scypfrX",
   "metadata": {
    "id": "LfSb-scypfrX"
   },
   "source": [
    "++++++++ Inicia la sección de agregar texto: ++++++++++++\n",
    "\n",
    "Se entiende con Problema de Rotación de Personal a la problemática que enfrentan las empresas con relación a la renuncia voluntaria realizada por los colaboradores, afectando con esto al funcionamiento de la misma al debilitar la estructura requerida para operar, además de conllevar inversiones realizadas previamente en concepto de capacitación y más aún en Conocimiento que se pierde ante esta ruptura laboral.\n",
    "\n",
    "++++++++ Termina la sección de agregar texto. +++++++++++"
   ]
  },
  {
   "cell_type": "markdown",
   "id": "_FN5RwbGpz0c",
   "metadata": {
    "id": "_FN5RwbGpz0c"
   },
   "source": [
    "# **Ejercicio 2:**"
   ]
  },
  {
   "cell_type": "markdown",
   "id": "Yybnk8vKqEfS",
   "metadata": {
    "id": "Yybnk8vKqEfS"
   },
   "source": [
    "#### **Carga los datos del archivo de la página de Kaggle indicada como un DataFrame de Pandas, llamado \"df\" y utilicemos el método “describe” con el argumento include= “all”, para obtener una primera descripción general de cada variable.**"
   ]
  },
  {
   "cell_type": "markdown",
   "id": "arranged-chaos",
   "metadata": {},
   "source": [
    "Observación: Estamos trabajando en equipo local, no en Google Colab"
   ]
  },
  {
   "cell_type": "code",
   "execution_count": 2,
   "id": "0b4db5cd",
   "metadata": {
    "id": "0b4db5cd"
   },
   "outputs": [
    {
     "data": {
      "text/html": [
       "<div>\n",
       "<style scoped>\n",
       "    .dataframe tbody tr th:only-of-type {\n",
       "        vertical-align: middle;\n",
       "    }\n",
       "\n",
       "    .dataframe tbody tr th {\n",
       "        vertical-align: top;\n",
       "    }\n",
       "\n",
       "    .dataframe thead th {\n",
       "        text-align: right;\n",
       "    }\n",
       "</style>\n",
       "<table border=\"1\" class=\"dataframe\">\n",
       "  <thead>\n",
       "    <tr style=\"text-align: right;\">\n",
       "      <th></th>\n",
       "      <th>Age</th>\n",
       "      <th>Attrition</th>\n",
       "      <th>BusinessTravel</th>\n",
       "      <th>DailyRate</th>\n",
       "      <th>Department</th>\n",
       "      <th>DistanceFromHome</th>\n",
       "      <th>Education</th>\n",
       "      <th>EducationField</th>\n",
       "      <th>EmployeeCount</th>\n",
       "      <th>EmployeeNumber</th>\n",
       "      <th>...</th>\n",
       "      <th>RelationshipSatisfaction</th>\n",
       "      <th>StandardHours</th>\n",
       "      <th>StockOptionLevel</th>\n",
       "      <th>TotalWorkingYears</th>\n",
       "      <th>TrainingTimesLastYear</th>\n",
       "      <th>WorkLifeBalance</th>\n",
       "      <th>YearsAtCompany</th>\n",
       "      <th>YearsInCurrentRole</th>\n",
       "      <th>YearsSinceLastPromotion</th>\n",
       "      <th>YearsWithCurrManager</th>\n",
       "    </tr>\n",
       "  </thead>\n",
       "  <tbody>\n",
       "    <tr>\n",
       "      <th>0</th>\n",
       "      <td>41</td>\n",
       "      <td>Yes</td>\n",
       "      <td>Travel_Rarely</td>\n",
       "      <td>1102</td>\n",
       "      <td>Sales</td>\n",
       "      <td>1</td>\n",
       "      <td>2</td>\n",
       "      <td>Life Sciences</td>\n",
       "      <td>1</td>\n",
       "      <td>1</td>\n",
       "      <td>...</td>\n",
       "      <td>1</td>\n",
       "      <td>80</td>\n",
       "      <td>0</td>\n",
       "      <td>8</td>\n",
       "      <td>0</td>\n",
       "      <td>1</td>\n",
       "      <td>6</td>\n",
       "      <td>4</td>\n",
       "      <td>0</td>\n",
       "      <td>5</td>\n",
       "    </tr>\n",
       "    <tr>\n",
       "      <th>1</th>\n",
       "      <td>49</td>\n",
       "      <td>No</td>\n",
       "      <td>Travel_Frequently</td>\n",
       "      <td>279</td>\n",
       "      <td>Research &amp; Development</td>\n",
       "      <td>8</td>\n",
       "      <td>1</td>\n",
       "      <td>Life Sciences</td>\n",
       "      <td>1</td>\n",
       "      <td>2</td>\n",
       "      <td>...</td>\n",
       "      <td>4</td>\n",
       "      <td>80</td>\n",
       "      <td>1</td>\n",
       "      <td>10</td>\n",
       "      <td>3</td>\n",
       "      <td>3</td>\n",
       "      <td>10</td>\n",
       "      <td>7</td>\n",
       "      <td>1</td>\n",
       "      <td>7</td>\n",
       "    </tr>\n",
       "    <tr>\n",
       "      <th>2</th>\n",
       "      <td>37</td>\n",
       "      <td>Yes</td>\n",
       "      <td>Travel_Rarely</td>\n",
       "      <td>1373</td>\n",
       "      <td>Research &amp; Development</td>\n",
       "      <td>2</td>\n",
       "      <td>2</td>\n",
       "      <td>Other</td>\n",
       "      <td>1</td>\n",
       "      <td>4</td>\n",
       "      <td>...</td>\n",
       "      <td>2</td>\n",
       "      <td>80</td>\n",
       "      <td>0</td>\n",
       "      <td>7</td>\n",
       "      <td>3</td>\n",
       "      <td>3</td>\n",
       "      <td>0</td>\n",
       "      <td>0</td>\n",
       "      <td>0</td>\n",
       "      <td>0</td>\n",
       "    </tr>\n",
       "    <tr>\n",
       "      <th>3</th>\n",
       "      <td>33</td>\n",
       "      <td>No</td>\n",
       "      <td>Travel_Frequently</td>\n",
       "      <td>1392</td>\n",
       "      <td>Research &amp; Development</td>\n",
       "      <td>3</td>\n",
       "      <td>4</td>\n",
       "      <td>Life Sciences</td>\n",
       "      <td>1</td>\n",
       "      <td>5</td>\n",
       "      <td>...</td>\n",
       "      <td>3</td>\n",
       "      <td>80</td>\n",
       "      <td>0</td>\n",
       "      <td>8</td>\n",
       "      <td>3</td>\n",
       "      <td>3</td>\n",
       "      <td>8</td>\n",
       "      <td>7</td>\n",
       "      <td>3</td>\n",
       "      <td>0</td>\n",
       "    </tr>\n",
       "    <tr>\n",
       "      <th>4</th>\n",
       "      <td>27</td>\n",
       "      <td>No</td>\n",
       "      <td>Travel_Rarely</td>\n",
       "      <td>591</td>\n",
       "      <td>Research &amp; Development</td>\n",
       "      <td>2</td>\n",
       "      <td>1</td>\n",
       "      <td>Medical</td>\n",
       "      <td>1</td>\n",
       "      <td>7</td>\n",
       "      <td>...</td>\n",
       "      <td>4</td>\n",
       "      <td>80</td>\n",
       "      <td>1</td>\n",
       "      <td>6</td>\n",
       "      <td>3</td>\n",
       "      <td>3</td>\n",
       "      <td>2</td>\n",
       "      <td>2</td>\n",
       "      <td>2</td>\n",
       "      <td>2</td>\n",
       "    </tr>\n",
       "  </tbody>\n",
       "</table>\n",
       "<p>5 rows × 35 columns</p>\n",
       "</div>"
      ],
      "text/plain": [
       "   Age Attrition     BusinessTravel  DailyRate              Department  \\\n",
       "0   41       Yes      Travel_Rarely       1102                   Sales   \n",
       "1   49        No  Travel_Frequently        279  Research & Development   \n",
       "2   37       Yes      Travel_Rarely       1373  Research & Development   \n",
       "3   33        No  Travel_Frequently       1392  Research & Development   \n",
       "4   27        No      Travel_Rarely        591  Research & Development   \n",
       "\n",
       "   DistanceFromHome  Education EducationField  EmployeeCount  EmployeeNumber  \\\n",
       "0                 1          2  Life Sciences              1               1   \n",
       "1                 8          1  Life Sciences              1               2   \n",
       "2                 2          2          Other              1               4   \n",
       "3                 3          4  Life Sciences              1               5   \n",
       "4                 2          1        Medical              1               7   \n",
       "\n",
       "   ...  RelationshipSatisfaction StandardHours  StockOptionLevel  \\\n",
       "0  ...                         1            80                 0   \n",
       "1  ...                         4            80                 1   \n",
       "2  ...                         2            80                 0   \n",
       "3  ...                         3            80                 0   \n",
       "4  ...                         4            80                 1   \n",
       "\n",
       "   TotalWorkingYears  TrainingTimesLastYear WorkLifeBalance  YearsAtCompany  \\\n",
       "0                  8                      0               1               6   \n",
       "1                 10                      3               3              10   \n",
       "2                  7                      3               3               0   \n",
       "3                  8                      3               3               8   \n",
       "4                  6                      3               3               2   \n",
       "\n",
       "  YearsInCurrentRole  YearsSinceLastPromotion  YearsWithCurrManager  \n",
       "0                  4                        0                     5  \n",
       "1                  7                        1                     7  \n",
       "2                  0                        0                     0  \n",
       "3                  7                        3                     0  \n",
       "4                  2                        2                     2  \n",
       "\n",
       "[5 rows x 35 columns]"
      ]
     },
     "execution_count": 2,
     "metadata": {},
     "output_type": "execute_result"
    }
   ],
   "source": [
    "# ++++++++++++++ Inicia sección de agregar código ++++++++++++++++++++\n",
    "\n",
    "# El archivo \"WA_Fn-UseC_-HR-Employee-Attrition.csv\" se encuentra en la misma\n",
    "# carpeta que este Jupyter Notebook\n",
    "df = pd.read_csv(\"WA_Fn-UseC_-HR-Employee-Attrition.csv\")\n",
    "\n",
    "# Se verifica la lectura y definición del dataframe\n",
    "df.head()\n",
    "# +++++++++++++ Termina sección de agregar código +++++++++++++++++++++"
   ]
  },
  {
   "cell_type": "code",
   "execution_count": 3,
   "id": "contained-hopkins",
   "metadata": {},
   "outputs": [
    {
     "name": "stdout",
     "output_type": "stream",
     "text": [
      "Tamaño del DataFrame: (1470, 35)\n"
     ]
    },
    {
     "data": {
      "text/html": [
       "<div>\n",
       "<style scoped>\n",
       "    .dataframe tbody tr th:only-of-type {\n",
       "        vertical-align: middle;\n",
       "    }\n",
       "\n",
       "    .dataframe tbody tr th {\n",
       "        vertical-align: top;\n",
       "    }\n",
       "\n",
       "    .dataframe thead th {\n",
       "        text-align: right;\n",
       "    }\n",
       "</style>\n",
       "<table border=\"1\" class=\"dataframe\">\n",
       "  <thead>\n",
       "    <tr style=\"text-align: right;\">\n",
       "      <th></th>\n",
       "      <th>count</th>\n",
       "      <th>unique</th>\n",
       "      <th>top</th>\n",
       "      <th>freq</th>\n",
       "      <th>mean</th>\n",
       "      <th>std</th>\n",
       "      <th>min</th>\n",
       "      <th>25%</th>\n",
       "      <th>50%</th>\n",
       "      <th>75%</th>\n",
       "      <th>max</th>\n",
       "    </tr>\n",
       "  </thead>\n",
       "  <tbody>\n",
       "    <tr>\n",
       "      <th>Age</th>\n",
       "      <td>1470.0</td>\n",
       "      <td>NaN</td>\n",
       "      <td>NaN</td>\n",
       "      <td>NaN</td>\n",
       "      <td>36.92381</td>\n",
       "      <td>9.135373</td>\n",
       "      <td>18.0</td>\n",
       "      <td>30.0</td>\n",
       "      <td>36.0</td>\n",
       "      <td>43.0</td>\n",
       "      <td>60.0</td>\n",
       "    </tr>\n",
       "    <tr>\n",
       "      <th>Attrition</th>\n",
       "      <td>1470</td>\n",
       "      <td>2</td>\n",
       "      <td>No</td>\n",
       "      <td>1233</td>\n",
       "      <td>NaN</td>\n",
       "      <td>NaN</td>\n",
       "      <td>NaN</td>\n",
       "      <td>NaN</td>\n",
       "      <td>NaN</td>\n",
       "      <td>NaN</td>\n",
       "      <td>NaN</td>\n",
       "    </tr>\n",
       "    <tr>\n",
       "      <th>BusinessTravel</th>\n",
       "      <td>1470</td>\n",
       "      <td>3</td>\n",
       "      <td>Travel_Rarely</td>\n",
       "      <td>1043</td>\n",
       "      <td>NaN</td>\n",
       "      <td>NaN</td>\n",
       "      <td>NaN</td>\n",
       "      <td>NaN</td>\n",
       "      <td>NaN</td>\n",
       "      <td>NaN</td>\n",
       "      <td>NaN</td>\n",
       "    </tr>\n",
       "    <tr>\n",
       "      <th>DailyRate</th>\n",
       "      <td>1470.0</td>\n",
       "      <td>NaN</td>\n",
       "      <td>NaN</td>\n",
       "      <td>NaN</td>\n",
       "      <td>802.485714</td>\n",
       "      <td>403.5091</td>\n",
       "      <td>102.0</td>\n",
       "      <td>465.0</td>\n",
       "      <td>802.0</td>\n",
       "      <td>1157.0</td>\n",
       "      <td>1499.0</td>\n",
       "    </tr>\n",
       "    <tr>\n",
       "      <th>Department</th>\n",
       "      <td>1470</td>\n",
       "      <td>3</td>\n",
       "      <td>Research &amp; Development</td>\n",
       "      <td>961</td>\n",
       "      <td>NaN</td>\n",
       "      <td>NaN</td>\n",
       "      <td>NaN</td>\n",
       "      <td>NaN</td>\n",
       "      <td>NaN</td>\n",
       "      <td>NaN</td>\n",
       "      <td>NaN</td>\n",
       "    </tr>\n",
       "    <tr>\n",
       "      <th>DistanceFromHome</th>\n",
       "      <td>1470.0</td>\n",
       "      <td>NaN</td>\n",
       "      <td>NaN</td>\n",
       "      <td>NaN</td>\n",
       "      <td>9.192517</td>\n",
       "      <td>8.106864</td>\n",
       "      <td>1.0</td>\n",
       "      <td>2.0</td>\n",
       "      <td>7.0</td>\n",
       "      <td>14.0</td>\n",
       "      <td>29.0</td>\n",
       "    </tr>\n",
       "    <tr>\n",
       "      <th>Education</th>\n",
       "      <td>1470.0</td>\n",
       "      <td>NaN</td>\n",
       "      <td>NaN</td>\n",
       "      <td>NaN</td>\n",
       "      <td>2.912925</td>\n",
       "      <td>1.024165</td>\n",
       "      <td>1.0</td>\n",
       "      <td>2.0</td>\n",
       "      <td>3.0</td>\n",
       "      <td>4.0</td>\n",
       "      <td>5.0</td>\n",
       "    </tr>\n",
       "    <tr>\n",
       "      <th>EducationField</th>\n",
       "      <td>1470</td>\n",
       "      <td>6</td>\n",
       "      <td>Life Sciences</td>\n",
       "      <td>606</td>\n",
       "      <td>NaN</td>\n",
       "      <td>NaN</td>\n",
       "      <td>NaN</td>\n",
       "      <td>NaN</td>\n",
       "      <td>NaN</td>\n",
       "      <td>NaN</td>\n",
       "      <td>NaN</td>\n",
       "    </tr>\n",
       "    <tr>\n",
       "      <th>EmployeeCount</th>\n",
       "      <td>1470.0</td>\n",
       "      <td>NaN</td>\n",
       "      <td>NaN</td>\n",
       "      <td>NaN</td>\n",
       "      <td>1.0</td>\n",
       "      <td>0.0</td>\n",
       "      <td>1.0</td>\n",
       "      <td>1.0</td>\n",
       "      <td>1.0</td>\n",
       "      <td>1.0</td>\n",
       "      <td>1.0</td>\n",
       "    </tr>\n",
       "    <tr>\n",
       "      <th>EmployeeNumber</th>\n",
       "      <td>1470.0</td>\n",
       "      <td>NaN</td>\n",
       "      <td>NaN</td>\n",
       "      <td>NaN</td>\n",
       "      <td>1024.865306</td>\n",
       "      <td>602.024335</td>\n",
       "      <td>1.0</td>\n",
       "      <td>491.25</td>\n",
       "      <td>1020.5</td>\n",
       "      <td>1555.75</td>\n",
       "      <td>2068.0</td>\n",
       "    </tr>\n",
       "    <tr>\n",
       "      <th>EnvironmentSatisfaction</th>\n",
       "      <td>1470.0</td>\n",
       "      <td>NaN</td>\n",
       "      <td>NaN</td>\n",
       "      <td>NaN</td>\n",
       "      <td>2.721769</td>\n",
       "      <td>1.093082</td>\n",
       "      <td>1.0</td>\n",
       "      <td>2.0</td>\n",
       "      <td>3.0</td>\n",
       "      <td>4.0</td>\n",
       "      <td>4.0</td>\n",
       "    </tr>\n",
       "    <tr>\n",
       "      <th>Gender</th>\n",
       "      <td>1470</td>\n",
       "      <td>2</td>\n",
       "      <td>Male</td>\n",
       "      <td>882</td>\n",
       "      <td>NaN</td>\n",
       "      <td>NaN</td>\n",
       "      <td>NaN</td>\n",
       "      <td>NaN</td>\n",
       "      <td>NaN</td>\n",
       "      <td>NaN</td>\n",
       "      <td>NaN</td>\n",
       "    </tr>\n",
       "    <tr>\n",
       "      <th>HourlyRate</th>\n",
       "      <td>1470.0</td>\n",
       "      <td>NaN</td>\n",
       "      <td>NaN</td>\n",
       "      <td>NaN</td>\n",
       "      <td>65.891156</td>\n",
       "      <td>20.329428</td>\n",
       "      <td>30.0</td>\n",
       "      <td>48.0</td>\n",
       "      <td>66.0</td>\n",
       "      <td>83.75</td>\n",
       "      <td>100.0</td>\n",
       "    </tr>\n",
       "    <tr>\n",
       "      <th>JobInvolvement</th>\n",
       "      <td>1470.0</td>\n",
       "      <td>NaN</td>\n",
       "      <td>NaN</td>\n",
       "      <td>NaN</td>\n",
       "      <td>2.729932</td>\n",
       "      <td>0.711561</td>\n",
       "      <td>1.0</td>\n",
       "      <td>2.0</td>\n",
       "      <td>3.0</td>\n",
       "      <td>3.0</td>\n",
       "      <td>4.0</td>\n",
       "    </tr>\n",
       "    <tr>\n",
       "      <th>JobLevel</th>\n",
       "      <td>1470.0</td>\n",
       "      <td>NaN</td>\n",
       "      <td>NaN</td>\n",
       "      <td>NaN</td>\n",
       "      <td>2.063946</td>\n",
       "      <td>1.10694</td>\n",
       "      <td>1.0</td>\n",
       "      <td>1.0</td>\n",
       "      <td>2.0</td>\n",
       "      <td>3.0</td>\n",
       "      <td>5.0</td>\n",
       "    </tr>\n",
       "    <tr>\n",
       "      <th>JobRole</th>\n",
       "      <td>1470</td>\n",
       "      <td>9</td>\n",
       "      <td>Sales Executive</td>\n",
       "      <td>326</td>\n",
       "      <td>NaN</td>\n",
       "      <td>NaN</td>\n",
       "      <td>NaN</td>\n",
       "      <td>NaN</td>\n",
       "      <td>NaN</td>\n",
       "      <td>NaN</td>\n",
       "      <td>NaN</td>\n",
       "    </tr>\n",
       "    <tr>\n",
       "      <th>JobSatisfaction</th>\n",
       "      <td>1470.0</td>\n",
       "      <td>NaN</td>\n",
       "      <td>NaN</td>\n",
       "      <td>NaN</td>\n",
       "      <td>2.728571</td>\n",
       "      <td>1.102846</td>\n",
       "      <td>1.0</td>\n",
       "      <td>2.0</td>\n",
       "      <td>3.0</td>\n",
       "      <td>4.0</td>\n",
       "      <td>4.0</td>\n",
       "    </tr>\n",
       "    <tr>\n",
       "      <th>MaritalStatus</th>\n",
       "      <td>1470</td>\n",
       "      <td>3</td>\n",
       "      <td>Married</td>\n",
       "      <td>673</td>\n",
       "      <td>NaN</td>\n",
       "      <td>NaN</td>\n",
       "      <td>NaN</td>\n",
       "      <td>NaN</td>\n",
       "      <td>NaN</td>\n",
       "      <td>NaN</td>\n",
       "      <td>NaN</td>\n",
       "    </tr>\n",
       "    <tr>\n",
       "      <th>MonthlyIncome</th>\n",
       "      <td>1470.0</td>\n",
       "      <td>NaN</td>\n",
       "      <td>NaN</td>\n",
       "      <td>NaN</td>\n",
       "      <td>6502.931293</td>\n",
       "      <td>4707.956783</td>\n",
       "      <td>1009.0</td>\n",
       "      <td>2911.0</td>\n",
       "      <td>4919.0</td>\n",
       "      <td>8379.0</td>\n",
       "      <td>19999.0</td>\n",
       "    </tr>\n",
       "    <tr>\n",
       "      <th>MonthlyRate</th>\n",
       "      <td>1470.0</td>\n",
       "      <td>NaN</td>\n",
       "      <td>NaN</td>\n",
       "      <td>NaN</td>\n",
       "      <td>14313.103401</td>\n",
       "      <td>7117.786044</td>\n",
       "      <td>2094.0</td>\n",
       "      <td>8047.0</td>\n",
       "      <td>14235.5</td>\n",
       "      <td>20461.5</td>\n",
       "      <td>26999.0</td>\n",
       "    </tr>\n",
       "    <tr>\n",
       "      <th>NumCompaniesWorked</th>\n",
       "      <td>1470.0</td>\n",
       "      <td>NaN</td>\n",
       "      <td>NaN</td>\n",
       "      <td>NaN</td>\n",
       "      <td>2.693197</td>\n",
       "      <td>2.498009</td>\n",
       "      <td>0.0</td>\n",
       "      <td>1.0</td>\n",
       "      <td>2.0</td>\n",
       "      <td>4.0</td>\n",
       "      <td>9.0</td>\n",
       "    </tr>\n",
       "    <tr>\n",
       "      <th>Over18</th>\n",
       "      <td>1470</td>\n",
       "      <td>1</td>\n",
       "      <td>Y</td>\n",
       "      <td>1470</td>\n",
       "      <td>NaN</td>\n",
       "      <td>NaN</td>\n",
       "      <td>NaN</td>\n",
       "      <td>NaN</td>\n",
       "      <td>NaN</td>\n",
       "      <td>NaN</td>\n",
       "      <td>NaN</td>\n",
       "    </tr>\n",
       "    <tr>\n",
       "      <th>OverTime</th>\n",
       "      <td>1470</td>\n",
       "      <td>2</td>\n",
       "      <td>No</td>\n",
       "      <td>1054</td>\n",
       "      <td>NaN</td>\n",
       "      <td>NaN</td>\n",
       "      <td>NaN</td>\n",
       "      <td>NaN</td>\n",
       "      <td>NaN</td>\n",
       "      <td>NaN</td>\n",
       "      <td>NaN</td>\n",
       "    </tr>\n",
       "    <tr>\n",
       "      <th>PercentSalaryHike</th>\n",
       "      <td>1470.0</td>\n",
       "      <td>NaN</td>\n",
       "      <td>NaN</td>\n",
       "      <td>NaN</td>\n",
       "      <td>15.209524</td>\n",
       "      <td>3.659938</td>\n",
       "      <td>11.0</td>\n",
       "      <td>12.0</td>\n",
       "      <td>14.0</td>\n",
       "      <td>18.0</td>\n",
       "      <td>25.0</td>\n",
       "    </tr>\n",
       "    <tr>\n",
       "      <th>PerformanceRating</th>\n",
       "      <td>1470.0</td>\n",
       "      <td>NaN</td>\n",
       "      <td>NaN</td>\n",
       "      <td>NaN</td>\n",
       "      <td>3.153741</td>\n",
       "      <td>0.360824</td>\n",
       "      <td>3.0</td>\n",
       "      <td>3.0</td>\n",
       "      <td>3.0</td>\n",
       "      <td>3.0</td>\n",
       "      <td>4.0</td>\n",
       "    </tr>\n",
       "    <tr>\n",
       "      <th>RelationshipSatisfaction</th>\n",
       "      <td>1470.0</td>\n",
       "      <td>NaN</td>\n",
       "      <td>NaN</td>\n",
       "      <td>NaN</td>\n",
       "      <td>2.712245</td>\n",
       "      <td>1.081209</td>\n",
       "      <td>1.0</td>\n",
       "      <td>2.0</td>\n",
       "      <td>3.0</td>\n",
       "      <td>4.0</td>\n",
       "      <td>4.0</td>\n",
       "    </tr>\n",
       "    <tr>\n",
       "      <th>StandardHours</th>\n",
       "      <td>1470.0</td>\n",
       "      <td>NaN</td>\n",
       "      <td>NaN</td>\n",
       "      <td>NaN</td>\n",
       "      <td>80.0</td>\n",
       "      <td>0.0</td>\n",
       "      <td>80.0</td>\n",
       "      <td>80.0</td>\n",
       "      <td>80.0</td>\n",
       "      <td>80.0</td>\n",
       "      <td>80.0</td>\n",
       "    </tr>\n",
       "    <tr>\n",
       "      <th>StockOptionLevel</th>\n",
       "      <td>1470.0</td>\n",
       "      <td>NaN</td>\n",
       "      <td>NaN</td>\n",
       "      <td>NaN</td>\n",
       "      <td>0.793878</td>\n",
       "      <td>0.852077</td>\n",
       "      <td>0.0</td>\n",
       "      <td>0.0</td>\n",
       "      <td>1.0</td>\n",
       "      <td>1.0</td>\n",
       "      <td>3.0</td>\n",
       "    </tr>\n",
       "    <tr>\n",
       "      <th>TotalWorkingYears</th>\n",
       "      <td>1470.0</td>\n",
       "      <td>NaN</td>\n",
       "      <td>NaN</td>\n",
       "      <td>NaN</td>\n",
       "      <td>11.279592</td>\n",
       "      <td>7.780782</td>\n",
       "      <td>0.0</td>\n",
       "      <td>6.0</td>\n",
       "      <td>10.0</td>\n",
       "      <td>15.0</td>\n",
       "      <td>40.0</td>\n",
       "    </tr>\n",
       "    <tr>\n",
       "      <th>TrainingTimesLastYear</th>\n",
       "      <td>1470.0</td>\n",
       "      <td>NaN</td>\n",
       "      <td>NaN</td>\n",
       "      <td>NaN</td>\n",
       "      <td>2.79932</td>\n",
       "      <td>1.289271</td>\n",
       "      <td>0.0</td>\n",
       "      <td>2.0</td>\n",
       "      <td>3.0</td>\n",
       "      <td>3.0</td>\n",
       "      <td>6.0</td>\n",
       "    </tr>\n",
       "    <tr>\n",
       "      <th>WorkLifeBalance</th>\n",
       "      <td>1470.0</td>\n",
       "      <td>NaN</td>\n",
       "      <td>NaN</td>\n",
       "      <td>NaN</td>\n",
       "      <td>2.761224</td>\n",
       "      <td>0.706476</td>\n",
       "      <td>1.0</td>\n",
       "      <td>2.0</td>\n",
       "      <td>3.0</td>\n",
       "      <td>3.0</td>\n",
       "      <td>4.0</td>\n",
       "    </tr>\n",
       "    <tr>\n",
       "      <th>YearsAtCompany</th>\n",
       "      <td>1470.0</td>\n",
       "      <td>NaN</td>\n",
       "      <td>NaN</td>\n",
       "      <td>NaN</td>\n",
       "      <td>7.008163</td>\n",
       "      <td>6.126525</td>\n",
       "      <td>0.0</td>\n",
       "      <td>3.0</td>\n",
       "      <td>5.0</td>\n",
       "      <td>9.0</td>\n",
       "      <td>40.0</td>\n",
       "    </tr>\n",
       "    <tr>\n",
       "      <th>YearsInCurrentRole</th>\n",
       "      <td>1470.0</td>\n",
       "      <td>NaN</td>\n",
       "      <td>NaN</td>\n",
       "      <td>NaN</td>\n",
       "      <td>4.229252</td>\n",
       "      <td>3.623137</td>\n",
       "      <td>0.0</td>\n",
       "      <td>2.0</td>\n",
       "      <td>3.0</td>\n",
       "      <td>7.0</td>\n",
       "      <td>18.0</td>\n",
       "    </tr>\n",
       "    <tr>\n",
       "      <th>YearsSinceLastPromotion</th>\n",
       "      <td>1470.0</td>\n",
       "      <td>NaN</td>\n",
       "      <td>NaN</td>\n",
       "      <td>NaN</td>\n",
       "      <td>2.187755</td>\n",
       "      <td>3.22243</td>\n",
       "      <td>0.0</td>\n",
       "      <td>0.0</td>\n",
       "      <td>1.0</td>\n",
       "      <td>3.0</td>\n",
       "      <td>15.0</td>\n",
       "    </tr>\n",
       "    <tr>\n",
       "      <th>YearsWithCurrManager</th>\n",
       "      <td>1470.0</td>\n",
       "      <td>NaN</td>\n",
       "      <td>NaN</td>\n",
       "      <td>NaN</td>\n",
       "      <td>4.123129</td>\n",
       "      <td>3.568136</td>\n",
       "      <td>0.0</td>\n",
       "      <td>2.0</td>\n",
       "      <td>3.0</td>\n",
       "      <td>7.0</td>\n",
       "      <td>17.0</td>\n",
       "    </tr>\n",
       "  </tbody>\n",
       "</table>\n",
       "</div>"
      ],
      "text/plain": [
       "                           count unique                     top  freq  \\\n",
       "Age                       1470.0    NaN                     NaN   NaN   \n",
       "Attrition                   1470      2                      No  1233   \n",
       "BusinessTravel              1470      3           Travel_Rarely  1043   \n",
       "DailyRate                 1470.0    NaN                     NaN   NaN   \n",
       "Department                  1470      3  Research & Development   961   \n",
       "DistanceFromHome          1470.0    NaN                     NaN   NaN   \n",
       "Education                 1470.0    NaN                     NaN   NaN   \n",
       "EducationField              1470      6           Life Sciences   606   \n",
       "EmployeeCount             1470.0    NaN                     NaN   NaN   \n",
       "EmployeeNumber            1470.0    NaN                     NaN   NaN   \n",
       "EnvironmentSatisfaction   1470.0    NaN                     NaN   NaN   \n",
       "Gender                      1470      2                    Male   882   \n",
       "HourlyRate                1470.0    NaN                     NaN   NaN   \n",
       "JobInvolvement            1470.0    NaN                     NaN   NaN   \n",
       "JobLevel                  1470.0    NaN                     NaN   NaN   \n",
       "JobRole                     1470      9         Sales Executive   326   \n",
       "JobSatisfaction           1470.0    NaN                     NaN   NaN   \n",
       "MaritalStatus               1470      3                 Married   673   \n",
       "MonthlyIncome             1470.0    NaN                     NaN   NaN   \n",
       "MonthlyRate               1470.0    NaN                     NaN   NaN   \n",
       "NumCompaniesWorked        1470.0    NaN                     NaN   NaN   \n",
       "Over18                      1470      1                       Y  1470   \n",
       "OverTime                    1470      2                      No  1054   \n",
       "PercentSalaryHike         1470.0    NaN                     NaN   NaN   \n",
       "PerformanceRating         1470.0    NaN                     NaN   NaN   \n",
       "RelationshipSatisfaction  1470.0    NaN                     NaN   NaN   \n",
       "StandardHours             1470.0    NaN                     NaN   NaN   \n",
       "StockOptionLevel          1470.0    NaN                     NaN   NaN   \n",
       "TotalWorkingYears         1470.0    NaN                     NaN   NaN   \n",
       "TrainingTimesLastYear     1470.0    NaN                     NaN   NaN   \n",
       "WorkLifeBalance           1470.0    NaN                     NaN   NaN   \n",
       "YearsAtCompany            1470.0    NaN                     NaN   NaN   \n",
       "YearsInCurrentRole        1470.0    NaN                     NaN   NaN   \n",
       "YearsSinceLastPromotion   1470.0    NaN                     NaN   NaN   \n",
       "YearsWithCurrManager      1470.0    NaN                     NaN   NaN   \n",
       "\n",
       "                                  mean          std     min     25%      50%  \\\n",
       "Age                           36.92381     9.135373    18.0    30.0     36.0   \n",
       "Attrition                          NaN          NaN     NaN     NaN      NaN   \n",
       "BusinessTravel                     NaN          NaN     NaN     NaN      NaN   \n",
       "DailyRate                   802.485714     403.5091   102.0   465.0    802.0   \n",
       "Department                         NaN          NaN     NaN     NaN      NaN   \n",
       "DistanceFromHome              9.192517     8.106864     1.0     2.0      7.0   \n",
       "Education                     2.912925     1.024165     1.0     2.0      3.0   \n",
       "EducationField                     NaN          NaN     NaN     NaN      NaN   \n",
       "EmployeeCount                      1.0          0.0     1.0     1.0      1.0   \n",
       "EmployeeNumber             1024.865306   602.024335     1.0  491.25   1020.5   \n",
       "EnvironmentSatisfaction       2.721769     1.093082     1.0     2.0      3.0   \n",
       "Gender                             NaN          NaN     NaN     NaN      NaN   \n",
       "HourlyRate                   65.891156    20.329428    30.0    48.0     66.0   \n",
       "JobInvolvement                2.729932     0.711561     1.0     2.0      3.0   \n",
       "JobLevel                      2.063946      1.10694     1.0     1.0      2.0   \n",
       "JobRole                            NaN          NaN     NaN     NaN      NaN   \n",
       "JobSatisfaction               2.728571     1.102846     1.0     2.0      3.0   \n",
       "MaritalStatus                      NaN          NaN     NaN     NaN      NaN   \n",
       "MonthlyIncome              6502.931293  4707.956783  1009.0  2911.0   4919.0   \n",
       "MonthlyRate               14313.103401  7117.786044  2094.0  8047.0  14235.5   \n",
       "NumCompaniesWorked            2.693197     2.498009     0.0     1.0      2.0   \n",
       "Over18                             NaN          NaN     NaN     NaN      NaN   \n",
       "OverTime                           NaN          NaN     NaN     NaN      NaN   \n",
       "PercentSalaryHike            15.209524     3.659938    11.0    12.0     14.0   \n",
       "PerformanceRating             3.153741     0.360824     3.0     3.0      3.0   \n",
       "RelationshipSatisfaction      2.712245     1.081209     1.0     2.0      3.0   \n",
       "StandardHours                     80.0          0.0    80.0    80.0     80.0   \n",
       "StockOptionLevel              0.793878     0.852077     0.0     0.0      1.0   \n",
       "TotalWorkingYears            11.279592     7.780782     0.0     6.0     10.0   \n",
       "TrainingTimesLastYear          2.79932     1.289271     0.0     2.0      3.0   \n",
       "WorkLifeBalance               2.761224     0.706476     1.0     2.0      3.0   \n",
       "YearsAtCompany                7.008163     6.126525     0.0     3.0      5.0   \n",
       "YearsInCurrentRole            4.229252     3.623137     0.0     2.0      3.0   \n",
       "YearsSinceLastPromotion       2.187755      3.22243     0.0     0.0      1.0   \n",
       "YearsWithCurrManager          4.123129     3.568136     0.0     2.0      3.0   \n",
       "\n",
       "                              75%      max  \n",
       "Age                          43.0     60.0  \n",
       "Attrition                     NaN      NaN  \n",
       "BusinessTravel                NaN      NaN  \n",
       "DailyRate                  1157.0   1499.0  \n",
       "Department                    NaN      NaN  \n",
       "DistanceFromHome             14.0     29.0  \n",
       "Education                     4.0      5.0  \n",
       "EducationField                NaN      NaN  \n",
       "EmployeeCount                 1.0      1.0  \n",
       "EmployeeNumber            1555.75   2068.0  \n",
       "EnvironmentSatisfaction       4.0      4.0  \n",
       "Gender                        NaN      NaN  \n",
       "HourlyRate                  83.75    100.0  \n",
       "JobInvolvement                3.0      4.0  \n",
       "JobLevel                      3.0      5.0  \n",
       "JobRole                       NaN      NaN  \n",
       "JobSatisfaction               4.0      4.0  \n",
       "MaritalStatus                 NaN      NaN  \n",
       "MonthlyIncome              8379.0  19999.0  \n",
       "MonthlyRate               20461.5  26999.0  \n",
       "NumCompaniesWorked            4.0      9.0  \n",
       "Over18                        NaN      NaN  \n",
       "OverTime                      NaN      NaN  \n",
       "PercentSalaryHike            18.0     25.0  \n",
       "PerformanceRating             3.0      4.0  \n",
       "RelationshipSatisfaction      4.0      4.0  \n",
       "StandardHours                80.0     80.0  \n",
       "StockOptionLevel              1.0      3.0  \n",
       "TotalWorkingYears            15.0     40.0  \n",
       "TrainingTimesLastYear         3.0      6.0  \n",
       "WorkLifeBalance               3.0      4.0  \n",
       "YearsAtCompany                9.0     40.0  \n",
       "YearsInCurrentRole            7.0     18.0  \n",
       "YearsSinceLastPromotion       3.0     15.0  \n",
       "YearsWithCurrManager          7.0     17.0  "
      ]
     },
     "execution_count": 3,
     "metadata": {},
     "output_type": "execute_result"
    }
   ],
   "source": [
    "print(\"Tamaño del DataFrame:\", df.shape)\n",
    "df.describe(include = 'all').T"
   ]
  },
  {
   "cell_type": "markdown",
   "id": "4KnDCDS5vh05",
   "metadata": {
    "id": "4KnDCDS5vh05"
   },
   "source": [
    "# **Ejercicio 3:**"
   ]
  },
  {
   "cell_type": "markdown",
   "id": "H3LIfPWNvhw0",
   "metadata": {
    "id": "H3LIfPWNvhw0"
   },
   "source": [
    "#### **Indica cuál es la diferencia entre utilizar o no el argumento include=”all” del método \"describe\" en el ejercicio anterior.**"
   ]
  },
  {
   "cell_type": "markdown",
   "id": "hf0DL3YcwVAC",
   "metadata": {
    "id": "hf0DL3YcwVAC"
   },
   "source": [
    "++++++++ Inicia la sección de agregar texto: ++++++++++++\n",
    "\n",
    "El parámetro \"all\" genera la instrucción para genere estadísticos\n",
    "de las variables del tipo numérico y también del tipo categórico, a diferencia del argumento \"None\", que sólo incluye los estadísticos del tipo numérico.\n",
    "\n",
    "++++++++ Termina la sección de agregar texto. +++++++++++"
   ]
  },
  {
   "cell_type": "markdown",
   "id": "-kGON2vOw9_8",
   "metadata": {
    "id": "-kGON2vOw9_8"
   },
   "source": [
    "# **Ejercicio 4:**"
   ]
  },
  {
   "cell_type": "code",
   "execution_count": null,
   "id": "single-acrylic",
   "metadata": {},
   "outputs": [],
   "source": []
  },
  {
   "cell_type": "markdown",
   "id": "stretch-maine",
   "metadata": {},
   "source": [
    "#### **Con base a la información desplegada por la instrucción anterior, hemos decidido cancelar los siguientes factores de nuestro problema: Over18, EmployeeCount, StandardHours, EmployeeNumber. Explica cuál es la justificación que nos permite cancelar cada uno de estos factores:**"
   ]
  },
  {
   "cell_type": "code",
   "execution_count": 4,
   "id": "figured-liberal",
   "metadata": {},
   "outputs": [
    {
     "data": {
      "text/html": [
       "<div>\n",
       "<style scoped>\n",
       "    .dataframe tbody tr th:only-of-type {\n",
       "        vertical-align: middle;\n",
       "    }\n",
       "\n",
       "    .dataframe tbody tr th {\n",
       "        vertical-align: top;\n",
       "    }\n",
       "\n",
       "    .dataframe thead th {\n",
       "        text-align: right;\n",
       "    }\n",
       "</style>\n",
       "<table border=\"1\" class=\"dataframe\">\n",
       "  <thead>\n",
       "    <tr style=\"text-align: right;\">\n",
       "      <th></th>\n",
       "      <th>Over18</th>\n",
       "      <th>EmployeeCount</th>\n",
       "      <th>StandardHours</th>\n",
       "      <th>EmployeeNumber</th>\n",
       "    </tr>\n",
       "  </thead>\n",
       "  <tbody>\n",
       "    <tr>\n",
       "      <th>count</th>\n",
       "      <td>1470</td>\n",
       "      <td>1470.0</td>\n",
       "      <td>1470.0</td>\n",
       "      <td>1470.000000</td>\n",
       "    </tr>\n",
       "    <tr>\n",
       "      <th>unique</th>\n",
       "      <td>1</td>\n",
       "      <td>NaN</td>\n",
       "      <td>NaN</td>\n",
       "      <td>NaN</td>\n",
       "    </tr>\n",
       "    <tr>\n",
       "      <th>top</th>\n",
       "      <td>Y</td>\n",
       "      <td>NaN</td>\n",
       "      <td>NaN</td>\n",
       "      <td>NaN</td>\n",
       "    </tr>\n",
       "    <tr>\n",
       "      <th>freq</th>\n",
       "      <td>1470</td>\n",
       "      <td>NaN</td>\n",
       "      <td>NaN</td>\n",
       "      <td>NaN</td>\n",
       "    </tr>\n",
       "    <tr>\n",
       "      <th>mean</th>\n",
       "      <td>NaN</td>\n",
       "      <td>1.0</td>\n",
       "      <td>80.0</td>\n",
       "      <td>1024.865306</td>\n",
       "    </tr>\n",
       "    <tr>\n",
       "      <th>std</th>\n",
       "      <td>NaN</td>\n",
       "      <td>0.0</td>\n",
       "      <td>0.0</td>\n",
       "      <td>602.024335</td>\n",
       "    </tr>\n",
       "    <tr>\n",
       "      <th>min</th>\n",
       "      <td>NaN</td>\n",
       "      <td>1.0</td>\n",
       "      <td>80.0</td>\n",
       "      <td>1.000000</td>\n",
       "    </tr>\n",
       "    <tr>\n",
       "      <th>25%</th>\n",
       "      <td>NaN</td>\n",
       "      <td>1.0</td>\n",
       "      <td>80.0</td>\n",
       "      <td>491.250000</td>\n",
       "    </tr>\n",
       "    <tr>\n",
       "      <th>50%</th>\n",
       "      <td>NaN</td>\n",
       "      <td>1.0</td>\n",
       "      <td>80.0</td>\n",
       "      <td>1020.500000</td>\n",
       "    </tr>\n",
       "    <tr>\n",
       "      <th>75%</th>\n",
       "      <td>NaN</td>\n",
       "      <td>1.0</td>\n",
       "      <td>80.0</td>\n",
       "      <td>1555.750000</td>\n",
       "    </tr>\n",
       "    <tr>\n",
       "      <th>max</th>\n",
       "      <td>NaN</td>\n",
       "      <td>1.0</td>\n",
       "      <td>80.0</td>\n",
       "      <td>2068.000000</td>\n",
       "    </tr>\n",
       "  </tbody>\n",
       "</table>\n",
       "</div>"
      ],
      "text/plain": [
       "       Over18  EmployeeCount  StandardHours  EmployeeNumber\n",
       "count    1470         1470.0         1470.0     1470.000000\n",
       "unique      1            NaN            NaN             NaN\n",
       "top         Y            NaN            NaN             NaN\n",
       "freq     1470            NaN            NaN             NaN\n",
       "mean      NaN            1.0           80.0     1024.865306\n",
       "std       NaN            0.0            0.0      602.024335\n",
       "min       NaN            1.0           80.0        1.000000\n",
       "25%       NaN            1.0           80.0      491.250000\n",
       "50%       NaN            1.0           80.0     1020.500000\n",
       "75%       NaN            1.0           80.0     1555.750000\n",
       "max       NaN            1.0           80.0     2068.000000"
      ]
     },
     "execution_count": 4,
     "metadata": {},
     "output_type": "execute_result"
    }
   ],
   "source": [
    "variables_a_cancelar = ['Over18', 'EmployeeCount',\n",
    "                       'StandardHours', 'EmployeeNumber']\n",
    "\n",
    "df[variables_a_cancelar].describe(include = 'all')"
   ]
  },
  {
   "cell_type": "markdown",
   "id": "Rb0lc1OrxAuY",
   "metadata": {
    "id": "Rb0lc1OrxAuY"
   },
   "source": [
    "++++++++ Inicia la sección de agregar texto: ++++++++++++\n",
    "\n",
    "**a)   Over18**: No proporciona información adicional ya que sólo existe la categoría 'Yes' ('Y'). Pues la variable toma un único valor tantas veces como el número de observaciones.\n",
    "\n",
    "**b)\tEmployeeCount**: No proporciona información adicional, ya que sólo representa un número asociado a la cantidad de veces que aparece el empleado. La media, el mínimo y el máximo son 1 y hay desviación estándar de 0.\n",
    "\n",
    "**c)\tStandardHours**: No proporciona información adicional ya que todos los empleados trabajan 80 horas. La media, el mínimo y el máximo son 80 y hay desviación estándar de 0.\n",
    "\n",
    "**d)\tEmployeeNumber**: No proporciona información adicional, al menos para este análisis ya que se vuelve una variable interna de los sistemas para guardar/identificar de manera única a un empleado en particular.\n",
    "\n",
    "++++++++ Termina la sección de agregar texto. +++++++++++\n",
    "\n",
    "\n"
   ]
  },
  {
   "cell_type": "code",
   "execution_count": 5,
   "id": "9b32cb04",
   "metadata": {
    "id": "9b32cb04"
   },
   "outputs": [
    {
     "name": "stdout",
     "output_type": "stream",
     "text": [
      "Tamaño del nuevo DataFrame: (1470, 31)\n"
     ]
    }
   ],
   "source": [
    "# Eliminamos los factores indicados:\n",
    "\n",
    "df = df.drop(['Over18','EmployeeCount','StandardHours','EmployeeNumber'],\n",
    "             axis=1)\n",
    "\n",
    "print(\"Tamaño del nuevo DataFrame:\", df.shape)"
   ]
  },
  {
   "cell_type": "code",
   "execution_count": 6,
   "id": "voluntary-relationship",
   "metadata": {},
   "outputs": [
    {
     "data": {
      "text/html": [
       "<div>\n",
       "<style scoped>\n",
       "    .dataframe tbody tr th:only-of-type {\n",
       "        vertical-align: middle;\n",
       "    }\n",
       "\n",
       "    .dataframe tbody tr th {\n",
       "        vertical-align: top;\n",
       "    }\n",
       "\n",
       "    .dataframe thead th {\n",
       "        text-align: right;\n",
       "    }\n",
       "</style>\n",
       "<table border=\"1\" class=\"dataframe\">\n",
       "  <thead>\n",
       "    <tr style=\"text-align: right;\">\n",
       "      <th></th>\n",
       "      <th>Age</th>\n",
       "      <th>Attrition</th>\n",
       "      <th>BusinessTravel</th>\n",
       "      <th>DailyRate</th>\n",
       "      <th>Department</th>\n",
       "      <th>DistanceFromHome</th>\n",
       "      <th>Education</th>\n",
       "      <th>EducationField</th>\n",
       "      <th>EnvironmentSatisfaction</th>\n",
       "      <th>Gender</th>\n",
       "      <th>...</th>\n",
       "      <th>PerformanceRating</th>\n",
       "      <th>RelationshipSatisfaction</th>\n",
       "      <th>StockOptionLevel</th>\n",
       "      <th>TotalWorkingYears</th>\n",
       "      <th>TrainingTimesLastYear</th>\n",
       "      <th>WorkLifeBalance</th>\n",
       "      <th>YearsAtCompany</th>\n",
       "      <th>YearsInCurrentRole</th>\n",
       "      <th>YearsSinceLastPromotion</th>\n",
       "      <th>YearsWithCurrManager</th>\n",
       "    </tr>\n",
       "  </thead>\n",
       "  <tbody>\n",
       "    <tr>\n",
       "      <th>0</th>\n",
       "      <td>41</td>\n",
       "      <td>Yes</td>\n",
       "      <td>Travel_Rarely</td>\n",
       "      <td>1102</td>\n",
       "      <td>Sales</td>\n",
       "      <td>1</td>\n",
       "      <td>2</td>\n",
       "      <td>Life Sciences</td>\n",
       "      <td>2</td>\n",
       "      <td>Female</td>\n",
       "      <td>...</td>\n",
       "      <td>3</td>\n",
       "      <td>1</td>\n",
       "      <td>0</td>\n",
       "      <td>8</td>\n",
       "      <td>0</td>\n",
       "      <td>1</td>\n",
       "      <td>6</td>\n",
       "      <td>4</td>\n",
       "      <td>0</td>\n",
       "      <td>5</td>\n",
       "    </tr>\n",
       "    <tr>\n",
       "      <th>1</th>\n",
       "      <td>49</td>\n",
       "      <td>No</td>\n",
       "      <td>Travel_Frequently</td>\n",
       "      <td>279</td>\n",
       "      <td>Research &amp; Development</td>\n",
       "      <td>8</td>\n",
       "      <td>1</td>\n",
       "      <td>Life Sciences</td>\n",
       "      <td>3</td>\n",
       "      <td>Male</td>\n",
       "      <td>...</td>\n",
       "      <td>4</td>\n",
       "      <td>4</td>\n",
       "      <td>1</td>\n",
       "      <td>10</td>\n",
       "      <td>3</td>\n",
       "      <td>3</td>\n",
       "      <td>10</td>\n",
       "      <td>7</td>\n",
       "      <td>1</td>\n",
       "      <td>7</td>\n",
       "    </tr>\n",
       "    <tr>\n",
       "      <th>2</th>\n",
       "      <td>37</td>\n",
       "      <td>Yes</td>\n",
       "      <td>Travel_Rarely</td>\n",
       "      <td>1373</td>\n",
       "      <td>Research &amp; Development</td>\n",
       "      <td>2</td>\n",
       "      <td>2</td>\n",
       "      <td>Other</td>\n",
       "      <td>4</td>\n",
       "      <td>Male</td>\n",
       "      <td>...</td>\n",
       "      <td>3</td>\n",
       "      <td>2</td>\n",
       "      <td>0</td>\n",
       "      <td>7</td>\n",
       "      <td>3</td>\n",
       "      <td>3</td>\n",
       "      <td>0</td>\n",
       "      <td>0</td>\n",
       "      <td>0</td>\n",
       "      <td>0</td>\n",
       "    </tr>\n",
       "    <tr>\n",
       "      <th>3</th>\n",
       "      <td>33</td>\n",
       "      <td>No</td>\n",
       "      <td>Travel_Frequently</td>\n",
       "      <td>1392</td>\n",
       "      <td>Research &amp; Development</td>\n",
       "      <td>3</td>\n",
       "      <td>4</td>\n",
       "      <td>Life Sciences</td>\n",
       "      <td>4</td>\n",
       "      <td>Female</td>\n",
       "      <td>...</td>\n",
       "      <td>3</td>\n",
       "      <td>3</td>\n",
       "      <td>0</td>\n",
       "      <td>8</td>\n",
       "      <td>3</td>\n",
       "      <td>3</td>\n",
       "      <td>8</td>\n",
       "      <td>7</td>\n",
       "      <td>3</td>\n",
       "      <td>0</td>\n",
       "    </tr>\n",
       "    <tr>\n",
       "      <th>4</th>\n",
       "      <td>27</td>\n",
       "      <td>No</td>\n",
       "      <td>Travel_Rarely</td>\n",
       "      <td>591</td>\n",
       "      <td>Research &amp; Development</td>\n",
       "      <td>2</td>\n",
       "      <td>1</td>\n",
       "      <td>Medical</td>\n",
       "      <td>1</td>\n",
       "      <td>Male</td>\n",
       "      <td>...</td>\n",
       "      <td>3</td>\n",
       "      <td>4</td>\n",
       "      <td>1</td>\n",
       "      <td>6</td>\n",
       "      <td>3</td>\n",
       "      <td>3</td>\n",
       "      <td>2</td>\n",
       "      <td>2</td>\n",
       "      <td>2</td>\n",
       "      <td>2</td>\n",
       "    </tr>\n",
       "  </tbody>\n",
       "</table>\n",
       "<p>5 rows × 31 columns</p>\n",
       "</div>"
      ],
      "text/plain": [
       "   Age Attrition     BusinessTravel  DailyRate              Department  \\\n",
       "0   41       Yes      Travel_Rarely       1102                   Sales   \n",
       "1   49        No  Travel_Frequently        279  Research & Development   \n",
       "2   37       Yes      Travel_Rarely       1373  Research & Development   \n",
       "3   33        No  Travel_Frequently       1392  Research & Development   \n",
       "4   27        No      Travel_Rarely        591  Research & Development   \n",
       "\n",
       "   DistanceFromHome  Education EducationField  EnvironmentSatisfaction  \\\n",
       "0                 1          2  Life Sciences                        2   \n",
       "1                 8          1  Life Sciences                        3   \n",
       "2                 2          2          Other                        4   \n",
       "3                 3          4  Life Sciences                        4   \n",
       "4                 2          1        Medical                        1   \n",
       "\n",
       "   Gender  ...  PerformanceRating  RelationshipSatisfaction  StockOptionLevel  \\\n",
       "0  Female  ...                  3                         1                 0   \n",
       "1    Male  ...                  4                         4                 1   \n",
       "2    Male  ...                  3                         2                 0   \n",
       "3  Female  ...                  3                         3                 0   \n",
       "4    Male  ...                  3                         4                 1   \n",
       "\n",
       "  TotalWorkingYears  TrainingTimesLastYear WorkLifeBalance  YearsAtCompany  \\\n",
       "0                 8                      0               1               6   \n",
       "1                10                      3               3              10   \n",
       "2                 7                      3               3               0   \n",
       "3                 8                      3               3               8   \n",
       "4                 6                      3               3               2   \n",
       "\n",
       "   YearsInCurrentRole  YearsSinceLastPromotion YearsWithCurrManager  \n",
       "0                   4                        0                    5  \n",
       "1                   7                        1                    7  \n",
       "2                   0                        0                    0  \n",
       "3                   7                        3                    0  \n",
       "4                   2                        2                    2  \n",
       "\n",
       "[5 rows x 31 columns]"
      ]
     },
     "execution_count": 6,
     "metadata": {},
     "output_type": "execute_result"
    }
   ],
   "source": [
    "# Se verifica visualmente\n",
    "df.head()"
   ]
  },
  {
   "cell_type": "markdown",
   "id": "BFJsH9kx0vFa",
   "metadata": {
    "id": "BFJsH9kx0vFa"
   },
   "source": [
    "# **Ejercicio 5:**"
   ]
  },
  {
   "cell_type": "code",
   "execution_count": 8,
   "id": "integrated-entrance",
   "metadata": {},
   "outputs": [
    {
     "name": "stdout",
     "output_type": "stream",
     "text": [
      "<class 'pandas.core.frame.DataFrame'>\n",
      "RangeIndex: 1470 entries, 0 to 1469\n",
      "Data columns (total 31 columns):\n",
      " #   Column                    Non-Null Count  Dtype \n",
      "---  ------                    --------------  ----- \n",
      " 0   Age                       1470 non-null   int64 \n",
      " 1   Attrition                 1470 non-null   object\n",
      " 2   BusinessTravel            1470 non-null   object\n",
      " 3   DailyRate                 1470 non-null   int64 \n",
      " 4   Department                1470 non-null   object\n",
      " 5   DistanceFromHome          1470 non-null   int64 \n",
      " 6   Education                 1470 non-null   int64 \n",
      " 7   EducationField            1470 non-null   object\n",
      " 8   EnvironmentSatisfaction   1470 non-null   int64 \n",
      " 9   Gender                    1470 non-null   object\n",
      " 10  HourlyRate                1470 non-null   int64 \n",
      " 11  JobInvolvement            1470 non-null   int64 \n",
      " 12  JobLevel                  1470 non-null   int64 \n",
      " 13  JobRole                   1470 non-null   object\n",
      " 14  JobSatisfaction           1470 non-null   int64 \n",
      " 15  MaritalStatus             1470 non-null   object\n",
      " 16  MonthlyIncome             1470 non-null   int64 \n",
      " 17  MonthlyRate               1470 non-null   int64 \n",
      " 18  NumCompaniesWorked        1470 non-null   int64 \n",
      " 19  OverTime                  1470 non-null   object\n",
      " 20  PercentSalaryHike         1470 non-null   int64 \n",
      " 21  PerformanceRating         1470 non-null   int64 \n",
      " 22  RelationshipSatisfaction  1470 non-null   int64 \n",
      " 23  StockOptionLevel          1470 non-null   int64 \n",
      " 24  TotalWorkingYears         1470 non-null   int64 \n",
      " 25  TrainingTimesLastYear     1470 non-null   int64 \n",
      " 26  WorkLifeBalance           1470 non-null   int64 \n",
      " 27  YearsAtCompany            1470 non-null   int64 \n",
      " 28  YearsInCurrentRole        1470 non-null   int64 \n",
      " 29  YearsSinceLastPromotion   1470 non-null   int64 \n",
      " 30  YearsWithCurrManager      1470 non-null   int64 \n",
      "dtypes: int64(23), object(8)\n",
      "memory usage: 356.1+ KB\n"
     ]
    }
   ],
   "source": [
    "df.info()"
   ]
  },
  {
   "cell_type": "code",
   "execution_count": 9,
   "id": "surgical-pilot",
   "metadata": {},
   "outputs": [
    {
     "data": {
      "text/plain": [
       "['Age',\n",
       " 'DailyRate',\n",
       " 'DistanceFromHome',\n",
       " 'Education',\n",
       " 'EnvironmentSatisfaction',\n",
       " 'HourlyRate',\n",
       " 'JobInvolvement',\n",
       " 'JobLevel',\n",
       " 'JobSatisfaction',\n",
       " 'MonthlyIncome',\n",
       " 'MonthlyRate',\n",
       " 'NumCompaniesWorked',\n",
       " 'PercentSalaryHike',\n",
       " 'PerformanceRating',\n",
       " 'RelationshipSatisfaction',\n",
       " 'StockOptionLevel',\n",
       " 'TotalWorkingYears',\n",
       " 'TrainingTimesLastYear',\n",
       " 'WorkLifeBalance',\n",
       " 'YearsAtCompany',\n",
       " 'YearsInCurrentRole',\n",
       " 'YearsSinceLastPromotion',\n",
       " 'YearsWithCurrManager']"
      ]
     },
     "execution_count": 9,
     "metadata": {},
     "output_type": "execute_result"
    }
   ],
   "source": [
    "lista_numericas = df.describe().columns.tolist()\n",
    "lista_numericas"
   ]
  },
  {
   "cell_type": "code",
   "execution_count": 10,
   "id": "ordinary-touch",
   "metadata": {},
   "outputs": [
    {
     "data": {
      "text/plain": [
       "['Attrition',\n",
       " 'BusinessTravel',\n",
       " 'Department',\n",
       " 'EducationField',\n",
       " 'Gender',\n",
       " 'JobRole',\n",
       " 'MaritalStatus',\n",
       " 'OverTime']"
      ]
     },
     "execution_count": 10,
     "metadata": {},
     "output_type": "execute_result"
    }
   ],
   "source": [
    "lista_categoricas = df.describe(include = 'object').columns.tolist()\n",
    "lista_categoricas"
   ]
  },
  {
   "cell_type": "markdown",
   "id": "biological-linux",
   "metadata": {},
   "source": [
    "Se verifica que ambas listas sean exhaustivas:"
   ]
  },
  {
   "cell_type": "code",
   "execution_count": 11,
   "id": "operating-letter",
   "metadata": {},
   "outputs": [
    {
     "data": {
      "text/plain": [
       "31"
      ]
     },
     "execution_count": 11,
     "metadata": {},
     "output_type": "execute_result"
    }
   ],
   "source": [
    "len(lista_numericas) + len(lista_categoricas)"
   ]
  },
  {
   "cell_type": "markdown",
   "id": "second-travel",
   "metadata": {},
   "source": [
    "Que es precisamente el número de variables que tiene el DataFrame"
   ]
  },
  {
   "cell_type": "markdown",
   "id": "numeric-edinburgh",
   "metadata": {},
   "source": [
    "Analizaremos las variables categóricas:"
   ]
  },
  {
   "cell_type": "code",
   "execution_count": 12,
   "id": "sunrise-success",
   "metadata": {},
   "outputs": [
    {
     "data": {
      "text/html": [
       "<div>\n",
       "<style scoped>\n",
       "    .dataframe tbody tr th:only-of-type {\n",
       "        vertical-align: middle;\n",
       "    }\n",
       "\n",
       "    .dataframe tbody tr th {\n",
       "        vertical-align: top;\n",
       "    }\n",
       "\n",
       "    .dataframe thead th {\n",
       "        text-align: right;\n",
       "    }\n",
       "</style>\n",
       "<table border=\"1\" class=\"dataframe\">\n",
       "  <thead>\n",
       "    <tr style=\"text-align: right;\">\n",
       "      <th></th>\n",
       "      <th>count</th>\n",
       "      <th>unique</th>\n",
       "      <th>top</th>\n",
       "      <th>freq</th>\n",
       "    </tr>\n",
       "  </thead>\n",
       "  <tbody>\n",
       "    <tr>\n",
       "      <th>Attrition</th>\n",
       "      <td>1470</td>\n",
       "      <td>2</td>\n",
       "      <td>No</td>\n",
       "      <td>1233</td>\n",
       "    </tr>\n",
       "    <tr>\n",
       "      <th>BusinessTravel</th>\n",
       "      <td>1470</td>\n",
       "      <td>3</td>\n",
       "      <td>Travel_Rarely</td>\n",
       "      <td>1043</td>\n",
       "    </tr>\n",
       "    <tr>\n",
       "      <th>Department</th>\n",
       "      <td>1470</td>\n",
       "      <td>3</td>\n",
       "      <td>Research &amp; Development</td>\n",
       "      <td>961</td>\n",
       "    </tr>\n",
       "    <tr>\n",
       "      <th>EducationField</th>\n",
       "      <td>1470</td>\n",
       "      <td>6</td>\n",
       "      <td>Life Sciences</td>\n",
       "      <td>606</td>\n",
       "    </tr>\n",
       "    <tr>\n",
       "      <th>Gender</th>\n",
       "      <td>1470</td>\n",
       "      <td>2</td>\n",
       "      <td>Male</td>\n",
       "      <td>882</td>\n",
       "    </tr>\n",
       "    <tr>\n",
       "      <th>JobRole</th>\n",
       "      <td>1470</td>\n",
       "      <td>9</td>\n",
       "      <td>Sales Executive</td>\n",
       "      <td>326</td>\n",
       "    </tr>\n",
       "    <tr>\n",
       "      <th>MaritalStatus</th>\n",
       "      <td>1470</td>\n",
       "      <td>3</td>\n",
       "      <td>Married</td>\n",
       "      <td>673</td>\n",
       "    </tr>\n",
       "    <tr>\n",
       "      <th>OverTime</th>\n",
       "      <td>1470</td>\n",
       "      <td>2</td>\n",
       "      <td>No</td>\n",
       "      <td>1054</td>\n",
       "    </tr>\n",
       "  </tbody>\n",
       "</table>\n",
       "</div>"
      ],
      "text/plain": [
       "               count unique                     top  freq\n",
       "Attrition       1470      2                      No  1233\n",
       "BusinessTravel  1470      3           Travel_Rarely  1043\n",
       "Department      1470      3  Research & Development   961\n",
       "EducationField  1470      6           Life Sciences   606\n",
       "Gender          1470      2                    Male   882\n",
       "JobRole         1470      9         Sales Executive   326\n",
       "MaritalStatus   1470      3                 Married   673\n",
       "OverTime        1470      2                      No  1054"
      ]
     },
     "execution_count": 12,
     "metadata": {},
     "output_type": "execute_result"
    }
   ],
   "source": [
    "resumen_categoricas = df[lista_categoricas].describe().T\n",
    "resumen_categoricas"
   ]
  },
  {
   "cell_type": "markdown",
   "id": "veterinary-montreal",
   "metadata": {},
   "source": [
    "Se puede observar que las variables 'Attrition', 'Gender' y 'OverTime' son binarias."
   ]
  },
  {
   "cell_type": "code",
   "execution_count": 13,
   "id": "copyrighted-catholic",
   "metadata": {},
   "outputs": [
    {
     "data": {
      "text/plain": [
       "['BusinessTravel', 'Department', 'EducationField', 'JobRole', 'MaritalStatus']"
      ]
     },
     "execution_count": 13,
     "metadata": {},
     "output_type": "execute_result"
    }
   ],
   "source": [
    "otras_categoricas = ['BusinessTravel','Department', \n",
    "                     'EducationField', 'JobRole',  'MaritalStatus']\n",
    "\n",
    "otras_categoricas"
   ]
  },
  {
   "cell_type": "code",
   "execution_count": 14,
   "id": "identical-amber",
   "metadata": {},
   "outputs": [
    {
     "name": "stdout",
     "output_type": "stream",
     "text": [
      "BusinessTravel\n",
      "Travel_Rarely        1043\n",
      "Travel_Frequently     277\n",
      "Non-Travel            150\n",
      "Name: BusinessTravel, dtype: int64\n",
      "---\n",
      "Department\n",
      "Research & Development    961\n",
      "Sales                     446\n",
      "Human Resources            63\n",
      "Name: Department, dtype: int64\n",
      "---\n",
      "EducationField\n",
      "Life Sciences       606\n",
      "Medical             464\n",
      "Marketing           159\n",
      "Technical Degree    132\n",
      "Other                82\n",
      "Human Resources      27\n",
      "Name: EducationField, dtype: int64\n",
      "---\n",
      "JobRole\n",
      "Sales Executive              326\n",
      "Research Scientist           292\n",
      "Laboratory Technician        259\n",
      "Manufacturing Director       145\n",
      "Healthcare Representative    131\n",
      "Manager                      102\n",
      "Sales Representative          83\n",
      "Research Director             80\n",
      "Human Resources               52\n",
      "Name: JobRole, dtype: int64\n",
      "---\n",
      "MaritalStatus\n",
      "Married     673\n",
      "Single      470\n",
      "Divorced    327\n",
      "Name: MaritalStatus, dtype: int64\n",
      "---\n"
     ]
    }
   ],
   "source": [
    "for variable in otras_categoricas:\n",
    "    print(variable)\n",
    "    print(df[variable].value_counts())\n",
    "    print('---')"
   ]
  },
  {
   "cell_type": "markdown",
   "id": "beginning-topic",
   "metadata": {},
   "source": [
    "De estas variables categóricas, la única que se puede considerar categórica ordinal es 'BusinessTravel'"
   ]
  },
  {
   "cell_type": "code",
   "execution_count": 15,
   "id": "transparent-billy",
   "metadata": {},
   "outputs": [
    {
     "data": {
      "text/plain": [
       "['Department', 'EducationField', 'JobRole', 'MaritalStatus']"
      ]
     },
     "execution_count": 15,
     "metadata": {},
     "output_type": "execute_result"
    }
   ],
   "source": [
    "columnas_numericas = lista_numericas\n",
    "columnas_binarias = ['Attrition', 'Gender', 'OverTime']\n",
    "columnas_ordinales = ['BusinessTravel']\n",
    "\n",
    "s = set(columnas_binarias + columnas_ordinales)\n",
    "columnas_nominales = [x for x in lista_categoricas if x not in s]\n",
    "\n",
    "columnas_nominales"
   ]
  },
  {
   "cell_type": "markdown",
   "id": "armed-charge",
   "metadata": {},
   "source": [
    "Se verifica que el listado sea exhaustivo:"
   ]
  },
  {
   "cell_type": "code",
   "execution_count": 16,
   "id": "attended-marketing",
   "metadata": {},
   "outputs": [
    {
     "data": {
      "text/plain": [
       "31"
      ]
     },
     "execution_count": 16,
     "metadata": {},
     "output_type": "execute_result"
    }
   ],
   "source": [
    "len(columnas_numericas) + len(columnas_binarias) + len(columnas_ordinales) + len(columnas_nominales)"
   ]
  },
  {
   "cell_type": "markdown",
   "id": "modern-cocktail",
   "metadata": {},
   "source": [
    "Que coincide efectivamente con el número de columnas del dataframe"
   ]
  },
  {
   "cell_type": "markdown",
   "id": "static-failure",
   "metadata": {},
   "source": [
    "Ahora analizaremos las variables numéricas. Se empezará con algunos histogramas:"
   ]
  },
  {
   "cell_type": "code",
   "execution_count": 17,
   "id": "commercial-climb",
   "metadata": {},
   "outputs": [
    {
     "data": {
      "image/png": "[encoded data removed]",
      "text/plain": [
       "<Figure size 1080x1080 with 25 Axes>"
      ]
     },
     "metadata": {
      "needs_background": "light"
     },
     "output_type": "display_data"
    }
   ],
   "source": [
    "df[columnas_numericas].hist(figsize= (15,15), bins= 50,\n",
    "                            density = True, alpha = 0.7,\n",
    "                            edgecolor = 'black');"
   ]
  },
  {
   "cell_type": "markdown",
   "id": "virtual-guitar",
   "metadata": {},
   "source": [
    "Se puede observar que las variables 'Education', 'EnvironmentSatisfaction', 'JobInvolvement', 'JobLevel', 'JobSatisfaction', 'PerformanceRating', 'RelationshipSatisfaction', 'StockOptionLevel', 'WorkLifeBalance' aunque están codificadas como numéricas, sólo toman unos pocos valores. Esto sugiere que son variables que están codificadas con números pero cada número representa una categoría."
   ]
  },
  {
   "cell_type": "code",
   "execution_count": 18,
   "id": "specified-messenger",
   "metadata": {},
   "outputs": [
    {
     "name": "stdout",
     "output_type": "stream",
     "text": [
      "Education\n",
      "3    572\n",
      "4    398\n",
      "2    282\n",
      "1    170\n",
      "5     48\n",
      "Name: Education, dtype: int64\n",
      "---\n",
      "EnvironmentSatisfaction\n",
      "3    453\n",
      "4    446\n",
      "2    287\n",
      "1    284\n",
      "Name: EnvironmentSatisfaction, dtype: int64\n",
      "---\n",
      "JobInvolvement\n",
      "3    868\n",
      "2    375\n",
      "4    144\n",
      "1     83\n",
      "Name: JobInvolvement, dtype: int64\n",
      "---\n",
      "JobLevel\n",
      "1    543\n",
      "2    534\n",
      "3    218\n",
      "4    106\n",
      "5     69\n",
      "Name: JobLevel, dtype: int64\n",
      "---\n",
      "JobSatisfaction\n",
      "4    459\n",
      "3    442\n",
      "1    289\n",
      "2    280\n",
      "Name: JobSatisfaction, dtype: int64\n",
      "---\n",
      "PerformanceRating\n",
      "3    1244\n",
      "4     226\n",
      "Name: PerformanceRating, dtype: int64\n",
      "---\n",
      "RelationshipSatisfaction\n",
      "3    459\n",
      "4    432\n",
      "2    303\n",
      "1    276\n",
      "Name: RelationshipSatisfaction, dtype: int64\n",
      "---\n",
      "StockOptionLevel\n",
      "0    631\n",
      "1    596\n",
      "2    158\n",
      "3     85\n",
      "Name: StockOptionLevel, dtype: int64\n",
      "---\n",
      "WorkLifeBalance\n",
      "3    893\n",
      "2    344\n",
      "4    153\n",
      "1     80\n",
      "Name: WorkLifeBalance, dtype: int64\n",
      "---\n"
     ]
    }
   ],
   "source": [
    "posibles_categoricas = ['Education', 'EnvironmentSatisfaction',\n",
    "                        'JobInvolvement', 'JobLevel',\n",
    "                        'JobSatisfaction', 'PerformanceRating',\n",
    "                        'RelationshipSatisfaction', 'StockOptionLevel',\n",
    "                        'WorkLifeBalance']\n",
    "\n",
    "for variable in posibles_categoricas:\n",
    "    print(variable)\n",
    "    print(df[variable].value_counts())\n",
    "    print('---')"
   ]
  },
  {
   "cell_type": "markdown",
   "id": "bound-vinyl",
   "metadata": {},
   "source": [
    "De hecho, si vamos a la descripción del Dataset de Kaggle nos encontramos:\n",
    "\n",
    "Education:\n",
    "+ 1 'Below College'\n",
    "+ 2 'College'\n",
    "+ 3 'Bachelor'\n",
    "+ 4 'Master'\n",
    "+ 5 'Doctor'\n",
    "\n",
    "EnvironmentSatisfaction:\n",
    "+ 1 'Low'\n",
    "+ 2 'Medium'\n",
    "+ 3 'High'\n",
    "+ 4 'Very High'\n",
    "\n",
    "JobInvolvement:\n",
    "+ 1 'Low'\n",
    "+ 2 'Medium'\n",
    "+ 3 'High'\n",
    "+ 4 'Very High'\n",
    "\n",
    "JobSatisfaction:\n",
    "+ 1 'Low'\n",
    "+ 2 'Medium'\n",
    "+ 3 'High'\n",
    "+ 4 'Very High'\n",
    "\n",
    "PerformanceRating:\n",
    "+ 1 'Low'\n",
    "+ 2 'Good'\n",
    "+ 3 'Excellent'\n",
    "+ 4 'Outstanding'\n",
    "\n",
    "RelationshipSatisfaction:\n",
    "+ 1 'Low'\n",
    "+ 2 'Medium'\n",
    "+ 3 'High'\n",
    "+ 4 'Very High'\n",
    "\n",
    "WorkLifeBalance:\n",
    "+ 1 'Bad'\n",
    "+ 2 'Good'\n",
    "+ 3 'Better'\n",
    "+ 4 'Best'"
   ]
  },
  {
   "cell_type": "code",
   "execution_count": 19,
   "id": "specialized-marathon",
   "metadata": {},
   "outputs": [],
   "source": [
    "s = set(posibles_categoricas)\n",
    "columnas_numericas_actualizada = [x for x in columnas_numericas if x not in s]"
   ]
  },
  {
   "cell_type": "code",
   "execution_count": 20,
   "id": "italic-expression",
   "metadata": {},
   "outputs": [
    {
     "data": {
      "text/plain": [
       "['Age',\n",
       " 'DailyRate',\n",
       " 'DistanceFromHome',\n",
       " 'HourlyRate',\n",
       " 'MonthlyIncome',\n",
       " 'MonthlyRate',\n",
       " 'NumCompaniesWorked',\n",
       " 'PercentSalaryHike',\n",
       " 'TotalWorkingYears',\n",
       " 'TrainingTimesLastYear',\n",
       " 'YearsAtCompany',\n",
       " 'YearsInCurrentRole',\n",
       " 'YearsSinceLastPromotion',\n",
       " 'YearsWithCurrManager']"
      ]
     },
     "execution_count": 20,
     "metadata": {},
     "output_type": "execute_result"
    }
   ],
   "source": [
    "columnas_numericas_actualizada"
   ]
  },
  {
   "cell_type": "code",
   "execution_count": 21,
   "id": "perceived-tactics",
   "metadata": {},
   "outputs": [],
   "source": [
    "columnas_numericas = columnas_numericas_actualizada\n",
    "columnas_ordinales = columnas_ordinales + posibles_categoricas"
   ]
  },
  {
   "cell_type": "code",
   "execution_count": 22,
   "id": "informed-oriental",
   "metadata": {},
   "outputs": [
    {
     "data": {
      "text/plain": [
       "['Age',\n",
       " 'DailyRate',\n",
       " 'DistanceFromHome',\n",
       " 'HourlyRate',\n",
       " 'MonthlyIncome',\n",
       " 'MonthlyRate',\n",
       " 'NumCompaniesWorked',\n",
       " 'PercentSalaryHike',\n",
       " 'TotalWorkingYears',\n",
       " 'TrainingTimesLastYear',\n",
       " 'YearsAtCompany',\n",
       " 'YearsInCurrentRole',\n",
       " 'YearsSinceLastPromotion',\n",
       " 'YearsWithCurrManager']"
      ]
     },
     "execution_count": 22,
     "metadata": {},
     "output_type": "execute_result"
    }
   ],
   "source": [
    "columnas_numericas"
   ]
  },
  {
   "cell_type": "code",
   "execution_count": 23,
   "id": "metallic-tsunami",
   "metadata": {},
   "outputs": [
    {
     "data": {
      "text/plain": [
       "['BusinessTravel',\n",
       " 'Education',\n",
       " 'EnvironmentSatisfaction',\n",
       " 'JobInvolvement',\n",
       " 'JobLevel',\n",
       " 'JobSatisfaction',\n",
       " 'PerformanceRating',\n",
       " 'RelationshipSatisfaction',\n",
       " 'StockOptionLevel',\n",
       " 'WorkLifeBalance']"
      ]
     },
     "execution_count": 23,
     "metadata": {},
     "output_type": "execute_result"
    }
   ],
   "source": [
    "columnas_ordinales"
   ]
  },
  {
   "cell_type": "markdown",
   "id": "twenty-analyst",
   "metadata": {},
   "source": [
    "Se verifica que el listado sea exhaustivo:"
   ]
  },
  {
   "cell_type": "code",
   "execution_count": 24,
   "id": "announced-eagle",
   "metadata": {},
   "outputs": [
    {
     "data": {
      "text/plain": [
       "31"
      ]
     },
     "execution_count": 24,
     "metadata": {},
     "output_type": "execute_result"
    }
   ],
   "source": [
    "len(columnas_numericas) + len(columnas_binarias) + len(columnas_ordinales) + len(columnas_nominales)"
   ]
  },
  {
   "cell_type": "markdown",
   "id": "tropical-shakespeare",
   "metadata": {},
   "source": [
    "Que coincide efectivamente con el número de columnas del dataframe"
   ]
  },
  {
   "cell_type": "code",
   "execution_count": 25,
   "id": "basic-surname",
   "metadata": {},
   "outputs": [
    {
     "data": {
      "text/plain": [
       "['Attrition',\n",
       " 'Gender',\n",
       " 'OverTime',\n",
       " 'Department',\n",
       " 'EducationField',\n",
       " 'JobRole',\n",
       " 'MaritalStatus',\n",
       " 'BusinessTravel',\n",
       " 'Education',\n",
       " 'EnvironmentSatisfaction',\n",
       " 'JobInvolvement',\n",
       " 'JobLevel',\n",
       " 'JobSatisfaction',\n",
       " 'PerformanceRating',\n",
       " 'RelationshipSatisfaction',\n",
       " 'StockOptionLevel',\n",
       " 'WorkLifeBalance']"
      ]
     },
     "execution_count": 25,
     "metadata": {},
     "output_type": "execute_result"
    }
   ],
   "source": [
    "cols_cat = columnas_binarias + columnas_nominales + columnas_ordinales\n",
    "cols_cat"
   ]
  },
  {
   "cell_type": "code",
   "execution_count": 26,
   "id": "pursuant-friendly",
   "metadata": {},
   "outputs": [
    {
     "data": {
      "image/png": "[encoded data removed]",
      "text/plain": [
       "<Figure size 720x864 with 18 Axes>"
      ]
     },
     "metadata": {
      "needs_background": "light"
     },
     "output_type": "display_data"
    }
   ],
   "source": [
    "# Validamos el tipo de columnas categóricas:\n",
    "\n",
    "fig, axes = plt.subplots(9,2, figsize = (10,12))\n",
    "axes = axes.ravel()\n",
    "for col, ax in zip(df[cols_cat], axes):\n",
    "  sns.countplot(x = df[col], ax = ax)\n",
    "  ax.set(title = f'{col}', xlabel = None)"
   ]
  },
  {
   "cell_type": "code",
   "execution_count": 27,
   "id": "minor-award",
   "metadata": {},
   "outputs": [
    {
     "data": {
      "image/png": "[encoded data removed]",
      "text/plain": [
       "<Figure size 1080x1080 with 16 Axes>"
      ]
     },
     "metadata": {
      "needs_background": "light"
     },
     "output_type": "display_data"
    }
   ],
   "source": [
    "df[columnas_numericas].hist(figsize= (15,15), bins= 50,\n",
    "                            density = True, alpha = 0.7,\n",
    "                            edgecolor = 'black');"
   ]
  },
  {
   "cell_type": "markdown",
   "id": "hollow-fusion",
   "metadata": {},
   "source": [
    "#### **Realiza los análisis necesarios para encontrar cuántas y cuáles de las variables del nuevo DataFrame son:**\n",
    "\n",
    "++++++++ Inicia la sección de agregar texto: ++++++++++++\n",
    "\n",
    "i. variables numéricas de valor entero:"
   ]
  },
  {
   "cell_type": "code",
   "execution_count": 28,
   "id": "intellectual-termination",
   "metadata": {},
   "outputs": [
    {
     "data": {
      "text/plain": [
       "['Age',\n",
       " 'DailyRate',\n",
       " 'DistanceFromHome',\n",
       " 'HourlyRate',\n",
       " 'MonthlyIncome',\n",
       " 'MonthlyRate',\n",
       " 'NumCompaniesWorked',\n",
       " 'PercentSalaryHike',\n",
       " 'TotalWorkingYears',\n",
       " 'TrainingTimesLastYear',\n",
       " 'YearsAtCompany',\n",
       " 'YearsInCurrentRole',\n",
       " 'YearsSinceLastPromotion',\n",
       " 'YearsWithCurrManager']"
      ]
     },
     "execution_count": 28,
     "metadata": {},
     "output_type": "execute_result"
    }
   ],
   "source": [
    "columnas_numericas"
   ]
  },
  {
   "cell_type": "code",
   "execution_count": 29,
   "id": "simple-queens",
   "metadata": {},
   "outputs": [
    {
     "name": "stdout",
     "output_type": "stream",
     "text": [
      "El número variables numéricas de valor entero es:  14\n"
     ]
    }
   ],
   "source": [
    "print(\"El número variables numéricas de valor entero es: \",\n",
    "      len(columnas_numericas))"
   ]
  },
  {
   "cell_type": "markdown",
   "id": "opening-sacrifice",
   "metadata": {},
   "source": [
    "ii. variables numéricas de valor real (flotante):\n",
    "\n",
    "No hay variables númericas de valor real (flotante)\n",
    "\n",
    "iii. variables binarias:"
   ]
  },
  {
   "cell_type": "code",
   "execution_count": 30,
   "id": "offensive-addition",
   "metadata": {},
   "outputs": [
    {
     "data": {
      "text/plain": [
       "['Attrition', 'Gender', 'OverTime']"
      ]
     },
     "execution_count": 30,
     "metadata": {},
     "output_type": "execute_result"
    }
   ],
   "source": [
    "columnas_binarias"
   ]
  },
  {
   "cell_type": "code",
   "execution_count": 31,
   "id": "crazy-mandate",
   "metadata": {},
   "outputs": [
    {
     "name": "stdout",
     "output_type": "stream",
     "text": [
      "El número variables binarias es:  3\n"
     ]
    }
   ],
   "source": [
    "print(\"El número variables binarias es: \",\n",
    "      len(columnas_binarias))"
   ]
  },
  {
   "cell_type": "markdown",
   "id": "scenic-acquisition",
   "metadata": {},
   "source": [
    "iv.\tvariables categóricas nominales. Indica el total de niveles que tiene cada una de estas variables:"
   ]
  },
  {
   "cell_type": "code",
   "execution_count": 32,
   "id": "prescription-parking",
   "metadata": {},
   "outputs": [
    {
     "data": {
      "text/plain": [
       "['Department', 'EducationField', 'JobRole', 'MaritalStatus']"
      ]
     },
     "execution_count": 32,
     "metadata": {},
     "output_type": "execute_result"
    }
   ],
   "source": [
    "columnas_nominales"
   ]
  },
  {
   "cell_type": "code",
   "execution_count": 33,
   "id": "sunrise-realtor",
   "metadata": {},
   "outputs": [
    {
     "name": "stdout",
     "output_type": "stream",
     "text": [
      "El número variables nominales es:  4\n"
     ]
    }
   ],
   "source": [
    "print(\"El número variables nominales es: \",\n",
    "      len(columnas_nominales))"
   ]
  },
  {
   "cell_type": "code",
   "execution_count": 34,
   "id": "effective-average",
   "metadata": {},
   "outputs": [
    {
     "name": "stdout",
     "output_type": "stream",
     "text": [
      "Valores para cada columna nominal 'Department' :\n",
      "Research & Development    961\n",
      "Sales                     446\n",
      "Human Resources            63\n",
      "Name: Department, dtype: int64\n",
      "\n",
      "Valores para cada columna nominal 'EducationField' :\n",
      "Life Sciences       606\n",
      "Medical             464\n",
      "Marketing           159\n",
      "Technical Degree    132\n",
      "Other                82\n",
      "Human Resources      27\n",
      "Name: EducationField, dtype: int64\n",
      "\n",
      "Valores para cada columna nominal 'JobRole' :\n",
      "Sales Executive              326\n",
      "Research Scientist           292\n",
      "Laboratory Technician        259\n",
      "Manufacturing Director       145\n",
      "Healthcare Representative    131\n",
      "Manager                      102\n",
      "Sales Representative          83\n",
      "Research Director             80\n",
      "Human Resources               52\n",
      "Name: JobRole, dtype: int64\n",
      "\n",
      "Valores para cada columna nominal 'MaritalStatus' :\n",
      "Married     673\n",
      "Single      470\n",
      "Divorced    327\n",
      "Name: MaritalStatus, dtype: int64\n",
      "\n"
     ]
    }
   ],
   "source": [
    "#Niveles de las columnas nominales:\n",
    "for column in columnas_nominales:\n",
    "  value_counts = df[column].value_counts()\n",
    "  print(f\"Valores para cada columna nominal '{column}' :\\n{value_counts}\\n\")"
   ]
  },
  {
   "cell_type": "markdown",
   "id": "egyptian-minimum",
   "metadata": {},
   "source": [
    "v. variables categóricas ordinales. Indica el total de niveles que tiene cada una de estas variables:"
   ]
  },
  {
   "cell_type": "code",
   "execution_count": 35,
   "id": "unnecessary-gnome",
   "metadata": {},
   "outputs": [
    {
     "data": {
      "text/plain": [
       "['BusinessTravel',\n",
       " 'Education',\n",
       " 'EnvironmentSatisfaction',\n",
       " 'JobInvolvement',\n",
       " 'JobLevel',\n",
       " 'JobSatisfaction',\n",
       " 'PerformanceRating',\n",
       " 'RelationshipSatisfaction',\n",
       " 'StockOptionLevel',\n",
       " 'WorkLifeBalance']"
      ]
     },
     "execution_count": 35,
     "metadata": {},
     "output_type": "execute_result"
    }
   ],
   "source": [
    "columnas_ordinales"
   ]
  },
  {
   "cell_type": "code",
   "execution_count": 36,
   "id": "light-classification",
   "metadata": {},
   "outputs": [
    {
     "name": "stdout",
     "output_type": "stream",
     "text": [
      "El número variables ordinales es:  10\n"
     ]
    }
   ],
   "source": [
    "print(\"El número variables ordinales es: \",\n",
    "      len(columnas_ordinales))"
   ]
  },
  {
   "cell_type": "code",
   "execution_count": 37,
   "id": "billion-anime",
   "metadata": {},
   "outputs": [
    {
     "name": "stdout",
     "output_type": "stream",
     "text": [
      "Valores para cada columna ordinal 'BusinessTravel' :\n",
      "Travel_Rarely        1043\n",
      "Travel_Frequently     277\n",
      "Non-Travel            150\n",
      "Name: BusinessTravel, dtype: int64\n",
      "\n",
      "Valores para cada columna ordinal 'Education' :\n",
      "3    572\n",
      "4    398\n",
      "2    282\n",
      "1    170\n",
      "5     48\n",
      "Name: Education, dtype: int64\n",
      "\n",
      "Valores para cada columna ordinal 'EnvironmentSatisfaction' :\n",
      "3    453\n",
      "4    446\n",
      "2    287\n",
      "1    284\n",
      "Name: EnvironmentSatisfaction, dtype: int64\n",
      "\n",
      "Valores para cada columna ordinal 'JobInvolvement' :\n",
      "3    868\n",
      "2    375\n",
      "4    144\n",
      "1     83\n",
      "Name: JobInvolvement, dtype: int64\n",
      "\n",
      "Valores para cada columna ordinal 'JobLevel' :\n",
      "1    543\n",
      "2    534\n",
      "3    218\n",
      "4    106\n",
      "5     69\n",
      "Name: JobLevel, dtype: int64\n",
      "\n",
      "Valores para cada columna ordinal 'JobSatisfaction' :\n",
      "4    459\n",
      "3    442\n",
      "1    289\n",
      "2    280\n",
      "Name: JobSatisfaction, dtype: int64\n",
      "\n",
      "Valores para cada columna ordinal 'PerformanceRating' :\n",
      "3    1244\n",
      "4     226\n",
      "Name: PerformanceRating, dtype: int64\n",
      "\n",
      "Valores para cada columna ordinal 'RelationshipSatisfaction' :\n",
      "3    459\n",
      "4    432\n",
      "2    303\n",
      "1    276\n",
      "Name: RelationshipSatisfaction, dtype: int64\n",
      "\n",
      "Valores para cada columna ordinal 'StockOptionLevel' :\n",
      "0    631\n",
      "1    596\n",
      "2    158\n",
      "3     85\n",
      "Name: StockOptionLevel, dtype: int64\n",
      "\n",
      "Valores para cada columna ordinal 'WorkLifeBalance' :\n",
      "3    893\n",
      "2    344\n",
      "4    153\n",
      "1     80\n",
      "Name: WorkLifeBalance, dtype: int64\n",
      "\n"
     ]
    }
   ],
   "source": [
    "#Niveles de las columnas ordinales:\n",
    "for column in columnas_ordinales:\n",
    "  value_counts = df[column].value_counts()\n",
    "  print(f\"Valores para cada columna ordinal '{column}' :\\n{value_counts}\\n\")"
   ]
  },
  {
   "cell_type": "markdown",
   "id": "afqGo0Xz0xrH",
   "metadata": {
    "id": "afqGo0Xz0xrH"
   },
   "source": [
    "++++++++ Termina la sección de agregar texto: ++++++++++++"
   ]
  },
  {
   "cell_type": "markdown",
   "id": "ykN3_WEU3SWH",
   "metadata": {
    "id": "ykN3_WEU3SWH"
   },
   "source": [
    "# **Ejercicio 6:**"
   ]
  },
  {
   "cell_type": "markdown",
   "id": "UWcvTjY63Uru",
   "metadata": {
    "id": "UWcvTjY63Uru"
   },
   "source": [
    "#### **Realiza una partición de los datos en Entrenamiento, Validación y Prueba, del 70%, 15% y 15%, respectivamente. Llama a dichos conjuntos Xtrain, Xval, Xtest, ytrain, yval, ytest, para los datos de entrada y de salida, respectivamente. Asegúrate que dicha partición conserve la estratificación de las clases de la variable “Attrition”. Despliega además la dimensión obtenida de los tres conjuntos: Entrenamiento, Validación y Prueba.**"
   ]
  },
  {
   "cell_type": "code",
   "execution_count": 38,
   "id": "brilliant-farming",
   "metadata": {},
   "outputs": [],
   "source": [
    "df = pd.read_csv(\"WA_Fn-UseC_-HR-Employee-Attrition.csv\")\n",
    "df = df.drop(['Over18','EmployeeCount','StandardHours','EmployeeNumber'],\n",
    "             axis=1)"
   ]
  },
  {
   "cell_type": "markdown",
   "id": "covered-clinic",
   "metadata": {},
   "source": [
    "Para ver la proporción de valores de la variable 'Attrition':"
   ]
  },
  {
   "cell_type": "code",
   "execution_count": 39,
   "id": "minute-airline",
   "metadata": {},
   "outputs": [
    {
     "data": {
      "text/plain": [
       "No     0.838776\n",
       "Yes    0.161224\n",
       "Name: Attrition, dtype: float64"
      ]
     },
     "execution_count": 39,
     "metadata": {},
     "output_type": "execute_result"
    }
   ],
   "source": [
    "(df['Attrition'].value_counts())/len(df)"
   ]
  },
  {
   "cell_type": "code",
   "execution_count": 40,
   "id": "touched-perfume",
   "metadata": {},
   "outputs": [],
   "source": [
    "# Se consruye el dataset de las POSIBLES variables predictoras\n",
    "X = df.drop(['Attrition'], axis=1)\n",
    "\n",
    "# Se consruye el dataset de la variable de salida\n",
    "y = df['Attrition']\n",
    "\n",
    "#Particionamos 70% Train y 30% una temporal para volverla a dividir\n",
    "Xtrain, Xtemp, ytrain, ytemp = train_test_split(X, y,\n",
    "                                                train_size = 0.7,\n",
    "                                                random_state = 1,\n",
    "                                                stratify = y)\n",
    "\n",
    "#Particionamos el 30% en 50% validación y 50% en test.\n",
    "Xval, Xtest, yval, ytest = train_test_split(Xtemp, ytemp,\n",
    "                                            train_size = 0.5,\n",
    "                                            random_state = 1,\n",
    "                                            stratify = ytemp)"
   ]
  },
  {
   "cell_type": "markdown",
   "id": "waiting-algeria",
   "metadata": {},
   "source": [
    "Verificamos la proporción de 'Yes' en el dataset de entrenamiento"
   ]
  },
  {
   "cell_type": "code",
   "execution_count": 41,
   "id": "restricted-hybrid",
   "metadata": {},
   "outputs": [
    {
     "data": {
      "text/plain": [
       "No     0.838678\n",
       "Yes    0.161322\n",
       "Name: Attrition, dtype: float64"
      ]
     },
     "execution_count": 41,
     "metadata": {},
     "output_type": "execute_result"
    }
   ],
   "source": [
    "ytrain.value_counts()/len(ytrain)"
   ]
  },
  {
   "cell_type": "markdown",
   "id": "productive-father",
   "metadata": {},
   "source": [
    "Verificamos la proporción de 'Yes' en el dataset de validación"
   ]
  },
  {
   "cell_type": "code",
   "execution_count": 42,
   "id": "false-yukon",
   "metadata": {},
   "outputs": [
    {
     "data": {
      "text/plain": [
       "No     0.840909\n",
       "Yes    0.159091\n",
       "Name: Attrition, dtype: float64"
      ]
     },
     "execution_count": 42,
     "metadata": {},
     "output_type": "execute_result"
    }
   ],
   "source": [
    "yval.value_counts()/len(yval)"
   ]
  },
  {
   "cell_type": "markdown",
   "id": "tight-disability",
   "metadata": {},
   "source": [
    "Verificamos la proporción de 'Yes' en el dataset de prueba"
   ]
  },
  {
   "cell_type": "code",
   "execution_count": 44,
   "id": "promising-sussex",
   "metadata": {},
   "outputs": [
    {
     "data": {
      "text/plain": [
       "No     0.837104\n",
       "Yes    0.162896\n",
       "Name: Attrition, dtype: float64"
      ]
     },
     "execution_count": 44,
     "metadata": {},
     "output_type": "execute_result"
    }
   ],
   "source": [
    "ytest.value_counts()/len(ytest)"
   ]
  },
  {
   "cell_type": "markdown",
   "id": "swedish-aquatic",
   "metadata": {},
   "source": [
    "En los tres casos se guarda la proporción de 'Yes' aproximada del 16%"
   ]
  },
  {
   "cell_type": "markdown",
   "id": "89133c57",
   "metadata": {
    "id": "89133c57"
   },
   "source": [
    "# **Ejercicio 7:**\n"
   ]
  },
  {
   "cell_type": "markdown",
   "id": "IE3vDeVW6Laq",
   "metadata": {
    "id": "IE3vDeVW6Laq"
   },
   "source": [
    "#### **Aplica la transformación LabelEncoder() de sklearn a la variable de salida “Attrition”. Las variables deberán seguir llamándose igual: ytrain, yval, ytest. Encuentra la proporción de datos en cada nivel de esta variable y con base a dicha información indica si podemos considerar que tenemos un problema de datos desbalanceados.**\n",
    "\n",
    "#### NOTA: Aplica esta transformación evitando el filtrado de información (data leakage)."
   ]
  },
  {
   "cell_type": "code",
   "execution_count": 45,
   "id": "D6FkTLVBd2N0",
   "metadata": {
    "id": "D6FkTLVBd2N0"
   },
   "outputs": [
    {
     "name": "stdout",
     "output_type": "stream",
     "text": [
      "Valores únicos en ytrain :\n",
      " 0    0.838678\n",
      "1    0.161322\n",
      "Name: 0, dtype: float64\n",
      "Valores únicos en yval :\n",
      " 0    0.840909\n",
      "1    0.159091\n",
      "Name: 0, dtype: float64\n",
      "Valores únicos en ytest :\n",
      " 0    0.837104\n",
      "1    0.162896\n",
      "Name: 0, dtype: float64\n"
     ]
    }
   ],
   "source": [
    "# ++++++++++ Inicia sección para agregar tu código ++++++++++++++++++++++++\n",
    "\n",
    "label_encoder = LabelEncoder()\n",
    "\n",
    "ytrain  = label_encoder.fit_transform(ytrain)\n",
    "yval  = label_encoder.fit_transform(yval)\n",
    "ytest  = label_encoder.fit_transform(ytest)\n",
    "\n",
    "ytrain =  pd.DataFrame(ytrain)\n",
    "yval =  pd.DataFrame(yval)\n",
    "ytest =  pd.DataFrame(ytest)\n",
    "\n",
    "print(\"Valores únicos en ytrain :\\n\",ytrain[0].value_counts() / sum(ytrain[0].value_counts()))\n",
    "print(\"Valores únicos en yval :\\n\", yval[0].value_counts() / sum(yval[0].value_counts()))\n",
    "print(\"Valores únicos en ytest :\\n\", ytest[0].value_counts() / sum(ytest[0].value_counts()))\n",
    "\n",
    "# +++++++++++++++++ Termina sección para agregar tu código ++++++++++++++++++++++++"
   ]
  },
  {
   "cell_type": "markdown",
   "id": "reported-margin",
   "metadata": {},
   "source": [
    "**Respuesta:** Considerando la proporción de las respuestas, 84% etiqueta 0, y 16% etiqueta 1, **SÍ** se considera que este conjunto de datos tienen datos desbalanceados."
   ]
  },
  {
   "cell_type": "markdown",
   "id": "3iE95_bh8XF4",
   "metadata": {
    "id": "3iE95_bh8XF4"
   },
   "source": [
    "# **Ejercicio 8:**\n"
   ]
  },
  {
   "cell_type": "markdown",
   "id": "tj6jEsdS4-1-",
   "metadata": {
    "id": "tj6jEsdS4-1-"
   },
   "source": [
    "#### **Usando solamente el conjunto de Entrenamiento, obtener los histogramas de las variables numéricas. Con base a estos gráficos ¿qué tipo de transformaciones sugieres llevar a cabo en dichas variables?**"
   ]
  },
  {
   "cell_type": "code",
   "execution_count": 46,
   "id": "fa966050",
   "metadata": {
    "id": "fa966050"
   },
   "outputs": [
    {
     "data": {
      "image/png": "[encoded data removed]",
      "text/plain": [
       "<Figure size 1080x1080 with 16 Axes>"
      ]
     },
     "metadata": {
      "needs_background": "light"
     },
     "output_type": "display_data"
    }
   ],
   "source": [
    "# ++++++++++ Inicia sección para agregar tu código ++++++++++++++++++++++++\n",
    "\n",
    "Xtrain[columnas_numericas].hist(figsize= (15,15), bins= 50,\n",
    "                                density = True, alpha = 0.7,\n",
    "                                edgecolor = 'black');\n",
    "\n",
    "# ++++++++++ Termina sección para agregar tu código ++++++++++++++++++++++++"
   ]
  },
  {
   "cell_type": "markdown",
   "id": "automated-rhythm",
   "metadata": {},
   "source": [
    "Por el tipo de sesgo recomendamos aplicar las siguientes transformaciones:\n",
    "\n",
    "**Sesgo Positivo: Aplicar logaritmo o raíz cuadrada :**\n",
    "\n",
    "- Distance from Home\n",
    "- Monthly Income\n",
    "- Percent Salary Hike\n",
    "- Total Working Years\n",
    "- Years at Company\n",
    "- Years Since Last Promotion\n",
    "- Years With Current Manager"
   ]
  },
  {
   "cell_type": "markdown",
   "id": "7UnNwVptCnmk",
   "metadata": {
    "id": "7UnNwVptCnmk"
   },
   "source": [
    "# **Ejercicio 9:**"
   ]
  },
  {
   "cell_type": "code",
   "execution_count": 47,
   "id": "banned-survivor",
   "metadata": {},
   "outputs": [
    {
     "data": {
      "image/png": "[encoded data removed]",
      "text/plain": [
       "<Figure size 432x288 with 1 Axes>"
      ]
     },
     "metadata": {
      "needs_background": "light"
     },
     "output_type": "display_data"
    }
   ],
   "source": [
    "graf = df.boxplot(by = 'Attrition',\n",
    "           column = ['Age'],\n",
    "           grid = False)\n",
    "\n",
    "# Axis details\n",
    "graf.set_title(\" \");"
   ]
  },
  {
   "cell_type": "code",
   "execution_count": 48,
   "id": "mediterranean-collectible",
   "metadata": {},
   "outputs": [
    {
     "data": {
      "image/png": "[encoded data removed]",
      "text/plain": [
       "<Figure size 432x288 with 1 Axes>"
      ]
     },
     "metadata": {
      "needs_background": "light"
     },
     "output_type": "display_data"
    }
   ],
   "source": [
    "sns.countplot(x=\"Department\",\n",
    "              data=df,\n",
    "              hue = \"Attrition\");"
   ]
  },
  {
   "cell_type": "code",
   "execution_count": 49,
   "id": "identified-circus",
   "metadata": {},
   "outputs": [
    {
     "data": {
      "image/png": "[encoded data removed]",
      "text/plain": [
       "<Figure size 432x288 with 1 Axes>"
      ]
     },
     "metadata": {
      "needs_background": "light"
     },
     "output_type": "display_data"
    }
   ],
   "source": [
    "sns.countplot(x=\"Attrition\",\n",
    "              data=df,\n",
    "              hue = \"Department\");"
   ]
  },
  {
   "cell_type": "code",
   "execution_count": 50,
   "id": "liberal-movie",
   "metadata": {},
   "outputs": [
    {
     "data": {
      "text/html": [
       "<div>\n",
       "<style scoped>\n",
       "    .dataframe tbody tr th:only-of-type {\n",
       "        vertical-align: middle;\n",
       "    }\n",
       "\n",
       "    .dataframe tbody tr th {\n",
       "        vertical-align: top;\n",
       "    }\n",
       "\n",
       "    .dataframe thead th {\n",
       "        text-align: right;\n",
       "    }\n",
       "</style>\n",
       "<table border=\"1\" class=\"dataframe\">\n",
       "  <thead>\n",
       "    <tr style=\"text-align: right;\">\n",
       "      <th>Department</th>\n",
       "      <th>Human Resources</th>\n",
       "      <th>Research &amp; Development</th>\n",
       "      <th>Sales</th>\n",
       "    </tr>\n",
       "    <tr>\n",
       "      <th>Attrition</th>\n",
       "      <th></th>\n",
       "      <th></th>\n",
       "      <th></th>\n",
       "    </tr>\n",
       "  </thead>\n",
       "  <tbody>\n",
       "    <tr>\n",
       "      <th>No</th>\n",
       "      <td>0.809524</td>\n",
       "      <td>0.861602</td>\n",
       "      <td>0.793722</td>\n",
       "    </tr>\n",
       "    <tr>\n",
       "      <th>Yes</th>\n",
       "      <td>0.190476</td>\n",
       "      <td>0.138398</td>\n",
       "      <td>0.206278</td>\n",
       "    </tr>\n",
       "  </tbody>\n",
       "</table>\n",
       "</div>"
      ],
      "text/plain": [
       "Department  Human Resources  Research & Development     Sales\n",
       "Attrition                                                    \n",
       "No                 0.809524                0.861602  0.793722\n",
       "Yes                0.190476                0.138398  0.206278"
      ]
     },
     "execution_count": 50,
     "metadata": {},
     "output_type": "execute_result"
    }
   ],
   "source": [
    "pd.crosstab(df['Attrition'], df['Department'],\n",
    "            normalize='columns', margins = False) "
   ]
  },
  {
   "cell_type": "code",
   "execution_count": 51,
   "id": "fabulous-conjunction",
   "metadata": {},
   "outputs": [
    {
     "data": {
      "text/html": [
       "<div>\n",
       "<style scoped>\n",
       "    .dataframe tbody tr th:only-of-type {\n",
       "        vertical-align: middle;\n",
       "    }\n",
       "\n",
       "    .dataframe tbody tr th {\n",
       "        vertical-align: top;\n",
       "    }\n",
       "\n",
       "    .dataframe thead th {\n",
       "        text-align: right;\n",
       "    }\n",
       "</style>\n",
       "<table border=\"1\" class=\"dataframe\">\n",
       "  <thead>\n",
       "    <tr style=\"text-align: right;\">\n",
       "      <th>Department</th>\n",
       "      <th>Human Resources</th>\n",
       "      <th>Research &amp; Development</th>\n",
       "      <th>Sales</th>\n",
       "    </tr>\n",
       "    <tr>\n",
       "      <th>Attrition</th>\n",
       "      <th></th>\n",
       "      <th></th>\n",
       "      <th></th>\n",
       "    </tr>\n",
       "  </thead>\n",
       "  <tbody>\n",
       "    <tr>\n",
       "      <th>No</th>\n",
       "      <td>0.041363</td>\n",
       "      <td>0.671533</td>\n",
       "      <td>0.287105</td>\n",
       "    </tr>\n",
       "    <tr>\n",
       "      <th>Yes</th>\n",
       "      <td>0.050633</td>\n",
       "      <td>0.561181</td>\n",
       "      <td>0.388186</td>\n",
       "    </tr>\n",
       "  </tbody>\n",
       "</table>\n",
       "</div>"
      ],
      "text/plain": [
       "Department  Human Resources  Research & Development     Sales\n",
       "Attrition                                                    \n",
       "No                 0.041363                0.671533  0.287105\n",
       "Yes                0.050633                0.561181  0.388186"
      ]
     },
     "execution_count": 51,
     "metadata": {},
     "output_type": "execute_result"
    }
   ],
   "source": [
    "pd.crosstab(df['Attrition'], df['Department'],\n",
    "            normalize='index', margins = False) "
   ]
  },
  {
   "cell_type": "code",
   "execution_count": 52,
   "id": "complimentary-equilibrium",
   "metadata": {},
   "outputs": [
    {
     "data": {
      "image/png": "[encoded data removed]",
      "text/plain": [
       "<Figure size 432x288 with 1 Axes>"
      ]
     },
     "metadata": {
      "needs_background": "light"
     },
     "output_type": "display_data"
    }
   ],
   "source": [
    "sns.countplot(x=\"Gender\",\n",
    "              data=df,\n",
    "              hue = \"Attrition\");"
   ]
  },
  {
   "cell_type": "code",
   "execution_count": 53,
   "id": "utility-calibration",
   "metadata": {},
   "outputs": [
    {
     "data": {
      "image/png": "[encoded data removed]",
      "text/plain": [
       "<Figure size 432x288 with 1 Axes>"
      ]
     },
     "metadata": {
      "needs_background": "light"
     },
     "output_type": "display_data"
    }
   ],
   "source": [
    "sns.countplot(x=\"Attrition\",\n",
    "              data=df,\n",
    "              hue = \"Gender\");"
   ]
  },
  {
   "cell_type": "code",
   "execution_count": 54,
   "id": "individual-albuquerque",
   "metadata": {},
   "outputs": [
    {
     "data": {
      "text/html": [
       "<div>\n",
       "<style scoped>\n",
       "    .dataframe tbody tr th:only-of-type {\n",
       "        vertical-align: middle;\n",
       "    }\n",
       "\n",
       "    .dataframe tbody tr th {\n",
       "        vertical-align: top;\n",
       "    }\n",
       "\n",
       "    .dataframe thead th {\n",
       "        text-align: right;\n",
       "    }\n",
       "</style>\n",
       "<table border=\"1\" class=\"dataframe\">\n",
       "  <thead>\n",
       "    <tr style=\"text-align: right;\">\n",
       "      <th>Gender</th>\n",
       "      <th>Female</th>\n",
       "      <th>Male</th>\n",
       "    </tr>\n",
       "    <tr>\n",
       "      <th>Attrition</th>\n",
       "      <th></th>\n",
       "      <th></th>\n",
       "    </tr>\n",
       "  </thead>\n",
       "  <tbody>\n",
       "    <tr>\n",
       "      <th>No</th>\n",
       "      <td>0.852041</td>\n",
       "      <td>0.829932</td>\n",
       "    </tr>\n",
       "    <tr>\n",
       "      <th>Yes</th>\n",
       "      <td>0.147959</td>\n",
       "      <td>0.170068</td>\n",
       "    </tr>\n",
       "  </tbody>\n",
       "</table>\n",
       "</div>"
      ],
      "text/plain": [
       "Gender       Female      Male\n",
       "Attrition                    \n",
       "No         0.852041  0.829932\n",
       "Yes        0.147959  0.170068"
      ]
     },
     "execution_count": 54,
     "metadata": {},
     "output_type": "execute_result"
    }
   ],
   "source": [
    "pd.crosstab(df['Attrition'], df['Gender'],\n",
    "            normalize='columns', margins = False) "
   ]
  },
  {
   "cell_type": "code",
   "execution_count": 55,
   "id": "opened-jimmy",
   "metadata": {},
   "outputs": [
    {
     "data": {
      "text/html": [
       "<div>\n",
       "<style scoped>\n",
       "    .dataframe tbody tr th:only-of-type {\n",
       "        vertical-align: middle;\n",
       "    }\n",
       "\n",
       "    .dataframe tbody tr th {\n",
       "        vertical-align: top;\n",
       "    }\n",
       "\n",
       "    .dataframe thead th {\n",
       "        text-align: right;\n",
       "    }\n",
       "</style>\n",
       "<table border=\"1\" class=\"dataframe\">\n",
       "  <thead>\n",
       "    <tr style=\"text-align: right;\">\n",
       "      <th>Gender</th>\n",
       "      <th>Female</th>\n",
       "      <th>Male</th>\n",
       "    </tr>\n",
       "    <tr>\n",
       "      <th>Attrition</th>\n",
       "      <th></th>\n",
       "      <th></th>\n",
       "    </tr>\n",
       "  </thead>\n",
       "  <tbody>\n",
       "    <tr>\n",
       "      <th>No</th>\n",
       "      <td>0.406326</td>\n",
       "      <td>0.593674</td>\n",
       "    </tr>\n",
       "    <tr>\n",
       "      <th>Yes</th>\n",
       "      <td>0.367089</td>\n",
       "      <td>0.632911</td>\n",
       "    </tr>\n",
       "  </tbody>\n",
       "</table>\n",
       "</div>"
      ],
      "text/plain": [
       "Gender       Female      Male\n",
       "Attrition                    \n",
       "No         0.406326  0.593674\n",
       "Yes        0.367089  0.632911"
      ]
     },
     "execution_count": 55,
     "metadata": {},
     "output_type": "execute_result"
    }
   ],
   "source": [
    "pd.crosstab(df['Attrition'], df['Gender'],\n",
    "            normalize='index', margins = False) "
   ]
  },
  {
   "cell_type": "markdown",
   "id": "SHSQF-PwCxiC",
   "metadata": {
    "id": "SHSQF-PwCxiC"
   },
   "source": [
    "#### **Se pueden analizar una buena cantidad de factores para buscar relaciones entre los factores y la variable de salida “Attrition”, la decisión de dejar un puesto. En particular, deberás ilustrar gráficamente la relación entre las siguientes variables, las cuales pueden aportar información al problema que estamos enfrentando de rotación de personal.**\n",
    "\n",
    "a)\tLas variables “Age” y “Attrition”.\n",
    "\n",
    "b)\tLas variables “Department” y “Attrition”.\n",
    "\n",
    "c)\tLas variables “Gender” y “Attrition”.\n",
    "\n",
    "d)\tIncluye alguna otra relación o relaciones que consideres relevantes.\n",
    "\n",
    "e)\tCon base a los gráficos obtenidos incluye tus conclusiones al respecto.\n"
   ]
  },
  {
   "cell_type": "code",
   "execution_count": 56,
   "id": "bigger-hartford",
   "metadata": {},
   "outputs": [],
   "source": [
    "cols_cat = columnas_binarias + columnas_nominales + columnas_ordinales\n",
    "df[cols_cat] = df[cols_cat].astype('category')"
   ]
  },
  {
   "cell_type": "code",
   "execution_count": 57,
   "id": "-dY9Ra-n5nWO",
   "metadata": {
    "id": "-dY9Ra-n5nWO"
   },
   "outputs": [],
   "source": [
    "# Incluye a continuación todas las celdas de código y/o texto que consideres\n",
    "# adecuadas para responder a la pregunta de este ejercicio.\n",
    "\n",
    "None\n",
    "\n"
   ]
  },
  {
   "cell_type": "markdown",
   "id": "F_ehUumxDH1g",
   "metadata": {
    "id": "F_ehUumxDH1g"
   },
   "source": [
    "# **Ejercicio 10:**"
   ]
  },
  {
   "cell_type": "markdown",
   "id": "7Kiar_X4DMtZ",
   "metadata": {
    "id": "7Kiar_X4DMtZ"
   },
   "source": [
    "#### **Encontrar la matriz de correlación de Pearson entre variables numéricas y a partir de dicha matriz encuentra aquellas correlaciones fuertes, positivas o negativas.**\n",
    "\n",
    "**NOTA: Decimos que una correlación es fuerte cuando el valor absoluto es mayor a 0.7.**\n"
   ]
  },
  {
   "cell_type": "code",
   "execution_count": 58,
   "id": "F9twSbrM5nOp",
   "metadata": {
    "id": "F9twSbrM5nOp"
   },
   "outputs": [
    {
     "data": {
      "image/png": "[encoded data removed]",
      "text/plain": [
       "<Figure size 432x288 with 2 Axes>"
      ]
     },
     "metadata": {
      "needs_background": "light"
     },
     "output_type": "display_data"
    }
   ],
   "source": [
    "# Incluye a continuación todas las celdas de código y/o texto que consideres\n",
    "# adecuadas para responder a la pregunta de este ejercicio.\n",
    "\n",
    "# Se construye el mapa de calor a partir de las correlaciones\n",
    "sns.heatmap(df.corr());"
   ]
  },
  {
   "cell_type": "code",
   "execution_count": 59,
   "id": "ceramic-brief",
   "metadata": {},
   "outputs": [
    {
     "data": {
      "text/html": [
       "<div>\n",
       "<style scoped>\n",
       "    .dataframe tbody tr th:only-of-type {\n",
       "        vertical-align: middle;\n",
       "    }\n",
       "\n",
       "    .dataframe tbody tr th {\n",
       "        vertical-align: top;\n",
       "    }\n",
       "\n",
       "    .dataframe thead th {\n",
       "        text-align: right;\n",
       "    }\n",
       "</style>\n",
       "<table border=\"1\" class=\"dataframe\">\n",
       "  <thead>\n",
       "    <tr style=\"text-align: right;\">\n",
       "      <th></th>\n",
       "      <th>Age</th>\n",
       "      <th>DailyRate</th>\n",
       "      <th>DistanceFromHome</th>\n",
       "      <th>HourlyRate</th>\n",
       "      <th>MonthlyIncome</th>\n",
       "      <th>MonthlyRate</th>\n",
       "      <th>NumCompaniesWorked</th>\n",
       "      <th>PercentSalaryHike</th>\n",
       "      <th>TotalWorkingYears</th>\n",
       "      <th>TrainingTimesLastYear</th>\n",
       "      <th>YearsAtCompany</th>\n",
       "      <th>YearsInCurrentRole</th>\n",
       "      <th>YearsSinceLastPromotion</th>\n",
       "      <th>YearsWithCurrManager</th>\n",
       "    </tr>\n",
       "  </thead>\n",
       "  <tbody>\n",
       "    <tr>\n",
       "      <th>Age</th>\n",
       "      <td>1.0</td>\n",
       "      <td>NaN</td>\n",
       "      <td>NaN</td>\n",
       "      <td>NaN</td>\n",
       "      <td>NaN</td>\n",
       "      <td>NaN</td>\n",
       "      <td>NaN</td>\n",
       "      <td>NaN</td>\n",
       "      <td>NaN</td>\n",
       "      <td>NaN</td>\n",
       "      <td>NaN</td>\n",
       "      <td>NaN</td>\n",
       "      <td>NaN</td>\n",
       "      <td>NaN</td>\n",
       "    </tr>\n",
       "    <tr>\n",
       "      <th>DailyRate</th>\n",
       "      <td>NaN</td>\n",
       "      <td>1.0</td>\n",
       "      <td>NaN</td>\n",
       "      <td>NaN</td>\n",
       "      <td>NaN</td>\n",
       "      <td>NaN</td>\n",
       "      <td>NaN</td>\n",
       "      <td>NaN</td>\n",
       "      <td>NaN</td>\n",
       "      <td>NaN</td>\n",
       "      <td>NaN</td>\n",
       "      <td>NaN</td>\n",
       "      <td>NaN</td>\n",
       "      <td>NaN</td>\n",
       "    </tr>\n",
       "    <tr>\n",
       "      <th>DistanceFromHome</th>\n",
       "      <td>NaN</td>\n",
       "      <td>NaN</td>\n",
       "      <td>1.0</td>\n",
       "      <td>NaN</td>\n",
       "      <td>NaN</td>\n",
       "      <td>NaN</td>\n",
       "      <td>NaN</td>\n",
       "      <td>NaN</td>\n",
       "      <td>NaN</td>\n",
       "      <td>NaN</td>\n",
       "      <td>NaN</td>\n",
       "      <td>NaN</td>\n",
       "      <td>NaN</td>\n",
       "      <td>NaN</td>\n",
       "    </tr>\n",
       "    <tr>\n",
       "      <th>HourlyRate</th>\n",
       "      <td>NaN</td>\n",
       "      <td>NaN</td>\n",
       "      <td>NaN</td>\n",
       "      <td>1.0</td>\n",
       "      <td>NaN</td>\n",
       "      <td>NaN</td>\n",
       "      <td>NaN</td>\n",
       "      <td>NaN</td>\n",
       "      <td>NaN</td>\n",
       "      <td>NaN</td>\n",
       "      <td>NaN</td>\n",
       "      <td>NaN</td>\n",
       "      <td>NaN</td>\n",
       "      <td>NaN</td>\n",
       "    </tr>\n",
       "    <tr>\n",
       "      <th>MonthlyIncome</th>\n",
       "      <td>NaN</td>\n",
       "      <td>NaN</td>\n",
       "      <td>NaN</td>\n",
       "      <td>NaN</td>\n",
       "      <td>1.000000</td>\n",
       "      <td>NaN</td>\n",
       "      <td>NaN</td>\n",
       "      <td>NaN</td>\n",
       "      <td>0.772893</td>\n",
       "      <td>NaN</td>\n",
       "      <td>NaN</td>\n",
       "      <td>NaN</td>\n",
       "      <td>NaN</td>\n",
       "      <td>NaN</td>\n",
       "    </tr>\n",
       "    <tr>\n",
       "      <th>MonthlyRate</th>\n",
       "      <td>NaN</td>\n",
       "      <td>NaN</td>\n",
       "      <td>NaN</td>\n",
       "      <td>NaN</td>\n",
       "      <td>NaN</td>\n",
       "      <td>1.0</td>\n",
       "      <td>NaN</td>\n",
       "      <td>NaN</td>\n",
       "      <td>NaN</td>\n",
       "      <td>NaN</td>\n",
       "      <td>NaN</td>\n",
       "      <td>NaN</td>\n",
       "      <td>NaN</td>\n",
       "      <td>NaN</td>\n",
       "    </tr>\n",
       "    <tr>\n",
       "      <th>NumCompaniesWorked</th>\n",
       "      <td>NaN</td>\n",
       "      <td>NaN</td>\n",
       "      <td>NaN</td>\n",
       "      <td>NaN</td>\n",
       "      <td>NaN</td>\n",
       "      <td>NaN</td>\n",
       "      <td>1.0</td>\n",
       "      <td>NaN</td>\n",
       "      <td>NaN</td>\n",
       "      <td>NaN</td>\n",
       "      <td>NaN</td>\n",
       "      <td>NaN</td>\n",
       "      <td>NaN</td>\n",
       "      <td>NaN</td>\n",
       "    </tr>\n",
       "    <tr>\n",
       "      <th>PercentSalaryHike</th>\n",
       "      <td>NaN</td>\n",
       "      <td>NaN</td>\n",
       "      <td>NaN</td>\n",
       "      <td>NaN</td>\n",
       "      <td>NaN</td>\n",
       "      <td>NaN</td>\n",
       "      <td>NaN</td>\n",
       "      <td>1.0</td>\n",
       "      <td>NaN</td>\n",
       "      <td>NaN</td>\n",
       "      <td>NaN</td>\n",
       "      <td>NaN</td>\n",
       "      <td>NaN</td>\n",
       "      <td>NaN</td>\n",
       "    </tr>\n",
       "    <tr>\n",
       "      <th>TotalWorkingYears</th>\n",
       "      <td>NaN</td>\n",
       "      <td>NaN</td>\n",
       "      <td>NaN</td>\n",
       "      <td>NaN</td>\n",
       "      <td>0.772893</td>\n",
       "      <td>NaN</td>\n",
       "      <td>NaN</td>\n",
       "      <td>NaN</td>\n",
       "      <td>1.000000</td>\n",
       "      <td>NaN</td>\n",
       "      <td>NaN</td>\n",
       "      <td>NaN</td>\n",
       "      <td>NaN</td>\n",
       "      <td>NaN</td>\n",
       "    </tr>\n",
       "    <tr>\n",
       "      <th>TrainingTimesLastYear</th>\n",
       "      <td>NaN</td>\n",
       "      <td>NaN</td>\n",
       "      <td>NaN</td>\n",
       "      <td>NaN</td>\n",
       "      <td>NaN</td>\n",
       "      <td>NaN</td>\n",
       "      <td>NaN</td>\n",
       "      <td>NaN</td>\n",
       "      <td>NaN</td>\n",
       "      <td>1.0</td>\n",
       "      <td>NaN</td>\n",
       "      <td>NaN</td>\n",
       "      <td>NaN</td>\n",
       "      <td>NaN</td>\n",
       "    </tr>\n",
       "    <tr>\n",
       "      <th>YearsAtCompany</th>\n",
       "      <td>NaN</td>\n",
       "      <td>NaN</td>\n",
       "      <td>NaN</td>\n",
       "      <td>NaN</td>\n",
       "      <td>NaN</td>\n",
       "      <td>NaN</td>\n",
       "      <td>NaN</td>\n",
       "      <td>NaN</td>\n",
       "      <td>NaN</td>\n",
       "      <td>NaN</td>\n",
       "      <td>1.000000</td>\n",
       "      <td>0.758754</td>\n",
       "      <td>NaN</td>\n",
       "      <td>0.769212</td>\n",
       "    </tr>\n",
       "    <tr>\n",
       "      <th>YearsInCurrentRole</th>\n",
       "      <td>NaN</td>\n",
       "      <td>NaN</td>\n",
       "      <td>NaN</td>\n",
       "      <td>NaN</td>\n",
       "      <td>NaN</td>\n",
       "      <td>NaN</td>\n",
       "      <td>NaN</td>\n",
       "      <td>NaN</td>\n",
       "      <td>NaN</td>\n",
       "      <td>NaN</td>\n",
       "      <td>0.758754</td>\n",
       "      <td>1.000000</td>\n",
       "      <td>NaN</td>\n",
       "      <td>0.714365</td>\n",
       "    </tr>\n",
       "    <tr>\n",
       "      <th>YearsSinceLastPromotion</th>\n",
       "      <td>NaN</td>\n",
       "      <td>NaN</td>\n",
       "      <td>NaN</td>\n",
       "      <td>NaN</td>\n",
       "      <td>NaN</td>\n",
       "      <td>NaN</td>\n",
       "      <td>NaN</td>\n",
       "      <td>NaN</td>\n",
       "      <td>NaN</td>\n",
       "      <td>NaN</td>\n",
       "      <td>NaN</td>\n",
       "      <td>NaN</td>\n",
       "      <td>1.0</td>\n",
       "      <td>NaN</td>\n",
       "    </tr>\n",
       "    <tr>\n",
       "      <th>YearsWithCurrManager</th>\n",
       "      <td>NaN</td>\n",
       "      <td>NaN</td>\n",
       "      <td>NaN</td>\n",
       "      <td>NaN</td>\n",
       "      <td>NaN</td>\n",
       "      <td>NaN</td>\n",
       "      <td>NaN</td>\n",
       "      <td>NaN</td>\n",
       "      <td>NaN</td>\n",
       "      <td>NaN</td>\n",
       "      <td>0.769212</td>\n",
       "      <td>0.714365</td>\n",
       "      <td>NaN</td>\n",
       "      <td>1.000000</td>\n",
       "    </tr>\n",
       "  </tbody>\n",
       "</table>\n",
       "</div>"
      ],
      "text/plain": [
       "                         Age  DailyRate  DistanceFromHome  HourlyRate  \\\n",
       "Age                      1.0        NaN               NaN         NaN   \n",
       "DailyRate                NaN        1.0               NaN         NaN   \n",
       "DistanceFromHome         NaN        NaN               1.0         NaN   \n",
       "HourlyRate               NaN        NaN               NaN         1.0   \n",
       "MonthlyIncome            NaN        NaN               NaN         NaN   \n",
       "MonthlyRate              NaN        NaN               NaN         NaN   \n",
       "NumCompaniesWorked       NaN        NaN               NaN         NaN   \n",
       "PercentSalaryHike        NaN        NaN               NaN         NaN   \n",
       "TotalWorkingYears        NaN        NaN               NaN         NaN   \n",
       "TrainingTimesLastYear    NaN        NaN               NaN         NaN   \n",
       "YearsAtCompany           NaN        NaN               NaN         NaN   \n",
       "YearsInCurrentRole       NaN        NaN               NaN         NaN   \n",
       "YearsSinceLastPromotion  NaN        NaN               NaN         NaN   \n",
       "YearsWithCurrManager     NaN        NaN               NaN         NaN   \n",
       "\n",
       "                         MonthlyIncome  MonthlyRate  NumCompaniesWorked  \\\n",
       "Age                                NaN          NaN                 NaN   \n",
       "DailyRate                          NaN          NaN                 NaN   \n",
       "DistanceFromHome                   NaN          NaN                 NaN   \n",
       "HourlyRate                         NaN          NaN                 NaN   \n",
       "MonthlyIncome                 1.000000          NaN                 NaN   \n",
       "MonthlyRate                        NaN          1.0                 NaN   \n",
       "NumCompaniesWorked                 NaN          NaN                 1.0   \n",
       "PercentSalaryHike                  NaN          NaN                 NaN   \n",
       "TotalWorkingYears             0.772893          NaN                 NaN   \n",
       "TrainingTimesLastYear              NaN          NaN                 NaN   \n",
       "YearsAtCompany                     NaN          NaN                 NaN   \n",
       "YearsInCurrentRole                 NaN          NaN                 NaN   \n",
       "YearsSinceLastPromotion            NaN          NaN                 NaN   \n",
       "YearsWithCurrManager               NaN          NaN                 NaN   \n",
       "\n",
       "                         PercentSalaryHike  TotalWorkingYears  \\\n",
       "Age                                    NaN                NaN   \n",
       "DailyRate                              NaN                NaN   \n",
       "DistanceFromHome                       NaN                NaN   \n",
       "HourlyRate                             NaN                NaN   \n",
       "MonthlyIncome                          NaN           0.772893   \n",
       "MonthlyRate                            NaN                NaN   \n",
       "NumCompaniesWorked                     NaN                NaN   \n",
       "PercentSalaryHike                      1.0                NaN   \n",
       "TotalWorkingYears                      NaN           1.000000   \n",
       "TrainingTimesLastYear                  NaN                NaN   \n",
       "YearsAtCompany                         NaN                NaN   \n",
       "YearsInCurrentRole                     NaN                NaN   \n",
       "YearsSinceLastPromotion                NaN                NaN   \n",
       "YearsWithCurrManager                   NaN                NaN   \n",
       "\n",
       "                         TrainingTimesLastYear  YearsAtCompany  \\\n",
       "Age                                        NaN             NaN   \n",
       "DailyRate                                  NaN             NaN   \n",
       "DistanceFromHome                           NaN             NaN   \n",
       "HourlyRate                                 NaN             NaN   \n",
       "MonthlyIncome                              NaN             NaN   \n",
       "MonthlyRate                                NaN             NaN   \n",
       "NumCompaniesWorked                         NaN             NaN   \n",
       "PercentSalaryHike                          NaN             NaN   \n",
       "TotalWorkingYears                          NaN             NaN   \n",
       "TrainingTimesLastYear                      1.0             NaN   \n",
       "YearsAtCompany                             NaN        1.000000   \n",
       "YearsInCurrentRole                         NaN        0.758754   \n",
       "YearsSinceLastPromotion                    NaN             NaN   \n",
       "YearsWithCurrManager                       NaN        0.769212   \n",
       "\n",
       "                         YearsInCurrentRole  YearsSinceLastPromotion  \\\n",
       "Age                                     NaN                      NaN   \n",
       "DailyRate                               NaN                      NaN   \n",
       "DistanceFromHome                        NaN                      NaN   \n",
       "HourlyRate                              NaN                      NaN   \n",
       "MonthlyIncome                           NaN                      NaN   \n",
       "MonthlyRate                             NaN                      NaN   \n",
       "NumCompaniesWorked                      NaN                      NaN   \n",
       "PercentSalaryHike                       NaN                      NaN   \n",
       "TotalWorkingYears                       NaN                      NaN   \n",
       "TrainingTimesLastYear                   NaN                      NaN   \n",
       "YearsAtCompany                     0.758754                      NaN   \n",
       "YearsInCurrentRole                 1.000000                      NaN   \n",
       "YearsSinceLastPromotion                 NaN                      1.0   \n",
       "YearsWithCurrManager               0.714365                      NaN   \n",
       "\n",
       "                         YearsWithCurrManager  \n",
       "Age                                       NaN  \n",
       "DailyRate                                 NaN  \n",
       "DistanceFromHome                          NaN  \n",
       "HourlyRate                                NaN  \n",
       "MonthlyIncome                             NaN  \n",
       "MonthlyRate                               NaN  \n",
       "NumCompaniesWorked                        NaN  \n",
       "PercentSalaryHike                         NaN  \n",
       "TotalWorkingYears                         NaN  \n",
       "TrainingTimesLastYear                     NaN  \n",
       "YearsAtCompany                       0.769212  \n",
       "YearsInCurrentRole                   0.714365  \n",
       "YearsSinceLastPromotion                   NaN  \n",
       "YearsWithCurrManager                 1.000000  "
      ]
     },
     "execution_count": 59,
     "metadata": {},
     "output_type": "execute_result"
    }
   ],
   "source": [
    "# Se obtiene la matriz de correlaciones\n",
    "matriz_corr = df.corr()\n",
    "matriz_corr[matriz_corr >= 0.7]"
   ]
  },
  {
   "cell_type": "code",
   "execution_count": 60,
   "id": "framed-script",
   "metadata": {},
   "outputs": [],
   "source": [
    "c = df.corr().abs()\n",
    "\n",
    "s = c.unstack()\n",
    "so = s.sort_values(kind=\"quicksort\")"
   ]
  },
  {
   "cell_type": "code",
   "execution_count": 61,
   "id": "developing-category",
   "metadata": {},
   "outputs": [
    {
     "data": {
      "text/plain": [
       "YearsInCurrentRole       YearsWithCurrManager       0.714365\n",
       "YearsWithCurrManager     YearsInCurrentRole         0.714365\n",
       "YearsAtCompany           YearsInCurrentRole         0.758754\n",
       "YearsInCurrentRole       YearsAtCompany             0.758754\n",
       "YearsAtCompany           YearsWithCurrManager       0.769212\n",
       "YearsWithCurrManager     YearsAtCompany             0.769212\n",
       "MonthlyIncome            TotalWorkingYears          0.772893\n",
       "TotalWorkingYears        MonthlyIncome              0.772893\n",
       "Age                      Age                        1.000000\n",
       "YearsInCurrentRole       YearsInCurrentRole         1.000000\n",
       "YearsAtCompany           YearsAtCompany             1.000000\n",
       "TrainingTimesLastYear    TrainingTimesLastYear      1.000000\n",
       "TotalWorkingYears        TotalWorkingYears          1.000000\n",
       "PercentSalaryHike        PercentSalaryHike          1.000000\n",
       "NumCompaniesWorked       NumCompaniesWorked         1.000000\n",
       "MonthlyRate              MonthlyRate                1.000000\n",
       "MonthlyIncome            MonthlyIncome              1.000000\n",
       "HourlyRate               HourlyRate                 1.000000\n",
       "DistanceFromHome         DistanceFromHome           1.000000\n",
       "DailyRate                DailyRate                  1.000000\n",
       "YearsSinceLastPromotion  YearsSinceLastPromotion    1.000000\n",
       "YearsWithCurrManager     YearsWithCurrManager       1.000000\n",
       "dtype: float64"
      ]
     },
     "execution_count": 61,
     "metadata": {},
     "output_type": "execute_result"
    }
   ],
   "source": [
    "so[so >= 0.7]"
   ]
  },
  {
   "cell_type": "code",
   "execution_count": 62,
   "id": "grateful-briefing",
   "metadata": {},
   "outputs": [
    {
     "data": {
      "image/png": "[encoded data removed]",
      "text/plain": [
       "<Figure size 432x288 with 2 Axes>"
      ]
     },
     "metadata": {
      "needs_background": "light"
     },
     "output_type": "display_data"
    }
   ],
   "source": [
    "alta_corr = ['YearsInCurrentRole', 'YearsWithCurrManager',\n",
    "             'YearsAtCompany', 'MonthlyIncome', 'TotalWorkingYears']\n",
    "\n",
    "# Pero se le agregan las leyendas de las correlaciones\n",
    "# para mejor visualización\n",
    "sns.heatmap(df[alta_corr].corr(), annot=True);"
   ]
  },
  {
   "cell_type": "markdown",
   "id": "kgezdM07DwAD",
   "metadata": {
    "id": "kgezdM07DwAD"
   },
   "source": [
    "# **Ejercicio 11:**"
   ]
  },
  {
   "cell_type": "markdown",
   "id": "cZJ86ke_DyLC",
   "metadata": {
    "id": "cZJ86ke_DyLC"
   },
   "source": [
    "#### **Utiliza las clases Pipeline y ColumnTransformer de Sklearn para definir las transformaciones que deberán aplicarse a cada variable de acuerdo a su tipo.**\n",
    "\n",
    "**NOTA: A las variables numéricas aplica las transformaciones que hayas decidido en el Ejercicio 8; a las variables binarias y nominales puedes aplicarles las transformaciones One-Hot-Encoder; a las variables ordinales puedes aplicar la transformación OrdinalEncoder.**\n"
   ]
  },
  {
   "cell_type": "code",
   "execution_count": 63,
   "id": "5Kvk3CDsFqPE",
   "metadata": {
    "id": "5Kvk3CDsFqPE"
   },
   "outputs": [],
   "source": [
    "# ++++++++++ Inicia sección para agregar tu código ++++++++++++++++++++++++\n",
    "\n",
    "# NUMÉRICAS:\n",
    "numericas_asimetricas = ['DistanceFromHome', 'MonthlyIncome',\n",
    "                         'PercentSalaryHike', 'TotalWorkingYears',\n",
    "                         'YearsAtCompany', 'YearsSinceLastPromotion',\n",
    "                         'YearsWithCurrManager']\n",
    "\n",
    "transformer_cuadratico = FunctionTransformer(np.sqrt)\n",
    "numericas_pipeline_nombres = numericas_asimetricas\n",
    "\n",
    "\n",
    "# BINARIAS Y NOMINALES:\n",
    "catOHE_pipeline = Pipeline(\n",
    "    steps=[\n",
    "        (\"encoderOHE\", OneHotEncoder(drop='first', sparse=False,\n",
    "                                     handle_unknown=\"ignore\"))\n",
    "    ]\n",
    ")\n",
    "cols_nomins = columnas_binarias + columnas_nominales\n",
    "cols_expl_nomins = [x for x in cols_nomins if x not in set(['Attrition'])]\n",
    "catOHE_pipeline_nombres = cols_expl_nomins\n",
    "\n",
    "# ORDINALES:\n",
    "catOrd_pipeline = Pipeline(\n",
    "    steps=[\n",
    "        (\"encoderOrd\", OrdinalEncoder())\n",
    "    ]\n",
    ")\n",
    "catOrd_pipeline_nombres = columnas_ordinales\n",
    "\n",
    "\n",
    "columnasTransformer = ColumnTransformer(\n",
    "    transformers=[\n",
    "        (\"numer\", transformer_cuadratico, numericas_pipeline_nombres),\n",
    "        (\"nomin\", catOHE_pipeline, catOHE_pipeline_nombres),\n",
    "        (\"ordin\", catOrd_pipeline, catOrd_pipeline_nombres)     \n",
    "    ], remainder = 'passthrough'\n",
    ")\n",
    "\n",
    "# ++++++++++ Termina sección para agregar tu código ++++++++++++++++++++++++"
   ]
  },
  {
   "cell_type": "markdown",
   "id": "hZsec1sDGxly",
   "metadata": {
    "id": "hZsec1sDGxly"
   },
   "source": [
    "# **Ejercicio 12:**"
   ]
  },
  {
   "cell_type": "markdown",
   "id": "lCepDvlqIhlr",
   "metadata": {
    "id": "lCepDvlqIhlr"
   },
   "source": [
    "#### **12)\tUtilizando los conjuntos de entrenamiento y validación, encuentra los mejores hiperparámetros del modelo LogisticRegresion de Sklearn para obtener un modelo no sobre entrenado.**\n",
    "\n",
    "**NOTA: Por el momento diremos que un modelo de clasificación no está sobreentrenado, si la diferencia de la exactitud (Accuracy) entre el conjunto de entrenamiento y el de validación es menor al 3%.**\n"
   ]
  },
  {
   "cell_type": "code",
   "execution_count": 64,
   "id": "-J1NiHo6Duhr",
   "metadata": {
    "id": "-J1NiHo6Duhr"
   },
   "outputs": [
    {
     "name": "stderr",
     "output_type": "stream",
     "text": [
      "/Library/Frameworks/Python.framework/Versions/3.9/lib/python3.9/site-packages/sklearn/utils/validation.py:1111: DataConversionWarning: A column-vector y was passed when a 1d array was expected. Please change the shape of y to (n_samples, ), for example using ravel().\n",
      "  y = column_or_1d(y, warn=True)\n",
      "/Library/Frameworks/Python.framework/Versions/3.9/lib/python3.9/site-packages/sklearn/linear_model/_logistic.py:444: ConvergenceWarning: lbfgs failed to converge (status=1):\n",
      "STOP: TOTAL NO. of ITERATIONS REACHED LIMIT.\n",
      "\n",
      "Increase the number of iterations (max_iter) or scale the data as shown in:\n",
      "    https://scikit-learn.org/stable/modules/preprocessing.html\n",
      "Please also refer to the documentation for alternative solver options:\n",
      "    https://scikit-learn.org/stable/modules/linear_model.html#logistic-regression\n",
      "  n_iter_i = _check_optimize_result(\n"
     ]
    },
    {
     "data": {
      "text/html": [
       "<style>#sk-container-id-1 {color: black;background-color: white;}#sk-container-id-1 pre{padding: 0;}#sk-container-id-1 div.sk-toggleable {background-color: white;}#sk-container-id-1 label.sk-toggleable__label {cursor: pointer;display: block;width: 100%;margin-bottom: 0;padding: 0.3em;box-sizing: border-box;text-align: center;}#sk-container-id-1 label.sk-toggleable__label-arrow:before {content: \"▸\";float: left;margin-right: 0.25em;color: #696969;}#sk-container-id-1 label.sk-toggleable__label-arrow:hover:before {color: black;}#sk-container-id-1 div.sk-estimator:hover label.sk-toggleable__label-arrow:before {color: black;}#sk-container-id-1 div.sk-toggleable__content {max-height: 0;max-width: 0;overflow: hidden;text-align: left;background-color: #f0f8ff;}#sk-container-id-1 div.sk-toggleable__content pre {margin: 0.2em;color: black;border-radius: 0.25em;background-color: #f0f8ff;}#sk-container-id-1 input.sk-toggleable__control:checked~div.sk-toggleable__content {max-height: 200px;max-width: 100%;overflow: auto;}#sk-container-id-1 input.sk-toggleable__control:checked~label.sk-toggleable__label-arrow:before {content: \"▾\";}#sk-container-id-1 div.sk-estimator input.sk-toggleable__control:checked~label.sk-toggleable__label {background-color: #d4ebff;}#sk-container-id-1 div.sk-label input.sk-toggleable__control:checked~label.sk-toggleable__label {background-color: #d4ebff;}#sk-container-id-1 input.sk-hidden--visually {border: 0;clip: rect(1px 1px 1px 1px);clip: rect(1px, 1px, 1px, 1px);height: 1px;margin: -1px;overflow: hidden;padding: 0;position: absolute;width: 1px;}#sk-container-id-1 div.sk-estimator {font-family: monospace;background-color: #f0f8ff;border: 1px dotted black;border-radius: 0.25em;box-sizing: border-box;margin-bottom: 0.5em;}#sk-container-id-1 div.sk-estimator:hover {background-color: #d4ebff;}#sk-container-id-1 div.sk-parallel-item::after {content: \"\";width: 100%;border-bottom: 1px solid gray;flex-grow: 1;}#sk-container-id-1 div.sk-label:hover label.sk-toggleable__label {background-color: #d4ebff;}#sk-container-id-1 div.sk-serial::before {content: \"\";position: absolute;border-left: 1px solid gray;box-sizing: border-box;top: 0;bottom: 0;left: 50%;z-index: 0;}#sk-container-id-1 div.sk-serial {display: flex;flex-direction: column;align-items: center;background-color: white;padding-right: 0.2em;padding-left: 0.2em;position: relative;}#sk-container-id-1 div.sk-item {position: relative;z-index: 1;}#sk-container-id-1 div.sk-parallel {display: flex;align-items: stretch;justify-content: center;background-color: white;position: relative;}#sk-container-id-1 div.sk-item::before, #sk-container-id-1 div.sk-parallel-item::before {content: \"\";position: absolute;border-left: 1px solid gray;box-sizing: border-box;top: 0;bottom: 0;left: 50%;z-index: -1;}#sk-container-id-1 div.sk-parallel-item {display: flex;flex-direction: column;z-index: 1;position: relative;background-color: white;}#sk-container-id-1 div.sk-parallel-item:first-child::after {align-self: flex-end;width: 50%;}#sk-container-id-1 div.sk-parallel-item:last-child::after {align-self: flex-start;width: 50%;}#sk-container-id-1 div.sk-parallel-item:only-child::after {width: 0;}#sk-container-id-1 div.sk-dashed-wrapped {border: 1px dashed gray;margin: 0 0.4em 0.5em 0.4em;box-sizing: border-box;padding-bottom: 0.4em;background-color: white;}#sk-container-id-1 div.sk-label label {font-family: monospace;font-weight: bold;display: inline-block;line-height: 1.2em;}#sk-container-id-1 div.sk-label-container {text-align: center;}#sk-container-id-1 div.sk-container {/* jupyter's `normalize.less` sets `[hidden] { display: none; }` but bootstrap.min.css set `[hidden] { display: none !important; }` so we also need the `!important` here to be able to override the default hidden behavior on the sphinx rendered scikit-learn.org. See: https://github.com/scikit-learn/scikit-learn/issues/21755 */display: inline-block !important;position: relative;}#sk-container-id-1 div.sk-text-repr-fallback {display: none;}</style><div id=\"sk-container-id-1\" class=\"sk-top-container\"><div class=\"sk-text-repr-fallback\"><pre>Pipeline(steps=[(&#x27;ct&#x27;,\n",
       "                 ColumnTransformer(remainder=&#x27;passthrough&#x27;,\n",
       "                                   transformers=[(&#x27;numer&#x27;,\n",
       "                                                  FunctionTransformer(func=&lt;ufunc &#x27;sqrt&#x27;&gt;),\n",
       "                                                  [&#x27;DistanceFromHome&#x27;,\n",
       "                                                   &#x27;MonthlyIncome&#x27;,\n",
       "                                                   &#x27;PercentSalaryHike&#x27;,\n",
       "                                                   &#x27;TotalWorkingYears&#x27;,\n",
       "                                                   &#x27;YearsAtCompany&#x27;,\n",
       "                                                   &#x27;YearsSinceLastPromotion&#x27;,\n",
       "                                                   &#x27;YearsWithCurrManager&#x27;]),\n",
       "                                                 (&#x27;nomin&#x27;,\n",
       "                                                  Pipeline(steps=[(&#x27;encoderOHE&#x27;,\n",
       "                                                                   OneHotEncoder(drop=&#x27;first&#x27;,\n",
       "                                                                                 handle_unknow...\n",
       "                                                  [&#x27;Gender&#x27;, &#x27;OverTime&#x27;,\n",
       "                                                   &#x27;Department&#x27;,\n",
       "                                                   &#x27;EducationField&#x27;, &#x27;JobRole&#x27;,\n",
       "                                                   &#x27;MaritalStatus&#x27;]),\n",
       "                                                 (&#x27;ordin&#x27;,\n",
       "                                                  Pipeline(steps=[(&#x27;encoderOrd&#x27;,\n",
       "                                                                   OrdinalEncoder())]),\n",
       "                                                  [&#x27;BusinessTravel&#x27;,\n",
       "                                                   &#x27;Education&#x27;,\n",
       "                                                   &#x27;EnvironmentSatisfaction&#x27;,\n",
       "                                                   &#x27;JobInvolvement&#x27;, &#x27;JobLevel&#x27;,\n",
       "                                                   &#x27;JobSatisfaction&#x27;,\n",
       "                                                   &#x27;PerformanceRating&#x27;,\n",
       "                                                   &#x27;RelationshipSatisfaction&#x27;,\n",
       "                                                   &#x27;StockOptionLevel&#x27;,\n",
       "                                                   &#x27;WorkLifeBalance&#x27;])])),\n",
       "                (&#x27;modeloRL&#x27;, LogisticRegression())])</pre><b>In a Jupyter environment, please rerun this cell to show the HTML representation or trust the notebook. <br />On GitHub, the HTML representation is unable to render, please try loading this page with nbviewer.org.</b></div><div class=\"sk-container\" hidden><div class=\"sk-item sk-dashed-wrapped\"><div class=\"sk-label-container\"><div class=\"sk-label sk-toggleable\"><input class=\"sk-toggleable__control sk-hidden--visually\" id=\"sk-estimator-id-1\" type=\"checkbox\" ><label for=\"sk-estimator-id-1\" class=\"sk-toggleable__label sk-toggleable__label-arrow\">Pipeline</label><div class=\"sk-toggleable__content\"><pre>Pipeline(steps=[(&#x27;ct&#x27;,\n",
       "                 ColumnTransformer(remainder=&#x27;passthrough&#x27;,\n",
       "                                   transformers=[(&#x27;numer&#x27;,\n",
       "                                                  FunctionTransformer(func=&lt;ufunc &#x27;sqrt&#x27;&gt;),\n",
       "                                                  [&#x27;DistanceFromHome&#x27;,\n",
       "                                                   &#x27;MonthlyIncome&#x27;,\n",
       "                                                   &#x27;PercentSalaryHike&#x27;,\n",
       "                                                   &#x27;TotalWorkingYears&#x27;,\n",
       "                                                   &#x27;YearsAtCompany&#x27;,\n",
       "                                                   &#x27;YearsSinceLastPromotion&#x27;,\n",
       "                                                   &#x27;YearsWithCurrManager&#x27;]),\n",
       "                                                 (&#x27;nomin&#x27;,\n",
       "                                                  Pipeline(steps=[(&#x27;encoderOHE&#x27;,\n",
       "                                                                   OneHotEncoder(drop=&#x27;first&#x27;,\n",
       "                                                                                 handle_unknow...\n",
       "                                                  [&#x27;Gender&#x27;, &#x27;OverTime&#x27;,\n",
       "                                                   &#x27;Department&#x27;,\n",
       "                                                   &#x27;EducationField&#x27;, &#x27;JobRole&#x27;,\n",
       "                                                   &#x27;MaritalStatus&#x27;]),\n",
       "                                                 (&#x27;ordin&#x27;,\n",
       "                                                  Pipeline(steps=[(&#x27;encoderOrd&#x27;,\n",
       "                                                                   OrdinalEncoder())]),\n",
       "                                                  [&#x27;BusinessTravel&#x27;,\n",
       "                                                   &#x27;Education&#x27;,\n",
       "                                                   &#x27;EnvironmentSatisfaction&#x27;,\n",
       "                                                   &#x27;JobInvolvement&#x27;, &#x27;JobLevel&#x27;,\n",
       "                                                   &#x27;JobSatisfaction&#x27;,\n",
       "                                                   &#x27;PerformanceRating&#x27;,\n",
       "                                                   &#x27;RelationshipSatisfaction&#x27;,\n",
       "                                                   &#x27;StockOptionLevel&#x27;,\n",
       "                                                   &#x27;WorkLifeBalance&#x27;])])),\n",
       "                (&#x27;modeloRL&#x27;, LogisticRegression())])</pre></div></div></div><div class=\"sk-serial\"><div class=\"sk-item sk-dashed-wrapped\"><div class=\"sk-label-container\"><div class=\"sk-label sk-toggleable\"><input class=\"sk-toggleable__control sk-hidden--visually\" id=\"sk-estimator-id-2\" type=\"checkbox\" ><label for=\"sk-estimator-id-2\" class=\"sk-toggleable__label sk-toggleable__label-arrow\">ct: ColumnTransformer</label><div class=\"sk-toggleable__content\"><pre>ColumnTransformer(remainder=&#x27;passthrough&#x27;,\n",
       "                  transformers=[(&#x27;numer&#x27;,\n",
       "                                 FunctionTransformer(func=&lt;ufunc &#x27;sqrt&#x27;&gt;),\n",
       "                                 [&#x27;DistanceFromHome&#x27;, &#x27;MonthlyIncome&#x27;,\n",
       "                                  &#x27;PercentSalaryHike&#x27;, &#x27;TotalWorkingYears&#x27;,\n",
       "                                  &#x27;YearsAtCompany&#x27;, &#x27;YearsSinceLastPromotion&#x27;,\n",
       "                                  &#x27;YearsWithCurrManager&#x27;]),\n",
       "                                (&#x27;nomin&#x27;,\n",
       "                                 Pipeline(steps=[(&#x27;encoderOHE&#x27;,\n",
       "                                                  OneHotEncoder(drop=&#x27;first&#x27;,\n",
       "                                                                handle_unknown=&#x27;ignore&#x27;,\n",
       "                                                                sparse=False))]),\n",
       "                                 [&#x27;Gender&#x27;, &#x27;OverTime&#x27;, &#x27;Department&#x27;,\n",
       "                                  &#x27;EducationField&#x27;, &#x27;JobRole&#x27;,\n",
       "                                  &#x27;MaritalStatus&#x27;]),\n",
       "                                (&#x27;ordin&#x27;,\n",
       "                                 Pipeline(steps=[(&#x27;encoderOrd&#x27;,\n",
       "                                                  OrdinalEncoder())]),\n",
       "                                 [&#x27;BusinessTravel&#x27;, &#x27;Education&#x27;,\n",
       "                                  &#x27;EnvironmentSatisfaction&#x27;, &#x27;JobInvolvement&#x27;,\n",
       "                                  &#x27;JobLevel&#x27;, &#x27;JobSatisfaction&#x27;,\n",
       "                                  &#x27;PerformanceRating&#x27;,\n",
       "                                  &#x27;RelationshipSatisfaction&#x27;,\n",
       "                                  &#x27;StockOptionLevel&#x27;, &#x27;WorkLifeBalance&#x27;])])</pre></div></div></div><div class=\"sk-parallel\"><div class=\"sk-parallel-item\"><div class=\"sk-item\"><div class=\"sk-label-container\"><div class=\"sk-label sk-toggleable\"><input class=\"sk-toggleable__control sk-hidden--visually\" id=\"sk-estimator-id-3\" type=\"checkbox\" ><label for=\"sk-estimator-id-3\" class=\"sk-toggleable__label sk-toggleable__label-arrow\">numer</label><div class=\"sk-toggleable__content\"><pre>[&#x27;DistanceFromHome&#x27;, &#x27;MonthlyIncome&#x27;, &#x27;PercentSalaryHike&#x27;, &#x27;TotalWorkingYears&#x27;, &#x27;YearsAtCompany&#x27;, &#x27;YearsSinceLastPromotion&#x27;, &#x27;YearsWithCurrManager&#x27;]</pre></div></div></div><div class=\"sk-serial\"><div class=\"sk-item\"><div class=\"sk-estimator sk-toggleable\"><input class=\"sk-toggleable__control sk-hidden--visually\" id=\"sk-estimator-id-4\" type=\"checkbox\" ><label for=\"sk-estimator-id-4\" class=\"sk-toggleable__label sk-toggleable__label-arrow\">FunctionTransformer</label><div class=\"sk-toggleable__content\"><pre>FunctionTransformer(func=&lt;ufunc &#x27;sqrt&#x27;&gt;)</pre></div></div></div></div></div></div><div class=\"sk-parallel-item\"><div class=\"sk-item\"><div class=\"sk-label-container\"><div class=\"sk-label sk-toggleable\"><input class=\"sk-toggleable__control sk-hidden--visually\" id=\"sk-estimator-id-5\" type=\"checkbox\" ><label for=\"sk-estimator-id-5\" class=\"sk-toggleable__label sk-toggleable__label-arrow\">nomin</label><div class=\"sk-toggleable__content\"><pre>[&#x27;Gender&#x27;, &#x27;OverTime&#x27;, &#x27;Department&#x27;, &#x27;EducationField&#x27;, &#x27;JobRole&#x27;, &#x27;MaritalStatus&#x27;]</pre></div></div></div><div class=\"sk-serial\"><div class=\"sk-item\"><div class=\"sk-serial\"><div class=\"sk-item\"><div class=\"sk-estimator sk-toggleable\"><input class=\"sk-toggleable__control sk-hidden--visually\" id=\"sk-estimator-id-6\" type=\"checkbox\" ><label for=\"sk-estimator-id-6\" class=\"sk-toggleable__label sk-toggleable__label-arrow\">OneHotEncoder</label><div class=\"sk-toggleable__content\"><pre>OneHotEncoder(drop=&#x27;first&#x27;, handle_unknown=&#x27;ignore&#x27;, sparse=False)</pre></div></div></div></div></div></div></div></div><div class=\"sk-parallel-item\"><div class=\"sk-item\"><div class=\"sk-label-container\"><div class=\"sk-label sk-toggleable\"><input class=\"sk-toggleable__control sk-hidden--visually\" id=\"sk-estimator-id-7\" type=\"checkbox\" ><label for=\"sk-estimator-id-7\" class=\"sk-toggleable__label sk-toggleable__label-arrow\">ordin</label><div class=\"sk-toggleable__content\"><pre>[&#x27;BusinessTravel&#x27;, &#x27;Education&#x27;, &#x27;EnvironmentSatisfaction&#x27;, &#x27;JobInvolvement&#x27;, &#x27;JobLevel&#x27;, &#x27;JobSatisfaction&#x27;, &#x27;PerformanceRating&#x27;, &#x27;RelationshipSatisfaction&#x27;, &#x27;StockOptionLevel&#x27;, &#x27;WorkLifeBalance&#x27;]</pre></div></div></div><div class=\"sk-serial\"><div class=\"sk-item\"><div class=\"sk-serial\"><div class=\"sk-item\"><div class=\"sk-estimator sk-toggleable\"><input class=\"sk-toggleable__control sk-hidden--visually\" id=\"sk-estimator-id-8\" type=\"checkbox\" ><label for=\"sk-estimator-id-8\" class=\"sk-toggleable__label sk-toggleable__label-arrow\">OrdinalEncoder</label><div class=\"sk-toggleable__content\"><pre>OrdinalEncoder()</pre></div></div></div></div></div></div></div></div><div class=\"sk-parallel-item\"><div class=\"sk-item\"><div class=\"sk-label-container\"><div class=\"sk-label sk-toggleable\"><input class=\"sk-toggleable__control sk-hidden--visually\" id=\"sk-estimator-id-9\" type=\"checkbox\" ><label for=\"sk-estimator-id-9\" class=\"sk-toggleable__label sk-toggleable__label-arrow\">remainder</label><div class=\"sk-toggleable__content\"><pre>[&#x27;Age&#x27;, &#x27;DailyRate&#x27;, &#x27;HourlyRate&#x27;, &#x27;MonthlyRate&#x27;, &#x27;NumCompaniesWorked&#x27;, &#x27;TrainingTimesLastYear&#x27;, &#x27;YearsInCurrentRole&#x27;]</pre></div></div></div><div class=\"sk-serial\"><div class=\"sk-item\"><div class=\"sk-estimator sk-toggleable\"><input class=\"sk-toggleable__control sk-hidden--visually\" id=\"sk-estimator-id-10\" type=\"checkbox\" ><label for=\"sk-estimator-id-10\" class=\"sk-toggleable__label sk-toggleable__label-arrow\">passthrough</label><div class=\"sk-toggleable__content\"><pre>passthrough</pre></div></div></div></div></div></div></div></div><div class=\"sk-item\"><div class=\"sk-estimator sk-toggleable\"><input class=\"sk-toggleable__control sk-hidden--visually\" id=\"sk-estimator-id-11\" type=\"checkbox\" ><label for=\"sk-estimator-id-11\" class=\"sk-toggleable__label sk-toggleable__label-arrow\">LogisticRegression</label><div class=\"sk-toggleable__content\"><pre>LogisticRegression()</pre></div></div></div></div></div></div></div>"
      ],
      "text/plain": [
       "Pipeline(steps=[('ct',\n",
       "                 ColumnTransformer(remainder='passthrough',\n",
       "                                   transformers=[('numer',\n",
       "                                                  FunctionTransformer(func=<ufunc 'sqrt'>),\n",
       "                                                  ['DistanceFromHome',\n",
       "                                                   'MonthlyIncome',\n",
       "                                                   'PercentSalaryHike',\n",
       "                                                   'TotalWorkingYears',\n",
       "                                                   'YearsAtCompany',\n",
       "                                                   'YearsSinceLastPromotion',\n",
       "                                                   'YearsWithCurrManager']),\n",
       "                                                 ('nomin',\n",
       "                                                  Pipeline(steps=[('encoderOHE',\n",
       "                                                                   OneHotEncoder(drop='first',\n",
       "                                                                                 handle_unknow...\n",
       "                                                  ['Gender', 'OverTime',\n",
       "                                                   'Department',\n",
       "                                                   'EducationField', 'JobRole',\n",
       "                                                   'MaritalStatus']),\n",
       "                                                 ('ordin',\n",
       "                                                  Pipeline(steps=[('encoderOrd',\n",
       "                                                                   OrdinalEncoder())]),\n",
       "                                                  ['BusinessTravel',\n",
       "                                                   'Education',\n",
       "                                                   'EnvironmentSatisfaction',\n",
       "                                                   'JobInvolvement', 'JobLevel',\n",
       "                                                   'JobSatisfaction',\n",
       "                                                   'PerformanceRating',\n",
       "                                                   'RelationshipSatisfaction',\n",
       "                                                   'StockOptionLevel',\n",
       "                                                   'WorkLifeBalance'])])),\n",
       "                ('modeloRL', LogisticRegression())])"
      ]
     },
     "execution_count": 64,
     "metadata": {},
     "output_type": "execute_result"
    }
   ],
   "source": [
    "# +++++++++ Inicia sección para incluir tu código ++++++++++++++++++++++++\n",
    "\n",
    "modeloRL = LogisticRegression()\n",
    "\n",
    "\n",
    "# +++++++++ Termina sección para incluir tu código ++++++++++++++++++++++++\n",
    "\n",
    "pipelineRL = Pipeline(\n",
    "    steps=[('ct',columnasTransformer),('modeloRL',modeloRL)]\n",
    ")\n",
    "\n",
    "pipelineRL.fit(Xtrain, ytrain)"
   ]
  },
  {
   "cell_type": "code",
   "execution_count": 65,
   "id": "KKxxWxBcDueo",
   "metadata": {
    "id": "KKxxWxBcDueo"
   },
   "outputs": [
    {
     "name": "stdout",
     "output_type": "stream",
     "text": [
      ">>Exactitud (Accuracy) de los conjuntos de Entrenamiento y Validación:\n",
      "accuracy-train 0.8386783284742468\n",
      "accuracy-val 0.8409090909090909\n",
      "\n",
      ">>Matriz de Confusión:\n",
      "[[185   0]\n",
      " [ 35   0]]\n",
      "\n",
      ">>Reporte varias métricas:\n",
      "              precision    recall  f1-score   support\n",
      "\n",
      "           0       0.84      1.00      0.91       185\n",
      "           1       0.00      0.00      0.00        35\n",
      "\n",
      "    accuracy                           0.84       220\n",
      "   macro avg       0.42      0.50      0.46       220\n",
      "weighted avg       0.71      0.84      0.77       220\n",
      "\n"
     ]
    },
    {
     "name": "stderr",
     "output_type": "stream",
     "text": [
      "/Library/Frameworks/Python.framework/Versions/3.9/lib/python3.9/site-packages/sklearn/metrics/_classification.py:1334: UndefinedMetricWarning: Precision and F-score are ill-defined and being set to 0.0 in labels with no predicted samples. Use `zero_division` parameter to control this behavior.\n",
      "  _warn_prf(average, modifier, msg_start, len(result))\n",
      "/Library/Frameworks/Python.framework/Versions/3.9/lib/python3.9/site-packages/sklearn/metrics/_classification.py:1334: UndefinedMetricWarning: Precision and F-score are ill-defined and being set to 0.0 in labels with no predicted samples. Use `zero_division` parameter to control this behavior.\n",
      "  _warn_prf(average, modifier, msg_start, len(result))\n",
      "/Library/Frameworks/Python.framework/Versions/3.9/lib/python3.9/site-packages/sklearn/metrics/_classification.py:1334: UndefinedMetricWarning: Precision and F-score are ill-defined and being set to 0.0 in labels with no predicted samples. Use `zero_division` parameter to control this behavior.\n",
      "  _warn_prf(average, modifier, msg_start, len(result))\n"
     ]
    }
   ],
   "source": [
    "print(\">>Exactitud (Accuracy) de los conjuntos de Entrenamiento y Validación:\")\n",
    "y_pred_trainRL = pipelineRL.predict(Xtrain)\n",
    "y_pred_valRL = pipelineRL.predict(Xval)\n",
    "print('accuracy-train', metrics.accuracy_score(ytrain, y_pred_trainRL))\n",
    "print('accuracy-val', metrics.accuracy_score(yval, y_pred_valRL))\n",
    "\n",
    "print(\"\\n>>Matriz de Confusión:\")\n",
    "print(metrics.confusion_matrix(yval, y_pred_valRL))\n",
    "\n",
    "print(\"\\n>>Reporte varias métricas:\")\n",
    "print(metrics.classification_report(yval, y_pred_valRL))"
   ]
  },
  {
   "cell_type": "markdown",
   "id": "_R9gXGsAKRd3",
   "metadata": {
    "id": "_R9gXGsAKRd3"
   },
   "source": [
    "# **Ejercicio 13:**"
   ]
  },
  {
   "cell_type": "markdown",
   "id": "nvoQB7MtKT2F",
   "metadata": {
    "id": "nvoQB7MtKT2F"
   },
   "source": [
    "#### **Con base a la información del desempeño obtenido en el ejercicio anterior para los conjuntos de entrenamiento y validación, contesta los siguientes incisos:**\n",
    "\n",
    "++++++++ Inicia la sección de agregar texto: ++++++++++++\n",
    "\n",
    "a)\t**¿Podemos decir que el modelo está subentrenado (underfitting) o sobreentrenado (overfitting)?**\n",
    "\n",
    "Se comporta un poco sub-entrenado.\n",
    "\n",
    "b)\t**Interpreta el valor numérico obtenido para la “precision” de la clase positiva.**\n",
    "\n",
    "De acuerdo con los resultados de mi modelo, una precisión de 0% en la clase positiva indica que el modelo no está aprendiendo, ya que la clase mayoritaria, etiqueta 0 representa una gran proporción en los datos.\n",
    "\n",
    "\n",
    "c)\t**Interpreta el valor numérico obtenido para el “recall” de la clase positiva.**\n",
    "\n",
    "Al igual que en Precisión, un valor de 0 en la métrica Recall indica que el modelo no está aprendiendo por el desbalanceo de clases. Adicionalmente, si en la matríz de confusión, existen 0 completos tanto a nivel fila como en columna, esto nos sustenta lo comentado anteriormente.\n",
    "\n",
    "d)\t**Con base al contexto de este problema, de rotación de personal, ¿cuál de las métricas, “precision” o “recall” consideras que es más importante disminuir su valor. Es decir, si no se puede disminuir el valor de ambos al mismo tiempo y debieras sacrificar uno de ellos, ¿cuál sería el que buscarías que fuera más cercano a cero? Justifica tu respuesta con base al contexto del problema.**\n",
    "\n",
    "Considerando que lo que se requiere a nivel negocio es predecir a medida de lo posible la detección de Colaboradores potenciales a renunciar, considero que el Recall nos da una mejor métrica para evaluar el modelo, ya que éste nos ayuda a conocer la efectividad de la proyección, al conocer qué porcentaje de los elementos de la clase \"Renuncia\", se clasificaron correctamente, y con eso saber si estamos creando un modelo que ayude a la detección de este tipo de casos.\n",
    "\n",
    "++++++++ Termina la sección de agregar texto. +++++++++++"
   ]
  },
  {
   "cell_type": "markdown",
   "id": "axw269CQM9DF",
   "metadata": {
    "id": "axw269CQM9DF"
   },
   "source": [
    "# **Ejercicio 14:**"
   ]
  },
  {
   "cell_type": "markdown",
   "id": "GlDfHSl9NBOl",
   "metadata": {
    "id": "GlDfHSl9NBOl"
   },
   "source": [
    "#### **Utiliza los conjuntos de entrenamiento y validación para generar el mejor modelo no sobreentrenado de los k Vecinos más Cercanos, kNN, usando la función KNeighborsClassifier() de Sklearn. Compara los resultados con el modelo de regresión logística e incluye tus conclusiones.**"
   ]
  },
  {
   "cell_type": "code",
   "execution_count": 66,
   "id": "s5xsTMbhM_kE",
   "metadata": {
    "id": "s5xsTMbhM_kE"
   },
   "outputs": [
    {
     "name": "stdout",
     "output_type": "stream",
     "text": [
      "Los mejores parametros son {'metric': 'manhattan', 'n_neighbors': 11, 'weights': 'uniform'} con un score de 0.84\n"
     ]
    }
   ],
   "source": [
    "# Incluye a continuación todas las celdas de código y/o texto que consideres\n",
    "# adecuadas para responder a la pregunta de este ejercicio.\n",
    "\n",
    "# Buscamos los mejores hiperparámetros para encontrar la mejor combinación de k vecinos y técnica de KNN.\n",
    "\n",
    "from sklearn.model_selection import GridSearchCV\n",
    "\n",
    "\n",
    "# Define el diccionario de hiperparámetros para GridSearchCV\n",
    "dicc_grid = {'n_neighbors': [1, 3, 5, 7, 9, 11],\n",
    "             'weights': ['uniform', 'distance'],\n",
    "             'metric': ['euclidean', 'manhattan']}\n",
    "\n",
    "# Define el modelo base\n",
    "mod_kNN = KNeighborsClassifier()\n",
    "\n",
    "# Inicializa GridSearchCV con el modelo base y el diccionario de hiperparámetros\n",
    "modelo_knngridsearch = GridSearchCV(mod_kNN, param_grid=dicc_grid, cv=3)\n",
    "\n",
    "# Define el pipeline con el transformador de columnas y GridSearchCV\n",
    "pipelineKNN_Grid = Pipeline(steps=[('CT', columnasTransformer), ('GridSearch', modelo_knngridsearch)])\n",
    "\n",
    "# Entrena el modelo utilizando el pipeline\n",
    "pipelineKNN_Grid.fit(Xtrain, np.ravel(ytrain))\n",
    "\n",
    "print(\"Los mejores parametros son %s con un score de %0.2f\" % (modelo_knngridsearch.best_params_, modelo_knngridsearch.best_score_))"
   ]
  },
  {
   "cell_type": "markdown",
   "id": "modern-console",
   "metadata": {},
   "source": [
    "Realizando la técnica de GridSearch para encontrar los mejores hiperparámetros, encontramos que el modelo kNN que recomienda con un 84% de precisión, sigue sobreajustandose, lo cuál no representa alguna mejora alguna con respecto a la técnica de clasificación binaria realizada previamente, de hecho, la eficiencia tanto de los datos de entrenamiento como los de validación son muy similares."
   ]
  },
  {
   "cell_type": "markdown",
   "id": "HXoBIUUmPZSS",
   "metadata": {
    "id": "HXoBIUUmPZSS"
   },
   "source": [
    "# **Ejercicio 15:**"
   ]
  },
  {
   "cell_type": "markdown",
   "id": "r7QGF7fGPbnD",
   "metadata": {
    "id": "r7QGF7fGPbnD"
   },
   "source": [
    "#### **Utilizando el mejor modelo obtenido previamente (regresión logística o kNN), utiliza algún método de submuestreo (undersampling) o sobremuestreo (oversampling) que consideres adecuado de la librería “Imbalanced-learn” y los valores de los hiperparámetros que consideres más adecuados, para obtener el mejor modelo posible.**\n",
    "\n",
    "**NOTA: Ver la documentación correspondiente:** https://imbalanced-learn.org/stable/references/\n"
   ]
  },
  {
   "cell_type": "code",
   "execution_count": 67,
   "id": "0DJDTWHFDubt",
   "metadata": {
    "id": "0DJDTWHFDubt"
   },
   "outputs": [
    {
     "name": "stdout",
     "output_type": "stream",
     "text": [
      "accuracy-train-balanced 0.6726535341830823\n",
      "accuracy-val-balanced 0.6318181818181818\n",
      "RESULTADOS DE VALIDACION\n",
      "[[TP FP]]\n",
      "[FN TN]\n",
      "Columnas proyección vs Filas etiqeutas reales\n",
      "[[118  67]\n",
      " [ 14  21]]\n",
      "              precision    recall  f1-score   support\n",
      "\n",
      "           0       0.89      0.64      0.74       185\n",
      "           1       0.24      0.60      0.34        35\n",
      "\n",
      "    accuracy                           0.63       220\n",
      "   macro avg       0.57      0.62      0.54       220\n",
      "weighted avg       0.79      0.63      0.68       220\n",
      "\n"
     ]
    },
    {
     "name": "stderr",
     "output_type": "stream",
     "text": [
      "/Library/Frameworks/Python.framework/Versions/3.9/lib/python3.9/site-packages/sklearn/linear_model/_logistic.py:444: ConvergenceWarning: lbfgs failed to converge (status=1):\n",
      "STOP: TOTAL NO. of ITERATIONS REACHED LIMIT.\n",
      "\n",
      "Increase the number of iterations (max_iter) or scale the data as shown in:\n",
      "    https://scikit-learn.org/stable/modules/preprocessing.html\n",
      "Please also refer to the documentation for alternative solver options:\n",
      "    https://scikit-learn.org/stable/modules/linear_model.html#logistic-regression\n",
      "  n_iter_i = _check_optimize_result(\n"
     ]
    }
   ],
   "source": [
    "# Incluye a continuación todas las celdas de código y/o texto que consideres\n",
    "# adecuadas para responder a la pregunta de este ejercicio.\n",
    "\n",
    "# Incluye a continuación todas las celdas de código y/o texto que consideres\n",
    "# adecuadas para responder a la pregunta de este ejercicio.\n",
    "BorderSMOTE = BorderlineSMOTE(sampling_strategy = 1, random_state = 3) # Nos ayudará a calcular los nuevos porcentajes de datos minoritarios vs mayoritarios.\n",
    "\n",
    "#Transformamos las tablas tanto de entrenamiento como de prueba para aplicar Border Smote\n",
    "pipelineCT = Pipeline(steps=[('CT', columnasTransformer)])\n",
    "Xtrain_trasnformado = pipelineCT.fit_transform(Xtrain)\n",
    "xval_trasnformado = pipelineCT.transform(Xval)\n",
    "\n",
    "#Entrenamiento para corregir muestras solo en dato de entrenamiento\n",
    "Xtrain_BSM, ytrain_BSM = BorderSMOTE.fit_resample(Xtrain_trasnformado, ytrain)\n",
    "\n",
    "#Ajustamos modelo de regresión logística\n",
    "modeloRL2 = LogisticRegression(C= 10)\n",
    "#Aplicamos el modelo sobre los datos de entrenamiento\n",
    "modeloRL2.fit(Xtrain_BSM, np.ravel(ytrain_BSM))\n",
    "\n",
    "print('accuracy-train-balanced', modeloRL2.score(Xtrain_BSM, ytrain_BSM))\n",
    "print('accuracy-val-balanced', modeloRL2.score(xval_trasnformado, yval))\n",
    "\n",
    "#con el modelo entrenamdo con balanceamos aplicamos sobre los datos de entrenamiento y validación para ver como se comporta.\n",
    "y_pred_train = modeloRL2.predict(Xtrain_BSM)\n",
    "y_pred_val = modeloRL2.predict(xval_trasnformado)\n",
    "\n",
    "#Mostramos matriz de confusión sobre valores de validación\n",
    "\n",
    "print(\"RESULTADOS DE VALIDACION\")\n",
    "print(\"[[TP FP]]\")\n",
    "print(\"[FN TN]\")\n",
    "print(\"Columnas proyección vs Filas etiqeutas reales\")\n",
    "print(confusion_matrix(yval, y_pred_val))\n",
    "print(classification_report(yval, y_pred_val))"
   ]
  },
  {
   "cell_type": "markdown",
   "id": "GYamGWHZQCvM",
   "metadata": {
    "id": "GYamGWHZQCvM"
   },
   "source": [
    "++++++++ Inicia la sección de agregar texto: ++++++++++++\n",
    "\n",
    "#### **Con dicho modelo:**\n",
    "\n",
    "**a)\tDespliega los valores de la exactitud (accuracy) de los conjuntos de Entrenamiento y Validación.**\n",
    "\n",
    "**b)\tUtiliza los datos de validación para desplegar la matriz de confusión y el reporte dado por la función classification_report() de sklearn.**\n",
    "\n",
    "Ambos incisos en el chunk de código de arriba\n",
    "\n",
    "**c)\t¿Qué métrica es la que consideras que explica mejor el buen desempeño de nuestro modelo?**\n",
    "\n",
    "Considero que la sensibilidad o recall juega un papel más importante para evaluar el desempeño del modelo ya que nos permite ver qué tan bueno es el modelo para predecir correctamente la clase de interés.\n",
    "\n",
    "**d)\tCompara los resultados con los modelos anteriores y escribe tus conclusiones.**\n",
    "\n",
    "Considero que cada uno de los modelos que se aplicaron y en el orden que se fueron creando, nos permitió ir mejorando el desempeño de la clasificación que queríamos realizar. Este útlimo paso fue fundamental para obtener resultados más realistas para realizar la predicción ya que los modelos anteriores estaban muy sesgado por la participación de la clase mayoritaria.\n",
    "\n",
    "++++++++ Termina la sección de agregar texto: ++++++++++++"
   ]
  },
  {
   "cell_type": "markdown",
   "id": "V288RlaMVhGm",
   "metadata": {
    "id": "V288RlaMVhGm"
   },
   "source": [
    "# **Ejercicio 16:**"
   ]
  },
  {
   "cell_type": "markdown",
   "id": "Hh5poum8VjMP",
   "metadata": {
    "id": "Hh5poum8VjMP"
   },
   "source": [
    "#### **Con base al mejor modelo que hayas obtenido hasta ahora, aplica la técnica de permutación de los factores con el método “permutation_importance()” de Sklearn, para identificar aquellos factores que se consideran los más importantes al problema de rotación de personal.**\n",
    "\n",
    "++++++++ Inicia la sección de agregar texto: ++++++++++++\n",
    "\n",
    "**a)\tGenerar un gráfico de barras de los coeficientes indicando el nombre de cada factor asociado a cada barra (bin). Utiliza el conjunto de validación.**\n",
    "\n",
    "En el código de abajo\n",
    "\n",
    "**b)\t¿Cuáles factores consideras que son los que influyen mayormente a que un empleado abandone su trabajo?**\n",
    "\n",
    "Columnas: 0, 2, 3,5, 8 (Según el código de abajo)\n",
    "\n",
    "++++++++ Termina la sección de agregar texto: ++++++++++++\n"
   ]
  },
  {
   "cell_type": "code",
   "execution_count": 68,
   "id": "bxnyRB12DuYw",
   "metadata": {
    "id": "bxnyRB12DuYw"
   },
   "outputs": [
    {
     "name": "stdout",
     "output_type": "stream",
     "text": [
      "Factor: 0, Coef-modelo: 0.00000\n",
      "Factor: 1, Coef-modelo: -0.00636\n",
      "Factor: 2, Coef-modelo: 0.00000\n",
      "Factor: 3, Coef-modelo: -0.00091\n",
      "Factor: 4, Coef-modelo: 0.00091\n",
      "Factor: 5, Coef-modelo: 0.00000\n",
      "Factor: 6, Coef-modelo: 0.00273\n",
      "Factor: 7, Coef-modelo: -0.00182\n",
      "Factor: 8, Coef-modelo: 0.00000\n",
      "Factor: 9, Coef-modelo: 0.00182\n",
      "Factor: 10, Coef-modelo: 0.00182\n",
      "Factor: 11, Coef-modelo: 0.00000\n",
      "Factor: 12, Coef-modelo: 0.00000\n",
      "Factor: 13, Coef-modelo: 0.00000\n",
      "Factor: 14, Coef-modelo: 0.00000\n",
      "Factor: 15, Coef-modelo: 0.00182\n",
      "Factor: 16, Coef-modelo: 0.00000\n",
      "Factor: 17, Coef-modelo: 0.00000\n",
      "Factor: 18, Coef-modelo: 0.00000\n",
      "Factor: 19, Coef-modelo: 0.00000\n",
      "Factor: 20, Coef-modelo: 0.00000\n",
      "Factor: 21, Coef-modelo: 0.00000\n",
      "Factor: 22, Coef-modelo: 0.00000\n",
      "Factor: 23, Coef-modelo: 0.00182\n",
      "Factor: 24, Coef-modelo: 0.00273\n",
      "Factor: 25, Coef-modelo: 0.00364\n",
      "Factor: 26, Coef-modelo: -0.00091\n",
      "Factor: 27, Coef-modelo: -0.00091\n",
      "Factor: 28, Coef-modelo: 0.00182\n",
      "Factor: 29, Coef-modelo: 0.00182\n",
      "Factor: 30, Coef-modelo: -0.00364\n",
      "Factor: 31, Coef-modelo: 0.00455\n",
      "Factor: 32, Coef-modelo: 0.00000\n",
      "Factor: 33, Coef-modelo: -0.00364\n",
      "Factor: 34, Coef-modelo: 0.01091\n",
      "Factor: 35, Coef-modelo: 0.00000\n",
      "Factor: 36, Coef-modelo: 0.00273\n",
      "Factor: 37, Coef-modelo: 0.00455\n",
      "Factor: 38, Coef-modelo: -0.01182\n",
      "Factor: 39, Coef-modelo: -0.00091\n",
      "Factor: 40, Coef-modelo: -0.03273\n",
      "Factor: 41, Coef-modelo: -0.00091\n",
      "Factor: 42, Coef-modelo: -0.00091\n"
     ]
    },
    {
     "data": {
      "image/png": "[encoded data removed]",
      "text/plain": [
       "<Figure size 432x288 with 1 Axes>"
      ]
     },
     "metadata": {
      "needs_background": "light"
     },
     "output_type": "display_data"
    }
   ],
   "source": [
    "# Incluye a continuación todas las celdas de código y/o texto que consideres\n",
    "# adecuadas para responder a la pregunta de este ejercicio.\n",
    "\n",
    "# Suponiendo que yval es una serie o array de una dimensión\n",
    "yval = pd.DataFrame(yval)\n",
    "xval_trasnformado = pd.DataFrame(xval_trasnformado)\n",
    "\n",
    "# Convertir 'Attrition' a valores numéricos (0 y 1)\n",
    "#yval['Attrition'] = yval['Attrition'].replace({'No': 0, 'Yes': 1})\n",
    "\n",
    "# Calcular la importancia de características mediante permutación\n",
    "resultados = permutation_importance(modeloRL2, xval_trasnformado, np.ravel(yval), scoring='neg_mean_squared_error')\n",
    "\n",
    "importance = resultados.importances_mean\n",
    "\n",
    "for i,v in enumerate(importance):\n",
    " print('Factor: %0d, Coef-modelo: %.5f' % (i,v))\n",
    "\n",
    "plt.barh([pd.DataFrame(xval_trasnformado).columns[x] for x in range(len(importance))], importance)\n",
    "plt.show()"
   ]
  },
  {
   "cell_type": "code",
   "execution_count": 69,
   "id": "suffering-queens",
   "metadata": {},
   "outputs": [
    {
     "name": "stderr",
     "output_type": "stream",
     "text": [
      "/Library/Frameworks/Python.framework/Versions/3.9/lib/python3.9/site-packages/sklearn/linear_model/_logistic.py:444: ConvergenceWarning: lbfgs failed to converge (status=1):\n",
      "STOP: TOTAL NO. of ITERATIONS REACHED LIMIT.\n",
      "\n",
      "Increase the number of iterations (max_iter) or scale the data as shown in:\n",
      "    https://scikit-learn.org/stable/modules/preprocessing.html\n",
      "Please also refer to the documentation for alternative solver options:\n",
      "    https://scikit-learn.org/stable/modules/linear_model.html#logistic-regression\n",
      "  n_iter_i = _check_optimize_result(\n"
     ]
    },
    {
     "data": {
      "text/html": [
       "<div>\n",
       "<style scoped>\n",
       "    .dataframe tbody tr th:only-of-type {\n",
       "        vertical-align: middle;\n",
       "    }\n",
       "\n",
       "    .dataframe tbody tr th {\n",
       "        vertical-align: top;\n",
       "    }\n",
       "\n",
       "    .dataframe thead th {\n",
       "        text-align: right;\n",
       "    }\n",
       "</style>\n",
       "<table border=\"1\" class=\"dataframe\">\n",
       "  <thead>\n",
       "    <tr style=\"text-align: right;\">\n",
       "      <th></th>\n",
       "      <th>0</th>\n",
       "      <th>2</th>\n",
       "      <th>3</th>\n",
       "      <th>5</th>\n",
       "      <th>8</th>\n",
       "    </tr>\n",
       "  </thead>\n",
       "  <tbody>\n",
       "    <tr>\n",
       "      <th>0</th>\n",
       "      <td>5.099020</td>\n",
       "      <td>4.123106</td>\n",
       "      <td>4.472136</td>\n",
       "      <td>0.000000</td>\n",
       "      <td>1.0</td>\n",
       "    </tr>\n",
       "    <tr>\n",
       "      <th>1</th>\n",
       "      <td>4.000000</td>\n",
       "      <td>4.000000</td>\n",
       "      <td>2.449490</td>\n",
       "      <td>0.000000</td>\n",
       "      <td>0.0</td>\n",
       "    </tr>\n",
       "    <tr>\n",
       "      <th>2</th>\n",
       "      <td>1.414214</td>\n",
       "      <td>3.464102</td>\n",
       "      <td>4.123106</td>\n",
       "      <td>2.000000</td>\n",
       "      <td>1.0</td>\n",
       "    </tr>\n",
       "    <tr>\n",
       "      <th>3</th>\n",
       "      <td>2.449490</td>\n",
       "      <td>3.741657</td>\n",
       "      <td>4.000000</td>\n",
       "      <td>1.414214</td>\n",
       "      <td>0.0</td>\n",
       "    </tr>\n",
       "    <tr>\n",
       "      <th>4</th>\n",
       "      <td>1.000000</td>\n",
       "      <td>4.582576</td>\n",
       "      <td>2.449490</td>\n",
       "      <td>1.000000</td>\n",
       "      <td>0.0</td>\n",
       "    </tr>\n",
       "  </tbody>\n",
       "</table>\n",
       "</div>"
      ],
      "text/plain": [
       "          0         2         3         5    8\n",
       "0  5.099020  4.123106  4.472136  0.000000  1.0\n",
       "1  4.000000  4.000000  2.449490  0.000000  0.0\n",
       "2  1.414214  3.464102  4.123106  2.000000  1.0\n",
       "3  2.449490  3.741657  4.000000  1.414214  0.0\n",
       "4  1.000000  4.582576  2.449490  1.000000  0.0"
      ]
     },
     "execution_count": 69,
     "metadata": {},
     "output_type": "execute_result"
    }
   ],
   "source": [
    "max_f = 5\n",
    "\n",
    "# Indicamos el modelo que se usará para evaluar la importancia de los factores\n",
    "# y la cantidad de ellos que se desean extraer:\n",
    "fs = SelectFromModel(estimator=modeloRL2, max_features=max_f)\n",
    "# ajustamos con  los datos de entrenamiento para determinar cuáles se consideran los más relevantes:\n",
    "fs.fit(xval_trasnformado, np.ravel(yval))\n",
    "# y ahora obtenemos los factores\n",
    "factor_select = fs.get_support()\n",
    "\n",
    "#obtenemos los factores de mayor relevancia:\n",
    "Xval_fs = pd.DataFrame(xval_trasnformado)[pd.DataFrame(xval_trasnformado).columns[factor_select]]\n",
    "Xval_fs.head()"
   ]
  },
  {
   "cell_type": "markdown",
   "id": "8zNm5aDaVzSB",
   "metadata": {
    "id": "8zNm5aDaVzSB"
   },
   "source": [
    "# **Ejercicio 17:**"
   ]
  },
  {
   "cell_type": "markdown",
   "id": "QPPQVDlyV2fw",
   "metadata": {
    "id": "QPPQVDlyV2fw"
   },
   "source": [
    "#### **Finalmente, con base a todos los resultados obtenidos hasta ahora, responde a los siguientes incisos para obtener el que consideres el mejor modelo para enfrentar el problema de rotación de personal. Forma un nuevo conjunto de Entrenamiento con los conjuntos de entrenamiento y validación y utiliza el conjunto de Prueba (Test) para obtener el desempeño final de tu mejor modelo, desplegando la siguiente información:**\n",
    "\n",
    "++++++++ Inicia la sección de agregar texto: ++++++++++++\n",
    "\n",
    "**a)\tDespliega la matriz de confusión y el reporte dado por la función classification_report() del conjunto de Prueba.**\n",
    "\n",
    "Se muestra en el código de abajo\n",
    "\n",
    "**b)\tIncluye las conclusiones finales de la actividad. En particular interpreta y explica con base al problema de rotación de personal, los resultados obtenidos para las métricas “precision”, “recall” y “f1-score”.**\n",
    "\n",
    "Omitiendo la métrica de Exactitud, la evalución nos indica que al menos el modelo logra predecir el 70% de los casos positivos, es decir, casos en el que los colabores renuncian, Sin embargo, el modelo tiende a equivocarse mucho al momento\n",
    "de realizar la predicción,es decir hay falsas alarmas. Este fuerte contraste lo vemos impactado en el F1 Score que penaliza mucho a recall y por tanto el indicador disminuye, representando con esto una métrica un poco más segura para evaluar el modelo, en este caso, el modelo resulta ser de 45% de confianza para predecir los casos en los que los colabores renuncian.\n",
    "\n",
    "\n",
    "++++++++ Termina la sección de agregar texto: ++++++++++++"
   ]
  },
  {
   "cell_type": "code",
   "execution_count": 70,
   "id": "russian-significance",
   "metadata": {},
   "outputs": [
    {
     "name": "stdout",
     "output_type": "stream",
     "text": [
      "accuracy-train-balanced 0.697566628041715\n",
      "accuracy-TEST-balanced 0.7601809954751131\n",
      "RESULTADOS DE PRUEBA\n",
      "[[138  41]\n",
      " [ 12  30]]\n",
      "PRECISION: 0.4225352112676056\n",
      "recall: 0.7142857142857143\n",
      "f1score: 0.5309734513274336\n"
     ]
    }
   ],
   "source": [
    "#Particionamos 70% Train y 30% una temporal para volverla a dividir\n",
    "Xtrain, Xtemp, ytrain, ytemp = train_test_split(X, y, train_size= 0.7, random_state = 2 )\n",
    "\n",
    "#Particionamos el 30% en 50% validación y 50% en test.\n",
    "Xval, Xtest, yval, ytest = train_test_split(Xtemp, ytemp, train_size = 0.5 )\n",
    "\n",
    "# Lo convertimos a Dataframe\n",
    "Xtrain = pd.DataFrame(Xtrain)\n",
    "Xval = pd.DataFrame(Xval)\n",
    "Xtest = pd.DataFrame(Xtest)\n",
    "\n",
    "# adecuadas para responder a la pregunta de este ejercicio.\n",
    "BorderSMOTE = BorderlineSMOTE(sampling_strategy = 1, random_state = 3) # Nos ayudará a calcular los nuevos porcentajes de datos minoritarios vs mayoritarios.\n",
    "\n",
    "#Transformamos las tablas tanto de entrenamiento como de prueba para aplicar Border Smote\n",
    "pipelineCT = Pipeline(steps=[('CT', columnasTransformer)])\n",
    "Xtrain_trasnformado = pipelineCT.fit_transform(Xtrain)\n",
    "xval_trasnformado = pipelineCT.transform(Xval)\n",
    "xtest_transformado = pipelineCT.transform(Xtest)\n",
    "\n",
    "#Lo convertimos a Dataframe\n",
    "Xtrain_trasnformado = pd.DataFrame(Xtrain_trasnformado)\n",
    "xval_trasnformado = pd.DataFrame(xval_trasnformado)\n",
    "xtest_transformado = pd.DataFrame(xtest_transformado)\n",
    "\n",
    "#Entrenamiento para corregir muestras solo en dato de entrenamiento\n",
    "Xtrain_BSM, ytrain_BSM = BorderSMOTE.fit_resample(Xtrain_trasnformado, ytrain)\n",
    "\n",
    "#Obtenemos solo las columnas de mayor relevancia\n",
    "columnas_relevantes = Xtrain_trasnformado.columns[factor_select]\n",
    "\n",
    "Xtrain_BSM = Xtrain_BSM[columnas_relevantes]\n",
    "xval_trasnformado = xval_trasnformado[columnas_relevantes]\n",
    "xtest_transformado = xtest_transformado[columnas_relevantes]\n",
    "\n",
    "\n",
    "#Ajustamos modelo de regresión logística\n",
    "modeloRL2 = LogisticRegression(C= 10)\n",
    "#Aplicamos el modelo sobre los datos de entrenamiento\n",
    "modeloRL2.fit(Xtrain_BSM, np.ravel(ytrain_BSM))\n",
    "\n",
    "\n",
    "print('accuracy-train-balanced', modeloRL2.score(Xtrain_BSM, ytrain_BSM))\n",
    "print('accuracy-TEST-balanced', modeloRL2.score(xtest_transformado, ytest))\n",
    "\n",
    "#con el modelo entrenamdo con balanceamos aplicamos sobre los datos de entrenamiento y validación para ver como se comporta.\n",
    "y_pred_train = modeloRL2.predict(Xtrain_BSM)\n",
    "y_pred_test = modeloRL2.predict(xtest_transformado)\n",
    "\n",
    "print(\"RESULTADOS DE PRUEBA\")\n",
    "print(confusion_matrix(ytest, y_pred_test))\n",
    "\n",
    "cm = confusion_matrix(ytest, y_pred_test)\n",
    "\n",
    "from tabulate import tabulate\n",
    "\n",
    "tabla = list()\n",
    "\n",
    "tot = cm.sum()\n",
    "\n",
    "vn = 100*cm[0,0] / tot\n",
    "fp = 100*cm[0,1] / tot\n",
    "fn = 100*cm[1,0] / tot\n",
    "vp = 100*cm[1,1] / tot\n",
    "\n",
    "precision = vp / ( vp+fp)\n",
    "recall = vp / (vp+fn)\n",
    "f1score = 2*vp / (2*vp+fp+fn)\n",
    "\n",
    "\n",
    "print(\"PRECISION:\",precision)\n",
    "print(\"recall:\",recall)\n",
    "print(\"f1score:\",f1score)"
   ]
  },
  {
   "cell_type": "markdown",
   "id": "5fd5aadb",
   "metadata": {
    "id": "5fd5aadb"
   },
   "source": [
    "# >> **Fin de la Actividad de las Semanas 3 y 4** <<"
   ]
  }
 ],
 "metadata": {
  "colab": {
   "provenance": []
  },
  "kernelspec": {
   "display_name": "Python 3",
   "language": "python",
   "name": "python3"
  },
  "language_info": {
   "codemirror_mode": {
    "name": "ipython",
    "version": 3
   },
   "file_extension": ".py",
   "mimetype": "text/x-python",
   "name": "python",
   "nbconvert_exporter": "python",
   "pygments_lexer": "ipython3",
   "version": "3.9.1"
  }
 },
 "nbformat": 4,
 "nbformat_minor": 5
}
